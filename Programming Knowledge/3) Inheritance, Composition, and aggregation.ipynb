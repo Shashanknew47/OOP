{
 "cells": [
  {
   "cell_type": "markdown",
   "metadata": {},
   "source": [
    "### Inheritance"
   ]
  },
  {
   "cell_type": "code",
   "execution_count": 1,
   "metadata": {},
   "outputs": [
    {
     "data": {
      "text/plain": [
       "1210"
      ]
     },
     "execution_count": 1,
     "metadata": {},
     "output_type": "execute_result"
    }
   ],
   "source": [
    "class Salary:\n",
    "    def __init__(self,pay,bonus):\n",
    "        self.pay = pay\n",
    "        self.bonus = bonus\n",
    "        \n",
    "    def annual_salary(self):\n",
    "        return (self.pay*12) + self.bonus\n",
    "\n",
    "    \n",
    "class Employee(Salary):\n",
    "    def __init__(self,name,age,pay,bonus):\n",
    "        super().__init__(pay,bonus)\n",
    "        self.age = age\n",
    "        self.name = name      \n",
    "\n",
    "        \n",
    "E1 = Employee('Shashank',12,100,10)\n",
    "\n",
    "E1.annual_salary()"
   ]
  },
  {
   "cell_type": "markdown",
   "metadata": {},
   "source": [
    "### Composition\n",
    "In Composition we delegate some responsibity to another class. Here we delegate Salary to self.obj_salary attribute as a instance of it. Later to calculate salay we obj_salary instance,\n",
    "annual_salary method."
   ]
  },
  {
   "cell_type": "code",
   "execution_count": 2,
   "metadata": {},
   "outputs": [
    {
     "output_type": "execute_result",
     "data": {
      "text/plain": "1210"
     },
     "metadata": {},
     "execution_count": 2
    }
   ],
   "source": [
    "class Salary:\n",
    "    def __init__(self,pay,bonus):\n",
    "        self.pay = pay\n",
    "        self.bonus = bonus\n",
    "        \n",
    "    def annual_salary(self):\n",
    "        return (self.pay*12) + self.bonus\n",
    "\n",
    "    \n",
    "class Employee:\n",
    "    def __init__(self,name,age,pay,bonus):\n",
    "        self.age = age\n",
    "        self.name = name\n",
    "        self.obj_salary = Salary(pay,bonus)     # Here we are instanciating Salary class by self.obj_salary variable.\n",
    "        \n",
    "    def total_salary(self):\n",
    "        return self.obj_salary.annual_salary()         #Here we calling annual_salary mehtod of Salary class.\n",
    "\n",
    "        \n",
    "E1 = Employee('Shashank',12,100,10)\n",
    "\n",
    "E1.total_salary()\n",
    "\n"
   ]
  },
  {
   "cell_type": "markdown",
   "metadata": {},
   "source": [
    "### Aggregation"
   ]
  },
  {
   "cell_type": "code",
   "execution_count": 4,
   "metadata": {},
   "outputs": [
    {
     "data": {
      "text/plain": [
       "1210"
      ]
     },
     "execution_count": 4,
     "metadata": {},
     "output_type": "execute_result"
    }
   ],
   "source": [
    "class Salary:\n",
    "    def __init__(self,pay,bonus):\n",
    "        self.pay = pay\n",
    "        self.bonus = bonus\n",
    "        \n",
    "    def annual_salary(self):\n",
    "        return (self.pay*12) + self.bonus\n",
    "\n",
    "    \n",
    "class Employee:\n",
    "    def __init__(self,name,age,S1):          # Here we pass Salary class instance in init of Employee. \n",
    "        self.age = age\n",
    "        self.name = name\n",
    "        self.obj_salary = S1      # Here we are instanciating Salary class by self.obj_salary variable.\n",
    "        \n",
    "    def total_salary(self):\n",
    "        return self.obj_salary.annual_salary()         #Here we calling annual_salary mehtod of Salary class.\n",
    "\n",
    "\n",
    "    \n",
    "S1 = Salary(100,10)    #To run aggregation we need to instantiate Salary class\n",
    "    \n",
    "E1 = Employee('Shashank',12,S1)   #To call Employee we will have pass Salary instance as an argument here.\n",
    "\n",
    "E1.total_salary()\n",
    "\n"
   ]
  }
 ],
 "metadata": {
  "kernelspec": {
   "display_name": "Python 3",
   "language": "python",
   "name": "python3"
  },
  "language_info": {
   "codemirror_mode": {
    "name": "ipython",
    "version": 3
   },
   "file_extension": ".py",
   "mimetype": "text/x-python",
   "name": "python",
   "nbconvert_exporter": "python",
   "pygments_lexer": "ipython3",
   "version": "3.8.5-final"
  }
 },
 "nbformat": 4,
 "nbformat_minor": 2
}