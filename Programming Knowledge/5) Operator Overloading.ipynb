{
 "metadata": {
  "language_info": {
   "codemirror_mode": {
    "name": "ipython",
    "version": 3
   },
   "file_extension": ".py",
   "mimetype": "text/x-python",
   "name": "python",
   "nbconvert_exporter": "python",
   "pygments_lexer": "ipython3",
   "version": "3.8.5-final"
  },
  "orig_nbformat": 2,
  "kernelspec": {
   "name": "Python 3.8.5 64-bit",
   "display_name": "Python 3.8.5 64-bit",
   "metadata": {
    "interpreter": {
     "hash": "2db524e06e9f5f4ffedc911c917cb75e12dbc923643829bf417064a77eb14d37"
    }
   }
  }
 },
 "nbformat": 4,
 "nbformat_minor": 2,
 "cells": [
  {
   "source": [
    "\"\"\"Operators in python are +,-,*,/,<,>, etc.  For builin objects like int,string,float they work \n",
    "   as they are being in their built in class. For making these operators work in our custom classes.\n",
    "   We need to use operator overloading\"\"\""
   ],
   "cell_type": "markdown",
   "metadata": {}
  },
  {
   "cell_type": "code",
   "execution_count": 13,
   "metadata": {},
   "outputs": [
    {
     "output_type": "error",
     "ename": "TypeError",
     "evalue": "unsupported operand type(s) for +: &#39;Number&#39; and &#39;Number&#39;",
     "traceback": [
      "\u001b[1;31m---------------------------------------------------------------------------\u001b[0m",
      "\u001b[1;31mTypeError\u001b[0m                                 Traceback (most recent call last)",
      "\u001b[1;32m&lt;ipython-input-13-1c26bc2bd40e&gt;\u001b[0m in \u001b[0;36m&lt;module&gt;\u001b[1;34m\u001b[0m\n\u001b[0;32m     10\u001b[0m  \u001b[0mspecial\u001b[0m \u001b[0moperator\u001b[0m \u001b[0moverloading\u001b[0m \u001b[0mmethods\u001b[0m\u001b[1;33m\u001b[0m\u001b[1;33m\u001b[0m\u001b[0m\n\u001b[0;32m     11\u001b[0m  &quot;&quot;&quot;\n\u001b[1;32m---&gt; 12\u001b[1;33m \u001b[0msumN\u001b[0m \u001b[1;33m=\u001b[0m \u001b[0mN1\u001b[0m \u001b[1;33m+\u001b[0m \u001b[0mN2\u001b[0m\u001b[1;33m\u001b[0m\u001b[1;33m\u001b[0m\u001b[0m\n\u001b[0m",
      "\u001b[1;31mTypeError\u001b[0m: unsupported operand type(s) for +: &#39;Number&#39; and &#39;Number&#39;"
     ]
    }
   ],
   "source": [
    "class Number:\n",
    "    def __init__(self,num):\n",
    "        self.num = num\n",
    "    \n",
    "N1 = Number(1)\n",
    "N2 = Number(2)\n",
    "\n",
    "\"\"\"\n",
    "Now if we apply operator in these classed. We will notice thay don't work. To make them work we need to add\n",
    " special operator overloading methods\n",
    " \"\"\"\n",
    "sumN = N1 + N2"
   ]
  },
  {
   "source": [
    "## Methods of Operator Overloading"
   ],
   "cell_type": "markdown",
   "metadata": {}
  },
  {
   "source": [
    "![title](Operator2.PNG)"
   ],
   "cell_type": "markdown",
   "metadata": {
    "tags": []
   }
  },
  {
   "source": [
    "![title](Operator1.PNG)"
   ],
   "cell_type": "markdown",
   "metadata": {
    "tags": []
   }
  },
  {
   "cell_type": "code",
   "execution_count": 22,
   "metadata": {
    "tags": []
   },
   "outputs": [
    {
     "output_type": "stream",
     "name": "stdout",
     "text": "3\nFalse\nTrue\nTrue\nFalse\n"
    }
   ],
   "source": [
    "class Number:\n",
    "    def __init__(self,num):\n",
    "        self.num = num\n",
    "\n",
    "    def __add__(self,value):\n",
    "        return self.num + value.num\n",
    "\n",
    "    def __lt__(self, value):\n",
    "        return self.num < value.num\n",
    "    \n",
    "    def __le__(self, value):\n",
    "        return self.num <= value.num\n",
    "\n",
    "    def __ge__(self, value):\n",
    "        return self.num >= value.num\n",
    "\n",
    "    def __gt__(self, value):\n",
    "        return self.num > value.num\n",
    "\n",
    "    def __eq__(self,value):\n",
    "        return self.num == value.num\n",
    "    \n",
    "    def __ne__(self,value):\n",
    "        return self.num != value.num\n",
    "\n",
    "    \n",
    "N1 = Number(1)\n",
    "N2 = Number(2)\n",
    "\n",
    "\"\"\"\n",
    "Now if we apply operator in these classed. We will notice thay don't work. To make them work we need to add\n",
    " special operator overloading methods\n",
    " \"\"\"\n",
    "sumN = N1 + N2\n",
    "\n",
    "print(sumN)\n",
    "\n",
    "print(N1==N2)\n",
    "print(N1<N2)\n",
    "print(N1!=N2)\n",
    "print(N1>N2)"
   ]
  }
 ]
}