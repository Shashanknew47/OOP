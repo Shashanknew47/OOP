{
 "cells": [
  {
   "source": [
    "Class is a blue print of creating objects. instance is a created object. Class inherit autometically form object class.(We don't need it to mention explicitly). By convention \n",
    "we need to give class name in title formatting."
   ],
   "cell_type": "markdown",
   "metadata": {}
  },
  {
   "cell_type": "code",
   "execution_count": 2,
   "metadata": {},
   "outputs": [],
   "source": [
    "class Car(object):    # Here Car is the class name.\n",
    "    pass\n",
    "'''\n",
    "These car companis names are here instances of the class.\n",
    "'''\n",
    "ford = Car()\n",
    "honda = Car()\n",
    "tesla = Car()  \n"
   ]
  },
  {
   "cell_type": "code",
   "execution_count": 5,
   "metadata": {},
   "outputs": [
    {
     "output_type": "execute_result",
     "data": {
      "text/plain": "&#39;Just like below picture attributes will associate themselves with a instance.&#39;"
     },
     "metadata": {},
     "execution_count": 5
    }
   ],
   "source": [
    "''' We can associate some data to a instance. Which is called attribute of the instance or class object. Later on as per requirement we can retrive them. An attributes stays with a instance like \n",
    "extended dictionary.\n",
    "'''\n",
    "\n",
    "ford.speed  =  133\n",
    "ford.color = 'Red'\n",
    "tesla.color = 'Blue'\n",
    "tesla.mode = 'Electric'\n",
    "tesla.speed = 300\n",
    "\n",
    "'''Just like below picture attributes will associate themselves with a instance.'''"
   ]
  },
  {
   "source": [
    "![title](A.PNG))"
   ],
   "cell_type": "markdown",
   "metadata": {
    "tags": []
   }
  },
  {
   "source": [],
   "cell_type": "markdown",
   "metadata": {}
  },
  {
   "cell_type": "code",
   "execution_count": 7,
   "metadata": {
    "tags": []
   },
   "outputs": [
    {
     "output_type": "stream",
     "name": "stdout",
     "text": "133\nRed\n"
    }
   ],
   "source": [
    "'''Retriving defined attributes form instances. '''\n",
    "print(ford.speed)\n",
    "print(ford.color)"
   ]
  },
  {
   "cell_type": "code",
   "execution_count": 7,
   "metadata": {},
   "outputs": [
    {
     "output_type": "execute_result",
     "data": {
      "text/plain": "280"
     },
     "metadata": {},
     "execution_count": 7
    }
   ],
   "source": [
    "'''We can change the attributes as per requirement. '''\n",
    "ford.speed = 280\n",
    "ford.speed"
   ]
  },
  {
   "cell_type": "code",
   "execution_count": 8,
   "metadata": {},
   "outputs": [
    {
     "output_type": "execute_result",
     "data": {
      "text/plain": "'Color:Red Speed:250'"
     },
     "metadata": {},
     "execution_count": 8
    }
   ],
   "source": [
    "honda_attributes = f'Color:{honda.color} Speed:{honda.spped}'\n",
    "honda_attributes"
   ]
  }
 ],
 "metadata": {
  "kernelspec": {
   "display_name": "Python 3",
   "language": "python",
   "name": "python3"
  },
  "language_info": {
   "codemirror_mode": {
    "name": "ipython",
    "version": 3
   },
   "file_extension": ".py",
   "mimetype": "text/x-python",
   "name": "python",
   "nbconvert_exporter": "python",
   "pygments_lexer": "ipython3",
   "version": "3.8.5-final"
  }
 },
 "nbformat": 4,
 "nbformat_minor": 2
}