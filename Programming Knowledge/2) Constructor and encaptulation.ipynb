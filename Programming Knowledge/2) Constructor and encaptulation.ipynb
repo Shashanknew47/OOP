{
 "cells": [
  {
   "source": [
    "\n",
    "Only of 1 init method is allowed in a class. If you apply more than 1 init method then it will condider last \n",
    "one as init method and igore previous init methods.\n",
    "#### Note : Take self example from Fred garbage collection module.\n",
    "\n",
    "### init with key argument , *args. **kwargs\n",
    "\n"
   ],
   "cell_type": "markdown",
   "metadata": {}
  },
  {
   "cell_type": "code",
   "execution_count": 4,
   "metadata": {
    "tags": []
   },
   "outputs": [
    {
     "output_type": "stream",
     "name": "stdout",
     "text": "46\nWhite\n[1, 2, 3, 3]\n{&#39;Company&#39;: &#39;Tesla&#39;, &#39;Model&#39;: 3}\n"
    }
   ],
   "source": [
    "class car:\n",
    "    def __init__(self,*args,speed=10,color='White',**kwargs):\n",
    "        self.speed = speed\n",
    "        self.color = color\n",
    "        self.lis   = list(args)\n",
    "        self.dic   = kwargs\n",
    "    \n",
    "    @property\n",
    "    def acc(self):\n",
    "        return (int(self.speed))*2\n",
    "    \n",
    "    def lis1(self):\n",
    "        return self.lis\n",
    "    \n",
    "    def dic1(self):\n",
    "        return self.dic\n",
    "    \n",
    "    \n",
    "C1 = car(1,2,3,3,**{'speed':23,'Company':'Tesla','Model':3})\n",
    "\n",
    "print(C1.acc)\n",
    "print(C1.color)\n",
    "\n",
    "print(C1.lis1())\n",
    "print(C1.dic1())"
   ]
  },
  {
   "cell_type": "markdown",
   "metadata": {},
   "source": [
    "### Encapsulation\n",
    "\n",
    "1) Private Variables"
   ]
  },
  {
   "cell_type": "code",
   "execution_count": 9,
   "metadata": {
    "tags": []
   },
   "outputs": [
    {
     "output_type": "stream",
     "name": "stdout",
     "text": "ford speed is :ohh slow\n"
    }
   ],
   "source": [
    "class car:\n",
    "    def __init__(self,speed,color):\n",
    "        self.speed = speed\n",
    "        self.color = color\n",
    "        \n",
    "ford = car(200,'White')\n",
    "honda = car(350,'Blue')\n",
    "'''\n",
    "In this kind of approach anyone chage our data. which might create some issues.Ex.\n",
    "'''\n",
    "ford.speed = 'ohh slow'\n",
    "print(f'ford speed is :{ford.speed}')\n",
    "'''\n",
    "with encapsulation we provide change access explicitly to a attribute by a specific function or means\n",
    " we create private variables in a function which can't be changed outside class directly. It could change only by calling explicitly calling customised function.\n",
    " '''\n",
    "a = 1"
   ]
  },
  {
   "cell_type": "code",
   "execution_count": 3,
   "metadata": {
    "tags": []
   },
   "outputs": [
    {
     "output_type": "stream",
     "name": "stdout",
     "text": "10\n********\n20\n********\n"
    },
    {
     "output_type": "error",
     "ename": "AttributeError",
     "evalue": "&#39;letter&#39; object has no attribute &#39;__c&#39;",
     "traceback": [
      "\u001b[1;31m---------------------------------------------------------------------------\u001b[0m",
      "\u001b[1;31mAttributeError\u001b[0m                            Traceback (most recent call last)",
      "\u001b[1;32m&lt;ipython-input-3-b1f21488986f&gt;\u001b[0m in \u001b[0;36m&lt;module&gt;\u001b[1;34m\u001b[0m\n\u001b[0;32m     21\u001b[0m \u001b[1;34m&quot;Note : Here we access a and _b without any issues but __c we could not access as it is a private variable)&quot;\u001b[0m\u001b[1;33m\u001b[0m\u001b[1;33m\u001b[0m\u001b[0m\n\u001b[0;32m     22\u001b[0m \u001b[1;33m\u001b[0m\u001b[0m\n\u001b[1;32m---&gt; 23\u001b[1;33m \u001b[0mprint\u001b[0m\u001b[1;33m(\u001b[0m\u001b[0mL1\u001b[0m\u001b[1;33m.\u001b[0m\u001b[0m__c\u001b[0m\u001b[1;33m)\u001b[0m\u001b[1;33m\u001b[0m\u001b[1;33m\u001b[0m\u001b[0m\n\u001b[0m",
      "\u001b[1;31mAttributeError\u001b[0m: &#39;letter&#39; object has no attribute &#39;__c&#39;"
     ]
    }
   ],
   "source": [
    "'''\n",
    "    In Python we create private variables by add double undersocres \"__\" in front of the variables. These variables could \n",
    " not access or change outside the class. \n",
    "      _ (single undersocre we use only for convention but it will not stop to change or access of vairable)        \n",
    "'''\n",
    "class letter:\n",
    "       def __init__(self):\n",
    "        self.a = 10\n",
    "        self._b = 20\n",
    "        self.__c = 30  \n",
    "        \n",
    "L1 = letter()\n",
    "\n",
    "print(L1.a)\n",
    "print('********')\n",
    "\n",
    "print(L1._b)\n",
    "print('********')\n",
    "\n",
    "\"Note : Here we access a and _b without any issues but __c we could not access as it is a private variable)\"\n",
    "\n",
    "print(L1.__c)"
   ]
  },
  {
   "cell_type": "code",
   "execution_count": 86,
   "metadata": {},
   "outputs": [
    {
     "name": "stdout",
     "output_type": "stream",
     "text": [
      "200\n",
      "250\n"
     ]
    }
   ],
   "source": [
    "class car:\n",
    "    def __init__(self,speed,color):\n",
    "        self.__speed = speed\n",
    "        self.color = color\n",
    "        \n",
    "    \n",
    "    #setter function (This fuction changes __speed explicitly)\n",
    "    def set_speed(self,value):\n",
    "        self.__speed = value\n",
    "    \n",
    "    #getter function\n",
    "    def get_speed(self):\n",
    "        return self.__speed\n",
    "    \n",
    "    \n",
    "        \n",
    "ford = car(200,'White')\n",
    "honda = car(350,'Blue')\n",
    "\n",
    "# Now we can change or access speed only setter and getter function.\n",
    "\n",
    "print(ford.get_speed())\n",
    "\n",
    "ford.set_speed(250)\n",
    "\n",
    "print(ford.get_speed())"
   ]
  },
  {
   "cell_type": "code",
   "execution_count": 97,
   "metadata": {},
   "outputs": [
    {
     "name": "stdout",
     "output_type": "stream",
     "text": [
      "200\n",
      "After aquiring new land\n",
      "400\n"
     ]
    }
   ],
   "source": [
    "class ractangle:\n",
    "    def __init__(self,height,width):\n",
    "        self.__height = height\n",
    "        self.__width = width\n",
    "        \n",
    "    def set_height(self,value):\n",
    "        self.__height = value\n",
    "        \n",
    "    def get_height(self):\n",
    "        return self.__height\n",
    "    \n",
    "    def set_width(self,value):\n",
    "        self.__width = self.value\n",
    "        \n",
    "    def get_width(self):\n",
    "        return self.__width\n",
    "    \n",
    "    # You will notice that with \"__\" double underscores are valid inside in the fuction like in below are function.\n",
    "    \n",
    "    def area(self):\n",
    "        return self.__height * self.__width\n",
    "    \n",
    "R1 = ractangle(10,20)\n",
    "\n",
    "print(R1.area())\n",
    "\n",
    "print('After aquiring new land')\n",
    "\n",
    "R1.set_height(20)\n",
    "\n",
    "print(R1.area())"
   ]
  },
  {
   "cell_type": "markdown",
   "metadata": {},
   "source": [
    "## Encapsulation \n",
    "\n",
    "2) Private functions"
   ]
  },
  {
   "cell_type": "code",
   "execution_count": 13,
   "metadata": {
    "tags": []
   },
   "outputs": [
    {
     "output_type": "stream",
     "name": "stdout",
     "text": "Blue\n(&#39;Blue&#39;, &#39;light&#39;)\n"
    },
    {
     "output_type": "error",
     "ename": "AttributeError",
     "evalue": "&#39;Car&#39; object has no attribute &#39;__light&#39;",
     "traceback": [
      "\u001b[1;31m---------------------------------------------------------------------------\u001b[0m",
      "\u001b[1;31mAttributeError\u001b[0m                            Traceback (most recent call last)",
      "\u001b[1;32m&lt;ipython-input-13-2d269c77e021&gt;\u001b[0m in \u001b[0;36m&lt;module&gt;\u001b[1;34m\u001b[0m\n\u001b[0;32m     27\u001b[0m \u001b[1;33m\u001b[0m\u001b[0m\n\u001b[0;32m     28\u001b[0m \u001b[1;31m# As __light is private variable. So, we could use only inside the class but not outside.\u001b[0m\u001b[1;33m\u001b[0m\u001b[1;33m\u001b[0m\u001b[1;33m\u001b[0m\u001b[0m\n\u001b[1;32m---&gt; 29\u001b[1;33m \u001b[0mprint\u001b[0m\u001b[1;33m(\u001b[0m\u001b[0mTesla\u001b[0m\u001b[1;33m.\u001b[0m\u001b[0m__light\u001b[0m\u001b[1;33m(\u001b[0m\u001b[1;33m)\u001b[0m\u001b[1;33m)\u001b[0m\u001b[1;33m;\u001b[0m     \u001b[1;34m&quot;As here we are calling a private method outside of class. So, we are getting error&quot;\u001b[0m\u001b[1;33m\u001b[0m\u001b[1;33m\u001b[0m\u001b[0m\n\u001b[0m",
      "\u001b[1;31mAttributeError\u001b[0m: &#39;Car&#39; object has no attribute &#39;__light&#39;"
     ]
    }
   ],
   "source": [
    "# Just like private attributes wit double underscores we could define private functions also\n",
    "\n",
    "class Car:\n",
    "    \n",
    "    def __init__(self,color,speed):\n",
    "        self.color = color\n",
    "        self.speed = speed\n",
    "        \n",
    "    def add_lightcolor(self):\n",
    "        light_color =  self.color\n",
    "        self.light = self.__light();     \"callint the public method\"\n",
    "        return light_color,self.light\n",
    "        \n",
    "    def __light(self):\n",
    "        return 'light'\n",
    "\n",
    "\n",
    "\n",
    "Tesla = Car('Blue',330)\n",
    "\n",
    "print(Tesla.color)\n",
    "\n",
    "print(Tesla.add_lightcolor())\n",
    "\n",
    "#Tesla.color\n",
    "\n",
    "# As __light is private variable. So, we could use only inside the class but not outside.\n",
    "print(Tesla.__light());     \"As here we are calling a private method outside of class. So, we are getting error\""
   ]
  }
 ],
 "metadata": {
  "kernelspec": {
   "display_name": "Python 3",
   "language": "python",
   "name": "python3"
  },
  "language_info": {
   "codemirror_mode": {
    "name": "ipython",
    "version": 3
   },
   "file_extension": ".py",
   "mimetype": "text/x-python",
   "name": "python",
   "nbconvert_exporter": "python",
   "pygments_lexer": "ipython3",
   "version": "3.8.5-final"
  }
 },
 "nbformat": 4,
 "nbformat_minor": 2
}