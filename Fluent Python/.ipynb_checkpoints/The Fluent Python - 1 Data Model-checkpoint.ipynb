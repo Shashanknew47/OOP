{
 "cells": [
  {
   "cell_type": "markdown",
   "metadata": {},
   "source": [
    "# namedtuple"
   ]
  },
  {
   "cell_type": "code",
   "execution_count": 1,
   "metadata": {},
   "outputs": [
    {
     "name": "stdout",
     "output_type": "stream",
     "text": [
      "Shashank\n",
      "32\n"
     ]
    },
    {
     "data": {
      "text/plain": [
       "20191101"
      ]
     },
     "execution_count": 1,
     "metadata": {},
     "output_type": "execute_result"
    }
   ],
   "source": [
    "#namedtuple : is a collections like dictionary and list which gives more control as we acces them by index and key.\n",
    "import collections as c\n",
    "#Declaring namedtuple\n",
    "Student = c.namedtuple('Student',['name','age','DOB'])\n",
    "S = Student('Shashank',32,20191101)\n",
    "R = Student('Reena',33,20190301)\n",
    "\n",
    "#Accessing a Tuple\n",
    "#1) By Index method\n",
    "print(S[0])\n",
    "\n",
    "#2)Accessing by key\n",
    "print(S.age)\n",
    "\n",
    "#3)There is another method getattr() also to access namedtuple\n",
    "getattr(S,'DOB')"
   ]
  },
  {
   "cell_type": "code",
   "execution_count": 2,
   "metadata": {},
   "outputs": [
    {
     "data": {
      "text/plain": [
       "[1, 9, 25, 49, 81]"
      ]
     },
     "execution_count": 2,
     "metadata": {},
     "output_type": "execute_result"
    }
   ],
   "source": [
    "Li = range(1,11)\n",
    "i = [i*i for i in Li if i%2 !=0]\n",
    "i"
   ]
  },
  {
   "cell_type": "code",
   "execution_count": 3,
   "metadata": {},
   "outputs": [
    {
     "name": "stdout",
     "output_type": "stream",
     "text": [
      "['Club 2', 'Club 3', 'Club 4', 'Club 5', 'Club 6', 'Club 7', 'Club 8', 'Club 9', 'Club 10', 'Club Jack', 'Club queen', 'Club king', 'Club Ace', 'Diamond 2', 'Diamond 3', 'Diamond 4', 'Diamond 5', 'Diamond 6', 'Diamond 7', 'Diamond 8', 'Diamond 9', 'Diamond 10', 'Diamond Jack', 'Diamond queen', 'Diamond king', 'Diamond Ace', 'Heart 2', 'Heart 3', 'Heart 4', 'Heart 5', 'Heart 6', 'Heart 7', 'Heart 8', 'Heart 9', 'Heart 10', 'Heart Jack', 'Heart queen', 'Heart king', 'Heart Ace', 'Spade 2', 'Spade 3', 'Spade 4', 'Spade 5', 'Spade 6', 'Spade 7', 'Spade 8', 'Spade 9', 'Spade 10', 'Spade Jack', 'Spade queen', 'Spade king', 'Spade Ace']\n"
     ]
    },
    {
     "data": {
      "text/plain": [
       "52"
      ]
     },
     "execution_count": 3,
     "metadata": {},
     "output_type": "execute_result"
    }
   ],
   "source": [
    "\n",
    "Suit = ['Club','Diamond','Heart','Spade']\n",
    "type = list(range(2,11)) + ['Jack','queen','king','Ace']\n",
    "Li = []\n",
    "for s in Suit:\n",
    "    for t in type:\n",
    "        Li.append(f'{s} {t}')\n",
    "\n",
    "print(Li)\n",
    "len(Li)\n",
    "                \n",
    "        "
   ]
  },
  {
   "cell_type": "code",
   "execution_count": 4,
   "metadata": {},
   "outputs": [],
   "source": [
    "#Python data model describes the api that you can make your own objects play.\n",
    "#Python interreter invokes special methods to perform basic operations. Special methods names are always\n",
    "#written with double underscores. We call these double underscores as dunder \n",
    "#Special methos allow your objects to implement,support, and interact with basic language constructs as:\n",
    "# Iteration\n",
    "# Collections\n",
    "#Attribute access\n",
    "#Operator overloading\n",
    "#Funcion and method invocaton\n",
    "#Object creatoin and destruction\n",
    "#String representation and formatting\n",
    "#Manage contexts (with blocks)\n",
    "\n",
    "\n",
    "# We call it special method also -Magic methods and dunder methods.\n"
   ]
  },
  {
   "cell_type": "code",
   "execution_count": 5,
   "metadata": {},
   "outputs": [
    {
     "name": "stdout",
     "output_type": "stream",
     "text": [
      "52\n",
      "Card(rank='5', suit='Spades')\n"
     ]
    },
    {
     "data": {
      "text/plain": [
       "[Card(rank='2', suit='Spades'),\n",
       " Card(rank='3', suit='Spades'),\n",
       " Card(rank='4', suit='Spades'),\n",
       " Card(rank='5', suit='Spades'),\n",
       " Card(rank='6', suit='Spades'),\n",
       " Card(rank='7', suit='Spades'),\n",
       " Card(rank='8', suit='Spades'),\n",
       " Card(rank='9', suit='Spades'),\n",
       " Card(rank='10', suit='Spades'),\n",
       " Card(rank='J', suit='Spades'),\n",
       " Card(rank='Q', suit='Spades'),\n",
       " Card(rank='K', suit='Spades'),\n",
       " Card(rank='A', suit='Spades'),\n",
       " Card(rank='2', suit='Diamonds'),\n",
       " Card(rank='3', suit='Diamonds'),\n",
       " Card(rank='4', suit='Diamonds'),\n",
       " Card(rank='5', suit='Diamonds'),\n",
       " Card(rank='6', suit='Diamonds'),\n",
       " Card(rank='7', suit='Diamonds'),\n",
       " Card(rank='8', suit='Diamonds'),\n",
       " Card(rank='9', suit='Diamonds'),\n",
       " Card(rank='10', suit='Diamonds'),\n",
       " Card(rank='J', suit='Diamonds'),\n",
       " Card(rank='Q', suit='Diamonds'),\n",
       " Card(rank='K', suit='Diamonds'),\n",
       " Card(rank='A', suit='Diamonds'),\n",
       " Card(rank='2', suit='Clubs'),\n",
       " Card(rank='3', suit='Clubs'),\n",
       " Card(rank='4', suit='Clubs'),\n",
       " Card(rank='5', suit='Clubs'),\n",
       " Card(rank='6', suit='Clubs'),\n",
       " Card(rank='7', suit='Clubs'),\n",
       " Card(rank='8', suit='Clubs'),\n",
       " Card(rank='9', suit='Clubs'),\n",
       " Card(rank='10', suit='Clubs'),\n",
       " Card(rank='J', suit='Clubs'),\n",
       " Card(rank='Q', suit='Clubs'),\n",
       " Card(rank='K', suit='Clubs'),\n",
       " Card(rank='A', suit='Clubs'),\n",
       " Card(rank='2', suit='Hearts'),\n",
       " Card(rank='3', suit='Hearts'),\n",
       " Card(rank='4', suit='Hearts'),\n",
       " Card(rank='5', suit='Hearts'),\n",
       " Card(rank='6', suit='Hearts'),\n",
       " Card(rank='7', suit='Hearts'),\n",
       " Card(rank='8', suit='Hearts'),\n",
       " Card(rank='9', suit='Hearts'),\n",
       " Card(rank='10', suit='Hearts'),\n",
       " Card(rank='J', suit='Hearts'),\n",
       " Card(rank='Q', suit='Hearts'),\n",
       " Card(rank='K', suit='Hearts'),\n",
       " Card(rank='A', suit='Hearts')]"
      ]
     },
     "execution_count": 5,
     "metadata": {},
     "output_type": "execute_result"
    }
   ],
   "source": [
    "#Following example will demonstrate power of implementation of two special methods. __getitems__ and __len__.\n",
    "\n",
    "#Note: Try to declare Card outside the class. Otherwise it will show an error.\n",
    "\n",
    "import collections as c\n",
    "Card = c.namedtuple('Card',['rank','suit'])\n",
    "\n",
    "class FrenchDeck:\n",
    " \n",
    "\n",
    "    ranks = [str(n) for n in range(2,11)] + list('JQKA')\n",
    "    suits = 'Spades Diamonds Clubs Hearts'.split()\n",
    "    \n",
    "    def __init__(self):\n",
    "        self.cards = [Card(r,s) for s in self.suits for r in self.ranks]\n",
    "    \n",
    "    def __len__(self):\n",
    "        return len(self.cards)\n",
    "    \n",
    "    def __getitem__(self,position):\n",
    "        return self.cards[position]\n",
    "   \n",
    "    def re(self):\n",
    "        return self.cards\n",
    "    \n",
    "\n",
    "deck = FrenchDeck()\n",
    "print(len(deck))\n",
    "print(deck[3])\n",
    "deck.re()\n",
    "\n"
   ]
  },
  {
   "cell_type": "code",
   "execution_count": null,
   "metadata": {},
   "outputs": [],
   "source": []
  },
  {
   "cell_type": "code",
   "execution_count": null,
   "metadata": {},
   "outputs": [],
   "source": []
  },
  {
   "cell_type": "markdown",
   "metadata": {},
   "source": [
    "# now what __getitems__ provies. (slicing, it makes collection iterable)"
   ]
  },
  {
   "cell_type": "code",
   "execution_count": 6,
   "metadata": {},
   "outputs": [
    {
     "name": "stdout",
     "output_type": "stream",
     "text": [
      "Card(rank='A', suit='Hearts')\n",
      "[Card(rank='Q', suit='Hearts'), Card(rank='K', suit='Hearts'), Card(rank='A', suit='Hearts')]\n"
     ]
    }
   ],
   "source": [
    "#Slicing\n",
    "print(deck[-1])\n",
    "print(deck[-3:])"
   ]
  },
  {
   "cell_type": "code",
   "execution_count": 7,
   "metadata": {},
   "outputs": [
    {
     "name": "stdout",
     "output_type": "stream",
     "text": [
      "Card(rank='2', suit='Spades')\n",
      "Card(rank='3', suit='Spades')\n",
      "Card(rank='4', suit='Spades')\n",
      "Card(rank='5', suit='Spades')\n"
     ]
    }
   ],
   "source": [
    "#iterable \n",
    "i = 1\n",
    "for card in deck:\n",
    "    i+=1\n",
    "    print(card)\n",
    "    if i == 5:break"
   ]
  },
  {
   "cell_type": "code",
   "execution_count": 8,
   "metadata": {},
   "outputs": [
    {
     "name": "stdout",
     "output_type": "stream",
     "text": [
      "Card(rank='A', suit='Hearts')\n",
      "Card(rank='K', suit='Hearts')\n",
      "Card(rank='Q', suit='Hearts')\n",
      "Card(rank='J', suit='Hearts')\n"
     ]
    }
   ],
   "source": [
    "#iterable \n",
    "i = 1\n",
    "for card in reversed(deck):\n",
    "    i+=1\n",
    "    print(card)\n",
    "    if i == 5:break"
   ]
  },
  {
   "cell_type": "code",
   "execution_count": 9,
   "metadata": {},
   "outputs": [
    {
     "data": {
      "text/plain": [
       "Card(rank='A', suit='Hearts')"
      ]
     },
     "execution_count": 9,
     "metadata": {},
     "output_type": "execute_result"
    }
   ],
   "source": [
    "#create a method to pick a random card.\n",
    "from random import choice\n",
    "choice(deck)\n"
   ]
  },
  {
   "cell_type": "code",
   "execution_count": 10,
   "metadata": {},
   "outputs": [
    {
     "data": {
      "text/plain": [
       "True"
      ]
     },
     "execution_count": 10,
     "metadata": {},
     "output_type": "execute_result"
    }
   ],
   "source": [
    "#Iteration is ofter implicit. If a collection has no __contains__ method. the in operator does a sequiencial scan.\n",
    "# As it works when object is iterable. ex.\n",
    "Card('Q','Hearts') in deck"
   ]
  },
  {
   "cell_type": "code",
   "execution_count": null,
   "metadata": {},
   "outputs": [],
   "source": []
  }
 ],
 "metadata": {
  "kernelspec": {
   "display_name": "Python 3",
   "language": "python",
   "name": "python3"
  },
  "language_info": {
   "codemirror_mode": {
    "name": "ipython",
    "version": 3
   },
   "file_extension": ".py",
   "mimetype": "text/x-python",
   "name": "python",
   "nbconvert_exporter": "python",
   "pygments_lexer": "ipython3",
   "version": "3.7.1"
  }
 },
 "nbformat": 4,
 "nbformat_minor": 2
}
