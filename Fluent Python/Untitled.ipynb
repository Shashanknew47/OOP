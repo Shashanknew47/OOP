{
 "cells": [
  {
   "cell_type": "code",
   "execution_count": 20,
   "metadata": {},
   "outputs": [
    {
     "data": {
      "text/plain": [
       "Vector(3,6)"
      ]
     },
     "execution_count": 20,
     "metadata": {},
     "output_type": "execute_result"
    }
   ],
   "source": [
    "class Vector:\n",
    "    \n",
    "    def __init__(self,x,y):\n",
    "        self.x = x\n",
    "        self.y = y\n",
    "        \n",
    "    def __repr__(self):\n",
    "        return f'Vector({self.x},{self.y})'\n",
    "    \n",
    "    \n",
    "    def __add__(self,other):\n",
    "        x = self.x + other.x\n",
    "        y = self.y + other.y\n",
    "        return Vector(x,y)\n",
    "        \n",
    "    \n",
    "V1 = Vector(1,3)\n",
    "V2 = Vector(2,3)\n",
    "\n",
    "V1+V2"
   ]
  },
  {
   "cell_type": "code",
   "execution_count": 71,
   "metadata": {},
   "outputs": [
    {
     "data": {
      "text/plain": [
       "Names(First='Ren', Last='Jain')"
      ]
     },
     "execution_count": 71,
     "metadata": {},
     "output_type": "execute_result"
    }
   ],
   "source": [
    "class Student_info:\n",
    "    \n",
    "    \n",
    "    def __init__(self,Lis):\n",
    "        self.names = Li\n",
    "        \n",
    "    def __len__(self):\n",
    "        return len(self.names)\n",
    "    \n",
    "    def __getitem__(self,position):\n",
    "        return self.names[position]\n",
    "    \n",
    "    def re(self):\n",
    "        return self.names\n",
    "\n",
    "    \n",
    "I1 = Student_info(Li)\n",
    "\n",
    "\n",
    "import random\n",
    "\n",
    "random.choice(I1)\n",
    "    \n",
    "    "
   ]
  },
  {
   "cell_type": "code",
   "execution_count": 22,
   "metadata": {},
   "outputs": [
    {
     "data": {
      "text/plain": [
       "['Clubs', 'Diamonds', 'Spades', 'Hearts']"
      ]
     },
     "execution_count": 22,
     "metadata": {},
     "output_type": "execute_result"
    }
   ],
   "source": [
    "#Following example will demonstrate power of implementation of two special methods. __getitems__ and __len__.\n",
    "\n",
    "#Note: Try to declare Card outside the class. Otherwise it will show an error.\n",
    "\n",
    "import collections as c\n",
    "Card = c.namedtuple('Card',['rank','suit'])\n",
    "\n",
    "class FrenchDeck:\n",
    " \n",
    "\n",
    "    ranks = [str(n) for n in range(2,11)] + list('JQKA')\n",
    "    suits = 'Spades Diamonds Clubs Hearts'.split()\n",
    "    \n",
    "    def __init__(self):\n",
    "        self.cards = [Card(r,s) for s in self.suits for r in self.ranks]\n",
    "    \n",
    "    def __len__(self):\n",
    "        return len(self.cards)\n",
    "    \n",
    "    def __getitem__(self,position):\n",
    "        return self.cards[position]\n",
    "   \n",
    "    def re(self):\n",
    "        return self.cards\n",
    "    \n",
    "\n",
    "deck = FrenchDeck()\n",
    "Lis = deck.re()\n",
    "\n",
    "\n",
    "s = set()\n",
    "for i in sorted(Lis,key=lambda x:x[1]):\n",
    "    s.update({i[1]})\n",
    "    \n",
    "d = list(s)\n",
    "\n",
    "d"
   ]
  }
 ],
 "metadata": {
  "kernelspec": {
   "display_name": "Python 3",
   "language": "python",
   "name": "python3"
  },
  "language_info": {
   "codemirror_mode": {
    "name": "ipython",
    "version": 3
   },
   "file_extension": ".py",
   "mimetype": "text/x-python",
   "name": "python",
   "nbconvert_exporter": "python",
   "pygments_lexer": "ipython3",
   "version": "3.7.1"
  }
 },
 "nbformat": 4,
 "nbformat_minor": 2
}
