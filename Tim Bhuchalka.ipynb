{
 "cells": [
  {
   "cell_type": "code",
   "execution_count": 1,
   "metadata": {},
   "outputs": [
    {
     "name": "stdout",
     "output_type": "stream",
     "text": [
      "Models:Kenwood = 8.99,Hemilton=14.55\n",
      "Models:Kenwood = 8.99,Hemilton=14.55\n",
      "False\n",
      "True\n"
     ]
    }
   ],
   "source": [
    "class Kettle(object):\n",
    "    \n",
    "    Power_source = 'Electricity'\n",
    "    def __init__(self,make,price):\n",
    "        self.make = make\n",
    "        self.price = price\n",
    "        self.on = False\n",
    "\n",
    "    def switch_on(self):\n",
    "        self.on = True\n",
    "        \n",
    "Kenwood = Kettle('Kenwood',8.99)\n",
    "\n",
    "\n",
    "Hemilton = Kettle('Hemilton',14.55)\n",
    "\n",
    "print('Models:{} = {},{}={}'.format(Kenwood.make,Kenwood.price,Hemilton.make,Hemilton.price))\n",
    "\n",
    "print('Models:{0.make} = {0.price},{1.make}={1.price}'.format(Kenwood,Hemilton))\n",
    "\n",
    "print(Hemilton.on)\n",
    "\n",
    "Hemilton.switch_on()\n",
    "\n",
    "print(Hemilton.on)"
   ]
  },
  {
   "cell_type": "code",
   "execution_count": 2,
   "metadata": {},
   "outputs": [
    {
     "data": {
      "text/plain": [
       "True"
      ]
     },
     "execution_count": 2,
     "metadata": {},
     "output_type": "execute_result"
    }
   ],
   "source": [
    "# Alternate way of running method:    Pass the intance after calling class_name.method(instance or self)\n",
    "Kettle.switch_on(Kenwood)\n",
    "Kenwood.on"
   ]
  },
  {
   "cell_type": "code",
   "execution_count": 3,
   "metadata": {},
   "outputs": [
    {
     "data": {
      "text/plain": [
       "1.5"
      ]
     },
     "execution_count": 3,
     "metadata": {},
     "output_type": "execute_result"
    }
   ],
   "source": [
    "Kenwood.power = 1.5\n",
    "Kenwood.power"
   ]
  },
  {
   "cell_type": "markdown",
   "metadata": {},
   "source": [
    "Difference between class variable and instance variable is instance varialbe will be changed only with a single instance.\n",
    "where as class variable will change all the instances."
   ]
  },
  {
   "cell_type": "code",
   "execution_count": 4,
   "metadata": {},
   "outputs": [
    {
     "name": "stdout",
     "output_type": "stream",
     "text": [
      "Its on with a wrong swithch\n",
      "True\n"
     ]
    }
   ],
   "source": [
    "#When we change a instance variable\n",
    "Kenwood.on = 'Its on with a wrong swithch'\n",
    "print(Kenwood.on)\n",
    "print(Hemilton.on)"
   ]
  },
  {
   "cell_type": "code",
   "execution_count": 5,
   "metadata": {},
   "outputs": [
    {
     "data": {
      "text/plain": [
       "'Electricity'"
      ]
     },
     "execution_count": 5,
     "metadata": {},
     "output_type": "execute_result"
    }
   ],
   "source": [
    "#Whdn we change a class varialble with an instance then it will make change only to that instance.\n",
    "Kenwood.Power_source = 'Gas'\n",
    "\n",
    "Hemilton.Power_source"
   ]
  },
  {
   "cell_type": "code",
   "execution_count": 16,
   "metadata": {},
   "outputs": [
    {
     "name": "stdout",
     "output_type": "stream",
     "text": [
      "Solar\n"
     ]
    }
   ],
   "source": [
    "#Whdn we change a class varialble with an class then it will make change to all the instance.\n",
    "Kettle.Power_source = 'Solar'\n",
    "\n",
    "print(Hemilton.Power_source)\n"
   ]
  },
  {
   "cell_type": "code",
   "execution_count": 22,
   "metadata": {},
   "outputs": [
    {
     "name": "stdout",
     "output_type": "stream",
     "text": [
      "Power_source\n",
      "make\n",
      "on\n",
      "price\n",
      "switch_on\n",
      "{'make': 'Hemilton', 'price': 14.55, 'on': True}\n"
     ]
    }
   ],
   "source": [
    "# attribute of instance.\n",
    "for i in dir(Hemilton):\n",
    "if not i.startswith('__'):\n",
    "        print(i)\n",
    "        \n",
    "print(Hemilton.__dict__)"
   ]
  },
  {
   "cell_type": "code",
   "execution_count": 5,
   "metadata": {
    "tags": []
   },
   "outputs": [
    {
     "output_type": "stream",
     "name": "stdout",
     "text": "Account created for Tim\nBalance is 1000\n"
    }
   ],
   "source": [
    "    import datetime\n",
    "    import pytz\n",
    "    \n",
    "    class Account:\n",
    "  #  \"Simple account class with balance\"\n",
    "    \n",
    "        def __init__(self,name,balance):\n",
    "            self.name = name\n",
    "            self.balance = balance\n",
    "            self.Transaction_list = []\n",
    "            print(f'Account created for {self.name}')\n",
    "            \n",
    "        def deposit(self,amount):\n",
    "            if amount > 0:\n",
    "                self.balance += amount\n",
    "                self.show_balance()\n",
    "                self.Transaction_list.append(pytz.utc.localize(datetime.datetime.utcnow()),amount)\n",
    "        def withdraw(self,amount):\n",
    "            if 0<amount<=self.balance:\n",
    "                self.balance -=amount\n",
    "            else:\n",
    "                print(\"The amount must be greater than zero and no more than your account balance.\")\n",
    "        \n",
    "        def show_balance(self):\n",
    "            print(f'Balance is {self.balance}')\n",
    "\n",
    "Tim = Account(\"Tim\",0)\n",
    "\n",
    "Tim.deposit(1000)\n",
    "Tim.withdraw(500)\n"
   ]
  },
  {
   "cell_type": "code",
   "execution_count": 24,
   "metadata": {},
   "outputs": [
    {
     "name": "stdout",
     "output_type": "stream",
     "text": [
      "Power_source\n",
      "switch_on\n"
     ]
    },
    {
     "data": {
      "text/plain": [
       "mappingproxy({'__module__': '__main__',\n",
       "              'Power_source': 'Solar',\n",
       "              '__init__': <function __main__.Kettle.__init__(self, make, price)>,\n",
       "              'switch_on': <function __main__.Kettle.switch_on(self)>,\n",
       "              '__dict__': <attribute '__dict__' of 'Kettle' objects>,\n",
       "              '__weakref__': <attribute '__weakref__' of 'Kettle' objects>,\n",
       "              '__doc__': None})"
      ]
     },
     "execution_count": 24,
     "metadata": {},
     "output_type": "execute_result"
    }
   ],
   "source": [
    "# attribute of class.\n",
    "for i in dir(Kettle):\n",
    "    if not i.startswith('__'):\n",
    "        print(i)\n",
    "\n",
    "(Kettle.__dict__)"
   ]
  }
 ],
 "metadata": {
  "kernelspec": {
   "display_name": "Python 3",
   "language": "python",
   "name": "python3"
  },
  "language_info": {
   "codemirror_mode": {
    "name": "ipython",
    "version": 3
   },
   "file_extension": ".py",
   "mimetype": "text/x-python",
   "name": "python",
   "nbconvert_exporter": "python",
   "pygments_lexer": "ipython3",
   "version": "3.8.5-final"
  }
 },
 "nbformat": 4,
 "nbformat_minor": 2
}