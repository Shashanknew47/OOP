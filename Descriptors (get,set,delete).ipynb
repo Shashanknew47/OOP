{
 "metadata": {
  "language_info": {
   "codemirror_mode": {
    "name": "ipython",
    "version": 3
   },
   "file_extension": ".py",
   "mimetype": "text/x-python",
   "name": "python",
   "nbconvert_exporter": "python",
   "pygments_lexer": "ipython3",
   "version": "3.8.5-final"
  },
  "orig_nbformat": 2,
  "kernelspec": {
   "name": "python3",
   "display_name": "Python 3.8.5 64-bit",
   "metadata": {
    "interpreter": {
     "hash": "2db524e06e9f5f4ffedc911c917cb75e12dbc923643829bf417064a77eb14d37"
    }
   }
  }
 },
 "nbformat": 4,
 "nbformat_minor": 2,
 "cells": [
  {
   "cell_type": "code",
   "execution_count": 1,
   "metadata": {},
   "outputs": [
    {
     "output_type": "stream",
     "name": "stdout",
     "text": [
      "5\n10\n"
     ]
    }
   ],
   "source": [
    "# check the video : https://www.youtube.com/watch?v=Bg_cEIkOS9g&feature=emb_logo\n",
    "\n",
    "\"\"\"\n",
    "Source : \"https://docs.python.org/3/howto/descriptor.html\"\n",
    "Descriptors let objects customize attribute lookup, storage, and deletion.\n",
    "\n",
    "\"\"\"\n",
    "# Ten class descriptor that always returns 10 from it's __get__ method. \n",
    "\n",
    "class Ten:\n",
    "    def __get__(self,obj,objtype=None):\n",
    "        return 10\n",
    "\n",
    "# To use descriptor, it must be stored as a class variable in another class. \n",
    "class A:\n",
    "    x = 5\n",
    "    y = Ten()\n",
    "\n",
    "# Below sesson show us the difference between normal attribute look up and descripor look up. \n",
    "\n",
    "a = A()\n",
    "\n",
    "print(a.x)\n",
    "print(a.y)\n",
    "\n",
    "\n",
    "\"\"\"\n",
    "In the a.x attribute lookup, the dot operator finds the key x and the value 5 in the class dictionary. In the a.y lookup, the dot operator finds a descriptor instance, recognized by its __get__ method, and calls that method which returns 10.\n",
    "\n",
    "Note that the value 10 is not stored in either the class dictionary or the instance dictionary. Instead, the value 10 is computed on demand.\n",
    "\"\"\""
   ]
  },
  {
   "source": [
    "## Dynamic Lookup\n",
    "\n",
    "Interesting descriptors typically run computations instead of returning constants:"
   ],
   "cell_type": "markdown",
   "metadata": {}
  },
  {
   "cell_type": "code",
   "execution_count": 4,
   "metadata": {},
   "outputs": [
    {
     "output_type": "execute_result",
     "data": {
      "text/plain": [
       "13"
      ]
     },
     "metadata": {},
     "execution_count": 4
    }
   ],
   "source": [
    "import os\n",
    "\n",
    "class Directorysize:\n",
    "\n",
    "    def __get__(self,obj,objtype=None):\n",
    "        return len(os.listdir(obj.dirname))\n",
    "\n",
    "class Directory:\n",
    "    size = Directorysize()\n",
    "\n",
    "    def __init__(self,dirname):\n",
    "        self.dirname = dirname\n",
    "\n",
    "    \n",
    "\n",
    "s = Directory('Learn Python')\n",
    "\n",
    "s.size\n",
    "    "
   ]
  },
  {
   "cell_type": "code",
   "execution_count": null,
   "metadata": {},
   "outputs": [],
   "source": []
  }
 ]
}