{
 "metadata": {
  "language_info": {
   "codemirror_mode": {
    "name": "ipython",
    "version": 3
   },
   "file_extension": ".py",
   "mimetype": "text/x-python",
   "name": "python",
   "nbconvert_exporter": "python",
   "pygments_lexer": "ipython3",
   "version": "3.8.5-final"
  },
  "orig_nbformat": 2,
  "kernelspec": {
   "name": "python3",
   "display_name": "Python 3.8.5 64-bit",
   "metadata": {
    "interpreter": {
     "hash": "2db524e06e9f5f4ffedc911c917cb75e12dbc923643829bf417064a77eb14d37"
    }
   }
  }
 },
 "nbformat": 4,
 "nbformat_minor": 2,
 "cells": [
  {
   "cell_type": "code",
   "execution_count": 26,
   "metadata": {},
   "outputs": [
    {
     "output_type": "stream",
     "name": "stdout",
     "text": [
      "{}\n{'firstName': 'Shashank'}\nShashank\n"
     ]
    }
   ],
   "source": [
    "class First_class:\n",
    "    t = 3\n",
    "\n",
    "class Second_class:\n",
    "    u = 19\n",
    "\n",
    "class Myobject(First_class,Second_class) :\n",
    "    y = 4\n",
    "\n",
    "o = Myobject()\n",
    "print(o.__dict__)\n",
    "\n",
    "o.firstName = 'Shashank'\n",
    "print(o.__dict__)\n",
    "\n",
    "print(o.firstName)"
   ]
  },
  {
   "cell_type": "code",
   "execution_count": 27,
   "metadata": {},
   "outputs": [
    {
     "output_type": "stream",
     "name": "stdout",
     "text": [
      "{'__module__': '__main__', 'y': 4, '__doc__': None}\n-------------------------\n4\n"
     ]
    }
   ],
   "source": [
    "\"\"\"\n",
    "when we call y here first it searched object or intance __dict__ if it does not \n",
    "find there then it will go and search class __dict__ and serach. the way we have\n",
    "find y here.\n",
    "\"\"\"\n",
    "print(o.__class__.__dict__)\n",
    "print('-------------------------')\n",
    "print(o.y)"
   ]
  },
  {
   "cell_type": "code",
   "execution_count": 30,
   "metadata": {},
   "outputs": [
    {
     "output_type": "stream",
     "name": "stdout",
     "text": [
      "{'__module__': '__main__', 't': 3, '__dict__': <attribute '__dict__' of 'First_class' objects>, '__weakref__': <attribute '__weakref__' of 'First_class' objects>, '__doc__': None}\n----------------------------------\n{'__module__': '__main__', 'u': 19, '__dict__': <attribute '__dict__' of 'Second_class' objects>, '__weakref__': <attribute '__weakref__' of 'Second_class' objects>, '__doc__': None}\n---------------------------------\n3\n"
     ]
    }
   ],
   "source": [
    "print(o.__class__.__bases__[0].__dict__)\n",
    "print('----------------------------------')\n",
    "print(o.__class__.__bases__[1].__dict__)\n",
    "print('---------------------------------')\n",
    "print(o.t)"
   ]
  },
  {
   "cell_type": "code",
   "execution_count": 38,
   "metadata": {},
   "outputs": [
    {
     "output_type": "stream",
     "name": "stdout",
     "text": [
      "Called __getattr__\n__getattr__r\n23\n"
     ]
    },
    {
     "output_type": "execute_result",
     "data": {
      "text/plain": [
       "'Here when r is not found out in P in __dict__ then it called __getattr__ method.'"
      ]
     },
     "metadata": {},
     "execution_count": 38
    }
   ],
   "source": [
    "class Probe:\n",
    "    \n",
    "    # def __setattr__(self,attr,value):\n",
    "    #     print('called setattr')\n",
    "\n",
    "    def __getattr__(self,attr):\n",
    "        print('Called __getattr__')\n",
    "        ret = f'__getattr__{attr}'\n",
    "        if attr == 'r':\n",
    "            return ret\n",
    "        else:\n",
    "            raise AttributeError\n",
    "\n",
    "\n",
    "P = Probe()\n",
    "print(P.r)\n",
    "P.u = 23\n",
    "print(P.u)\n",
    "\n",
    "\"Here when r is not found out in P in __dict__ then it called __getattr__ method.\""
   ]
  },
  {
   "cell_type": "code",
   "execution_count": null,
   "metadata": {},
   "outputs": [],
   "source": []
  }
 ]
}