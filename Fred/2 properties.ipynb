{
 "cells": [
  {
   "cell_type": "code",
   "execution_count": 14,
   "source": [
    "class Circle:\r\n",
    "    def __init__(self,r):\r\n",
    "        self._radious = r\r\n",
    "\r\n",
    "    @property\r\n",
    "    def radious(self):\r\n",
    "        return self._radious\r\n",
    "\r\n",
    "\r\n",
    "    @radious.setter\r\n",
    "    def radious(self,value):\r\n",
    "        if value < 0:\r\n",
    "            raise ValueError ('radious value can\\'t be 0')\r\n",
    "\r\n",
    "        self._radious = value\r\n",
    "\r\n",
    "    \r\n",
    "    @radious.deleter\r\n",
    "    def radious(self):\r\n",
    "        del self._radious\r\n",
    "\r\n",
    "    \r\n",
    "    @property\r\n",
    "    def area(self):\r\n",
    "        import math \r\n",
    "        return math.pi * 2 * self._radious \r\n",
    "\r\n",
    "\r\n",
    "\r\n",
    "C1 = Circle(5)\r\n",
    "\r\n",
    "print(C1.area)\r\n",
    "\r\n",
    "C1.radious = 3\r\n",
    "\r\n"
   ],
   "outputs": [
    {
     "output_type": "stream",
     "name": "stdout",
     "text": [
      "31.41592653589793\n"
     ]
    }
   ],
   "metadata": {}
  },
  {
   "cell_type": "code",
   "execution_count": 5,
   "source": [],
   "outputs": [
    {
     "output_type": "execute_result",
     "data": {
      "text/plain": [
       "3.141592653589793"
      ]
     },
     "metadata": {},
     "execution_count": 5
    }
   ],
   "metadata": {}
  }
 ],
 "metadata": {
  "orig_nbformat": 4,
  "language_info": {
   "name": "python",
   "version": "3.9.6",
   "mimetype": "text/x-python",
   "codemirror_mode": {
    "name": "ipython",
    "version": 3
   },
   "pygments_lexer": "ipython3",
   "nbconvert_exporter": "python",
   "file_extension": ".py"
  },
  "kernelspec": {
   "name": "python3",
   "display_name": "Python 3.9.6 64-bit"
  },
  "interpreter": {
   "hash": "53a48d540490c1342b6131282b8ad4cfe0e9dc3e24c6f4b148938ffb48df8e93"
  }
 },
 "nbformat": 4,
 "nbformat_minor": 2
}