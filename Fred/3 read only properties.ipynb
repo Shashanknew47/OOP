{
 "cells": [
  {
   "cell_type": "code",
   "execution_count": 30,
   "source": [
    "class Circle:\r\n",
    "    def __init__(self,r):\r\n",
    "        self._radious = r \r\n",
    "        self._area = None \r\n",
    "\r\n",
    "    @property\r\n",
    "    def radious(self): \r\n",
    "        return (self._radious) \r\n",
    "\r\n",
    "    @radious.setter\r\n",
    "    def radious(self,value):\r\n",
    "        self._area = None \r\n",
    "        self._radious = value \r\n",
    "\r\n",
    "    @property\r\n",
    "    def area(self):\r\n",
    "        if self._area is None:\r\n",
    "            import math\r\n",
    "            self._area =  math.pi * (self.radious**2)\r\n",
    "            return self._area\r\n",
    "\r\n",
    "    \r\n",
    "C1 = Circle(4)\r\n",
    "C1.radious = 3\r\n",
    "\r\n",
    "C1.radious\r\n",
    "C1.area\r\n",
    "\r\n",
    "C1.radious = 2\r\n",
    "\r\n",
    "C1.area\r\n",
    "print(C1.__dict__)\r\n",
    "\r\n",
    "C1.area\r\n",
    "\r\n"
   ],
   "outputs": [
    {
     "output_type": "stream",
     "name": "stdout",
     "text": [
      "{'_radious': 2, '_area': 12.566370614359172}\n"
     ]
    }
   ],
   "metadata": {}
  }
 ],
 "metadata": {
  "orig_nbformat": 4,
  "language_info": {
   "name": "python",
   "version": "3.9.6",
   "mimetype": "text/x-python",
   "codemirror_mode": {
    "name": "ipython",
    "version": 3
   },
   "pygments_lexer": "ipython3",
   "nbconvert_exporter": "python",
   "file_extension": ".py"
  },
  "kernelspec": {
   "name": "python3",
   "display_name": "Python 3.9.6 64-bit"
  },
  "interpreter": {
   "hash": "53a48d540490c1342b6131282b8ad4cfe0e9dc3e24c6f4b148938ffb48df8e93"
  }
 },
 "nbformat": 4,
 "nbformat_minor": 2
}