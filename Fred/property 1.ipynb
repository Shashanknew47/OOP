{
 "cells": [
  {
   "cell_type": "code",
   "execution_count": 12,
   "source": [
    "p = property(lambda self: 'getting property')\r\n",
    "p"
   ],
   "outputs": [
    {
     "output_type": "execute_result",
     "data": {
      "text/plain": [
       "<property at 0x273d57aac20>"
      ]
     },
     "metadata": {},
     "execution_count": 12
    }
   ],
   "metadata": {}
  },
  {
   "cell_type": "code",
   "execution_count": 13,
   "source": [
    "property.__dict__"
   ],
   "outputs": [
    {
     "output_type": "execute_result",
     "data": {
      "text/plain": [
       "mappingproxy({'__getattribute__': <slot wrapper '__getattribute__' of 'property' objects>,\n",
       "              '__get__': <slot wrapper '__get__' of 'property' objects>,\n",
       "              '__set__': <slot wrapper '__set__' of 'property' objects>,\n",
       "              '__delete__': <slot wrapper '__delete__' of 'property' objects>,\n",
       "              '__init__': <slot wrapper '__init__' of 'property' objects>,\n",
       "              '__new__': <function property.__new__(*args, **kwargs)>,\n",
       "              'getter': <method 'getter' of 'property' objects>,\n",
       "              'setter': <method 'setter' of 'property' objects>,\n",
       "              'deleter': <method 'deleter' of 'property' objects>,\n",
       "              'fget': <member 'fget' of 'property' objects>,\n",
       "              'fset': <member 'fset' of 'property' objects>,\n",
       "              'fdel': <member 'fdel' of 'property' objects>,\n",
       "              '__doc__': <member '__doc__' of 'property' objects>,\n",
       "              '__isabstractmethod__': <attribute '__isabstractmethod__' of 'property' objects>})"
      ]
     },
     "metadata": {},
     "execution_count": 13
    }
   ],
   "metadata": {}
  },
  {
   "cell_type": "code",
   "execution_count": 14,
   "source": [
    "class Person:\r\n",
    "    def __init__(self,name):\r\n",
    "        self._name = name\r\n",
    " \r\n",
    "    def name(self):\r\n",
    "        print('with fget')\r\n",
    "        return self._name\r\n",
    "\r\n",
    "    name = property(name)\r\n",
    "\r\n",
    "\r\n",
    "p = Person('John')\r\n",
    "print(p.__dict__)\r\n",
    "\r\n",
    "p.name\r\n"
   ],
   "outputs": [
    {
     "output_type": "stream",
     "name": "stdout",
     "text": [
      "{'_name': 'John'}\n",
      "with fget\n"
     ]
    },
    {
     "output_type": "execute_result",
     "data": {
      "text/plain": [
       "'John'"
      ]
     },
     "metadata": {},
     "execution_count": 14
    }
   ],
   "metadata": {}
  },
  {
   "cell_type": "code",
   "execution_count": 15,
   "source": [
    "def get_prop(self):\r\n",
    "    print('getter called')\r\n",
    "\r\n",
    "def set_prop(self,value):\r\n",
    "    print('setter called')\r\n",
    "\r\n",
    "def del_prop(self):\r\n",
    "    print('deleter called')\r\n",
    "\r\n",
    "p = property(get_prop)\r\n",
    "p = p.setter(set_prop)\r\n",
    "p = p.deleter(del_prop)\r\n",
    "\r\n",
    "class Person:\r\n",
    "    name = p\r\n",
    "\r\n",
    "person = Person()\r\n",
    "person.name\r\n",
    "person.name = 'hello'\r\n",
    "\r\n",
    "del person.name"
   ],
   "outputs": [
    {
     "output_type": "stream",
     "name": "stdout",
     "text": [
      "getter called\n",
      "setter called\n",
      "deleter called\n"
     ]
    }
   ],
   "metadata": {}
  },
  {
   "cell_type": "code",
   "execution_count": 16,
   "source": [
    "def name(self):\r\n",
    "    print('getter ...')\r\n",
    "\r\n",
    "print(hex(id(name)))"
   ],
   "outputs": [
    {
     "output_type": "stream",
     "name": "stdout",
     "text": [
      "0x273d6503940\n"
     ]
    }
   ],
   "metadata": {}
  },
  {
   "cell_type": "code",
   "execution_count": 18,
   "source": [
    "name = property(name)\r\n",
    "type(name),hex(id(name)),hex(id(name.fget))"
   ],
   "outputs": [
    {
     "output_type": "execute_result",
     "data": {
      "text/plain": [
       "(property, '0x273d644a9a0', '0x273d583a180')"
      ]
     },
     "metadata": {},
     "execution_count": 18
    }
   ],
   "metadata": {}
  },
  {
   "cell_type": "code",
   "execution_count": 22,
   "source": [
    "name = name.setter(name)\r\n",
    "type(name),hex(id(name)),hex(id(name.fget)),hex(id(name.fset))"
   ],
   "outputs": [
    {
     "output_type": "execute_result",
     "data": {
      "text/plain": [
       "(property, '0x273d644aae0', '0x273d583a180', '0x273d644a3b0')"
      ]
     },
     "metadata": {},
     "execution_count": 22
    }
   ],
   "metadata": {}
  },
  {
   "cell_type": "code",
   "execution_count": 27,
   "source": [
    "class Person:\r\n",
    "    def __init__(self,_name):\r\n",
    "        self._name = _name\r\n",
    "\r\n",
    "    @property\r\n",
    "    def name(self):\r\n",
    "        return self._name\r\n",
    "    \r\n",
    "    @name.setter\r\n",
    "    def name(self,value):\r\n",
    "        self._name = value\r\n",
    "\r\n",
    "    @name.deleter\r\n",
    "    def name(self):\r\n",
    "        del self._name\r\n",
    "\r\n",
    "\r\n",
    "P1 = Person('Shashank')\r\n",
    "P1\r\n"
   ],
   "outputs": [
    {
     "output_type": "execute_result",
     "data": {
      "text/plain": [
       "{'_name': 'John'}"
      ]
     },
     "metadata": {},
     "execution_count": 27
    }
   ],
   "metadata": {}
  }
 ],
 "metadata": {
  "kernelspec": {
   "name": "python3",
   "display_name": "Python 3.9.6 64-bit"
  },
  "language_info": {
   "codemirror_mode": {
    "name": "ipython",
    "version": 3
   },
   "file_extension": ".py",
   "mimetype": "text/x-python",
   "name": "python",
   "nbconvert_exporter": "python",
   "pygments_lexer": "ipython3",
   "version": "3.9.6"
  },
  "metadata": {
   "interpreter": {
    "hash": "53a48d540490c1342b6131282b8ad4cfe0e9dc3e24c6f4b148938ffb48df8e93"
   }
  },
  "interpreter": {
   "hash": "53a48d540490c1342b6131282b8ad4cfe0e9dc3e24c6f4b148938ffb48df8e93"
  }
 },
 "nbformat": 4,
 "nbformat_minor": 2
}