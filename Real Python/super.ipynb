{
 "metadata": {
  "language_info": {
   "codemirror_mode": {
    "name": "ipython",
    "version": 3
   },
   "file_extension": ".py",
   "mimetype": "text/x-python",
   "name": "python",
   "nbconvert_exporter": "python",
   "pygments_lexer": "ipython3",
   "version": "3.8.5-final"
  },
  "orig_nbformat": 2,
  "kernelspec": {
   "name": "python3",
   "display_name": "Python 3.8.5 64-bit",
   "metadata": {
    "interpreter": {
     "hash": "2db524e06e9f5f4ffedc911c917cb75e12dbc923643829bf417064a77eb14d37"
    }
   }
  }
 },
 "nbformat": 4,
 "nbformat_minor": 2,
 "cells": [
  {
   "cell_type": "code",
   "execution_count": null,
   "metadata": {},
   "outputs": [],
   "source": [
    "class Rectangle:\n",
    "    def __init__(self,length,width):\n",
    "        self.length = length\n",
    "        self.width = width\n",
    "    \n",
    "    def area(self):\n",
    "        return self.width*self.length\n",
    "\n",
    "    def perimeter(self):\n",
    "        return 2*(self.length + self.width)\n",
    "\n",
    "\n",
    "class Square:\n",
    "    def __init__(self):\n",
    "        self.length = length\n",
    "    \n",
    "    def area(self):\n",
    "        return self.length*self.length\n",
    "\n",
    "    def perimeter(self):\n",
    "        return 4*self.length\n",
    "\n",
    "\"\"\"\n",
    "In the above example, you have 2 shapes that are related to each other but our code does not \n",
    "reflect any relationship here. \n",
    "\n",
    "   By using inheritance,we can reduce amount of code while simultaneously reflecting real world\n",
    "   relationship between Rectangle and square.  juse see the below example. \n",
    "\"\"\""
   ]
  },
  {
   "cell_type": "code",
   "execution_count": 9,
   "metadata": {},
   "outputs": [
    {
     "output_type": "stream",
     "name": "stdout",
     "text": [
      "16\n9\n27\n"
     ]
    }
   ],
   "source": [
    "class Rectangle:\n",
    "    def __init__(self,length,width):\n",
    "        self.length = length\n",
    "        self.width = width\n",
    "    \n",
    "    def area(self):\n",
    "        return self.width*self.length\n",
    "\n",
    "    def perimeter(self):\n",
    "        return 2*(self.length + self.width)\n",
    "\n",
    "\n",
    "class Square(Rectangle):\n",
    "    def __init__(self,lenght):\n",
    "        super().__init__(lenght,lenght)\n",
    "\n",
    "\n",
    "class Cube(Square):\n",
    "    def surface_area(self):\n",
    "        face_area = super().area()\n",
    "        return face_area*6\n",
    "\n",
    "    def volume(self):\n",
    "        face_area = self.area()\n",
    "        return face_area * self.length\n",
    "\n",
    "\n",
    "\n",
    "S = Square(4)\n",
    "print(S.area())\n",
    "\n",
    "C = Cube(3)\n",
    "print(C.area())\n",
    "print(C.volume())\n",
    "\n"
   ]
  },
  {
   "cell_type": "code",
   "execution_count": null,
   "metadata": {},
   "outputs": [],
   "source": []
  },
  {
   "cell_type": "code",
   "execution_count": 19,
   "metadata": {},
   "outputs": [
    {
     "output_type": "stream",
     "name": "stdout",
     "text": [
      "Square\nRectangle\n"
     ]
    }
   ],
   "source": [
    "\"In above example apart from __init__ method, we don't se any use of calling methods with super of parernt class as self is also is doing the same thing. Here below example we will see a difference\"\n",
    "\n",
    "class Rectangle:\n",
    "    def __init__(self,length,width):\n",
    "        self.length = length\n",
    "        self.width = width\n",
    "    \n",
    "    def area(self):\n",
    "        return self.width*self.length\n",
    "\n",
    "    def perimeter(self):\n",
    "        return 2*(self.length + self.width)\n",
    "\n",
    "    def who_am_i(self):\n",
    "        return 'Rectangle'\n",
    "\n",
    "\n",
    "class Square(Rectangle):\n",
    "    def __init__(self,lenght):\n",
    "        super().__init__(lenght,lenght)\n",
    "\n",
    "    def who_am_i(self):\n",
    "        return 'Square'\n",
    "\n",
    "\n",
    "class Cube(Square):\n",
    "    def surface_area(self):\n",
    "        face_area = super().area()\n",
    "        return face_area*6\n",
    "\n",
    "    def volume(self):\n",
    "        face_area = self.area()\n",
    "        return face_area * self.length\n",
    "\n",
    "    def who_am_i(self):\n",
    "        return 'Cube'\n",
    "\n",
    "\n",
    "C1 = Cube(3)\n",
    "C1.who_am_i()\n",
    "\n",
    "print(super(Cube,C1).who_am_i())\n",
    "print(super(Square,C1).who_am_i())\n",
    "\n"
   ]
  },
  {
   "cell_type": "code",
   "execution_count": null,
   "metadata": {},
   "outputs": [],
   "source": [
    "class Triangle:\n",
    "    def __init__(self,base,height):\n",
    "        self.base = base\n",
    "        self.height = height\n",
    "    \n",
    "    def area(self):\n",
    "        return .5*self.base*self.height\n",
    "\n",
    "    def what_am_i(self):\n",
    "        return 'Triangle'\n",
    "\n",
    "class RightPyramaid(Triangle,Square):\n",
    "    def __init__(self,base,slant_height):\n",
    "        self.base = base\n",
    "        self.slant_height = slant_height\n",
    "    \n",
    "    def who_am_i(self):\n",
    "        return 'RightPyramaid'\n",
    "\n",
    "    \n"
   ]
  },
  {
   "cell_type": "code",
   "execution_count": 3,
   "metadata": {},
   "outputs": [
    {
     "output_type": "stream",
     "name": "stdout",
     "text": [
      "Forward\nB\nA\nX\n---------------\nBackward\nX\nB\nA\n"
     ]
    }
   ],
   "source": [
    "class A:\n",
    "    def __init__(self):\n",
    "        print('A')\n",
    "        super().__init__()\n",
    "    \n",
    "class B(A):\n",
    "    def __init__(self):\n",
    "        print('B')\n",
    "        super().__init__()\n",
    "\n",
    "class X:\n",
    "    def __init__(self):\n",
    "        print('X')\n",
    "        super().__init__()\n",
    "\n",
    "class Forward(B,X):\n",
    "    def __init__(self):\n",
    "        print('Forward')\n",
    "        super().__init__()\n",
    "\n",
    "class Backward(X,B):\n",
    "    def __init__(self):\n",
    "        print('Backward')\n",
    "        super().__init__()\n",
    "\n",
    "forward = Forward()\n",
    "print('---------------')\n",
    "backward = Backward()"
   ]
  },
  {
   "cell_type": "code",
   "execution_count": 3,
   "metadata": {},
   "outputs": [
    {
     "output_type": "execute_result",
     "data": {
      "text/plain": [
       "['__class__',\n",
       " '__delattr__',\n",
       " '__dir__',\n",
       " '__doc__',\n",
       " '__eq__',\n",
       " '__format__',\n",
       " '__ge__',\n",
       " '__getattribute__',\n",
       " '__gt__',\n",
       " '__hash__',\n",
       " '__init__',\n",
       " '__init_subclass__',\n",
       " '__le__',\n",
       " '__lt__',\n",
       " '__ne__',\n",
       " '__new__',\n",
       " '__reduce__',\n",
       " '__reduce_ex__',\n",
       " '__repr__',\n",
       " '__setattr__',\n",
       " '__sizeof__',\n",
       " '__str__',\n",
       " '__subclasshook__']"
      ]
     },
     "metadata": {},
     "execution_count": 3
    }
   ],
   "source": [
    "class trial:\n",
    "    pass\n",
    "\n",
    "T1 = trial()\n",
    "dir(T1.__class__.__base__)"
   ]
  }
 ]
}