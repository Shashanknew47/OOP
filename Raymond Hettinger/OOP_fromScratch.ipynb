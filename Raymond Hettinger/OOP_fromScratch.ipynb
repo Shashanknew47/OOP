{
 "metadata": {
  "language_info": {
   "codemirror_mode": {
    "name": "ipython",
    "version": 3
   },
   "file_extension": ".py",
   "mimetype": "text/x-python",
   "name": "python",
   "nbconvert_exporter": "python",
   "pygments_lexer": "ipython3",
   "version": "3.9.1-final"
  },
  "orig_nbformat": 2,
  "kernelspec": {
   "name": "python3",
   "display_name": "Python 3.9.1 64-bit",
   "metadata": {
    "interpreter": {
     "hash": "53a48d540490c1342b6131282b8ad4cfe0e9dc3e24c6f4b148938ffb48df8e93"
    }
   }
  }
 },
 "nbformat": 4,
 "nbformat_minor": 2,
 "cells": [
  {
   "source": [
    "## Namespaces\n",
    "\n",
    "\"Namespaces are containers of storing in key value format\" Ex. of Namespaces below : \n",
    "- Globals\n",
    "- Dict\n",
    "- Simplenamespace"
   ],
   "cell_type": "markdown",
   "metadata": {}
  },
  {
   "cell_type": "code",
   "execution_count": 27,
   "metadata": {},
   "outputs": [
    {
     "output_type": "execute_result",
     "data": {
      "text/plain": [
       "{'Shashank': 'USA'}"
      ]
     },
     "metadata": {},
     "execution_count": 27
    }
   ],
   "source": [
    "d = dict()\n",
    "d['Shashank'] = 'USA'\n",
    "d"
   ]
  },
  {
   "cell_type": "code",
   "execution_count": 28,
   "metadata": {},
   "outputs": [
    {
     "output_type": "stream",
     "name": "stdout",
     "text": [
      "10\n"
     ]
    }
   ],
   "source": [
    "x = 10     # Any variable we save which is not in any specific namespace is part of global namespace.\n",
    "print(globals()['x'])"
   ]
  },
  {
   "cell_type": "code",
   "execution_count": 29,
   "metadata": {},
   "outputs": [
    {
     "output_type": "execute_result",
     "data": {
      "text/plain": [
       "12"
      ]
     },
     "metadata": {},
     "execution_count": 29
    }
   ],
   "source": [
    "globals()['x'] = 12\n",
    "x"
   ]
  },
  {
   "cell_type": "code",
   "execution_count": 30,
   "metadata": {},
   "outputs": [
    {
     "output_type": "stream",
     "name": "stdout",
     "text": [
      "223\n"
     ]
    },
    {
     "output_type": "execute_result",
     "data": {
      "text/plain": [
       "namespace(x=223, y=23)"
      ]
     },
     "metadata": {},
     "execution_count": 30
    }
   ],
   "source": [
    "from types import SimpleNamespace\n",
    "ns = SimpleNamespace(x=223,y=23)\n",
    "print(ns.x)\n",
    "ns"
   ]
  },
  {
   "source": [
    "### How dictionanary works"
   ],
   "cell_type": "markdown",
   "metadata": {}
  },
  {
   "cell_type": "code",
   "execution_count": 31,
   "metadata": {},
   "outputs": [
    {
     "output_type": "stream",
     "name": "stdout",
     "text": [
      "8\n",
      "[[], [], [], [], [], [], [], []]\n",
      "[[], [], [], [], [], [], [], []]\n"
     ]
    }
   ],
   "source": [
    "n = 8\n",
    "\n",
    "karr = [[] for i in range(n)]\n",
    "varr = [[] for i in range(n)]\n",
    "\n",
    "print(n)\n",
    "print(karr)\n",
    "print(varr)"
   ]
  },
  {
   "cell_type": "code",
   "execution_count": 32,
   "metadata": {},
   "outputs": [
    {
     "output_type": "stream",
     "name": "stdout",
     "text": [
      "i = 5\nkarr : [[], [], [], [], [], ['Shashank'], [], []]\nvarr : [[], [], [], [], [], ['USA'], [], []]\n"
     ]
    }
   ],
   "source": [
    "key,value = 'Shashank','USA'\n",
    "\n",
    "i = hash(key)%n\n",
    "print('i =',i)\n",
    "\n",
    "karr[i].append(key)\n",
    "varr[i].append(value)\n",
    "\n",
    "print('karr :',karr)\n",
    "print('varr :', varr)"
   ]
  },
  {
   "cell_type": "code",
   "execution_count": null,
   "metadata": {},
   "outputs": [],
   "source": []
  }
 ]
}