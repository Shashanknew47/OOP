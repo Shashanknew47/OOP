{
 "metadata": {
  "language_info": {
   "codemirror_mode": {
    "name": "ipython",
    "version": 3
   },
   "file_extension": ".py",
   "mimetype": "text/x-python",
   "name": "python",
   "nbconvert_exporter": "python",
   "pygments_lexer": "ipython3",
   "version": "3.9.1-final"
  },
  "orig_nbformat": 2,
  "kernelspec": {
   "name": "python3",
   "display_name": "Python 3.9.1 64-bit",
   "metadata": {
    "interpreter": {
     "hash": "53a48d540490c1342b6131282b8ad4cfe0e9dc3e24c6f4b148938ffb48df8e93"
    }
   }
  }
 },
 "nbformat": 4,
 "nbformat_minor": 2,
 "cells": [
  {
   "cell_type": "code",
   "execution_count": 12,
   "metadata": {},
   "outputs": [
    {
     "output_type": "stream",
     "name": "stdout",
     "text": [
      "data dataDescriptor __get__\n0\ndata dataDescriptor __set__\n===================================\n===================================\n"
     ]
    }
   ],
   "source": [
    "class DataDesctioptor(object):\n",
    "\n",
    "    def __init__(self):\n",
    "        self.value = 0\n",
    "\n",
    "    def __get__(self,instance,cls):\n",
    "        print('data dataDescriptor __get__')\n",
    "        return self.value\n",
    "    \n",
    "    def __set__(self,instance,value):\n",
    "        print('data dataDescriptor __set__')\n",
    "        try:\n",
    "            self.value = value.upper()\n",
    "        except AttributeError:\n",
    "            self.value = value\n",
    "\n",
    "    def __delete__(self,instance):\n",
    "        print('Don\\'t like to be deleted' )\n",
    "\n",
    "\n",
    "\n",
    "class Strange(object):\n",
    "    attr = DataDesctioptor()\n",
    "\n",
    "\n",
    "s = Strange()\n",
    "\n",
    "print(s.attr)\n",
    "s.attr = 33\n",
    "\n",
    "print('===================================')\n",
    "print('===================================')\n",
    "\n"
   ]
  },
  {
   "cell_type": "code",
   "execution_count": 18,
   "metadata": {},
   "outputs": [
    {
     "output_type": "stream",
     "name": "stdout",
     "text": [
      "data dataDescriptor __get__\n"
     ]
    },
    {
     "output_type": "execute_result",
     "data": {
      "text/plain": [
       "33"
      ]
     },
     "metadata": {},
     "execution_count": 18
    }
   ],
   "source": [
    "type(s).__dict__['attr'].__get__(s,type(s))"
   ]
  },
  {
   "cell_type": "code",
   "execution_count": 20,
   "metadata": {},
   "outputs": [
    {
     "output_type": "execute_result",
     "data": {
      "text/plain": [
       "mappingproxy({'__module__': '__main__',\n",
       "              'attr': <__main__.DataDesctioptor at 0x27af0ab9dc0>,\n",
       "              '__dict__': <attribute '__dict__' of 'Strange' objects>,\n",
       "              '__weakref__': <attribute '__weakref__' of 'Strange' objects>,\n",
       "              '__doc__': None})"
      ]
     },
     "metadata": {},
     "execution_count": 20
    }
   ],
   "source": [
    "type(s).__dict__"
   ]
  }
 ]
}