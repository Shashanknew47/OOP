{
 "cells": [
  {
   "cell_type": "code",
   "execution_count": 24,
   "metadata": {},
   "outputs": [
    {
     "name": "stdout",
     "output_type": "stream",
     "text": [
      "<__main__.Point object at 0x000002037679DF98>\n",
      "<__main__.Point object at 0x000002037679DDD8>\n"
     ]
    },
    {
     "data": {
      "text/plain": [
       "False"
      ]
     },
     "execution_count": 24,
     "metadata": {},
     "output_type": "execute_result"
    }
   ],
   "source": [
    "#A class is blueprint to create objects\n",
    "class Point:\n",
    "    pass\n",
    "'''\n",
    "To create a object from class we need to instantiate them.These below are 2 instances P1 and P2. When we pass them in a class then \n",
    "it become a different instances. \n",
    "\n",
    ">> Class are like factories and instances are product of these factries.\n",
    "'''\n",
    "P1 = Point()\n",
    "P2 = Point()\n",
    "\n",
    "print(P1)\n",
    "print(P2)\n",
    "\n",
    "# AS they are different object.So,they are not same.\n",
    "P1 == P2"
   ]
  },
  {
   "cell_type": "code",
   "execution_count": 25,
   "metadata": {},
   "outputs": [
    {
     "name": "stdout",
     "output_type": "stream",
     "text": [
      "5\n",
      "10\n"
     ]
    }
   ],
   "source": [
    "# We can create instance variable too. \n",
    "P1.x = 5\n",
    "P2.y = 10\n",
    "\n",
    "print(P1.x)\n",
    "print(P2.y)\n",
    "\n"
   ]
  },
  {
   "cell_type": "code",
   "execution_count": 61,
   "metadata": {},
   "outputs": [
    {
     "name": "stdout",
     "output_type": "stream",
     "text": [
      "20 and,10\n"
     ]
    },
    {
     "data": {
      "text/plain": [
       "10"
      ]
     },
     "execution_count": 61,
     "metadata": {},
     "output_type": "execute_result"
    }
   ],
   "source": [
    "class Point():\n",
    "    def getx(self):\n",
    "        return self.x\n",
    "\n",
    "P1 = Point()\n",
    "P2 = Point()   \n",
    "P1.x = 10\n",
    "P2.x = 20\n",
    "'''\n",
    "# IN a instance \"self\" becomes a representation of a instance.In below example P1.getx() is equal to P1.x bez when we wil\n",
    "look in class return self.x equal to P1.x \n",
    "'''\n",
    "print(f'{P2.getx()} and,{P1.getx()}')\n",
    "\n",
    "#We can methods through class also like this way which will give the result in same woy P1.getx().In backgroud P1.getx()\n",
    "#transfer into Point.getx(P1). here P1 act in place of  self. \n",
    "Point.getx(P1)"
   ]
  },
  {
   "cell_type": "code",
   "execution_count": 19,
   "metadata": {},
   "outputs": [
    {
     "name": "stdout",
     "output_type": "stream",
     "text": [
      "Shashank Jain\n"
     ]
    }
   ],
   "source": [
    "#Special method constructor  __init__ : We use this to add arguments for users. So, that users could add inputs. \n",
    "class Employee:\n",
    "    def __init__(self,first,last):\n",
    "        self.first = first\n",
    "        self.last = last\n",
    "        \n",
    "    def __str__(self):\n",
    "        return f'{self.first} {self.last}'\n",
    "\n",
    "\n",
    "E1 = Employee('Shashank','Jain')\n",
    "print(E1)\n",
    "\n",
    "\n"
   ]
  },
  {
   "cell_type": "code",
   "execution_count": 28,
   "metadata": {},
   "outputs": [
    {
     "data": {
      "text/html": [
       "<iframe width=\"560\" height=\"315\" src=\"https://pythonprogramming.net/zip-intermediate-python-tutorial/\" frameborder=\"0\"> allowfullscreen></iframe>\n"
      ],
      "text/plain": [
       "<IPython.core.display.HTML object>"
      ]
     },
     "metadata": {},
     "output_type": "display_data"
    }
   ],
   "source": [
    "%%HTML\n",
    "<iframe width=\"560\" height=\"315\" src=\"https://pythonprogramming.net/zip-intermediate-python-tutorial/\" frameborder=\"0\"> allowfullscreen></iframe>\n"
   ]
  },
  {
   "cell_type": "code",
   "execution_count": 36,
   "metadata": {},
   "outputs": [
    {
     "name": "stdout",
     "output_type": "stream",
     "text": [
      "******************************\n",
      "******************************\n",
      "******************************\n",
      "******************************\n",
      "(1, 'Sunday', 'a')\n",
      "(2, 'Monday', 'b')\n",
      "(3, 'Tuesday', 'c')\n",
      "(4, 'Wednesday', 'd')\n",
      "(5, 'Thrusday', 'e')\n",
      "******************************\n",
      "******************************\n",
      "1 and Sunday\n",
      "2 and Monday\n",
      "3 and Tuesday\n",
      "4 and Wednesday\n",
      "5 and Thrusday\n"
     ]
    }
   ],
   "source": [
    "#Zip function : If you want to merger 2 or more iterable data in one single data.\n",
    "\n",
    "#print(zip(number,days,article)) provides an object which is iterable.\n",
    "\n",
    "Number = [1,2,3,4,5]\n",
    "Days = ['Sunday','Monday','Tuesday','Wednesday','Thrusday']\n",
    "article = ['a','b','c','d','e']\n",
    "\n",
    "\n",
    "print(\"******************************\")\n",
    "print(\"******************************\")\n",
    "\n",
    "#print(zip(Number,Days,article))\n",
    "\n",
    "print(\"******************************\")\n",
    "print(\"******************************\")\n",
    "\n",
    "for a in zip(Number,Days,article):\n",
    "    print(a)\n",
    "\n",
    "print(\"******************************\")\n",
    "print(\"******************************\")\n",
    "\n",
    "for a,b,c in zip(Number,Days,article):\n",
    "    print(f'{a} and {b}')"
   ]
  },
  {
   "cell_type": "code",
   "execution_count": 11,
   "metadata": {},
   "outputs": [
    {
     "name": "stdout",
     "output_type": "stream",
     "text": [
      "8\n",
      "Cherry\n",
      "Blueberry\n",
      "Apple\n"
     ]
    }
   ],
   "source": [
    "#Sorting list of instances\n",
    "class Fruit():\n",
    "    def __init__(self,name,price):\n",
    "        self.name = name\n",
    "        self.price = price\n",
    "    def priority(self):\n",
    "        return self.price\n",
    "\n",
    "F1 = Fruit('Cherry',8)\n",
    "print(F1.priority())\n",
    "\n",
    "L = [Fruit('Cherry',9),Fruit('Apple',55),Fruit('Blueberry',32)]\n",
    "\n",
    "que = sorted(L,key=Fruit.priority)\n",
    "\n",
    "for q in que:\n",
    "    print(q.name)\n",
    "    \n",
    "    \n"
   ]
  },
  {
   "source": [
    "#Main difference between class and instance variable is that classs variable remain same in all the instance where as instance\n",
    "#variable changes with every instance.\n",
    "#Note:just like instance variable classe variable also could be accessed by self(instance) or class name. \n",
    "#Not: if we want to check an attribute of an instance first it will check whther that instance contains that attribute\n",
    "#or not then it will check with class and then any class wich it inherits.\n",
    "\n",
    "\n",
    "\n"
   ],
   "cell_type": "markdown",
   "metadata": {}
  },
  {
   "cell_type": "code",
   "execution_count": null,
   "metadata": {},
   "outputs": [],
   "source": []
  }
 ],
 "metadata": {
  "kernelspec": {
   "display_name": "Python 3",
   "language": "python",
   "name": "python3"
  },
  "language_info": {
   "codemirror_mode": {
    "name": "ipython",
    "version": 3
   },
   "file_extension": ".py",
   "mimetype": "text/x-python",
   "name": "python",
   "nbconvert_exporter": "python",
   "pygments_lexer": "ipython3",
   "version": "3.7.1"
  }
 },
 "nbformat": 4,
 "nbformat_minor": 2
}