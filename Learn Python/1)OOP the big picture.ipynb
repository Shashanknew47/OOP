{
 "metadata": {
  "language_info": {
   "codemirror_mode": {
    "name": "ipython",
    "version": 3
   },
   "file_extension": ".py",
   "mimetype": "text/x-python",
   "name": "python",
   "nbconvert_exporter": "python",
   "pygments_lexer": "ipython3",
   "version": "3.9.6"
  },
  "orig_nbformat": 2,
  "kernelspec": {
   "name": "python3",
   "display_name": "Python 3.9.6 64-bit"
  },
  "interpreter": {
   "hash": "53a48d540490c1342b6131282b8ad4cfe0e9dc3e24c6f4b148938ffb48df8e93"
  }
 },
 "nbformat": 4,
 "nbformat_minor": 2,
 "cells": [
  {
   "cell_type": "code",
   "execution_count": 16,
   "source": [
    "\"\"\"\r\n",
    "Class are essential factories for generating one or more instances(object).\" \r\n",
    "\r\n",
    "Their attributes provide behaviour - data and fuctions. That is \r\n",
    "inherited by all the instances genegenrated from them.\r\n",
    "\r\n",
    "  - Each class statement generates a new class object.\r\n",
    "  - Eact time a class is called, it generates a new instance object with a distinct namespace.\r\n",
    "    Each object genegenrated from class has access to the class attributes and get  namespace \r\n",
    "    of it's own, for  data that varies as per object.\r\n",
    "  - Instance are autometically linked to the class form which they are created.\r\n",
    "  - Calsses are autometically linked to their superclass according to way we list them \r\n",
    "    in parentheses (left to right order.)\r\n",
    "  - Operator overloading : classes an define objects that reposnd to the sorts of operations on built type.\r\n",
    "\"\"\"\r\n",
    "None"
   ],
   "outputs": [],
   "metadata": {}
  },
  {
   "cell_type": "code",
   "execution_count": 2,
   "source": [
    "\"\"\"\r\n",
    "Instances: Represent the concrete items in a program domain. Their attributes record data that varies per\r\n",
    "specific object.\r\n",
    "\"\"\"\""
   ],
   "outputs": [],
   "metadata": {}
  },
  {
   "cell_type": "markdown",
   "source": [
    "### Attribute inheritance search\n",
    "\n",
    "OOp story in python boil down to this expression \n",
    "object.Attribute\n",
    "\n",
    "Attribute fetches are simply tree searches. the term inheritance is applied because objects lower in a ree inherit Attribute attached to the object higher in that tree.  \n",
    "(- First python search Attribute in the namespace of it's own instance. \n",
    " - If it does not find there then it goes in class from which this instance was created.\n",
    " - if it does not find there then it goes and search in those classes from left to right which are is inherrited     it's original class. Ex . in below example IC1.z Attribute is searched first in IC1 namespace, if it does \n",
    "   not find there then it will go to search in class C1 Attribute and if it does not find it there then it will\n",
    "   go search from class Attributes of C3. as it find z Attribute in class C3. So, it will stop it search.)\n"
   ],
   "metadata": {}
  },
  {
   "cell_type": "code",
   "execution_count": 2,
   "source": [
    "class C2:\r\n",
    "    x = 23\r\n",
    "    z = 27\r\n",
    "class C3:\r\n",
    "    w = 33\r\n",
    "    z = 36\r\n",
    "\r\n",
    "class C1(C3,C2):  #note the order of C3 and C2 as per their order inherritance MRO will take place.\r\n",
    "    x = 12\r\n",
    "    y = 23\r\n",
    "\r\n",
    "class C4(C2,C3):\r\n",
    "    x = 12\r\n",
    "    y = 23\r\n",
    "\r\n",
    "\r\n",
    "IC1 = C1()\r\n",
    "\r\n",
    "IC1.name = 'Shashank'\r\n",
    "IC1.name = 'Shafer'\r\n",
    "\r\n",
    "IC3 = C4()\r\n",
    "\r\n",
    "print(IC3)\r\n",
    "print(IC1.z)\r\n",
    "print('************')\r\n",
    "help(IC1)"
   ],
   "outputs": [
    {
     "output_type": "stream",
     "name": "stdout",
     "text": [
      "<__main__.C4 object at 0x000002A4284A3160>\n",
      "36\n",
      "************\n",
      "Help on C1 in module __main__ object:\n",
      "\n",
      "class C1(C3, C2)\n",
      " |  Method resolution order:\n",
      " |      C1\n",
      " |      C3\n",
      " |      C2\n",
      " |      builtins.object\n",
      " |  \n",
      " |  Data and other attributes defined here:\n",
      " |  \n",
      " |  x = 12\n",
      " |  \n",
      " |  y = 23\n",
      " |  \n",
      " |  ----------------------------------------------------------------------\n",
      " |  Data descriptors inherited from C3:\n",
      " |  \n",
      " |  __dict__\n",
      " |      dictionary for instance variables (if defined)\n",
      " |  \n",
      " |  __weakref__\n",
      " |      list of weak references to the object (if defined)\n",
      " |  \n",
      " |  ----------------------------------------------------------------------\n",
      " |  Data and other attributes inherited from C3:\n",
      " |  \n",
      " |  w = 33\n",
      " |  \n",
      " |  z = 36\n",
      "\n"
     ]
    }
   ],
   "metadata": {}
  },
  {
   "cell_type": "code",
   "execution_count": null,
   "source": [
    "\"\"\"\r\n",
    "- Class Attributes: Attributes are usually attached to classed by assingnments made at top level in class        \r\n",
    "                     statement.\r\n",
    "- Instance Attributes: Attributes are usually aatched to intances by assignments to the special agrument passed                          to fuctions coded inside classes, called self.\r\n",
    "\"\"\"\r\n",
    "\r\n",
    "\"\"\"\r\n",
    "  - def appears inside the class is usually known as mehtod.it autometically receives a special first arguemtn- \r\n",
    "    called  self by convention- that provides a hangle back to the instance to process. \r\n",
    " -  methods usually go through this autometically passed -in self argument whenever they neddt to fetch or set \r\n",
    "    attributes to a particular instance being processsed by a mehod call.\r\n",
    "  - Like simple variables, attributes of  instances are not declated ahead of time, but spring into existance         when they are assigned values.  \r\n"
   ],
   "outputs": [],
   "metadata": {}
  },
  {
   "cell_type": "code",
   "execution_count": 14,
   "source": [
    "class C2:\r\n",
    "    x = 23\r\n",
    "    z = 27\r\n",
    "class C3:\r\n",
    "    w = 33\r\n",
    "    z = 36\r\n",
    "\r\n",
    "class C1(C2,C3):\r\n",
    "    def setname(self,who):\r\n",
    "        self.name = who\r\n",
    "\r\n",
    "I1 = C1()\r\n",
    "I2 = C2()\r\n",
    "\r\n",
    "I1.setname('bob')\r\n",
    "I1.name"
   ],
   "outputs": [
    {
     "output_type": "execute_result",
     "data": {
      "text/plain": [
       "'bob'"
      ]
     },
     "metadata": {},
     "execution_count": 14
    }
   ],
   "metadata": {}
  },
  {
   "cell_type": "markdown",
   "source": [
    "### Attribute and function defining outside the class"
   ],
   "metadata": {}
  },
  {
   "cell_type": "code",
   "execution_count": 1,
   "source": [
    "class Employee:\r\n",
    "    def __init__(self,first,last,pay):\r\n",
    "        self.pay_hike = 1.3\r\n",
    "        self.first = first\r\n",
    "        self.last = last\r\n",
    "        self.pay = pay\r\n",
    "    \r\n",
    "    def salary_hike(self):\r\n",
    "         return self.pay *self.pay_hike\r\n",
    "\r\n",
    "E1 = Employee('Shashank','Jain',1000)\r\n",
    "\r\n",
    "#Defining attribute outse the class \r\n",
    "E1.news = \"He is outside the town\"\r\n",
    "\r\n",
    "print(E1.news)\r\n",
    "\r\n",
    "# 1) Defining function outside the class \r\n",
    "def fullname(self):\r\n",
    "    return f'{self.first} {self.last}'\r\n",
    "E1.fullname = fullname    \r\n",
    "print(E1.fullname(E1))\r\n",
    "\r\n",
    "# 2) Defining function outside the class\r\n",
    "def mailid(self):\r\n",
    "    return f'{self.first}.{self.last}@gmail.com'\r\n",
    "\r\n",
    "print(mailid(E1))\r\n",
    "\r\n",
    "Employee.bonus = 200\r\n",
    "\r\n",
    "# Defining bonus for all employees\r\n",
    "def bonusf(cls):\r\n",
    "    cls.bonus = 200\r\n",
    "\r\n",
    "bonusf(Employee)\r\n",
    "\r\n",
    "E1.bonus"
   ],
   "outputs": [
    {
     "output_type": "stream",
     "name": "stdout",
     "text": [
      "He is outside the town\n",
      "Shashank Jain\n",
      "Shashank.Jain@gmail.com\n"
     ]
    },
    {
     "output_type": "execute_result",
     "data": {
      "text/plain": [
       "200"
      ]
     },
     "metadata": {},
     "execution_count": 1
    }
   ],
   "metadata": {}
  },
  {
   "cell_type": "markdown",
   "source": [
    "## Constructor"
   ],
   "metadata": {}
  },
  {
   "cell_type": "code",
   "execution_count": null,
   "source": [
    "\"\"\"\r\n",
    "- If you wants to guarantee that an attribute like name is always set in its instances in a consturctor (init mehtod).\r\n",
    "- Python automatically calls __init__ mehod each time an instance is generated from a class.The new instance \r\n",
    "  is passed in to the self artument of __init__ as usual. other values apart from self listed in parentheses \r\n",
    "  in the class call go to the arguments. \r\n",
    "\"\"\"\r\n"
   ],
   "outputs": [],
   "metadata": {}
  },
  {
   "cell_type": "code",
   "execution_count": 18,
   "source": [
    "class C2:\r\n",
    "    x = 23\r\n",
    "    z = 27\r\n",
    "class C3:\r\n",
    "    w = 33\r\n",
    "    z = 36\r\n",
    "\r\n",
    "\r\n",
    "class C1(C2,C3):\r\n",
    "    def __init__(self,who):\r\n",
    "        self.name  = who\r\n",
    "\r\n",
    "I1  = C1('bob')\r\n",
    "I2  = C1('Sue')\r\n",
    "\r\n",
    "I1.name"
   ],
   "outputs": [
    {
     "output_type": "execute_result",
     "data": {
      "text/plain": [
       "'bob'"
      ]
     },
     "metadata": {},
     "execution_count": 18
    }
   ],
   "metadata": {}
  },
  {
   "cell_type": "markdown",
   "source": [
    "### Polymorphism\n",
    "\n",
    "- Polymorphism means that the meaning of an operation depend on the object being operated on. That is, \n",
    "  code should not care about whan an object is, only what is does. \n",
    "  Here is below kind of example we don't need to worry about that how Company and ComputeSalary defined. \n",
    "  \n",
    "\n",
    "for emp in Company:\n",
    "    print(emp.ComputeSalary())"
   ],
   "metadata": {}
  },
  {
   "cell_type": "code",
   "execution_count": null,
   "source": [],
   "outputs": [],
   "metadata": {}
  }
 ]
}