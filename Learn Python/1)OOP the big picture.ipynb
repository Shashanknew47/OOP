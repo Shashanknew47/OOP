{
 "metadata": {
  "language_info": {
   "codemirror_mode": {
    "name": "ipython",
    "version": 3
   },
   "file_extension": ".py",
   "mimetype": "text/x-python",
   "name": "python",
   "nbconvert_exporter": "python",
   "pygments_lexer": "ipython3",
   "version": "3.8.5-final"
  },
  "orig_nbformat": 2,
  "kernelspec": {
   "name": "python3",
   "display_name": "Python 3.8.5 64-bit",
   "metadata": {
    "interpreter": {
     "hash": "2db524e06e9f5f4ffedc911c917cb75e12dbc923643829bf417064a77eb14d37"
    }
   }
  }
 },
 "nbformat": 4,
 "nbformat_minor": 2,
 "cells": [
  {
   "cell_type": "code",
   "execution_count": 16,
   "metadata": {},
   "outputs": [],
   "source": [
    "\"\"\"\n",
    "Class are essential factories for generating one or more instances(object).\" \n",
    "\n",
    "Their attributes provide behaviour - data and fuctions. That is \n",
    "inherited by all the instances genegenrated from them.\n",
    "\n",
    "  - Each class statement generates a new class object.\n",
    "  - Eact time a class is called, it generates a new instance object with a distinct namespace.\n",
    "    Each object genegenrated from class has access to the class attributes and get  namespace \n",
    "    of it's own, for  data that varies as per object.\n",
    "  - Instance are autometically linked to the class form which they are created.\n",
    "  - Calsses are autometically linked to their superclass according to way we list them \n",
    "    in parentheses (left to right order.)\n",
    "  - Operator overloading : classes an define objects taht reposd to the sorts of operations on built type.\n",
    "\"\"\"\n",
    "None"
   ]
  },
  {
   "cell_type": "code",
   "execution_count": 2,
   "metadata": {},
   "outputs": [],
   "source": [
    "\"\"\"\n",
    "Instances: Represent the concrete items in a program domain. Their attributes record data that varies per\n",
    "specific object.\n",
    "\"\"\"\""
   ]
  },
  {
   "source": [
    "### Attribute inheritance search\n",
    "\n",
    "OOp story in python boil down to this expression \n",
    "object.Attribute\n",
    "\n",
    "Attribute fetches are simply tree searches. the term inheritance is applied because objects lower in a ree inherit Attribute attached to the object higher in that tree.  \n",
    "(- First python search Attribute in the namespace of it's own instance. \n",
    " - If it does not find there then it goes in class from which this instance was created.\n",
    " - if it does not find there then it goes and search in those classes from left to right which are is inherrited     it's original class. Ex . in below example IC1.z Attribute is searched first in IC1 namespace, if it does \n",
    "   not find there then it will go to search in class C1 Attribute and if it does not find it there then it will\n",
    "   go search from class Attributes of C3. as it find z Attribute in class C3. So, it will stop it search.)\n"
   ],
   "cell_type": "markdown",
   "metadata": {}
  },
  {
   "cell_type": "code",
   "execution_count": 13,
   "metadata": {},
   "outputs": [
    {
     "output_type": "stream",
     "name": "stdout",
     "text": [
      "<__main__.C4 object at 0x00000153187E7B80>\n36\n************\nHelp on C1 in module __main__ object:\n\nclass C1(C3, C2)\n |  Method resolution order:\n |      C1\n |      C3\n |      C2\n |      builtins.object\n |  \n |  Data and other attributes defined here:\n |  \n |  x = 12\n |  \n |  y = 23\n |  \n |  ----------------------------------------------------------------------\n |  Data descriptors inherited from C3:\n |  \n |  __dict__\n |      dictionary for instance variables (if defined)\n |  \n |  __weakref__\n |      list of weak references to the object (if defined)\n |  \n |  ----------------------------------------------------------------------\n |  Data and other attributes inherited from C3:\n |  \n |  w = 33\n |  \n |  z = 36\n\n"
     ]
    }
   ],
   "source": [
    "class C2:\n",
    "    x = 23\n",
    "    z = 27\n",
    "class C3:\n",
    "    w = 33\n",
    "    z = 36\n",
    "\n",
    "class C1(C3,C2):  #note the order of C3 and C2 as per their order inherritance MRO will take place.\n",
    "    x = 12\n",
    "    y = 23\n",
    "\n",
    "class C4(C2,C3):\n",
    "    x = 12\n",
    "    y = 23\n",
    "\n",
    "\n",
    "IC1 = C1()\n",
    "IC1 = C1()\n",
    "\n",
    "IC1.name = 'Shashank'\n",
    "IC1.name = 'Shafer'\n",
    "\n",
    "IC3 = C4()\n",
    "print(IC3)\n",
    "\n",
    "\n",
    "print(IC1.z)\n",
    "print('************')\n",
    "help(IC1)"
   ]
  },
  {
   "cell_type": "code",
   "execution_count": null,
   "metadata": {},
   "outputs": [],
   "source": [
    "\"\"\"\n",
    "- Class Attributes: Attributes are usually attached to classed by assingnments made at top level in class        \n",
    "                     statement.\n",
    "- Instance Attributes: Attributes are usually aatched to intances by assignments to the special agrument passed                          to fuctions coded inside classes, called self.\n",
    "\"\"\"\n",
    "\n",
    "\"\"\"\n",
    "  - def appears inside the class is usually known as mehtod.it autometically receives a special first arguemtn- \n",
    "    called  self by convention- that provides a hangle back to the instance to process. \n",
    " -  methods usually go through this autometically passed -in self argument whenever they neddt to fetch or set \n",
    "    attributes to a particular instance being processsed by a mehod call.\n",
    "  - Like simple variables, attributes of  instances are not declated ahead of time, but spring into existance         when they are assigned values.  \n"
   ]
  },
  {
   "cell_type": "code",
   "execution_count": 14,
   "metadata": {},
   "outputs": [
    {
     "output_type": "execute_result",
     "data": {
      "text/plain": [
       "'bob'"
      ]
     },
     "metadata": {},
     "execution_count": 14
    }
   ],
   "source": [
    "class C2:\n",
    "    x = 23\n",
    "    z = 27\n",
    "class C3:\n",
    "    w = 33\n",
    "    z = 36\n",
    "\n",
    "class C1(C2,C3):\n",
    "    def setname(self,who):\n",
    "        self.name = who\n",
    "\n",
    "I1 = C1()\n",
    "I2 = C2()\n",
    "\n",
    "I1.setname('bob')\n",
    "I1.name"
   ]
  },
  {
   "source": [
    "### Attribute and function defining outside the class"
   ],
   "cell_type": "markdown",
   "metadata": {}
  },
  {
   "cell_type": "code",
   "execution_count": 1,
   "metadata": {},
   "outputs": [
    {
     "output_type": "stream",
     "name": "stdout",
     "text": [
      "He is outside the town\nShashank Jain\nShashank.Jain@gmail.com\n"
     ]
    },
    {
     "output_type": "execute_result",
     "data": {
      "text/plain": [
       "200"
      ]
     },
     "metadata": {},
     "execution_count": 1
    }
   ],
   "source": [
    "class Employee:\n",
    "    def __init__(self,first,last,pay):\n",
    "        self.pay_hike = 1.3\n",
    "        self.first = first\n",
    "        self.last = last\n",
    "        self.pay = pay\n",
    "    \n",
    "    def salary_hike(self):\n",
    "         return self.pay *self.pay_hike\n",
    "\n",
    "E1 = Employee('Shashank','Jain',1000)\n",
    "\n",
    "#Defining attribute outse the class \n",
    "E1.news = \"He is outside the town\"\n",
    "\n",
    "print(E1.news)\n",
    "\n",
    "# 1) Defining function outside the class \n",
    "def fullname(self):\n",
    "    return f'{self.first} {self.last}'\n",
    "E1.fullname = fullname    \n",
    "print(E1.fullname(E1))\n",
    "\n",
    "# 2) Defining function outside the class\n",
    "def mailid(self):\n",
    "    return f'{self.first}.{self.last}@gmail.com'\n",
    "\n",
    "print(mailid(E1))\n",
    "\n",
    "Employee.bonus = 200\n",
    "\n",
    "# Defining bonus for all employees\n",
    "def bonusf(cls):\n",
    "    cls.bonus = 200\n",
    "\n",
    "bonusf(Employee)\n",
    "\n",
    "E1.bonus"
   ]
  },
  {
   "source": [
    "## Constructor"
   ],
   "cell_type": "markdown",
   "metadata": {}
  },
  {
   "cell_type": "code",
   "execution_count": null,
   "metadata": {},
   "outputs": [],
   "source": [
    "\"\"\"\n",
    "- If you wants to guarantee that an attribute like name is always set in its instances in a consturctor (init mehtod).\n",
    "- Python automatically calls __init__ mehod each time an instance is generated from a class.The new instance \n",
    "  is passed in to the self artument of __init__ as usual. other values apart from self listed in parentheses \n",
    "  in the class call go to the arguments. \n",
    "\"\"\"\n"
   ]
  },
  {
   "cell_type": "code",
   "execution_count": 18,
   "metadata": {},
   "outputs": [
    {
     "output_type": "execute_result",
     "data": {
      "text/plain": [
       "'bob'"
      ]
     },
     "metadata": {},
     "execution_count": 18
    }
   ],
   "source": [
    "class C2:\n",
    "    x = 23\n",
    "    z = 27\n",
    "class C3:\n",
    "    w = 33\n",
    "    z = 36\n",
    "\n",
    "\n",
    "class C1(C2,C3):\n",
    "    def __init__(self,who):\n",
    "        self.name  = who\n",
    "\n",
    "I1  = C1('bob')\n",
    "I2  = C1('Sue')\n",
    "\n",
    "I1.name"
   ]
  },
  {
   "source": [
    "### Polymorphism\n",
    "\n",
    "- Polymorphism means that the meaning of an operation depend on the object being operated on. That is, \n",
    "  code should not care about whan an object is, only what is does. \n",
    "  Here is below kind of example we don't need to worry about that how Company and ComputeSalary defined. \n",
    "  \n",
    "\n",
    "for emp in Company:\n",
    "    print(emp.ComputeSalary())"
   ],
   "cell_type": "markdown",
   "metadata": {}
  },
  {
   "cell_type": "code",
   "execution_count": null,
   "metadata": {},
   "outputs": [],
   "source": []
  }
 ]
}