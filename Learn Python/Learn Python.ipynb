{
 "cells": [
  {
   "cell_type": "code",
   "execution_count": 1,
   "metadata": {},
   "outputs": [],
   "source": [
    "class FirstClass:\n",
    "    \n",
    "    def setdata(self,value):\n",
    "        self.data = value\n",
    "    def display(self):\n",
    "        print(self.data)\n",
    "        \n",
    "x = FirstClass()\n",
    "y = FirstClass()\n",
    "\n"
   ]
  },
  {
   "cell_type": "code",
   "execution_count": 2,
   "metadata": {},
   "outputs": [
    {
     "name": "stdout",
     "output_type": "stream",
     "text": [
      "Current value 23\n"
     ]
    }
   ],
   "source": [
    "class SecondClass(FirstClass):\n",
    "    def display(self):\n",
    "        print(f'Current value {self.data}')\n",
    "        \n",
    "z = SecondClass()\n",
    "\n",
    "z.setdata(23)\n",
    "z.display()"
   ]
  },
  {
   "cell_type": "code",
   "execution_count": 3,
   "metadata": {},
   "outputs": [
    {
     "name": "stdout",
     "output_type": "stream",
     "text": [
      "Current value abc\n",
      "Current value abcxyz\n",
      "[ThirdClass: abcabcabc]\n"
     ]
    }
   ],
   "source": [
    "class ThirdClass(SecondClass):\n",
    "    def __init__(self,value):\n",
    "        self.data = value\n",
    "    def __add__(self,other):\n",
    "        return ThirdClass(self.data+other)\n",
    "    def __str__(self):\n",
    "        return f'[ThirdClass: {self.data}]'\n",
    "    def mul(self,other):\n",
    "        self.data  *= other\n",
    "\n",
    "a = ThirdClass('abc')\n",
    "a.display()\n",
    "\n",
    "b = a + 'xyz'\n",
    "b.display()\n",
    "\n",
    "a.mul(3)\n",
    "print(a)"
   ]
  },
  {
   "cell_type": "code",
   "execution_count": 4,
   "metadata": {},
   "outputs": [],
   "source": [
    "class rec:\n",
    "    age = 40\n",
    "rec.name = 'Bob'    "
   ]
  },
  {
   "cell_type": "code",
   "execution_count": 5,
   "metadata": {},
   "outputs": [
    {
     "name": "stdout",
     "output_type": "stream",
     "text": [
      "Bob\n",
      "Bob\n"
     ]
    }
   ],
   "source": [
    "x = rec()\n",
    "y = rec()\n",
    "print(x.name)\n",
    "print(y.name)"
   ]
  },
  {
   "cell_type": "code",
   "execution_count": 6,
   "metadata": {},
   "outputs": [
    {
     "name": "stdout",
     "output_type": "stream",
     "text": [
      "yname: Bob\n",
      "y.age 40\n",
      "****************\n",
      "xname Sue\n",
      "xage 50\n"
     ]
    }
   ],
   "source": [
    "x.name = 'Sue'\n",
    "x.age = 50\n",
    "\n",
    "print('yname:',y.name)\n",
    "print('y.age',y.age)\n",
    "print('****************')\n",
    "\n",
    "print('xname',x.name)\n",
    "print('xage',x.age)"
   ]
  },
  {
   "cell_type": "code",
   "execution_count": 9,
   "metadata": {},
   "outputs": [
    {
     "name": "stdout",
     "output_type": "stream",
     "text": [
      "{'__module__': '__main__', 'age': 40, '__dict__': <attribute '__dict__' of 'rec' objects>, '__weakref__': <attribute '__weakref__' of 'rec' objects>, '__doc__': None, 'name': 'Bob'}\n"
     ]
    }
   ],
   "source": [
    "print(rec.__dict__)"
   ]
  },
  {
   "cell_type": "code",
   "execution_count": 10,
   "metadata": {},
   "outputs": [
    {
     "data": {
      "text/plain": [
       "dict_keys(['__module__', 'age', '__dict__', '__weakref__', '__doc__', 'name'])"
      ]
     },
     "execution_count": 10,
     "metadata": {},
     "output_type": "execute_result"
    }
   ],
   "source": [
    "rec.__dict__.keys()"
   ]
  },
  {
   "cell_type": "code",
   "execution_count": 11,
   "metadata": {},
   "outputs": [
    {
     "data": {
      "text/plain": [
       "dict_values(['__main__', 40, <attribute '__dict__' of 'rec' objects>, <attribute '__weakref__' of 'rec' objects>, None, 'Bob'])"
      ]
     },
     "execution_count": 11,
     "metadata": {},
     "output_type": "execute_result"
    }
   ],
   "source": [
    "rec.__dict__.values()"
   ]
  },
  {
   "cell_type": "code",
   "execution_count": 14,
   "metadata": {},
   "outputs": [
    {
     "data": {
      "text/plain": [
       "['age', 'name']"
      ]
     },
     "execution_count": 14,
     "metadata": {},
     "output_type": "execute_result"
    }
   ],
   "source": [
    "list(name for name in rec.__dict__ if not name.startswith('__'))"
   ]
  },
  {
   "cell_type": "markdown",
   "metadata": {},
   "source": [
    "To facilitate inheritance search on attribute fetchs, each instance has a link to it's class that python creates for us. \n",
    "it's called __class__. "
   ]
  },
  {
   "cell_type": "code",
   "execution_count": 16,
   "metadata": {},
   "outputs": [
    {
     "name": "stdout",
     "output_type": "stream",
     "text": [
      "<class '__main__.rec'>\n"
     ]
    }
   ],
   "source": [
    "#To facilitate inheritance search on attribute fetchs, each instance has a link to it's class that python creates for us. \n",
    "#it's called __class__. \n",
    "\n",
    "print(x.__class__)"
   ]
  },
  {
   "cell_type": "code",
   "execution_count": 21,
   "metadata": {},
   "outputs": [
    {
     "name": "stdout",
     "output_type": "stream",
     "text": [
      "(<class 'object'>,)\n",
      "(<class '__main__.SecondClass'>,)\n"
     ]
    }
   ],
   "source": [
    "#bases attribute will provide tuple of super classes\n",
    "print(rec.__bases__)\n",
    "print(ThirdClass.__bases__)"
   ]
  },
  {
   "cell_type": "code",
   "execution_count": 30,
   "metadata": {},
   "outputs": [
    {
     "data": {
      "text/plain": [
       "'BOBBOB'"
      ]
     },
     "execution_count": 30,
     "metadata": {},
     "output_type": "execute_result"
    }
   ],
   "source": [
    "def uppername(obj):\n",
    "    return obj.name.upper()*2\n",
    "\n",
    "uppername(y)\n",
    "\n",
    "\n",
    "suzen = rec()\n",
    "uppername(suzen)"
   ]
  },
  {
   "cell_type": "code",
   "execution_count": 33,
   "metadata": {},
   "outputs": [
    {
     "data": {
      "text/plain": [
       "'SUESUE'"
      ]
     },
     "execution_count": 33,
     "metadata": {},
     "output_type": "execute_result"
    }
   ],
   "source": [
    "# If we assign siple function to an attribute of our class. If becomes a method.\n",
    "\n",
    "rec.method = uppername\n",
    "x.method()"
   ]
  }
 ],
 "metadata": {
  "kernelspec": {
   "display_name": "Python 3",
   "language": "python",
   "name": "python3"
  },
  "language_info": {
   "codemirror_mode": {
    "name": "ipython",
    "version": 3
   },
   "file_extension": ".py",
   "mimetype": "text/x-python",
   "name": "python",
   "nbconvert_exporter": "python",
   "pygments_lexer": "ipython3",
   "version": "3.7.1"
  }
 },
 "nbformat": 4,
 "nbformat_minor": 2
}
