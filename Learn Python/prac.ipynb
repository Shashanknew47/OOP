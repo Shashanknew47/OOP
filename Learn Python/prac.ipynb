{
 "metadata": {
  "language_info": {
   "codemirror_mode": {
    "name": "ipython",
    "version": 3
   },
   "file_extension": ".py",
   "mimetype": "text/x-python",
   "name": "python",
   "nbconvert_exporter": "python",
   "pygments_lexer": "ipython3",
   "version": "3.9.1-final"
  },
  "orig_nbformat": 2,
  "kernelspec": {
   "name": "python3",
   "display_name": "Python 3",
   "language": "python"
  }
 },
 "nbformat": 4,
 "nbformat_minor": 2,
 "cells": [
  {
   "cell_type": "code",
   "execution_count": 27,
   "metadata": {},
   "outputs": [
    {
     "output_type": "stream",
     "name": "stdout",
     "text": [
      "Employee name is 'Shashank Jain' and final pay is  160.00\n"
     ]
    },
    {
     "output_type": "execute_result",
     "data": {
      "text/plain": [
       "Employee name is 'Corey Shafer' and final pay is  1250.00"
      ]
     },
     "metadata": {},
     "execution_count": 27
    }
   ],
   "source": [
    "class Employee:\n",
    "    raise_rate = .1\n",
    "    def __init__(self,first,last,pay):\n",
    "        self.first = first\n",
    "        self.last = last\n",
    "        self.pay = pay\n",
    "    \n",
    "    def raised_amt(self,raise_rate = .1):\n",
    "        return float(self.pay * (raise_rate + 1) + 50)\n",
    "\n",
    "    def __repr__(self):\n",
    "        return 'Employee name is \\'{0} {1}\\' and final pay is {2: .2f}'.format(self.first,self.last,  \n",
    "        self.raised_amt())\n",
    "\n",
    "\n",
    "E1 = Employee('Shashank','Jain',100)\n",
    "print(E1)\n",
    "\n",
    "class Manager(Employee):\n",
    "\n",
    "    def __init__(self,first,last,pay,Emp_c=None):\n",
    "        super().__init__(first,last,pay)\n",
    "        if Emp_c is None:\n",
    "            Emp_c = []\n",
    "\n",
    "    def raised_amt(self):\n",
    "        return Employee.raised_amt(self,raise_rate=.2)\n",
    "    \n",
    "\n",
    "\n",
    "M1 = Manager('Corey','Shafer',1000)\n",
    "M1\n"
   ]
  },
  {
   "cell_type": "code",
   "execution_count": 23,
   "metadata": {},
   "outputs": [
    {
     "output_type": "error",
     "ename": "NameError",
     "evalue": "name 'Person' is not defined",
     "traceback": [
      "\u001b[1;31m---------------------------------------------------------------------------\u001b[0m",
      "\u001b[1;31mNameError\u001b[0m                                 Traceback (most recent call last)",
      "\u001b[1;32m<ipython-input-23-0aaa7dd520ce>\u001b[0m in \u001b[0;36m<module>\u001b[1;34m\u001b[0m\n\u001b[1;32m----> 1\u001b[1;33m \u001b[1;33m(\u001b[0m\u001b[0mPerson\u001b[0m\u001b[1;33m.\u001b[0m\u001b[0m__dict__\u001b[0m\u001b[1;33m)\u001b[0m\u001b[1;33m\u001b[0m\u001b[1;33m\u001b[0m\u001b[0m\n\u001b[0m",
      "\u001b[1;31mNameError\u001b[0m: name 'Person' is not defined"
     ]
    }
   ],
   "source": [
    "(Person.__dict__)"
   ]
  },
  {
   "cell_type": "code",
   "execution_count": 3,
   "metadata": {},
   "outputs": [
    {
     "output_type": "stream",
     "name": "stdout",
     "text": [
      "new attributes is going is xy: 23\n23\nxy has deleted.\nthis xy does not exist.\nthis zy does not exist.\nthis xse does not exist.\n"
     ]
    },
    {
     "output_type": "execute_result",
     "data": {
      "text/plain": [
       "True"
      ]
     },
     "metadata": {},
     "execution_count": 3
    }
   ],
   "source": [
    "class Del_trial:\n",
    "    x = 32\n",
    "    def __delattr__(self,name):\n",
    "        super().__delattr__(name)\n",
    "        print(f'{name} has deleted.')\n",
    "    def __getattr__(self,name):\n",
    "        super().__setattr__(name,None)\n",
    "        print(f'this {name} does not exist.')\n",
    "    def __setattr__(self,name,value):\n",
    "        print(f'new attributes is going is {name}: {value}')\n",
    "        super().__setattr__(name,value)\n",
    "\n",
    "\n",
    "D1 = Del_trial()\n",
    "\n",
    "D1.xy = 23\n",
    "print(D1.xy)\n",
    "del D1.xy\n",
    "D1.xy\n",
    "getattr(D1,'zy')\n",
    "hasattr(D1,'xse')\n"
   ]
  },
  {
   "cell_type": "code",
   "execution_count": 4,
   "metadata": {},
   "outputs": [
    {
     "output_type": "stream",
     "name": "stdout",
     "text": [
      "This is inside __setattr__\nThis is inside __setattr__\nThis is inside __setattr__\nThis is inside __setattr__\nThis is inside __setattr__\n"
     ]
    }
   ],
   "source": [
    "class Employee:\n",
    "    raise_amt = .03\n",
    "    def __init__(self,name,scale,salary,Li):\n",
    "        self.name = name\n",
    "        self.scale = scale\n",
    "        self.salary = float(salary)\n",
    "        self.Li = Li\n",
    "    \n",
    "    def __setattr__(self,name,value):\n",
    "        print('This is inside __setattr__')\n",
    "        super().__setattr__(name,value)\n",
    "    \n",
    "    # def __getattr__(self,name):\n",
    "    #      if name in self.Li:\n",
    "    #          super().__setattr__(name,None)\n",
    "    #      else:\n",
    "    #          raise AttributeError('{name} should be in Li')\n",
    "    def __delattr__(self,name):\n",
    "        super().__delattr__(name)\n",
    "        print(f'This {name} has deleted')\n",
    "\n",
    "Li = ['Shashank','Shara','Elon','Corey']\n",
    "E1 = Employee('Saraha','dev',100,Li)\n",
    "E1.name = 'Bill'\n",
    "\n",
    "\n",
    "         \n",
    "        \n"
   ]
  },
  {
   "cell_type": "code",
   "execution_count": null,
   "metadata": {},
   "outputs": [],
   "source": []
  }
 ]
}