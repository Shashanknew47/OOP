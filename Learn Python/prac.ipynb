{
 "metadata": {
  "language_info": {
   "codemirror_mode": {
    "name": "ipython",
    "version": 3
   },
   "file_extension": ".py",
   "mimetype": "text/x-python",
   "name": "python",
   "nbconvert_exporter": "python",
   "pygments_lexer": "ipython3",
   "version": "3.8.5-final"
  },
  "orig_nbformat": 2,
  "kernelspec": {
   "name": "python3",
   "display_name": "Python 3.8.5 64-bit",
   "metadata": {
    "interpreter": {
     "hash": "2db524e06e9f5f4ffedc911c917cb75e12dbc923643829bf417064a77eb14d37"
    }
   }
  }
 },
 "nbformat": 4,
 "nbformat_minor": 2,
 "cells": [
  {
   "cell_type": "code",
   "execution_count": 7,
   "metadata": {},
   "outputs": [],
   "source": [
    "\"Lets Make some argument opstional\"\n",
    "class Person:\n",
    "    def __init__(self,name,job=None,pay=0):         # Contructor takes 3 arguments\n",
    "        self.name = name                            # Fill out fields when created\n",
    "        self.job = job                              # Self is the new instance object. \n",
    "        self.pay = pay\n",
    "    \n",
    "    def giveRaise(self,percentage):\n",
    "        self.pay = float(self.pay * (1+percentage))\n",
    "\n",
    "    def fullname(self,last):\n",
    "        return self.name + last\n",
    "    \n",
    "    def __repr__(self):\n",
    "        return '[Name:{0},Pay:{1:.2f}]'.format(self.fullname(' Jain'),self.pay)\n",
    "\n",
    "\n",
    "P1 = Person('Shashank',pay=2334)\n",
    "P1\n",
    "\n",
    "class Manager(Person):\n",
    "    def giveRaise(slef,percent,bonus=.1):\n",
    "        Person.giveRaise(self,percent + bonus)\n",
    "\n",
    "M1 = Manager('S')"
   ]
  },
  {
   "cell_type": "code",
   "execution_count": 8,
   "metadata": {},
   "outputs": [
    {
     "output_type": "error",
     "ename": "NameError",
     "evalue": "name 'self' is not defined",
     "traceback": [
      "\u001b[1;31m---------------------------------------------------------------------------\u001b[0m",
      "\u001b[1;31mNameError\u001b[0m                                 Traceback (most recent call last)",
      "\u001b[1;32m<ipython-input-8-c14aa947aa14>\u001b[0m in \u001b[0;36m<module>\u001b[1;34m\u001b[0m\n\u001b[0;32m     26\u001b[0m \u001b[1;33m\u001b[0m\u001b[0m\n\u001b[0;32m     27\u001b[0m \u001b[0mM1\u001b[0m \u001b[1;33m=\u001b[0m \u001b[0mManager\u001b[0m\u001b[1;33m(\u001b[0m\u001b[1;34m'S'\u001b[0m\u001b[1;33m,\u001b[0m\u001b[1;36m100\u001b[0m\u001b[1;33m)\u001b[0m\u001b[1;33m\u001b[0m\u001b[1;33m\u001b[0m\u001b[0m\n\u001b[1;32m---> 28\u001b[1;33m \u001b[0mM1\u001b[0m\u001b[1;33m.\u001b[0m\u001b[0mgiveRaise\u001b[0m\u001b[1;33m(\u001b[0m\u001b[0mM1\u001b[0m\u001b[1;33m,\u001b[0m\u001b[1;36m.1\u001b[0m\u001b[1;33m)\u001b[0m\u001b[1;33m\u001b[0m\u001b[1;33m\u001b[0m\u001b[0m\n\u001b[0m",
      "\u001b[1;32m<ipython-input-8-c14aa947aa14>\u001b[0m in \u001b[0;36mgiveRaise\u001b[1;34m(slef, percent, bonus)\u001b[0m\n\u001b[0;32m     23\u001b[0m         \u001b[0mself\u001b[0m\u001b[1;33m.\u001b[0m\u001b[0mpay\u001b[0m \u001b[1;33m=\u001b[0m \u001b[0mpay\u001b[0m\u001b[1;33m\u001b[0m\u001b[1;33m\u001b[0m\u001b[0m\n\u001b[0;32m     24\u001b[0m     \u001b[1;32mdef\u001b[0m \u001b[0mgiveRaise\u001b[0m\u001b[1;33m(\u001b[0m\u001b[0mslef\u001b[0m\u001b[1;33m,\u001b[0m\u001b[0mpercent\u001b[0m\u001b[1;33m,\u001b[0m\u001b[0mbonus\u001b[0m\u001b[1;33m=\u001b[0m\u001b[1;36m.1\u001b[0m\u001b[1;33m)\u001b[0m\u001b[1;33m:\u001b[0m\u001b[1;33m\u001b[0m\u001b[1;33m\u001b[0m\u001b[0m\n\u001b[1;32m---> 25\u001b[1;33m         \u001b[0mPerson\u001b[0m\u001b[1;33m.\u001b[0m\u001b[0mgiveRaise\u001b[0m\u001b[1;33m(\u001b[0m\u001b[0mself\u001b[0m\u001b[1;33m,\u001b[0m\u001b[0mpercent\u001b[0m \u001b[1;33m+\u001b[0m \u001b[0mbonus\u001b[0m\u001b[1;33m)\u001b[0m\u001b[1;33m\u001b[0m\u001b[1;33m\u001b[0m\u001b[0m\n\u001b[0m\u001b[0;32m     26\u001b[0m \u001b[1;33m\u001b[0m\u001b[0m\n\u001b[0;32m     27\u001b[0m \u001b[0mM1\u001b[0m \u001b[1;33m=\u001b[0m \u001b[0mManager\u001b[0m\u001b[1;33m(\u001b[0m\u001b[1;34m'S'\u001b[0m\u001b[1;33m,\u001b[0m\u001b[1;36m100\u001b[0m\u001b[1;33m)\u001b[0m\u001b[1;33m\u001b[0m\u001b[1;33m\u001b[0m\u001b[0m\n",
      "\u001b[1;31mNameError\u001b[0m: name 'self' is not defined"
     ]
    }
   ],
   "source": [
    "\n",
    "class Person:\n",
    "    def __init__(self,name,job=None,pay=0):         # Contructor takes 3 arguments\n",
    "        self.name = name                            # Fill out fields when created\n",
    "        self.job = job                              # Self is the new instance object. \n",
    "        self.pay = pay\n",
    "    \n",
    "    def giveRaise(self,percentage):\n",
    "        self.pay = float(self.pay * (1+percentage))\n",
    "\n",
    "    def fullname(self,last):\n",
    "        return self.name + last\n",
    "    \n",
    "    def __repr__(self):\n",
    "        return '[Name:{0},Pay:{1:.2f}]'.format(self.fullname(' Jain'),self.pay)\n",
    "\n",
    "\n",
    "P1 = Person('Shashank',pay=2334)\n",
    "P1\n",
    "\n",
    "class Manager():\n",
    "    def __init__(self,name,pay):\n",
    "        self.name = name\n",
    "        self.pay = pay\n",
    "    def giveRaise(slef,percent,bonus=.1):\n",
    "        Person.giveRaise(self,percent + bonus)\n",
    "\n",
    "M1 = Manager('S',100)\n",
    "M1.giveRaise(M1,.1)"
   ]
  },
  {
   "cell_type": "code",
   "execution_count": 24,
   "metadata": {},
   "outputs": [
    {
     "output_type": "stream",
     "name": "stdout",
     "text": [
      "new attributes is going is xy: 23\n23\nxy has deleted.\nthis xy does not exist.\nthis zy does not exist.\nthis xse does not exist.\n"
     ]
    }
   ],
   "source": [
    "class Del_trial:\n",
    "    x = 32\n",
    "    def __delattr__(self,name):\n",
    "        super().__delattr__(name)\n",
    "        print(f'{name} has deleted.')\n",
    "    def __getattr__(self,name):\n",
    "        super().__setattr__(name,None)\n",
    "        print(f'this {name} does not exist.')\n",
    "    def __setattr__(self,name,value):\n",
    "        print(f'new attributes is going is {name}: {value}')\n",
    "        super().__setattr__(name,value)\n",
    "\n",
    "\n",
    "D1 = Del_trial()\n",
    "\n",
    "D1.xy = 23\n",
    "print(D1.xy)\n",
    "del D1.xy\n",
    "D1.xy\n",
    "getattr(D1,'zy')\n",
    "hasattr(D1,'xse')\n"
   ]
  },
  {
   "cell_type": "code",
   "execution_count": 11,
   "metadata": {},
   "outputs": [
    {
     "output_type": "stream",
     "name": "stdout",
     "text": [
      "This is inside __setattr__\nThis is inside __setattr__\nThis is inside __setattr__\nThis is inside __setattr__\nThis is inside __setattr__\n"
     ]
    }
   ],
   "source": [
    "class Employee:\n",
    "    raise_amt = .03\n",
    "    def __init__(self,name,scale,salary,Li):\n",
    "        self.name = name\n",
    "        self.scale = scale\n",
    "        self.salary = float(salary)\n",
    "        self.Li = Li\n",
    "    \n",
    "    def __setattr__(self,name,value):\n",
    "        print('This is inside __setattr__')\n",
    "        super().__setattr__(name,value)\n",
    "    \n",
    "    # def __getattr__(self,name):\n",
    "    #      if name in self.Li:\n",
    "    #          super().__setattr__(name,None)\n",
    "    #      else:\n",
    "    #          raise AttributeError('{name} should be in Li')\n",
    "    def __delattr__(self,name):\n",
    "        super().__delattr__(name)\n",
    "        print(f'This {name} has deleted')\n",
    "\n",
    "Li = ['Shashank','Shara','Elon','Corey']\n",
    "E1 = Employee('Saraha','dev',100,Li)\n",
    "E1.name = 'Bill'\n",
    "\n",
    "\n",
    "         \n",
    "        \n"
   ]
  },
  {
   "cell_type": "code",
   "execution_count": null,
   "metadata": {},
   "outputs": [],
   "source": []
  }
 ]
}