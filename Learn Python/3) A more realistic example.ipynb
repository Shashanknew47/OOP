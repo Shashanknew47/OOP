{
 "metadata": {
  "language_info": {
   "codemirror_mode": {
    "name": "ipython",
    "version": 3
   },
   "file_extension": ".py",
   "mimetype": "text/x-python",
   "name": "python",
   "nbconvert_exporter": "python",
   "pygments_lexer": "ipython3",
   "version": "3.8.5-final"
  },
  "orig_nbformat": 2,
  "kernelspec": {
   "name": "python3",
   "display_name": "Python 3.8.5 64-bit",
   "metadata": {
    "interpreter": {
     "hash": "2db524e06e9f5f4ffedc911c917cb75e12dbc923643829bf417064a77eb14d37"
    }
   }
  }
 },
 "nbformat": 4,
 "nbformat_minor": 2,
 "cells": [
  {
   "cell_type": "code",
   "execution_count": 1,
   "metadata": {},
   "outputs": [
    {
     "output_type": "execute_result",
     "data": {
      "text/plain": [
       "'\\n__init__ is called autometically when an instance is made and has a special first argument.\\n'"
      ]
     },
     "metadata": {},
     "execution_count": 1
    }
   ],
   "source": [
    "\"\"\"\n",
    "The first thing Person class record basic info about people - to fill out class record fields.\n",
    "\"\"\"\n",
    "# An record field initialization\n",
    "class Person:\n",
    "    def __init__(self,name,job,pay):         #Contructor takes 3 arguments\n",
    "        self.name = name                     # Fill out fields when created\n",
    "        self.job = job                       # Self is the new instance object. \n",
    "        self.pay = pay\n",
    "\n",
    "\"\"\"\n",
    "__init__ is called autometically when an instance is made and has a special first argument.\n",
    "\"\"\"\n"
   ]
  },
  {
   "cell_type": "code",
   "execution_count": 2,
   "metadata": {},
   "outputs": [
    {
     "output_type": "stream",
     "name": "stdout",
     "text": [
      "Bob Smith 0\nSue Jones0 28888\n"
     ]
    }
   ],
   "source": [
    "\"Lets Make some argument opstional\"\n",
    "class Person:\n",
    "    def __init__(self,name,job=None,pay=0):         #Contructor takes 3 arguments\n",
    "        self.name = name                     # Fill out fields when created\n",
    "        self.job = job                       # Self is the new instance object. \n",
    "        self.pay = pay\n",
    "\n",
    "\"In this function we just need to fill name artument other 2 we have made optional\"\n",
    "\n",
    "Bob = Person('Bob Smith')\n",
    "Sue = Person('Sue Jones0',job='dev',pay=28888)\n",
    "print(Bob.name,Bob.pay)\n",
    "print(Sue.name,Sue.pay)\n",
    "\n",
    "\"\"\"\n",
    "Here Bob accepts the defauts for job and pay, but Sue provides values explicitly. \n",
    "__init__ is a normal function, supporting everything about functionss - including\n",
    "both defauts and pass-by-name keyward arguments.\n",
    "\"\"\"\n",
    "\n",
    "\n",
    "None"
   ]
  },
  {
   "cell_type": "code",
   "execution_count": 3,
   "metadata": {},
   "outputs": [
    {
     "output_type": "stream",
     "name": "stdout",
     "text": [
      "Bob Smith 0\nSue Jones0 28888\nSmith\n31776.80\n"
     ]
    }
   ],
   "source": [
    "\"\"\"\n",
    "In above code top level print statement run both when the file is run as a script and when it is imported as a module. This means if we ever decide to import the class\n",
    "in this file in order to use it somewhere else. we will se output of its test \n",
    "code evertytime tile is imported and that's not very good software citizenship.\n",
    "\"\"\"\n",
    "\n",
    "\"\"\"\n",
    "That's exactly what the module __name__ check is designed for. Which allow this file \n",
    " to be imported as a well as run a test.\n",
    " \"\"\"\n",
    "class Person:\n",
    "    def __init__(self,name,job=None,pay=0):         #Contructor takes 3 arguments\n",
    "        self.name = name                     # Fill out fields when created\n",
    "        self.job = job                       # Self is the new instance object. \n",
    "        self.pay = pay\n",
    "\n",
    "if __name__ == '__main__':\n",
    "    Bob = Person('Bob Smith')\n",
    "    Sue = Person('Sue Jones0',job='dev',pay=28888)\n",
    "    print(Bob.name,Bob.pay)\n",
    "    print(Sue.name,Sue.pay)\n",
    "    print(Bob.name.split()[-1])\n",
    "    print('{0:.2f}'.format(Sue.pay*1.1))\n",
    "    \n"
   ]
  },
  {
   "source": [
    "## Coding Methods\n",
    "\n",
    "encapsulation - each operation logic should be coded only once in our program. This way, if our\n",
    "need change in the fuure, there just one copy to update. Moreover, we are free to change \n",
    "the single copy's internals almost arbitarrily, without braking the code that uses it.\n",
    "\n",
    "In Python terms, we want to code operations an objects in a class method, instead of \n",
    "littering them throughout our program. In fact, this is one of the things classes \n",
    "are very good at- factoring code to remove redundancy and thus optimize maintanabilty.\n",
    "As an added bonus, turning operations into methods enables them to be applied to any\n",
    "instance of the class, not just those that they have been hardcoded to process."
   ],
   "cell_type": "markdown",
   "metadata": {}
  },
  {
   "cell_type": "code",
   "execution_count": 4,
   "metadata": {},
   "outputs": [
    {
     "output_type": "stream",
     "name": "stdout",
     "text": [
      "Bob Smith 0\nSue Jones 10000\nBob Sue\n10000\nAfter rise Sue Jones salary is : 13000.00\n"
     ]
    }
   ],
   "source": [
    "# Add methods to encapsulate operations for mainttainabiltiy\n",
    "\n",
    "class Person:\n",
    "    def __init__(self,name,job=None,pay=0):\n",
    "        self.name = name\n",
    "        self.job = job\n",
    "        self.pay = pay\n",
    "    def Firstname(self):\n",
    "        return self.name.split()[0]\n",
    "    def giveRaise(self,percent):\n",
    "        self.pay = float(self.pay * (1 + percent))\n",
    "        return ('After rise {0} salary is :{1: .2f}'.format(self.name,self.pay))\n",
    "    \n",
    "if __name__=='__main__':\n",
    "    bob = Person('Bob Smith')\n",
    "    sue = Person('Sue Jones',job='dev',pay=10000)\n",
    "    print(bob.name,bob.pay)\n",
    "    print(sue.name,sue.pay)\n",
    "    print(bob.Firstname(),sue.Firstname())\n",
    "    print(sue.pay)\n",
    "    print(sue.giveRaise(.3))\n",
    "    "
   ]
  },
  {
   "source": [
    "### Operator Overloading"
   ],
   "cell_type": "markdown",
   "metadata": {}
  },
  {
   "cell_type": "code",
   "execution_count": 5,
   "metadata": {},
   "outputs": [
    {
     "output_type": "stream",
     "name": "stdout",
     "text": [
      "[Person : Bob Smith; 0]\n[Person : Sue Jones; 10000]\n[Person : Sue Jones; 11000]\n"
     ]
    }
   ],
   "source": [
    "\"\"\"\"\n",
    "As it stands, though, testing is still a bi less convenient than it needs to be -\n",
    "- to trace our objects, we have to mannually fetch and print individual attribute.\n",
    "it's better to do by operator overloading methods __repr__ and __str__.\n",
    "\n",
    "These methods are run autometically every time an instance concerted to it's \n",
    "print string. thát's what printing an object does, the net transitive effect\n",
    "is that printing an object displays whatever is returned by the object's \n",
    "__str__ and __repr__ methods, if the objects defines itself or inherit one from\n",
    "superclass.\n",
    "\n",
    "__str__ is preffered by print and __repr__ is used as fallback for these roles in all other contexts. Although the tow can be used to implement different displays in \n",
    "different contexts. coding just __repr__ alsone suffices to give a single display in all cases - prints,nested and appearances, and interactive echoes. \n",
    "\"\"\"\n",
    "\n",
    "class Person:\n",
    "    def __init__(self,name,job=None,pay=0):\n",
    "        self.name = name\n",
    "        self.job = job\n",
    "        self.pay = pay\n",
    "    def lastName(self):\n",
    "        return self.name.split()[-1]\n",
    "    def giveRaise(self,percentage):\n",
    "        self.pay = int(self.pay * (1+percentage))\n",
    "        \n",
    "    def __repr__(self):\n",
    "        return f'[Person : {self.name}; {self.pay}]'\n",
    "\n",
    "if __name__=='__main__':\n",
    "    bob = Person('Bob Smith')\n",
    "    sue = Person('Sue Jones',job='dev',pay=10000)\n",
    "    print(bob)\n",
    "    print(sue)\n",
    "    sue.giveRaise(.10)\n",
    "    print(sue)\n",
    "\n",
    "\n",
    "\"\"\"\n",
    "Now instead of printing individual attributes, now print statement provides \n",
    "all required info.\n",
    "\"\"\"\n",
    "None"
   ]
  },
  {
   "source": [
    "### Customizing behaviour by Subclassiing"
   ],
   "cell_type": "markdown",
   "metadata": {}
  },
  {
   "source": [
    "### The bad way\n",
    "\n",
    "The bad way to cut and paste the code of giveRaise in Person and modify it for\n",
    "Manager like this. \n",
    "\n",
    "It gives correct results but anytime you copy code with cut and paste, you essentially\n",
    "double your maintenance effort in future. If we ever have to change the way raise are given, we will have to change the code 2 places. not one."
   ],
   "cell_type": "markdown",
   "metadata": {}
  },
  {
   "cell_type": "code",
   "execution_count": 6,
   "metadata": {},
   "outputs": [
    {
     "output_type": "execute_result",
     "data": {
      "text/plain": [
       "[Person : Shashank; 10000]"
      ]
     },
     "metadata": {},
     "execution_count": 6
    }
   ],
   "source": [
    "class Person:\n",
    "    def __init__(self,name,job=None,pay=0):\n",
    "        self.name = name\n",
    "        self.job = job\n",
    "        self.pay = pay\n",
    "    def lastName(self):\n",
    "        return self.name.split()[-1]\n",
    "    def giveRaise(self,percentage):\n",
    "        self.pay = int(self.pay * (1+percentage)) \n",
    "    def __repr__(self):\n",
    "        return f'[Person : {self.name}; {self.pay}]'\n",
    "\n",
    "\n",
    "class Manager(Person):\n",
    "    def giveRaise(self,percent,bonus=.1):\n",
    "        self.pay = int(self.pay * (1+percent+bonus))\n",
    "\n",
    "M1 = Manager(name='Shashank',pay=10000)\n",
    "\n",
    "M1 "
   ]
  },
  {
   "source": [
    "### The Good way\n",
    "\n",
    "The good way is somehow augement original giveRaise, instead of replacing it altoghether. The good way is by calling the original version directly, with\n",
    "augemented arguments.This code leverages the fact the class method can always \n",
    "be called either through an instance or through class.\n",
    "\n",
    "calling instance method by class is instance.method(args..)\n",
    "\n",
    "or calling instance  method by class:\n",
    "class.method(instance,args..)\n",
    "\n",
    "\n"
   ],
   "cell_type": "markdown",
   "metadata": {}
  },
  {
   "cell_type": "code",
   "execution_count": 7,
   "metadata": {},
   "outputs": [
    {
     "output_type": "stream",
     "name": "stdout",
     "text": [
      "[Professional : Bob Smith; 0]\n[Professional : Sue Jones; 100000]\n[Manager: Tom Jones; 60100]\n"
     ]
    }
   ],
   "source": [
    "class Professional:\n",
    "    def __init__(self,name,job=None,pay=0):\n",
    "        self.name = name\n",
    "        self.job = job\n",
    "        self.pay = pay\n",
    "    def lastName(self):\n",
    "        return self.name.split()[-1]\n",
    "    def giveRaise(self,percentage):\n",
    "        self.pay = int(self.pay * (1+percentage)) + 100\n",
    "    def __repr__(self):\n",
    "        return f'[Professional : {self.name}; {self.pay}]'\n",
    "\n",
    "\n",
    "class Manager(Professional):\n",
    "    def giveRaise(self,percent,bonus=.1):\n",
    "        Professional.giveRaise(self,percent + bonus)\n",
    "    def __repr__(self):\n",
    "        return f'[Manager: {self.name}; {self.pay}]'\n",
    "\n",
    "\n",
    "if __name__=='__main__':\n",
    "    Bob = Professional('Bob Smith')\n",
    "    Sue = Professional('Sue Jones', job='dev', pay=100000)\n",
    "    Tom = Manager('Tom Jones',job='mgr',pay=50000)\n",
    "    Tom.giveRaise(.1)\n",
    "     \n",
    "    print(Bob) \n",
    "    print(Sue)\n",
    "    print(Tom)\n",
    "\n"
   ]
  },
  {
   "source": [
    "### Polymorphism in Action"
   ],
   "cell_type": "markdown",
   "metadata": {}
  },
  {
   "cell_type": "code",
   "execution_count": 8,
   "metadata": {},
   "outputs": [
    {
     "output_type": "stream",
     "name": "stdout",
     "text": [
      "[Professional : Bob Smith; 100]\n[Professional : Sue Jones; 110100]\n[Manager: Tom Jones; 72220]\n"
     ]
    }
   ],
   "source": [
    "if __name__=='__main__':\n",
    "    for obj in (Bob,Sue,Tom):\n",
    "        obj.giveRaise(.1)\n",
    "        print(obj)      "
   ]
  },
  {
   "source": [
    "### OOP: The Big idea\n",
    "\n",
    "In OOp, we program by customizing what has already done, rather copying or changing an\n",
    "existing code. Overall, the programming styple implied by classes can cut development \n",
    "time radically compated to other approaches. "
   ],
   "cell_type": "markdown",
   "metadata": {}
  },
  {
   "source": [
    "### Customizing Constructors too"
   ],
   "cell_type": "markdown",
   "metadata": {}
  },
  {
   "source": [
    "In above example. It seem pointless to have to provide a mgr job name for Manager objects when we create them: this is already implied by the class itself. If would\n",
    "be better if we could somehow fill in this value autometically when a manager is made.\n",
    "\n",
    "    We want to customise the consturctor logic for Managers in such a way as to provide\n",
    "a job name autometically. In terms of code, we want to redefine an __init__ method in \n",
    "Manager that provides the mgr string to us."
   ],
   "cell_type": "markdown",
   "metadata": {}
  },
  {
   "cell_type": "code",
   "execution_count": 9,
   "metadata": {},
   "outputs": [
    {
     "output_type": "stream",
     "name": "stdout",
     "text": [
      "[Professional : Bob Smith; 0]\n",
      "[Professional : Sue Jones; 100000]\n",
      "[Manager : Tom Jones; 60100]\n"
     ]
    }
   ],
   "source": [
    "\"\"\"\n",
    "Calling superclass constructors from Redefining this way turns out ot be avery common\n",
    "coding pattern in Python. By itself, Python useds inheritance to look for and call only one __init__ method at contruction time - the lowest one in class tree. If you \n",
    "might need hihger __init__ methods to be run at construction time, you must call them mannually, usually through superclass's name. The upside to this is that can you can be\n",
    "explicit about which argument to pass the superclass's constructor and can choose to not call it at all. : not calling the superclass constructor allows you to replace its logic toghether, rather than augmenting it.\n",
    "\"\"\"\n",
    "\n",
    "class Professional:\n",
    "    def __init__(self,name,job=None,pay=0):\n",
    "        self.name = name\n",
    "        self.job = job\n",
    "        self.pay = pay\n",
    "    def lastName(self):\n",
    "        return self.name.split()[-1]\n",
    "    def giveRaise(self,percentage):\n",
    "        self.pay = int(self.pay * (1+percentage)) + 100\n",
    "    def __repr__(self):\n",
    "        return f'[Professional : {self.name}; {self.pay}]'\n",
    "\n",
    "class Manager(Professional):\n",
    "    def __init__(self,name,pay):\n",
    "        Professional.__init__(self,name,'mgr',pay)   # Redefining the constructor\n",
    "    def giveRaise(self,percentage,bonus=.1):\n",
    "        Professional.giveRaise(self,percentage+bonus)\n",
    "    def __repr__(self):\n",
    "        return f'[Manager : {self.name}; {self.pay}]'\n",
    "\n",
    "\n",
    "if __name__=='__main__':\n",
    "    Bob = Professional('Bob Smith')\n",
    "    Sue = Professional('Sue Jones',job='dev',pay=1_00_000)\n",
    "    print(Bob)\n",
    "    print(Sue)\n",
    "    Sue.giveRaise(.1)\n",
    "    Tom = Manager('Tom Jones',50000)\n",
    "    Tom.giveRaise(.1)\n",
    "    print(Tom)\n",
    "\n"
   ]
  },
  {
   "cell_type": "code",
   "execution_count": 10,
   "metadata": {},
   "outputs": [
    {
     "output_type": "stream",
     "name": "stdout",
     "text": [
      "[Person : Bob Smith; 0]\n[Person : Sue Jones; 100000]\n[Manager : Tom Jones; 60100]\n"
     ]
    },
    {
     "output_type": "execute_result",
     "data": {
      "text/plain": [
       "\"\\nThe more important point here is that this Manager alternative representative of a general coding pattern usually known as delegation - a composit-based structure that manages a wrapped object \\nand propagates method calls to it. \\n\\nThis work out same as previous example but requres twice as such code and is less well suited \\nthan inheritance to the kinds of derect customizations we meant to express. No reasonable python\\nprogrammer would code like this. \\n\\n   Still,object embedding , and design patterns based upon it, can be a very good fit when embeded objects require more limited interaction with the container than direct customization implies.\\nManager for example, might come handy if we want to adapt a calss to an expected interface it \\ndoes not support, or trace or validate calls to another object's method. \\n\""
      ]
     },
     "metadata": {},
     "execution_count": 10
    }
   ],
   "source": [
    "\"\"\"\n",
    "The following alternative, coded in file person-composit.py, does by the using __getattr__ operator overloading method to intercept undefined fetchs and delegate them to the embeded object with getattr built-in. By combiing these tolls, the \n",
    "giveRaise method here still achieve customization, by changing the argument passed\n",
    "along to the embeded object. \n",
    "\"\"\"\n",
    "class Person:\n",
    "    def __init__(self,name,job=None,pay=0):\n",
    "        self.name = name\n",
    "        self.job = job\n",
    "        self.pay = pay\n",
    "    def lastName(self):\n",
    "        return self.name.split()[-1]\n",
    "    def giveRaise(self,percentage):\n",
    "        self.pay = int(self.pay * (1+percentage)) + 100\n",
    "    def __repr__(self):\n",
    "        return f'[Person : {self.name}; {self.pay}]'\n",
    "\n",
    "class Manager:\n",
    "    def __init__(self,name,pay):\n",
    "        self.person = Person(name,'mgr',pay)\n",
    "    def giveRaise(self,percent,bonus=.1):\n",
    "        self.person.giveRaise(percent + bonus)\n",
    "    def __getattr__(self,attr):\n",
    "        return getattr(self.person,attr)\n",
    "    def __repr__(self):\n",
    "        return f'[Manager : {self.name}; {self.pay}]'\n",
    "\n",
    "if __name__=='__main__':\n",
    "    Bob = Person('Bob Smith')\n",
    "    Sue = Person('Sue Jones',job='dev',pay=1_00_000)\n",
    "    print(Bob)\n",
    "    print(Sue)\n",
    "    Sue.giveRaise(.1)\n",
    "    Tom = Manager('Tom Jones',50000)\n",
    "    Tom.giveRaise(.1)\n",
    "    print(Tom)\n",
    "\n",
    "\"\"\"\n",
    "The more important point here is that this Manager alternative representative of a general coding pattern usually known as delegation - a composit-based structure that manages a wrapped object \n",
    "and propagates method calls to it. \n",
    "\n",
    "This work out same as previous example but requres twice as such code and is less well suited \n",
    "than inheritance to the kinds of derect customizations we meant to express. No reasonable python\n",
    "programmer would code like this. \n",
    "\n",
    "   Still,object embedding , and design patterns based upon it, can be a very good fit when embeded objects require more limited interaction with the container than direct customization implies.\n",
    "Manager for example, might come handy if we want to adapt a calss to an expected interface it \n",
    "does not support, or trace or validate calls to another object's method. \n",
    "\"\"\""
   ]
  },
  {
   "cell_type": "code",
   "execution_count": 11,
   "metadata": {},
   "outputs": [
    {
     "output_type": "stream",
     "name": "stdout",
     "text": [
      "[Person : Bob Smith; 0]\n[Person : Sue Jones; 1000000]\n[Manager : Tom Jones; 500000]\n-------------------------------------\n[Person : Bob Smith; 100]\n[Person : Sue Jones; 1100100]\n[Manager : Tom Jones; 600100]\n"
     ]
    },
    {
     "output_type": "execute_result",
     "data": {
      "text/plain": [
       "'\\nThis code used both inheritance and composition - Department is a composite that that embed and controls other objects to aggregate -but the embeded Person and Manager objects themselves use \\ninheritance to customize.\\n'"
      ]
     },
     "metadata": {},
     "execution_count": 11
    }
   ],
   "source": [
    "class Professional:\n",
    "    def __init__(self,name,job=None,pay=0):\n",
    "        self.name = name\n",
    "        self.job = job\n",
    "        self.pay = pay\n",
    "    def lastName(self):\n",
    "        return self.name.split()[-1]\n",
    "    def giveRaise(self,percentage):\n",
    "        self.pay = int(self.pay * (1+percentage)) + 100\n",
    "    def __repr__(self):\n",
    "        return f'[Professional : {self.name}; {self.pay}]'\n",
    "\n",
    "class Manager(Professional):\n",
    "    def __init__(self,name,pay):\n",
    "        Professional.__init__(self,name,'mgr',pay)   # Redefining the constructor\n",
    "    def giveRaise(self,percentage,bonus=.1):\n",
    "        Professional.giveRaise(self,percentage+bonus)\n",
    "    def __repr__(self):\n",
    "        return f'[Manager : {self.name}; {self.pay}]'\n",
    "\n",
    "class Department:\n",
    "    def __init__(self,*args):\n",
    "        self.members = list(args)\n",
    "    def addMember(self,person):\n",
    "        self.members.append(person)\n",
    "    def giveRaise(self,percent):\n",
    "        for person in self.members:\n",
    "            person.giveRaise(percent)\n",
    "    def showAll(self):\n",
    "        for person in self.members:\n",
    "            print(person)\n",
    "\n",
    "\n",
    "if __name__=='__main__':\n",
    "    bob = Person('Bob Smith')\n",
    "    sue = Person('Sue Jones',job='dev',pay=1_000_000)\n",
    "    tom = Manager('Tom Jones',500_000)\n",
    "\n",
    "    development = Department(bob,sue)\n",
    "    development.addMember(tom)\n",
    "    development.showAll()\n",
    "    print('-------------------------------------')\n",
    "    development.giveRaise(.1)\n",
    "    development.showAll()\n",
    "\n",
    "\"\"\"\n",
    "This code used both inheritance and composition - Department is a composite that that embed and controls other objects to aggregate -but the embeded Person and Manager objects themselves use \n",
    "inheritance to customize.\n",
    "\"\"\""
   ]
  },
  {
   "source": [
    "## Special Class attributes\n",
    "\n",
    "- Th built-in instance.__class__ attribute provies a link form an instance to the class from which it was created. Classes in turn have a __name__,just like modutles,\n",
    "and a __baes__ sequence that provides access to superclass. We can use these\n",
    "here to print the name of the class from which an instance is made rather than \n",
    "one we have hardcoded.\n",
    "\n",
    "- The built-in object.__dict__ attributes provides a dictionary with one key/value\n",
    " pair for every attribute attached to a namespace object.bez it is a dictionary, \n",
    " we can fetch its keys list, index by key,iterate over it's keys, and so on. to process all attributes genrerically. We can use this here to print every attribute in \n",
    " any instance.  "
   ],
   "cell_type": "markdown",
   "metadata": {}
  },
  {
   "cell_type": "code",
   "execution_count": 12,
   "metadata": {},
   "outputs": [
    {
     "output_type": "stream",
     "name": "stdout",
     "text": [
      "tom.__class__  :: <class '__main__.Manager'>\ntom.__class__.__name__ :: Manager\ntom.__dict__.items() :: dict_items([('name', 'Tom Jones'), ('job', 'mgr'), ('pay', 500000)])\n----------------------------------------\nname : Tom Jones\njob : mgr\npay : 500000\n"
     ]
    }
   ],
   "source": [
    "class Professional:\n",
    "    def __init__(self,name,job=None,pay=0):\n",
    "        self.name = name\n",
    "        self.job = job\n",
    "        self.pay = pay\n",
    "    def lastName(self):\n",
    "        return self.name.split()[-1]\n",
    "    def giveRaise(self,percentage):\n",
    "        self.pay = int(self.pay * (1+percentage)) + 100\n",
    "    def __repr__(self):\n",
    "        return f'[Professional : {self.name}; {self.pay}]'\n",
    "\n",
    "class Manager(Professional):\n",
    "    def __init__(self,name,pay):\n",
    "        Professional.__init__(self,name,'mgr',pay)   # Redefining the constructor\n",
    "    def giveRaise(self,percentage,bonus=.1):\n",
    "        Professional.giveRaise(self,percentage+bonus)\n",
    "    def __repr__(self):\n",
    "        return f'[Manager : {self.name}; {self.pay}]'\n",
    "\n",
    "class Department:\n",
    "    def __init__(self,*args):\n",
    "        self.members = list(args)\n",
    "    def addMember(self,person):\n",
    "        self.members.append(person)\n",
    "    def giveRaise(self,percent):\n",
    "        for person in self.members:\n",
    "            person.giveRaise(percent)\n",
    "    def showAll(self):\n",
    "        for person in self.members:\n",
    "            print(person)\n",
    "\n",
    "\n",
    "if __name__=='__main__':\n",
    "    bob = Professional('Bob Smith')\n",
    "    sue = Professional('Sue Jones',job='dev',pay=1_000_000)\n",
    "    tom = Manager('Tom Jones',500_000)\n",
    "\n",
    "print('tom.__class__  ::',tom.__class__);\n",
    "print('tom.__class__.__name__ ::',tom.__class__.__name__)\n",
    "print('tom.__dict__.items() ::',tom.__dict__.items())\n",
    "print('----------------------------------------')\n",
    "for k in tom.__dict__:\n",
    "    print(k,':',getattr(tom,k)) "
   ]
  },
  {
   "source": [
    "### A generic Display Tool"
   ],
   "cell_type": "markdown",
   "metadata": {}
  },
  {
   "cell_type": "code",
   "execution_count": 13,
   "metadata": {},
   "outputs": [
    {
     "output_type": "stream",
     "name": "stdout",
     "text": [
      "<class '__main__.TopTest'>,attr1,0,attr2,1\n<class '__main__.SubTest'>,attr1,2,attr2,3\n"
     ]
    }
   ],
   "source": [
    "class AttrDisplay(object):\n",
    "    \"\"\"\n",
    "    Provides an inheritable display overload method that shows instancs with their   \n",
    "    classes names and name=value pair for each attributes stroed on the instance\n",
    "    itself (but not attrs inherited from its classes).Can be mixed into any class by  \n",
    "    becoming a super class, and will work on any instance.\n",
    "    \"\"\"\n",
    "\n",
    "    def getherAttrs(self):\n",
    "        attrs = []\n",
    "        for key in sorted(self.__dict__):\n",
    "            attrs.append(f'{key},{getattr(self,key)}')\n",
    "        return ','.join(attrs)\n",
    "\n",
    "    def __repr__(self):\n",
    "        return f'{self.__class__},{self.getherAttrs()}'\n",
    "\n",
    "\n",
    "if __name__=='__main__':\n",
    "\n",
    "    class TopTest(AttrDisplay):\n",
    "        count = 0\n",
    "        def __init__(self):\n",
    "            self.attr1 = TopTest.count\n",
    "            self.attr2 = TopTest.count +1\n",
    "            TopTest.count +=2\n",
    "\n",
    "\n",
    "    class SubTest(TopTest):\n",
    "        pass\n",
    "\n",
    "    X = TopTest()\n",
    "    Y = SubTest()\n",
    "        \n",
    "    print(X)\n",
    "    print(Y)\n"
   ]
  },
  {
   "source": [
    "### Instance versus Class Attributes"
   ],
   "cell_type": "markdown",
   "metadata": {}
  },
  {
   "cell_type": "code",
   "execution_count": 14,
   "metadata": {},
   "outputs": [
    {
     "output_type": "stream",
     "name": "stdout",
     "text": [
      "{'name': 'Bob Smith', 'job': None, 'pay': 0}\n-----------------------\n['__class__', '__delattr__', '__dict__', '__dir__', '__doc__', '__eq__', '__format__', '__ge__', '__getattribute__', '__gt__', '__hash__', '__init__', '__init_subclass__', '__le__', '__lt__', '__module__', '__ne__', '__new__', '__reduce__', '__reduce_ex__', '__repr__', '__setattr__', '__sizeof__', '__str__', '__subclasshook__', '__weakref__', 'giveRaise', 'job', 'lastName', 'name', 'pay']\n---------------------------\n"
     ]
    },
    {
     "output_type": "execute_result",
     "data": {
      "text/plain": [
       "['giveRaise', 'job', 'lastName', 'name', 'pay']"
      ]
     },
     "metadata": {},
     "execution_count": 14
    }
   ],
   "source": [
    "\"\"\"\n",
    "If you ever wish to include inherited attributes too, you can climb the __class__ \n",
    "link to the instance's class, use the __dict__ there to fetch class attributes, and then iterate through the class's __bases__ attribute to climb to even higher superclasses, repeating as necessary. If you are a fan fo simple code, running a built in dir call on the instance insead of using __dict__.\n",
    "\"\"\"\n",
    "bob = Professional('Bob Smith')\n",
    "print(bob.__dict__)\n",
    "print('-----------------------')\n",
    "print(dir(bob))\n",
    "print('---------------------------')\n",
    "[i for i in dir(bob) if not i.startswith('__')]"
   ]
  },
  {
   "cell_type": "code",
   "execution_count": 15,
   "metadata": {},
   "outputs": [
    {
     "output_type": "stream",
     "name": "stdout",
     "text": [
      "<class '__main__.Top'>,Spam\n"
     ]
    }
   ],
   "source": [
    "class Top(AttrDisplay):\n",
    "    count = 0\n",
    "    def __init__(self):\n",
    "        self.attr1 = TopTest.count\n",
    "        self.attr2 = TopTest.count +1\n",
    "        TopTest.count +=2\n",
    "        \n",
    "    def getherAttrs(Self):\n",
    "        return 'Spam'\n",
    "\n",
    "T = Top()\n",
    "print(T)"
   ]
  },
  {
   "cell_type": "code",
   "execution_count": 16,
   "metadata": {},
   "outputs": [
    {
     "output_type": "stream",
     "name": "stdout",
     "text": [
      "<class '__main__.Person'>,job,None,name,Bob Smith,pay,0\n<class '__main__.Person'>,job,dev,name,Sue Jones,pay,100000\nJones\n<class '__main__.Manager'>,job,mgr,name,Tom Jones,pay,60000\n"
     ]
    }
   ],
   "source": [
    "class Person(AttrDisplay):\n",
    "    pass\n",
    "\n",
    "    def __init__(self,name,job=None,pay=0):\n",
    "        self.name =name\n",
    "        self.job = job\n",
    "        self.pay = pay\n",
    "\n",
    "    def lastName(self):\n",
    "        return self.name.split()[-1]\n",
    "\n",
    "    def giveRaise(self,percent):\n",
    "        self.pay = int(self.pay * (1+percent))\n",
    "\n",
    "class Manager(Person):\n",
    "    def __init__(self,name,pay):\n",
    "        Person.__init__(self,name,'mgr',pay)\n",
    "\n",
    "    def giveRaise(self,percent,bonus=.10):\n",
    "        Person.giveRaise(self,percent + bonus)\n",
    "\n",
    "if __name__=='__main__':\n",
    "    bob = Person('Bob Smith')\n",
    "    sue = Person('Sue Jones', job='dev',pay=1_00_000)\n",
    "    print(bob)\n",
    "    print(sue)\n",
    "    tom = Manager('Tom Jones',50_000)\n",
    "    tom.giveRaise(.1)\n",
    "    print(tom.lastName())\n",
    "    print(tom)\n",
    "\n",
    "\n",
    "\n"
   ]
  },
  {
   "source": [
    "### Storing objects in Database\n",
    "\n",
    "Objects are not real Database records.If we kill python, our instances will disappear -\n",
    "they are transient objects in memory and are not stored in a more permanet medium \n",
    "like a file. If turns out that it's easy to make instances objects more permanent, with a python feature called object persistance. (making objects live on after the program creates them exits.)  \n",
    "\n",
    "Object persistance is implemented by three standard library modules, available \n",
    "in every python:\n",
    "\n",
    "pickle :  Serializes arbitary Python objectss to and from string of bytes.\n",
    "\n",
    "dbm :     Implements an access-by-key filesystem for storing string.\n",
    "\n",
    "sheve :   Use the other two modules(pickle & dbm) to store python objects on a file by           key. \n",
    "\n"
   ],
   "cell_type": "markdown",
   "metadata": {}
  },
  {
   "source": [
    "## The Pickle module\n",
    "\n",
    "\"\"\"\n",
    "The pickle module is a sort of super-general object formatting and deformatting tool\n",
    ": It's clever enough to convert the object to a string of byes, which it can use\n",
    "later to reconstruct the original object in memory.\n",
    "\n",
    "   By storing object's pickle string n a file, you effectively make it permanent and persistant: simply load and unpickle it later to recreate the origanal object.\n",
    "\n",
    "   It's easy to use pickle by itself to store objects in simple flat files and load\n",
    "   them form there later.\n",
    "\"\"\""
   ],
   "cell_type": "markdown",
   "metadata": {}
  },
  {
   "source": [
    "\"\"\"\n",
    "## The shelve module\n",
    "\n",
    "    The shelve module provides an extra layer of structure top of pickle module, that allows you to store pickled objects by key.shelve translates an object to its prickled string with pickle and store that under a key in dbm file, when lter loading, shelve \n",
    "fetches the pickle string by key and re-creates the origanal object in memory with pickle. \n",
    "       The only coding difference between a shelve and a normal dictionary is that must open shelves initially and must close them after making changes. \n",
    "\"\"\"\n",
    "None     "
   ],
   "cell_type": "code",
   "metadata": {},
   "execution_count": 17,
   "outputs": []
  },
  {
   "cell_type": "code",
   "execution_count": 18,
   "metadata": {},
   "outputs": [
    {
     "output_type": "stream",
     "name": "stdout",
     "text": [
      "<class '__main__.Person'>,job,None,name,Bob Smith,pay,0\n<class '__main__.Person'>,job,dev,name,Sue Jones,pay,100000\n<class '__main__.Manager'>,job,mgr,name,Tom Jones,pay,60000\nBob Smith\nSue Jones\nTom Jones\n"
     ]
    }
   ],
   "source": [
    "\"\"\"\n",
    "Here we open a new shelve weith an external filename, assign the objects to keys\n",
    "int the shelve, and close the shelve when we are done because we have made \n",
    "changes.\n",
    "\"\"\"\n",
    "\n",
    "print(bob)\n",
    "print(sue)\n",
    "print(tom)\n",
    "\n",
    "import shelve\n",
    "db = shelve.open('persondb')\n",
    "for obj in (bob,sue,tom):\n",
    "    print(obj.name)\n",
    "    db[obj.name] = obj\n",
    "\n",
    "db.close()\n",
    "\n",
    "\"\"\"\n",
    "Now we have 3 new files personbd.bak,persondb.dir,persondb.dat. These files imploement key-access file that contains the pickled representation of our thee python objects. \n",
    "They are your database, and are what you will need to copy or transfer when you back up or move your storage.\n",
    "\"\"\"\n",
    "None"
   ]
  },
  {
   "cell_type": "code",
   "execution_count": 19,
   "metadata": {},
   "outputs": [
    {
     "output_type": "stream",
     "name": "stdout",
     "text": [
      "['persondb.bak', 'persondb.dat', 'persondb.dir']\n'Bob Smith', (0, 82)\n'Sue Jones', (512, 94)\n'Tom Jones', (1024, 93)\n\n"
     ]
    }
   ],
   "source": [
    "\"\"\"\n",
    "Python's standard library glob module allows us to get directory listtings in Pythoncode to varify the files here, and we can open the files in text or binary mode to explore stings and bytes:\n",
    "\"\"\"\n",
    "import glob\n",
    "print(glob.glob('person*'))\n",
    "print(open('persondb.dir').read())"
   ]
  },
  {
   "cell_type": "code",
   "execution_count": 20,
   "metadata": {},
   "outputs": [
    {
     "output_type": "stream",
     "name": "stdout",
     "text": [
      "3\n['Bob Smith', 'Sue Jones', 'Tom Jones']\nBob Smith <class '__main__.Person'>,job,None,name,Bob Smith,pay,0\nSue Jones <class '__main__.Person'>,job,dev,name,Sue Jones,pay,100000\nTom Jones <class '__main__.Manager'>,job,mgr,name,Tom Jones,pay,60000\n"
     ]
    }
   ],
   "source": [
    "\"\"\"\n",
    "Because shelves are python object containing python objects, we can process them with \n",
    "normal python syntax and development modes. Here, the interactive prompt effectively\n",
    "becomes a  database client:\n",
    "\"\"\"\n",
    "import shelve\n",
    "db = shelve.open('persondb')\n",
    "\n",
    "print(len(db))\n",
    "\n",
    "print(list(db.keys()))\n",
    "\n",
    "bob = (db['Bob Smith'])\n",
    "bob.lastName()\n",
    "\n",
    "for key in sorted(db):\n",
    "    print(key,db[key])\n",
    "\n",
    "db.close()"
   ]
  },
  {
   "cell_type": "code",
   "execution_count": null,
   "metadata": {},
   "outputs": [],
   "source": []
  }
 ]
}