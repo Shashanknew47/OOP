{
 "metadata": {
  "language_info": {
   "codemirror_mode": {
    "name": "ipython",
    "version": 3
   },
   "file_extension": ".py",
   "mimetype": "text/x-python",
   "name": "python",
   "nbconvert_exporter": "python",
   "pygments_lexer": "ipython3",
   "version": "3.9.6"
  },
  "orig_nbformat": 2,
  "kernelspec": {
   "name": "python3",
   "display_name": "Python 3.9.6 64-bit"
  },
  "interpreter": {
   "hash": "53a48d540490c1342b6131282b8ad4cfe0e9dc3e24c6f4b148938ffb48df8e93"
  }
 },
 "nbformat": 4,
 "nbformat_minor": 2,
 "cells": [
  {
   "cell_type": "code",
   "execution_count": 1,
   "source": [
    "\"\"\"\r\n",
    "The first thing Person class record basic info about people - to fill out class record fields.\r\n",
    "\"\"\"\r\n",
    "# An record field initialization\r\n",
    "class Person:\r\n",
    "    def __init__(self,name,job,pay):         #Contructor takes 3 arguments\r\n",
    "        self.name = name                     # Fill out fields when created\r\n",
    "        self.job = job                       # Self is the new instance object. \r\n",
    "        self.pay = pay\r\n",
    "\r\n",
    "\"\"\"\r\n",
    "__init__ is called autometically when an instance is made and has a special first argument.\r\n",
    "\"\"\"\r\n"
   ],
   "outputs": [
    {
     "output_type": "execute_result",
     "data": {
      "text/plain": [
       "'\\n__init__ is called autometically when an instance is made and has a special first argument.\\n'"
      ]
     },
     "metadata": {},
     "execution_count": 1
    }
   ],
   "metadata": {}
  },
  {
   "cell_type": "code",
   "execution_count": 2,
   "source": [
    "\"Lets Make some argument opstional\"\r\n",
    "class Person:\r\n",
    "    def __init__(self,name,job=None,pay=0):         #Contructor takes 3 arguments\r\n",
    "        self.name = name                     # Fill out fields when created\r\n",
    "        self.job = job                       # Self is the new instance object. \r\n",
    "        self.pay = pay\r\n",
    "\r\n",
    "\"In this function we just need to fill name artument other 2 we have made optional\"\r\n",
    "\r\n",
    "Bob = Person('Bob Smith')\r\n",
    "Sue = Person('Sue Jones0',job='dev',pay=28888)\r\n",
    "print(Bob.name,Bob.pay)\r\n",
    "print(Sue.name,Sue.pay)\r\n",
    "\r\n",
    "\"\"\"\r\n",
    "Here Bob accepts the defauts for job and pay, but Sue provides values explicitly. \r\n",
    "__init__ is a normal function, supporting everything about functionss - including\r\n",
    "both defauts and pass-by-name keyward arguments.\r\n",
    "\"\"\"\r\n",
    "\r\n",
    "\r\n",
    "None"
   ],
   "outputs": [],
   "metadata": {}
  },
  {
   "cell_type": "code",
   "execution_count": null,
   "source": [
    "\"\"\"\r\n",
    "In above code top level print statement run both when the file is run as a script and when it is imported as a module. This means if we ever decide to import the class\r\n",
    "in this file in order to use it somewhere else. we will se output of its test \r\n",
    "code evertytime tile is imported and that's not very good software citizenship.\r\n",
    "\"\"\"\r\n",
    "\r\n",
    "\"\"\"\r\n",
    "That's exactly what the module __name__ check is designed for. Which allow this file \r\n",
    " to be imported as a well as run a test.\r\n",
    " \"\"\"\r\n",
    "class Person:\r\n",
    "    def __init__(self,name,job=None,pay=0):         #Contructor takes 3 arguments\r\n",
    "        self.name = name                            # Fill out fields when created\r\n",
    "        self.job = job                              # Self is the new instance object. \r\n",
    "        self.pay = pay\r\n",
    "\r\n",
    "if __name__ == '__main__':\r\n",
    "    Bob = Person('Bob Smith')\r\n",
    "    Sue = Person('Sue Jones0',job='dev',pay=28888)\r\n",
    "    print(Bob.name,Bob.pay)\r\n",
    "    print(Sue.name,Sue.pay)\r\n",
    "    print(Bob.name.split()[-1])\r\n",
    "    print('{0:.2f}'.format(Sue.pay*1.1))\r\n",
    "    \r\n"
   ],
   "outputs": [
    {
     "output_type": "stream",
     "name": "stdout",
     "text": [
      "Bob Smith 0\n",
      "Sue Jones0 28888\n",
      "Smith\n",
      "31776.80\n"
     ]
    }
   ],
   "metadata": {}
  },
  {
   "cell_type": "markdown",
   "source": [
    "## Coding Methods\n",
    "\n",
    "encapsulation - each operation logic should be coded only once in our program. This way, if our\n",
    "need change in the fuure, there just one copy to update. Moreover, we are free to change \n",
    "the single copy's internals almost arbitarrily, without braking the code that uses it.\n",
    "\n",
    "In Python terms, we want to code operations an objects in a class method, instead of \n",
    "littering them throughout our program. In fact, this is one of the things classes \n",
    "are very good at- factoring code to remove redundancy and thus optimize maintanabilty.\n",
    "As an added bonus, turning operations into methods enables them to be applied to any\n",
    "instance of the class, not just those that they have been hardcoded to process."
   ],
   "metadata": {}
  },
  {
   "cell_type": "code",
   "execution_count": null,
   "source": [
    "# Add methods to encapsulate operations for mainttainabiltiy\r\n",
    "\r\n",
    "class Person:\r\n",
    "    def __init__(self,name,job=None,pay=0):\r\n",
    "        self.name = name\r\n",
    "        self.job = job\r\n",
    "        self.pay = pay\r\n",
    "    def Firstname(self):\r\n",
    "        return self.name.split()[0]\r\n",
    "    def giveRaise(self,percent):\r\n",
    "        self.pay = float(self.pay * (1 + percent))\r\n",
    "        return ('After rise {0} salary is :{1: .2f}'.format(self.name,self.pay))\r\n",
    "    \r\n",
    "if __name__=='__main__':\r\n",
    "    bob = Person('Bob Smith')\r\n",
    "    sue = Person('Sue Jones',job='dev',pay=10000)\r\n",
    "    print(bob.name,bob.pay)\r\n",
    "    print(sue.name,sue.pay)\r\n",
    "    print(bob.Firstname(),sue.Firstname())\r\n",
    "    print(sue.pay)\r\n",
    "    print(sue.giveRaise(.3))\r\n",
    "    "
   ],
   "outputs": [
    {
     "output_type": "stream",
     "name": "stdout",
     "text": [
      "Bob Smith 0\n",
      "Sue Jones 10000\n",
      "Bob Sue\n",
      "10000\n",
      "After rise Sue Jones salary is : 13000.00\n"
     ]
    }
   ],
   "metadata": {}
  },
  {
   "cell_type": "markdown",
   "source": [
    "### Operator Overloading"
   ],
   "metadata": {}
  },
  {
   "cell_type": "code",
   "execution_count": null,
   "source": [
    "\"\"\"\"\r\n",
    "As it stands, though, testing is still a bi less convenient than it needs to be -\r\n",
    "- to trace our objects, we have to mannually fetch and print individual attribute.\r\n",
    "it's better to do by operator overloading methods __repr__ and __str__.\r\n",
    "\r\n",
    "These methods are run autometically every time an instance concerted to it's \r\n",
    "print string. thát's what printing an object does, the net transitive effect\r\n",
    "is that printing an object displays whatever is returned by the object's \r\n",
    "__str__ and __repr__ methods, if the objects defines itself or inherit one from\r\n",
    "superclass.\r\n",
    "\r\n",
    "__str__ is preffered by print and __repr__ is used as fallback for these roles in all other contexts. Although the tow can be used to implement different displays in \r\n",
    "different contexts. coding just __repr__ alsone suffices to give a single display in all cases - prints,nested and appearances, and interactive echoes. \r\n",
    "\"\"\"\r\n",
    "\r\n",
    "class Person:\r\n",
    "    def __init__(self,name,job=None,pay=0):\r\n",
    "        self.name = name\r\n",
    "        self.job = job\r\n",
    "        self.pay = pay\r\n",
    "    def lastName(self):\r\n",
    "        return self.name.split()[-1]\r\n",
    "    def giveRaise(self,percentage):\r\n",
    "        self.pay = int(self.pay * (1+percentage))\r\n",
    "        \r\n",
    "    def __repr__(self):\r\n",
    "        return f'[Person : {self.name}; {self.pay}]'\r\n",
    "\r\n",
    "if __name__=='__main__':\r\n",
    "    bob = Person('Bob Smith')\r\n",
    "    sue = Person('Sue Jones',job='dev',pay=10000)\r\n",
    "    print(bob)\r\n",
    "    print(sue)\r\n",
    "    sue.giveRaise(.10)\r\n",
    "    print(sue)\r\n",
    "\r\n",
    "\r\n",
    "\"\"\"\r\n",
    "Now instead of printing individual attributes, now print statement provides \r\n",
    "all required info.\r\n",
    "\"\"\"\r\n",
    "None"
   ],
   "outputs": [
    {
     "output_type": "stream",
     "name": "stdout",
     "text": [
      "[Person : Bob Smith; 0]\n",
      "[Person : Sue Jones; 10000]\n",
      "[Person : Sue Jones; 11000]\n"
     ]
    }
   ],
   "metadata": {}
  },
  {
   "cell_type": "markdown",
   "source": [
    "### Customizing behaviour by Subclassiing"
   ],
   "metadata": {}
  },
  {
   "cell_type": "markdown",
   "source": [
    "### The bad way\n",
    "\n",
    "The bad way to cut and paste the code of giveRaise in Person and modify it for\n",
    "Manager like this. \n",
    "\n",
    "It gives correct results but anytime you copy code with cut and paste, you essentially\n",
    "double your maintenance effort in future. If we ever have to change the way raise are given, we will have to change the code 2 places. not one."
   ],
   "metadata": {}
  },
  {
   "cell_type": "code",
   "execution_count": null,
   "source": [
    "class Person:\r\n",
    "    def __init__(self,name,job=None,pay=0):\r\n",
    "        self.name = name\r\n",
    "        self.job = job\r\n",
    "        self.pay = pay\r\n",
    "    def lastName(self):\r\n",
    "        return self.name.split()[-1]\r\n",
    "    def giveRaise(self,percentage):\r\n",
    "        self.pay = int(self.pay * (1+percentage)) \r\n",
    "    def __repr__(self):\r\n",
    "        return f'[Person : {self.name}; {self.pay}]'\r\n",
    "\r\n",
    "\r\n",
    "class Manager(Person):\r\n",
    "    def giveRaise(self,percent,bonus=.1):\r\n",
    "        self.pay = int(self.pay * (1+percent+bonus))\r\n",
    "\r\n",
    "M1 = Manager(name='Shashank',pay=10000)\r\n",
    "\r\n",
    "M1 "
   ],
   "outputs": [
    {
     "output_type": "execute_result",
     "data": {
      "text/plain": [
       "[Person : Shashank; 10000]"
      ]
     },
     "metadata": {},
     "execution_count": 6
    }
   ],
   "metadata": {}
  },
  {
   "cell_type": "markdown",
   "source": [
    "### The Good way\n",
    "\n",
    "The good way is somehow augement original giveRaise, instead of replacing it altoghether. The good way is by calling the original version directly, with\n",
    "augemented arguments.This code leverages the fact the class method can always \n",
    "be called either through an instance or through class.\n",
    "\n",
    "calling instance method by class is instance.method(args..)\n",
    "\n",
    "or calling instance  method by class:\n",
    "class.method(instance,args..)\n",
    "\n",
    "\n"
   ],
   "metadata": {}
  },
  {
   "cell_type": "code",
   "execution_count": null,
   "source": [
    "class Professional:\r\n",
    "    def __init__(self,name,job=None,pay=0):\r\n",
    "        self.name = name\r\n",
    "        self.job = job\r\n",
    "        self.pay = pay\r\n",
    "    def lastName(self):\r\n",
    "        return self.name.split()[-1]\r\n",
    "    def giveRaise(self,percentage):\r\n",
    "        self.pay = int(self.pay * (1+percentage)) + 100\r\n",
    "    def __repr__(self):\r\n",
    "        return f'[Professional : {self.name}; {self.pay}]'\r\n",
    "\r\n",
    "\r\n",
    "class Manager(Professional):\r\n",
    "    def giveRaise(self,percent,bonus=.1):\r\n",
    "        Professional.giveRaise(self,percent + bonus)\r\n",
    "    def __repr__(self):\r\n",
    "        return f'[Manager: {self.name}; {self.pay}]'\r\n",
    "\r\n",
    "\r\n",
    "if __name__=='__main__':\r\n",
    "    Bob = Professional('Bob Smith')\r\n",
    "    Sue = Professional('Sue Jones', job='dev', pay=100000)\r\n",
    "    Tom = Manager('Tom Jones',job='mgr',pay=50000)\r\n",
    "    Tom.giveRaise(.1)\r\n",
    "     \r\n",
    "    print(Bob) \r\n",
    "    print(Sue)\r\n",
    "    print(Tom)\r\n",
    "\r\n"
   ],
   "outputs": [
    {
     "output_type": "stream",
     "name": "stdout",
     "text": [
      "[Professional : Bob Smith; 0]\n",
      "[Professional : Sue Jones; 100000]\n",
      "[Manager: Tom Jones; 60100]\n"
     ]
    }
   ],
   "metadata": {}
  },
  {
   "cell_type": "markdown",
   "source": [
    "### Polymorphism in Action"
   ],
   "metadata": {}
  },
  {
   "cell_type": "code",
   "execution_count": null,
   "source": [
    "if __name__=='__main__':\r\n",
    "    for obj in (Bob,Sue,Tom):\r\n",
    "        obj.giveRaise(.1)\r\n",
    "        print(obj)      "
   ],
   "outputs": [
    {
     "output_type": "stream",
     "name": "stdout",
     "text": [
      "[Professional : Bob Smith; 100]\n",
      "[Professional : Sue Jones; 110100]\n",
      "[Manager: Tom Jones; 72220]\n"
     ]
    }
   ],
   "metadata": {}
  },
  {
   "cell_type": "markdown",
   "source": [
    "### OOP: The Big idea\n",
    "\n",
    "In OOp, we program by customizing what has already done, rather copying or changing an\n",
    "existing code. Overall, the programming styple implied by classes can cut development \n",
    "time radically compated to other approaches. "
   ],
   "metadata": {}
  },
  {
   "cell_type": "markdown",
   "source": [
    "### Customizing Constructors too"
   ],
   "metadata": {}
  },
  {
   "cell_type": "markdown",
   "source": [
    "In above example. It seem pointless to have to provide a mgr job name for Manager objects when we create them: this is already implied by the class itself. If would\n",
    "be better if we could somehow fill in this value autometically when a manager is made.\n",
    "\n",
    "    We want to customise the consturctor logic for Managers in such a way as to provide\n",
    "a job name autometically. In terms of code, we want to redefine an __init__ method in \n",
    "Manager that provides the mgr string to us."
   ],
   "metadata": {}
  },
  {
   "cell_type": "code",
   "execution_count": null,
   "source": [
    "\"\"\"\r\n",
    "Calling superclass constructors from Redefining this way turns out ot be avery common\r\n",
    "coding pattern in Python. By itself, Python useds inheritance to look for and call only one __init__ method at contruction time - the lowest one in class tree. If you \r\n",
    "might need hihger __init__ methods to be run at construction time, you must call them mannually, usually through superclass's name. The upside to this is that can you can be\r\n",
    "explicit about which argument to pass the superclass's constructor and can choose to not call it at all. : not calling the superclass constructor allows you to replace its logic toghether, rather than augmenting it.\r\n",
    "\"\"\"\r\n",
    "\r\n",
    "class Professional:\r\n",
    "    def __init__(self,name,job=None,pay=0):\r\n",
    "        self.name = name\r\n",
    "        self.job = job\r\n",
    "        self.pay = pay\r\n",
    "    def lastName(self):\r\n",
    "        return self.name.split()[-1]\r\n",
    "    def giveRaise(self,percentage):\r\n",
    "        self.pay = int(self.pay * (1+percentage)) + 100\r\n",
    "    def __repr__(self):\r\n",
    "        return f'[Professional : {self.name}; {self.pay}]'\r\n",
    "\r\n",
    "class Manager(Professional):\r\n",
    "    def __init__(self,name,pay):\r\n",
    "        Professional.__init__(self,name,'mgr',pay)   # Redefining the constructor\r\n",
    "    def giveRaise(self,percentage,bonus=.1):\r\n",
    "        Professional.giveRaise(self,percentage+bonus)\r\n",
    "    def __repr__(self):\r\n",
    "        return f'[Manager : {self.name}; {self.pay}]'\r\n",
    "\r\n",
    "\r\n",
    "if __name__=='__main__':\r\n",
    "    Bob = Professional('Bob Smith')\r\n",
    "    Sue = Professional('Sue Jones',job='dev',pay=1_00_000)\r\n",
    "    print(Bob)\r\n",
    "    print(Sue)\r\n",
    "    Sue.giveRaise(.1)\r\n",
    "    Tom = Manager('Tom Jones',50000)\r\n",
    "    Tom.giveRaise(.1)\r\n",
    "    print(Tom)\r\n",
    "\r\n"
   ],
   "outputs": [
    {
     "output_type": "stream",
     "name": "stdout",
     "text": [
      "[Professional : Bob Smith; 0]\n",
      "[Professional : Sue Jones; 100000]\n",
      "[Manager : Tom Jones; 60100]\n"
     ]
    }
   ],
   "metadata": {}
  },
  {
   "cell_type": "code",
   "execution_count": null,
   "source": [
    "\"\"\"\r\n",
    "The following alternative, coded in file person-composit.py, does by the using __getattr__ operator overloading method to intercept undefined fetchs and delegate them to the embeded object with getattr built-in. By combiing these tolls, the \r\n",
    "giveRaise method here still achieve customization, by changing the argument passed\r\n",
    "along to the embeded object. \r\n",
    "\"\"\"\r\n",
    "class Person:\r\n",
    "    def __init__(self,name,job=None,pay=0):\r\n",
    "        self.name = name\r\n",
    "        self.job = job\r\n",
    "        self.pay = pay\r\n",
    "    def lastName(self):\r\n",
    "        return self.name.split()[-1]\r\n",
    "    def giveRaise(self,percentage):\r\n",
    "        self.pay = int(self.pay * (1+percentage)) + 100\r\n",
    "    def __repr__(self):\r\n",
    "        return f'[Person : {self.name}; {self.pay}]'\r\n",
    "\r\n",
    "class Manager:\r\n",
    "    def __init__(self,name,pay):\r\n",
    "        self.person = Person(name,'mgr',pay)\r\n",
    "    def giveRaise(self,percent,bonus=.1):\r\n",
    "        self.person.giveRaise(percent + bonus)\r\n",
    "    def __getattr__(self,attr):\r\n",
    "        return getattr(self.person,attr)\r\n",
    "    def __repr__(self):\r\n",
    "        return f'[Manager : {self.name}; {self.pay}]'\r\n",
    "\r\n",
    "if __name__=='__main__':\r\n",
    "    Bob = Person('Bob Smith')\r\n",
    "    Sue = Person('Sue Jones',job='dev',pay=1_00_000)\r\n",
    "    print(Bob)\r\n",
    "    print(Sue)\r\n",
    "    Sue.giveRaise(.1)\r\n",
    "    Tom = Manager('Tom Jones',50000)\r\n",
    "    Tom.giveRaise(.1)\r\n",
    "    print(Tom)\r\n",
    "\r\n",
    "\"\"\"\r\n",
    "The more important point here is that this Manager alternative representative of a general coding pattern usually known as delegation - a composit-based structure that manages a wrapped object \r\n",
    "and propagates method calls to it. \r\n",
    "\r\n",
    "This work out same as previous example but requres twice as such code and is less well suited \r\n",
    "than inheritance to the kinds of derect customizations we meant to express. No reasonable python\r\n",
    "programmer would code like this. \r\n",
    "\r\n",
    "   Still,object embedding , and design patterns based upon it, can be a very good fit when embeded objects require more limited interaction with the container than direct customization implies.\r\n",
    "Manager for example, might come handy if we want to adapt a calss to an expected interface it \r\n",
    "does not support, or trace or validate calls to another object's method. \r\n",
    "\"\"\"\r\n",
    "None"
   ],
   "outputs": [
    {
     "output_type": "stream",
     "name": "stdout",
     "text": [
      "[Person : Bob Smith; 0]\n",
      "[Person : Sue Jones; 100000]\n",
      "[Manager : Tom Jones; 60100]\n"
     ]
    }
   ],
   "metadata": {}
  },
  {
   "cell_type": "code",
   "execution_count": null,
   "source": [
    "class Professional:\r\n",
    "    def __init__(self,name,job=None,pay=0):\r\n",
    "        self.name = name\r\n",
    "        self.job = job\r\n",
    "        self.pay = pay\r\n",
    "    def lastName(self):\r\n",
    "        return self.name.split()[-1]\r\n",
    "    def giveRaise(self,percentage):\r\n",
    "        self.pay = int(self.pay * (1+percentage)) + 100\r\n",
    "    def __repr__(self):\r\n",
    "        return f'[Professional : {self.name}; {self.pay}]'\r\n",
    "\r\n",
    "class Manager(Professional):\r\n",
    "    def __init__(self,name,pay):\r\n",
    "        Professional.__init__(self,name,'mgr',pay)   # Redefining the constructor\r\n",
    "    def giveRaise(self,percentage,bonus=.1):\r\n",
    "        Professional.giveRaise(self,percentage+bonus)\r\n",
    "    def __repr__(self):\r\n",
    "        return f'[Manager : {self.name}; {self.pay}]'\r\n",
    "\r\n",
    "class Department:\r\n",
    "    def __init__(self,*args):\r\n",
    "        self.members = list(args)\r\n",
    "    def addMember(self,person):\r\n",
    "        self.members.append(person)\r\n",
    "    def giveRaise(self,percent):\r\n",
    "        for person in self.members:\r\n",
    "            person.giveRaise(percent)\r\n",
    "    def showAll(self):\r\n",
    "        for person in self.members:\r\n",
    "            print(person)\r\n",
    "\r\n",
    "\r\n",
    "if __name__=='__main__':\r\n",
    "    bob = Person('Bob Smith')\r\n",
    "    sue = Person('Sue Jones',job='dev',pay=1_000_000)\r\n",
    "    tom = Manager('Tom Jones',500_000)\r\n",
    "\r\n",
    "    development = Department(bob,sue)\r\n",
    "    development.addMember(tom)\r\n",
    "    development.showAll()\r\n",
    "    print('-------------------------------------')\r\n",
    "    development.giveRaise(.1)\r\n",
    "    development.showAll()\r\n",
    "\r\n",
    "\"\"\"\r\n",
    "This code used both inheritance and composition - Department is a composite that that embed and controls other objects to aggregate -but the embeded Person and Manager objects themselves use \r\n",
    "inheritance to customize.\r\n",
    "\"\"\"\r\n",
    "None"
   ],
   "outputs": [
    {
     "output_type": "stream",
     "name": "stdout",
     "text": [
      "[Person : Bob Smith; 0]\n",
      "[Person : Sue Jones; 1000000]\n",
      "[Manager : Tom Jones; 500000]\n",
      "-------------------------------------\n",
      "[Person : Bob Smith; 100]\n",
      "[Person : Sue Jones; 1100100]\n",
      "[Manager : Tom Jones; 600100]\n"
     ]
    }
   ],
   "metadata": {}
  },
  {
   "cell_type": "code",
   "execution_count": null,
   "source": [
    "## Special Class attributes\r\n",
    "\"\"\"\r\n",
    "- Th built-in instance.__class__ attribute provides a link form an instance to the class from which it was created. Classes in turn have a __name__,just like modules,\r\n",
    "and a __baes__ sequence that provides access to superclass. We can use these\r\n",
    "here to print the name of the class from which an instance is made rather than \r\n",
    "one we have hardcoded.\r\n",
    "\r\n",
    "- The built-in object.__dict__ attributes provides a dictionary with one key/value\r\n",
    " pair for every attribute attached to a namespace object.bez it is a dictionary, \r\n",
    " we can fetch its keys list, index by key,iterate over it's keys, and so on. to process all attributes genrerically. We can use this here to print every attribute in \r\n",
    " any instance.  \r\n",
    "\r\n",
    " \"\"\""
   ],
   "outputs": [],
   "metadata": {}
  },
  {
   "cell_type": "code",
   "execution_count": null,
   "source": [
    "class Professional:\r\n",
    "    def __init__(self,name,job=None,pay=0):\r\n",
    "        self.name = name\r\n",
    "        self.job = job\r\n",
    "        self.pay = pay\r\n",
    "    def lastName(self):\r\n",
    "        return self.name.split()[-1]\r\n",
    "    def giveRaise(self,percentage):\r\n",
    "        self.pay = int(self.pay * (1+percentage)) + 100\r\n",
    "    def __repr__(self):\r\n",
    "        return f'[Professional : {self.name}; {self.pay}]'\r\n",
    "\r\n",
    "class Manager(Professional):\r\n",
    "    def __init__(self,name,pay):\r\n",
    "        Professional.__init__(self,name,'mgr',pay)   # Redefining the constructor\r\n",
    "    def giveRaise(self,percentage,bonus=.1):\r\n",
    "        Professional.giveRaise(self,percentage+bonus)\r\n",
    "    def __repr__(self):\r\n",
    "        return f'[Manager : {self.name}; {self.pay}]'\r\n",
    "\r\n",
    "class Department:\r\n",
    "    def __init__(self,*args):\r\n",
    "        self.members = list(args)\r\n",
    "    def addMember(self,person):\r\n",
    "        self.members.append(person)\r\n",
    "    def giveRaise(self,percent):\r\n",
    "        for person in self.members:\r\n",
    "            person.giveRaise(percent)\r\n",
    "    def showAll(self):\r\n",
    "        for person in self.members:\r\n",
    "            print(person)\r\n",
    "\r\n",
    "\r\n",
    "if __name__=='__main__':\r\n",
    "    bob = Professional('Bob Smith')\r\n",
    "    sue = Professional('Sue Jones',job='dev',pay=1_000_000)\r\n",
    "    tom = Manager('Tom Jones',500_000)\r\n",
    "\r\n",
    "print('tom.__class__  ::',tom.__class__);\r\n",
    "print('tom.__class__.__name__ ::',tom.__class__.__name__)\r\n",
    "print('tom.__dict__.items() ::',tom.__dict__.items())\r\n",
    "print('----------------------------------------')\r\n",
    "for k in tom.__dict__:\r\n",
    "    print(k,':',getattr(tom,k)) "
   ],
   "outputs": [
    {
     "output_type": "stream",
     "name": "stdout",
     "text": [
      "tom.__class__  :: <class '__main__.Manager'>\n",
      "tom.__class__.__name__ :: Manager\n",
      "tom.__dict__.items() :: dict_items([('name', 'Tom Jones'), ('job', 'mgr'), ('pay', 500000)])\n",
      "----------------------------------------\n",
      "name : Tom Jones\n",
      "job : mgr\n",
      "pay : 500000\n"
     ]
    }
   ],
   "metadata": {}
  },
  {
   "cell_type": "markdown",
   "source": [
    "### A generic Display Tool"
   ],
   "metadata": {}
  },
  {
   "cell_type": "code",
   "execution_count": null,
   "source": [
    "class AttrDisplay(object):\r\n",
    "    \"\"\"\r\n",
    "    Provides an inheritable display overload method that shows instancs with their   \r\n",
    "    classes names and name=value pair for each attributes stroed on the instance\r\n",
    "    itself (but not attrs inherited from its classes).Can be mixed into any class by  \r\n",
    "    becoming a super class, and will work on any instance.\r\n",
    "    \"\"\"\r\n",
    "\r\n",
    "    def getherAttrs(self):\r\n",
    "        attrs = []\r\n",
    "        for key in sorted(self.__dict__):\r\n",
    "            attrs.append(f'{key},{getattr(self,key)}')\r\n",
    "        return ','.join(attrs)\r\n",
    "\r\n",
    "    def __repr__(self):\r\n",
    "        return f'{self.__class__},{self.getherAttrs()}'\r\n",
    "\r\n",
    "\r\n",
    "if __name__=='__main__':\r\n",
    "\r\n",
    "    class TopTest(AttrDisplay):\r\n",
    "        count = 0\r\n",
    "        def __init__(self):\r\n",
    "            self.attr1 = TopTest.count\r\n",
    "            self.attr2 = TopTest.count +1\r\n",
    "            TopTest.count +=2\r\n",
    "\r\n",
    "\r\n",
    "    class SubTest(TopTest):\r\n",
    "        pass\r\n",
    "\r\n",
    "    X = TopTest()\r\n",
    "    Y = SubTest()\r\n",
    "        \r\n",
    "    print(X)\r\n",
    "    print(Y)\r\n"
   ],
   "outputs": [
    {
     "output_type": "stream",
     "name": "stdout",
     "text": [
      "<class '__main__.TopTest'>,attr1,0,attr2,1\n",
      "<class '__main__.SubTest'>,attr1,2,attr2,3\n"
     ]
    }
   ],
   "metadata": {}
  },
  {
   "cell_type": "markdown",
   "source": [
    "### Instance versus Class Attributes"
   ],
   "metadata": {}
  },
  {
   "cell_type": "code",
   "execution_count": null,
   "source": [
    "\"\"\"\r\n",
    "If you ever wish to include inherited attributes too, you can climb the __class__ \r\n",
    "link to the instance's class, use the __dict__ there to fetch class attributes, and then iterate through the class's __bases__ attribute to climb to even higher superclasses, repeating as necessary. If you are a fan fo simple code, running a built in dir call on the instance insead of using __dict__.\r\n",
    "\"\"\"\r\n",
    "bob = Professional('Bob Smith')\r\n",
    "print(bob.__dict__)\r\n",
    "print('-----------------------')\r\n",
    "print(dir(bob))\r\n",
    "print('---------------------------')\r\n",
    "[i for i in dir(bob) if not i.startswith('__')]"
   ],
   "outputs": [
    {
     "output_type": "stream",
     "name": "stdout",
     "text": [
      "{'name': 'Bob Smith', 'job': None, 'pay': 0}\n",
      "-----------------------\n",
      "['__class__', '__delattr__', '__dict__', '__dir__', '__doc__', '__eq__', '__format__', '__ge__', '__getattribute__', '__gt__', '__hash__', '__init__', '__init_subclass__', '__le__', '__lt__', '__module__', '__ne__', '__new__', '__reduce__', '__reduce_ex__', '__repr__', '__setattr__', '__sizeof__', '__str__', '__subclasshook__', '__weakref__', 'giveRaise', 'job', 'lastName', 'name', 'pay']\n",
      "---------------------------\n"
     ]
    },
    {
     "output_type": "execute_result",
     "data": {
      "text/plain": [
       "['giveRaise', 'job', 'lastName', 'name', 'pay']"
      ]
     },
     "metadata": {},
     "execution_count": 14
    }
   ],
   "metadata": {}
  },
  {
   "cell_type": "code",
   "execution_count": null,
   "source": [
    "class Top(AttrDisplay):\r\n",
    "    count = 0\r\n",
    "    def __init__(self):\r\n",
    "        self.attr1 = TopTest.count\r\n",
    "        self.attr2 = TopTest.count +1\r\n",
    "        TopTest.count +=2\r\n",
    "        \r\n",
    "    def getherAttrs(Self):\r\n",
    "        return 'Spam'\r\n",
    "\r\n",
    "T = Top()\r\n",
    "print(T)"
   ],
   "outputs": [
    {
     "output_type": "stream",
     "name": "stdout",
     "text": [
      "<class '__main__.Top'>,Spam\n"
     ]
    }
   ],
   "metadata": {}
  },
  {
   "cell_type": "code",
   "execution_count": null,
   "source": [
    "class Person(AttrDisplay):\r\n",
    "    pass\r\n",
    "\r\n",
    "    def __init__(self,name,job=None,pay=0):\r\n",
    "        self.name =name\r\n",
    "        self.job = job\r\n",
    "        self.pay = pay\r\n",
    "\r\n",
    "    def lastName(self):\r\n",
    "        return self.name.split()[-1]\r\n",
    "\r\n",
    "    def giveRaise(self,percent):\r\n",
    "        self.pay = int(self.pay * (1+percent))\r\n",
    "\r\n",
    "class Manager(Person):\r\n",
    "    def __init__(self,name,pay):\r\n",
    "        Person.__init__(self,name,'mgr',pay)\r\n",
    "\r\n",
    "    def giveRaise(self,percent,bonus=.10):\r\n",
    "        Person.giveRaise(self,percent + bonus)\r\n",
    "\r\n",
    "if __name__=='__main__':\r\n",
    "    bob = Person('Bob Smith')\r\n",
    "    sue = Person('Sue Jones', job='dev',pay=1_00_000)\r\n",
    "    print(bob)\r\n",
    "    print(sue)\r\n",
    "    tom = Manager('Tom Jones',50_000)\r\n",
    "    tom.giveRaise(.1)\r\n",
    "    print(tom.lastName())\r\n",
    "    print(tom)\r\n",
    "\r\n",
    "\r\n",
    "\r\n"
   ],
   "outputs": [
    {
     "output_type": "stream",
     "name": "stdout",
     "text": [
      "<class '__main__.Person'>,job,None,name,Bob Smith,pay,0\n",
      "<class '__main__.Person'>,job,dev,name,Sue Jones,pay,100000\n",
      "Jones\n",
      "<class '__main__.Manager'>,job,mgr,name,Tom Jones,pay,60000\n"
     ]
    }
   ],
   "metadata": {}
  },
  {
   "cell_type": "markdown",
   "source": [
    "### Storing objects in Database\n",
    "\n",
    "Objects are not real Database records.If we kill python, our instances will disappear -\n",
    "they are transient objects in memory and are not stored in a more permanet medium \n",
    "like a file. If turns out that it's easy to make instances objects more permanent, with a python feature called object persistance. (making objects live on after the program creates them exits.)  \n",
    "\n",
    "Object persistance is implemented by three standard library modules, available \n",
    "in every python:\n",
    "\n",
    "pickle :  Serializes arbitary Python objectss to and from string of bytes.\n",
    "\n",
    "dbm :     Implements an access-by-key filesystem for storing string.\n",
    "\n",
    "sheve :   Use the other two modules(pickle & dbm) to store python objects on a file by           key. \n",
    "\n"
   ],
   "metadata": {}
  },
  {
   "cell_type": "markdown",
   "source": [
    "## The Pickle module\n",
    "\n",
    "\"\"\"\n",
    "The pickle module is a sort of super-general object formatting and deformatting tool\n",
    ": It's clever enough to convert the object to a string of byes, which it can use\n",
    "later to reconstruct the original object in memory.\n",
    "\n",
    "   By storing object's pickle string n a file, you effectively make it permanent and persistant: simply load and unpickle it later to recreate the origanal object.\n",
    "\n",
    "   It's easy to use pickle by itself to store objects in simple flat files and load\n",
    "   them form there later.\n",
    "\"\"\""
   ],
   "metadata": {}
  },
  {
   "cell_type": "code",
   "execution_count": null,
   "source": [
    "\"\"\"\r\n",
    "## The shelve module\r\n",
    "\r\n",
    "    The shelve module provides an extra layer of structure top of pickle module, that allows you to store pickled objects by key.shelve translates an object to its prickled string with pickle and store that under a key in dbm file, when lter loading, shelve \r\n",
    "fetches the pickle string by key and re-creates the origanal object in memory with pickle. \r\n",
    "       The only coding difference between a shelve and a normal dictionary is that must open shelves initially and must close them after making changes. \r\n",
    "\"\"\"\r\n",
    "None     "
   ],
   "outputs": [],
   "metadata": {}
  },
  {
   "cell_type": "code",
   "execution_count": null,
   "source": [
    "\"\"\"\r\n",
    "Here we open a new shelve weith an external filename, assign the objects to keys\r\n",
    "int the shelve, and close the shelve when we are done because we have made \r\n",
    "changes.\r\n",
    "\"\"\"\r\n",
    "\r\n",
    "print(bob)\r\n",
    "print(sue)\r\n",
    "print(tom)\r\n",
    "\r\n",
    "import shelve\r\n",
    "db = shelve.open('persondb')\r\n",
    "for obj in (bob,sue,tom):\r\n",
    "    print(obj.name)\r\n",
    "    db[obj.name] = obj\r\n",
    "\r\n",
    "db.close()\r\n",
    "\r\n",
    "\"\"\"\r\n",
    "Now we have 3 new files personbd.bak,persondb.dir,persondb.dat. These files imploement key-access file that contains the pickled representation of our thee python objects. \r\n",
    "They are your database, and are what you will need to copy or transfer when you back up or move your storage.\r\n",
    "\"\"\"\r\n",
    "None"
   ],
   "outputs": [
    {
     "output_type": "stream",
     "name": "stdout",
     "text": [
      "<class '__main__.Person'>,job,None,name,Bob Smith,pay,0\n",
      "<class '__main__.Person'>,job,dev,name,Sue Jones,pay,100000\n",
      "<class '__main__.Manager'>,job,mgr,name,Tom Jones,pay,60000\n",
      "Bob Smith\n",
      "Sue Jones\n",
      "Tom Jones\n"
     ]
    }
   ],
   "metadata": {}
  },
  {
   "cell_type": "code",
   "execution_count": null,
   "source": [
    "\"\"\"\r\n",
    "Python's standard library glob module allows us to get directory listtings in Pythoncode to varify the files here, and we can open the files in text or binary mode to explore stings and bytes:\r\n",
    "\"\"\"\r\n",
    "import glob\r\n",
    "print(glob.glob('person*'))\r\n",
    "print(open('persondb.dir').read())"
   ],
   "outputs": [
    {
     "output_type": "stream",
     "name": "stdout",
     "text": [
      "['persondb.bak', 'persondb.dat', 'persondb.dir']\n",
      "'Bob Smith', (0, 82)\n",
      "'Sue Jones', (512, 94)\n",
      "'Tom Jones', (1024, 93)\n",
      "\n"
     ]
    }
   ],
   "metadata": {}
  },
  {
   "cell_type": "code",
   "execution_count": null,
   "source": [
    "\"\"\"\r\n",
    "Because shelves are python object containing python objects, we can process them with \r\n",
    "normal python syntax and development modes. Here, the interactive prompt effectively\r\n",
    "becomes a  database client:\r\n",
    "\"\"\"\r\n",
    "import shelve\r\n",
    "db = shelve.open('persondb')\r\n",
    "\r\n",
    "print(len(db))\r\n",
    "\r\n",
    "print(list(db.keys()))\r\n",
    "\r\n",
    "bob = (db['Bob Smith'])\r\n",
    "bob.lastName()\r\n",
    "\r\n",
    "for key in sorted(db):\r\n",
    "    print(key,db[key])\r\n",
    "\r\n",
    "db.close()"
   ],
   "outputs": [
    {
     "output_type": "stream",
     "name": "stdout",
     "text": [
      "3\n",
      "['Bob Smith', 'Sue Jones', 'Tom Jones']\n",
      "Bob Smith <class '__main__.Person'>,job,None,name,Bob Smith,pay,0\n",
      "Sue Jones <class '__main__.Person'>,job,dev,name,Sue Jones,pay,100000\n",
      "Tom Jones <class '__main__.Manager'>,job,mgr,name,Tom Jones,pay,60000\n"
     ]
    }
   ],
   "metadata": {}
  },
  {
   "cell_type": "code",
   "execution_count": null,
   "source": [],
   "outputs": [],
   "metadata": {}
  }
 ]
}