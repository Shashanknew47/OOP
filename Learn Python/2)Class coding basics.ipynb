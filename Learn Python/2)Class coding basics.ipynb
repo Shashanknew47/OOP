{
 "metadata": {
  "language_info": {
   "codemirror_mode": {
    "name": "ipython",
    "version": 3
   },
   "file_extension": ".py",
   "mimetype": "text/x-python",
   "name": "python",
   "nbconvert_exporter": "python",
   "pygments_lexer": "ipython3",
   "version": "3.8.5-final"
  },
  "orig_nbformat": 2,
  "kernelspec": {
   "name": "python3",
   "display_name": "Python 3.8.5 64-bit",
   "metadata": {
    "interpreter": {
     "hash": "2db524e06e9f5f4ffedc911c917cb75e12dbc923643829bf417064a77eb14d37"
    }
   }
  }
 },
 "nbformat": 4,
 "nbformat_minor": 2,
 "cells": [
  {
   "source": [
    " There are 2 kinds of objects in Python's OOP model. \n",
    "  - class objects (class object comes from statements.)\n",
    "  - instance objects (Instance object comes from call.)\n"
   ],
   "cell_type": "markdown",
   "metadata": {}
  },
  {
   "source": [
    "### Behavior of class object\n",
    "\n",
    "- \"class\" statement creates a class object and assigns it a name. Python class statement is an executable   \n",
    "   statement when reached and run. It generated new class object and assign it to the name in the class header.\n",
    "\n",
    "- Assignments inside class statements makes attributes. class statement defines a local scope that morphs into\n",
    "  the attributes namespace to the class object just like module's global scope.\n",
    "  \n",
    "- class object record state information and behaviour to be shared by all instances created from class.\n"
   ],
   "cell_type": "markdown",
   "metadata": {}
  },
  {
   "source": [
    "### Behavior of isinstance objects\n",
    "\n",
    "   - Each time class is called, it create and returns a new instace object.\n",
    "   - Each instace objects inherits class attributes and gets it's own namespace.\n",
    "   - Inside a class method of functions, the first argument(called self by convention) reference the instance object\n",
    "     being processed, assignments to attributes of self create or change data the instace, not the class."
   ],
   "cell_type": "markdown",
   "metadata": {}
  },
  {
   "cell_type": "code",
   "execution_count": null,
   "metadata": {},
   "outputs": [],
   "source": [
    "\"\"\"Here below setdata and display in class statement generates attributes attached to the class and called methods.\n",
    "They are coded with normal defs. In a mehtod funcitons, the first argument autometically receives an implied instance object when called. \"\"\"\n",
    "\n",
    "class FirstClass:                    #defines a class object\n",
    "    x = 2\n",
    "    def setdata(self,value):         # Define class's mehtod\n",
    "        self.data = value            # self in instance\n",
    "    def display(self):\n",
    "        print(self.data) * self.x     #self.data : per instance\n",
    "\n",
    "\"By calling class this way, we generate instance objects. whcih are just namespaces that have acces to their class's attibute.\"\n",
    "\n",
    "x = FirstClass()\n",
    "y = FirstClass()\n",
    "\n",
    "\"\"\"\n",
    "Classes and instances are linked namespace objects in a class tree that is searched by inheritance. Here data attribute found\n",
    "in instance but setdata and display are in the class above.\n",
    "\n",
    "Here we have 3 linked namespaces (FirstClass,x, and, y).\n",
    "The two instances (x,y) start out empty but have links back to the class from which they generated.\n",
    "if we qualify an instance with the name attribute that lives in the class object, Python fetches the name\n",
    "form the class by inheritance search. Neither x or y has a setdata attribute of it's own, so to find it.\n",
    " Python follows the link form instance to class.\n",
    "\n",
    "In the setdata function inside Firstclass, the value passed in is assigned to self.data. Wihin a mehod,self- the name \n",
    "given to the leftmost argument by convention - automatically refers to the intance being proecses (x or y), so \n",
    "the assignments store value in the instace's namespaces, not the class.\"\n",
    "\"\"\"\n",
    "None"
   ]
  },
  {
   "cell_type": "code",
   "execution_count": null,
   "metadata": {},
   "outputs": [],
   "source": [
    "\"\"\"\"\n",
    "Here def nested def statements define functions that implement the behaviour the class meant to export.\n",
    "as def really is an assignment. Here it assigns function objects to the name setdata and display in the class\n",
    "stetement scope. So, generates attibutes attatched to the class - FirstClass.setdata and FirstClass.display. \n",
    "Infact any name assigned at top level of the class nested block becomets an attibute of the class.\n",
    "\n",
    "functions inside the class called methods. but a method's first argument automatically receives an implied\n",
    "instance object when called.\n",
    "\"\"\"\n",
    "\n",
    "\n",
    "class FirstClass:                    #defines a class object\n",
    "    def setdata(self,value):         # Define class's mehtod\n",
    "        self.data = value            # self in instance\n",
    "    def display(self):\n",
    "        print (self.data)     #self.data : per instance\n",
    "\n",
    "\"By calling class this way, we generate 2 instance objects. whcih are just namespaces that have acces to their class's attibute.\"\n",
    "\n",
    "x = FirstClass()\n",
    "y = FirstClass()\n",
    "\n",
    "\"\"\"\n",
    "We have 3 objects now 2 instances and 1 class.Really we have 3 linked namespaces. Two instances start out empty \n",
    "but have lins back to the class from which they generated.If we qualify an instance with the name of an attribute\n",
    "that lives int he class object, Python fetcheds the name form the class by inheritance search.\n",
    "\"\"\"\n",
    "x.setdata(\"King Arthur\")\n",
    "x.display()\n",
    "\n",
    "\"\"\"\n",
    "Neither x nor y has a setdata attibute of it's own. So, to find it. Python follows the link from instance to class from which they are generated. Here python fetches setdata or dispaly from inheritance search to the class.\n",
    "\n",
    "In the setdata function inside FirstClass, the value passsed in is assigned to self.data. Within a method self- name given to the leftmost argument by convention -automatically refers to the instance being processed (x or y),\n",
    "so the assignments store values in instance's namespaces, not the class. \n",
    "\n",
    "Notice that we stored different object types in the namespaces of each instance. they spring into existance\n",
    "first time they are assigned values, just like simple variables. in above example if were to call display\n",
    "on one one of our instances before calling setdata, we would trigger in undefined name error. the attribute\n",
    "named data does not even exist in memory unit until it is assigned winin the setdata method.\n",
    "\n",
    "\n",
    "We can change ins attribute in the class itself, by assinging to self in methods, or outside the class,\n",
    "by assinging an explicit instance object.\n",
    "\"\"\"\n",
    "print(x.data)\n",
    "x.data = 'New value'\n",
    "print(x.data)\n",
    "\n",
    "\"\"\"\n",
    "We can generate a entirely new attribute in the instance namespace by assinging to its name outside \n",
    "the class method.\n",
    "\"\"\"\n",
    "x.anothername = 'spam'\n",
    "x.anothername"
   ]
  },
  {
   "source": [
    "\n",
    "### class are customised by inheritance"
   ],
   "cell_type": "markdown",
   "metadata": {}
  },
  {
   "cell_type": "code",
   "execution_count": null,
   "metadata": {},
   "outputs": [],
   "source": [
    "\"\"\"\n",
    "Beseides serving as factories for generating multiple instance objests, classes also allow us to make changes by \n",
    "introducing new componets (called subclasses), intead of changing existing componets in place.\n",
    "\n",
    "Python  allows classes to inherit form other classes, open the door to coding hierarchies of classes that specialize behaviour - by redefining attributes in subclass that appear in lowwe hierarchy. We override \n",
    "the more general definition of those attributes higher in the tree.\n",
    "\n",
    "This is no paralled with modules, whose attributes live in a single, flat namespace that is not as amenable \n",
    "to cusomisazion.\n",
    "\"\"\"\n",
    "\n"
   ]
  },
  {
   "cell_type": "code",
   "execution_count": null,
   "metadata": {},
   "outputs": [],
   "source": [
    "\n",
    "\n",
    "\"In python, instances inherit from classes, and classed inherit from superclasses.\"\n",
    "\n",
    "\"\"\"\"\n",
    "- Super are listed in parentheses in a class header.\n",
    "- Classes inherit attributes from their superclasses.\n",
    "- Instances inherit attributes from all accessible classes\n",
    "- Each object.attributes reference invokes a new independent search.\n",
    "- Logic changes are made by subclassing, not by changing superclasses.\n",
    "\"\"\"\n",
    "\n"
   ]
  },
  {
   "cell_type": "code",
   "execution_count": null,
   "metadata": {},
   "outputs": [],
   "source": [
    "class FirstClass:                    #defines a class object\n",
    "    def setdata(self,value):         # Define class's mehtod\n",
    "        self.data = value            # self in instance\n",
    "    def display(self):\n",
    "        return (self.data) \n",
    "\n",
    "\n",
    "class Secondclass(FirstClass):\n",
    "    def display(self):\n",
    "        print(f'Current value = {self.data}')\n",
    "\n",
    "\"\"\"\n",
    "The net effect here is that secondclass specializes FirstClass by changing the behaviour\n",
    "of display mehtod. On the otherhand Secondclass still inherit the setdata mehtod from Firstclass.\n",
    "\"\"\"\n",
    "z = Secondclass()\n",
    "z.setdata(42)\n",
    "(z.display())\n",
    "(x.display())\n",
    "\n",
    "\"\"\"\"With inheritance classes provide better support extention and reuse than functions and modules\"\"\""
   ]
  },
  {
   "source": [
    "## Class are attributes in modules"
   ],
   "cell_type": "markdown",
   "metadata": {}
  },
  {
   "cell_type": "code",
   "execution_count": null,
   "metadata": {},
   "outputs": [],
   "source": [
    "\"\"\"\n",
    "It's just a variable assigned to an object when the class statement runs. Our Firstclass were coded in a module\n",
    "file instead of being typed interactively. We could import it and use its name normally in a class header line.\n",
    "\n",
    "from modulename import Firstclass\n",
    "class Secondclass(Firstclass):\n",
    "    def display(self): ..\n",
    "\n",
    "or, equivalenty:\n",
    "import modulename\n",
    "class Secondclass(modulename.Firstclass):\n",
    "    def display(self):\n",
    "\"\"\"\n",
    "\n",
    "\"\"\"Like everything else, class names always live within a module, So, they must follow all module rules.\n",
    "   This hold true even if modulename and class classname  have to have same name. Ex.\n",
    " import person\n",
    " x = person.person()\n",
    "\n",
    " or \n",
    "\n",
    " from person import person\n",
    " x = person()\n",
    "\"\"\"\n",
    "\n",
    "\"\"\"\n",
    "In common convention Pyton dictates that class names shoud begin with uppercase letter, to help them\n",
    "make more distinct. \n",
    "\"\"\"\n",
    "\n"
   ]
  },
  {
   "source": [
    "### Classes can intercept python operators"
   ],
   "cell_type": "markdown",
   "metadata": {}
  },
  {
   "cell_type": "code",
   "execution_count": null,
   "metadata": {},
   "outputs": [],
   "source": [
    "\"\"\"\n",
    "Operator overloading lets object codeded with classed intercept and repond to operations that work on \n",
    "builtin types: slicing,qualification etc. It's just an automatic dispatch mechanism - expression \n",
    "and other builtin operations route control to implementations in classes.\n",
    "\n",
    "Methods named with double underscores __X__ are special hooks. : In Python classes we implement operator overloading by providing specially named mehtods to intercept operations.\n",
    "\n",
    "\n",
    "Such Methods are are called autometically when intance appear in builtin operations. Ex. if an instance object\n",
    " inherits an __add__ mehtod, that method is called whenever the object appears in a+ expression. \n",
    "\n",
    " Classes may override most builtin type operations : There are dozens of special operator overloading mehtods names for intercepting and implementing nearly every operaton available for builtin types but also basic operations like printing and object creating.\n",
    "\n",
    "\n",
    " There are no default operator overloading methods.\n",
    "\n",
    "\"\"\"\n"
   ]
  },
  {
   "source": [
    "## Third Example"
   ],
   "cell_type": "markdown",
   "metadata": {}
  },
  {
   "cell_type": "code",
   "execution_count": 5,
   "metadata": {},
   "outputs": [],
   "source": [
    "class FirstClass:                    #defines a class object\n",
    "    def setdata(self,value):         # Define class's mehtod\n",
    "        self.data = value            # self in instance\n",
    "    def display(self):\n",
    "        return (self.data) \n",
    "\n",
    "\n",
    "class Secondclass(FirstClass):\n",
    "    def display(self):\n",
    "        print(f'Current value = {self.data}')\n",
    "\n",
    "\n",
    "class ThirdClass(Secondclass):\n",
    "    def __init__(self,value):\n",
    "        self.data = value\n",
    "\n",
    "    def __add__(self,other):\n",
    "        return ThirdClass(self.data + other)\n",
    "\n",
    "    def __str__(self):\n",
    "      return 'ThirdClass : %s' %self.data \n",
    "\n",
    "    def mul(self,other):\n",
    "        self.data *= other\n",
    "\n",
    "a = ThirdClass('abc')\n",
    "b = a + 'xyz'\n",
    "\n",
    "print(b)\n",
    "a.display()\n",
    "\n",
    "a.mul(2)\n",
    "print(a)\n",
    "\n",
    "\"\"\"\n",
    ". __init__ is run when a new instance object is created. self is the new ThirdClass object.\n",
    ". __add__ is run when a ThirdClass instance appears in a+ expression.\n",
    ". __str__ is run when an object is printed (technically, when it's converted to its print string by the str \n",
    "          built-in function or its Python inernals equivalent.\n",
    ". Specially named mehtods such as __init__, __add__, and __str__ are inherited by subclasses and instances.\n",
    " \n",
    ".Some operator overloading mehtods like __str__ require results but other are more flexible.\n",
    "\"\"\"\"\n",
    "\n",
    "\"\"\"\"\n",
    ". Notice how the __add__ mehtod makes and return a new instance object of its class, by calling\n",
    "  ThirdClass with the result value - which in turn triggers __init__ to initialize the result. \n",
    "\n",
    ".mul changes the current instance object in place, by reassinging the self attrubute. We could overload the * expression to do the latter, but this would be too different from the behaviour * for the built-in types\n",
    "such as numbers and strings, for which it always makes new objects. \n",
    "\"\"\"\n",
    "\n"
   ]
  },
  {
   "source": [
    "## Why use operator overloading\n",
    "\n",
    "Your choice of using operator overloading simply depends on how much you want your object to look \n",
    "like built in types. Many operator overloading methods then to be used when you are immplementing objects\n",
    "that are methematical in nature. \n",
    "\n",
    "One overloading mehood we will use often here is the __init__ constructor method. used to initialize newly\n",
    "created instance objects to allow classed to fill out the attributes in their new instance immediately."
   ],
   "cell_type": "markdown",
   "metadata": {}
  },
  {
   "source": [
    "## The World's simplest Python Class"
   ],
   "cell_type": "markdown",
   "metadata": {}
  },
  {
   "cell_type": "code",
   "execution_count": 24,
   "metadata": {},
   "outputs": [
    {
     "output_type": "stream",
     "name": "stdout",
     "text": [
      "Bob\n40\nx -age : 40\nBob\nNamesapce for instance x : {'power': 24}\nNamesapce for class rec : {'__module__': '__main__', '__dict__': <attribute '__dict__' of 'rec' objects>, '__weakref__': <attribute '__weakref__' of 'rec' objects>, '__doc__': None, 'name': 'Bob', 'age': 40}\n-------------------------------------\n('name', 'Bob')\n('age', 40)\n"
     ]
    }
   ],
   "source": [
    "class rec:pass\n",
    "\n",
    "# We can start attaching attributes to the class by assingning names to it completely outside of \n",
    "# original class statement.\n",
    "rec.name = 'Bob'\n",
    "rec.age = 40\n",
    "\n",
    "print(rec.name)\n",
    "print(rec.age) \n",
    "\n",
    "# Here each instance inherit all attributes from class linked object. \n",
    "\n",
    "x = rec()\n",
    "print('x -age :',x.age)\n",
    "\n",
    "y = rec()\n",
    "print(y.name)\n",
    "\n",
    "# ___dict__ attribute is the namespace dictionary for most class based objects. \n",
    "x.power = 24\n",
    "\n",
    "print('Namesapce for instance x :',x.__dict__)\n",
    "print('Namesapce for class rec :',rec.__dict__)\n",
    "\n",
    "print('-------------------------------------')\n",
    "\n",
    "# Removing built ins \n",
    "for i in rec.__dict__.items():\n",
    "    if not i[0].startswith('__'):\n",
    "        print(i)"
   ]
  },
  {
   "cell_type": "code",
   "execution_count": 25,
   "metadata": {},
   "outputs": [
    {
     "output_type": "execute_result",
     "data": {
      "text/plain": [
       "'BOB'"
      ]
     },
     "metadata": {},
     "execution_count": 25
    }
   ],
   "source": [
    "# Evne methods can be created completely independly of any class ojbect.abs\n",
    "class rec:pass\n",
    "\n",
    "# We can start attaching attributes to the class by assingning names to it completely outside of \n",
    "# original class statement.\n",
    "x = rec()\n",
    "x.name = 'Bob'\n",
    "\n",
    "def upper_name(obj):\n",
    "    return obj.name.upper()\n",
    "\n",
    "upper_name(x)"
   ]
  },
  {
   "cell_type": "code",
   "execution_count": 30,
   "metadata": {},
   "outputs": [
    {
     "output_type": "stream",
     "name": "stdout",
     "text": [
      "BOB\n"
     ]
    },
    {
     "output_type": "execute_result",
     "data": {
      "text/plain": [
       "'BOB'"
      ]
     },
     "metadata": {},
     "execution_count": 30
    }
   ],
   "source": [
    "# if we assign the simple function to an attribute of our class, if becomes method. :\n",
    "# Evne methods can be created completely independly of any class ojbect.abs\n",
    "class rec:pass\n",
    "\n",
    "# We can start attaching attributes to the class by assingning names to it completely outside of \n",
    "# original class statement.\n",
    "x = rec()\n",
    "x.name = 'Bob'\n",
    "\n",
    "def upper_name(obj):\n",
    "    return obj.name.upper()\n",
    "\n",
    "rec.upper = upper_name\n",
    "\n",
    "print(x.upper())\n",
    "\n",
    "\"same could be called as\"\n",
    "rec.upper(x)"
   ]
  },
  {
   "source": [
    "### Classes vs Dictionaries"
   ],
   "cell_type": "markdown",
   "metadata": {}
  },
  {
   "cell_type": "code",
   "execution_count": 41,
   "metadata": {},
   "outputs": [
    {
     "output_type": "stream",
     "name": "stdout",
     "text": [
      "tuple : Bob\ndict : Bob\nBob\n"
     ]
    }
   ],
   "source": [
    "rec_tuple = ('Bob',40.5,['dev','mgr'])                         #tuple bases record\n",
    "print('tuple :',rec_tuple[0])\n",
    "\n",
    "rec_dict = dict(name = 'Bob',age=40,jobs=['dev','mgr'])\n",
    "print('dict :',rec_dict['name'])\n",
    "\n",
    "# \n"
   ]
  },
  {
   "cell_type": "code",
   "execution_count": 50,
   "metadata": {},
   "outputs": [
    {
     "output_type": "stream",
     "name": "stdout",
     "text": [
      "Bob\n('Bob', ['dev', 'mgr'])\n"
     ]
    }
   ],
   "source": [
    "# this above code emulates records. The same we could do many ways in class. \n",
    "\n",
    "# simpplist way to do in class. \n",
    "class Rec_class: pass\n",
    "\n",
    "Rec_class.name  = 'Bob'\n",
    "Rec_class.jobs = ['devs','mgr']\n",
    "Rec_class.age = 40\n",
    "\n",
    "# This above works but a new statement will be required for each distinct record. \n",
    "# Instead we generate instance of an empty class to represent.\n",
    "\n",
    "class Rec_I: pass\n",
    "per1 = Rec_I()\n",
    "\n",
    "Rec_I.name = 'Bob'\n",
    "Rec_I.age = 40.5\n",
    "Rec_I.job = ['devs','mrg']\n",
    "\n",
    "pre2 = Rec_I()\n",
    "\n",
    "Rec_I.name = 'Sue'\n",
    "Rec_I.age = 4\n",
    "Rec_I.job = ['devs','mrg']\n",
    "\n",
    "# We make 2 records from the class. Instances start out empty just like classes. then we fill in records by assigning to attributes \n",
    "# in their each namespacellipsis\n",
    "\n",
    "\"\"\"\n",
    "Finally, we might istead code a more full-blown class to implement the record and it's processing- something data-oriented\n",
    "dictionaries can't provide. \n",
    "We can make this code more elegant with __init__ mehtod with less code.\n",
    "\"\"\"\n",
    "class Person:\n",
    "    def __init__(self,name,jobs,age=None):\n",
    "        self.name = name\n",
    "        self.jobs = jobs\n",
    "        self.age = age\n",
    "    \n",
    "    def info(self):\n",
    "        return (self.name,self.jobs)\n",
    "\n",
    "rec1 = Person('Bob',['dev','mgr'],40)\n",
    "rec2 = Person('Sue',['dev','cto'])\n",
    "\n",
    "print(rec1.name)\n",
    "print(rec1.info())\n",
    "\n",
    "# Here we created data record and one logic, we further add logic and link this class to larger hierarchies to inheric \n",
    "# and customise. "
   ]
  },
  {
   "cell_type": "code",
   "execution_count": null,
   "metadata": {},
   "outputs": [],
   "source": [
    "\"\"\"\n",
    "Although types like dictionaries and tuples are flexible, but classes allow us to add behaviour to object in ways that\n",
    "built-in types and functions don't support. Though we can functions in dictionaries, too using them to process implied \n",
    "isinstances is nowhere as natural and structed as it ins in classes.\n",
    "\"\"\"\n"
   ]
  }
 ]
}