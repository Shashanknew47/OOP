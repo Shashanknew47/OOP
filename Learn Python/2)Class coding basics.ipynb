{
 "metadata": {
  "language_info": {
   "codemirror_mode": {
    "name": "ipython",
    "version": 3
   },
   "file_extension": ".py",
   "mimetype": "text/x-python",
   "name": "python",
   "nbconvert_exporter": "python",
   "pygments_lexer": "ipython3",
   "version": "3.9.6"
  },
  "orig_nbformat": 2,
  "kernelspec": {
   "name": "python3",
   "display_name": "Python 3.9.6 64-bit"
  },
  "interpreter": {
   "hash": "53a48d540490c1342b6131282b8ad4cfe0e9dc3e24c6f4b148938ffb48df8e93"
  }
 },
 "nbformat": 4,
 "nbformat_minor": 2,
 "cells": [
  {
   "cell_type": "markdown",
   "source": [
    " There are 2 kinds of objects in Python's OOP model. \r\n",
    "  - class objects (class object comes from statements.)\r\n",
    "  - instance objects (Instance object comes from call.)\r\n"
   ],
   "metadata": {}
  },
  {
   "cell_type": "markdown",
   "source": [
    "### Behavior of isinstance objects\n",
    "\n",
    "   - Each time class is called, it create and returns a new instace object.\n",
    "   - Each instace objects inherits class attributes and gets it's own namespace.\n",
    "   - Inside a class method of functions, the first argument(called self by convention) reference the instance object\n",
    "     being processed, assignments to attributes of self create or change data the instace, not the class."
   ],
   "metadata": {}
  },
  {
   "cell_type": "code",
   "execution_count": 37,
   "source": [
    "\"\"\"Here below setdata and display in class statement generates attributes attached to the class and called methods.\r\n",
    "They are coded with normal defs. In a mehtod funcitons, the first argument autometically receives an implied instance object when called. \"\"\"\r\n",
    "\r\n",
    "class FirstClass:                    #defines a class object\r\n",
    "    x = 2\r\n",
    "    def setdata(self,value):         # Define class's mehtod\r\n",
    "        self.data = value            # self in instance\r\n",
    "    def display(self):\r\n",
    "        print(self.data) * self.x     #self.data : per instance\r\n",
    "\r\n",
    "\"By calling class this way, we generate instance objects. whcih are just namespaces that have acces to their class's attibute.\"\r\n",
    "\r\n",
    "x = FirstClass()\r\n",
    "y = FirstClass()\r\n",
    "\r\n",
    "\"\"\"\r\n",
    "Classes and instances are linked namespace objects in a class tree that is searched by inheritance. Here data attribute found\r\n",
    "in instance but setdata and display are in the class above.\r\n",
    "\r\n",
    "Here we have 3 linked namespaces (FirstClass,x, and, y).\r\n",
    "The two instances (x,y) start out empty but have links back to the class from which they generated.\r\n",
    "if we qualify an instance with the name attribute that lives in the class object, Python fetches the name\r\n",
    "form the class by inheritance search. Neither x or y has a setdata attribute of it's own, so to find it.\r\n",
    " Python follows the link form instance to class.\r\n",
    "\r\n",
    "In the setdata function inside Firstclass, the value passed in is assigned to self.data. Wihin a mehod,self- the name \r\n",
    "given to the leftmost argument by convention - automatically refers to the intance being proecses (x or y), so \r\n",
    "the assignments store value in the instace's namespaces, not the class.\"\r\n",
    "\"\"\"\r\n",
    "None"
   ],
   "outputs": [],
   "metadata": {}
  },
  {
   "cell_type": "code",
   "execution_count": 38,
   "source": [
    "\"\"\"\"\r\n",
    "Here def nested def statements define functions that implement the behaviour the class meant to export.\r\n",
    "as def really is an assignment. Here it assigns function objects to the name setdata and display in the class\r\n",
    "stetement scope. So, generates attibutes attatched to the class - FirstClass.setdata and FirstClass.display. \r\n",
    "Infact any name assigned at top level of the class nested block becomets an attibute of the class.\r\n",
    "\r\n",
    "functions inside the class called methods. but a method's first argument automatically receives an implied\r\n",
    "instance object when called.\r\n",
    "\"\"\"\r\n",
    "\r\n",
    "\r\n",
    "class FirstClass:                    #defines a class object\r\n",
    "    def setdata(self,value):         # Define class's mehtod\r\n",
    "        self.data = value            # self in instance\r\n",
    "    def display(self):\r\n",
    "        print (self.data)     #self.data : per instance\r\n",
    "\r\n",
    "\"By calling class this way, we generate 2 instance objects. whcih are just namespaces that have acces to their class's attibute.\"\r\n",
    "\r\n",
    "x = FirstClass()\r\n",
    "y = FirstClass()\r\n",
    "\r\n",
    "\"\"\"\r\n",
    "We have 3 objects now 2 instances and 1 class.Really we have 3 linked namespaces. Two instances start out empty \r\n",
    "but have lins back to the class from which they generated.If we qualify an instance with the name of an attribute\r\n",
    "that lives int he class object, Python fetcheds the name form the class by inheritance search.\r\n",
    "\"\"\"\r\n",
    "x.setdata(\"King Arthur\")\r\n",
    "x.display()\r\n",
    "\r\n",
    "\"\"\"\r\n",
    "Neither x nor y has a setdata attibute of it's own. So, to find it. Python follows the link from instance to class from which they are generated. Here python fetches setdata or dispaly from inheritance search to the class.\r\n",
    "\r\n",
    "In the setdata function inside FirstClass, the value passsed in is assigned to self.data. Within a method self- name given to the leftmost argument by convention -automatically refers to the instance being processed (x or y),\r\n",
    "so the assignments store values in instance's namespaces, not the class. \r\n",
    "\r\n",
    "Notice that we stored different object types in the namespaces of each instance. they spring into existance\r\n",
    "first time they are assigned values, just like simple variables. in above example if were to call display\r\n",
    "on one one of our instances before calling setdata, we would trigger in undefined name error. the attribute\r\n",
    "named data does not even exist in memory unit until it is assigned winin the setdata method.\r\n",
    "\r\n",
    "\r\n",
    "We can change ins attribute in the class itself, by assinging to self in methods, or outside the class,\r\n",
    "by assinging an explicit instance object.\r\n",
    "\"\"\"\r\n",
    "print(x.data)\r\n",
    "x.data = 'New value'\r\n",
    "print(x.data)\r\n",
    "\r\n",
    "\"\"\"\r\n",
    "We can generate a entirely new attribute in the instance namespace by assinging to its name outside \r\n",
    "the class method.\r\n",
    "\"\"\"\r\n",
    "x.anothername = 'spam'\r\n",
    "x.anothername"
   ],
   "outputs": [
    {
     "output_type": "stream",
     "name": "stdout",
     "text": [
      "King Arthur\n",
      "King Arthur\n",
      "New value\n"
     ]
    },
    {
     "output_type": "execute_result",
     "data": {
      "text/plain": [
       "'spam'"
      ]
     },
     "metadata": {},
     "execution_count": 38
    }
   ],
   "metadata": {}
  },
  {
   "cell_type": "markdown",
   "source": [
    "\n",
    "### class are customised by inheritance"
   ],
   "metadata": {}
  },
  {
   "cell_type": "markdown",
   "source": [
    "\"\"\"\r\n",
    "Beseides serving as factories for generating multiple instance objests, classes also allow us to make changes by \r\n",
    "introducing new componets (called subclasses), intead of changing existing componets in place.\r\n",
    "\r\n",
    "Python  allows classes to inherit form other classes, open the door to coding hierarchies of classes that specialize behaviour - by redefining attributes in subclass that appear in lowwe hierarchy. We override \r\n",
    "the more general definition of those attributes higher in the tree.\r\n",
    "\r\n",
    "This is no paralled with modules, whose attributes live in a single, flat namespace that is not as amenable \r\n",
    "to cusomisazion.\r\n",
    "\"\"\"\r\n",
    "\r\n"
   ],
   "metadata": {}
  },
  {
   "cell_type": "markdown",
   "source": [
    "\r\n",
    "\r\n",
    "\"In python, instances inherit from classes, and classed inherit from superclasses.\"\r\n",
    "\r\n",
    "\"\"\"\"\r\n",
    "- Super are listed in parentheses in a class header.\r\n",
    "- Classes inherit attributes from their superclasses.\r\n",
    "- Instances inherit attributes from all accessible classes\r\n",
    "- Each object.attributes reference invokes a new independent search.\r\n",
    "- Logic changes are made by subclassing, not by changing superclasses.\r\n",
    "\"\"\"\r\n",
    "\r\n"
   ],
   "metadata": {}
  },
  {
   "cell_type": "code",
   "execution_count": 41,
   "source": [
    "class FirstClass:                    #defines a class object\r\n",
    "    def setdata(self,value):         # Define class's mehtod\r\n",
    "        self.data = value            # self in instance\r\n",
    "    def display(self):\r\n",
    "        return (self.data) \r\n",
    "\r\n",
    "\r\n",
    "class Secondclass(FirstClass):\r\n",
    "    def display(self):\r\n",
    "        print(f'Current value = {self.data}')\r\n",
    "\r\n",
    "\"\"\"\r\n",
    "The net effect here is that secondclass specializes FirstClass by changing the behaviour\r\n",
    "of display mehtod. On the otherhand Secondclass still inherit the setdata mehtod from Firstclass.\r\n",
    "\"\"\"\r\n",
    "z = Secondclass()\r\n",
    "z.setdata(42)\r\n",
    "(z.display())\r\n",
    "(x.display())\r\n",
    "\r\n",
    "\"\"\"\"With inheritance classes provide better support extention and reuse than functions and modules\"\"\""
   ],
   "outputs": [
    {
     "output_type": "stream",
     "name": "stdout",
     "text": [
      "Current value = 42\n",
      "New value\n"
     ]
    },
    {
     "output_type": "execute_result",
     "data": {
      "text/plain": [
       "'\"With inheritance classes provide better support extention and reuse than functions and modules'"
      ]
     },
     "metadata": {},
     "execution_count": 41
    }
   ],
   "metadata": {}
  },
  {
   "cell_type": "markdown",
   "source": [
    "## Class are attributes in modules"
   ],
   "metadata": {}
  },
  {
   "cell_type": "markdown",
   "source": [
    "\"\"\"\r\n",
    "It's just a variable assigned to an object when the class statement runs. Our Firstclass were coded in a module\r\n",
    "file instead of being typed interactively. We could import it and use its name normally in a class header line.\r\n",
    "\r\n",
    "from modulename import Firstclass\r\n",
    "class Secondclass(Firstclass):\r\n",
    "    def display(self): ..\r\n",
    "\r\n",
    "or, equivalenty:\r\n",
    "import modulename\r\n",
    "class Secondclass(modulename.Firstclass):\r\n",
    "    def display(self):\r\n",
    "\"\"\"\r\n",
    "\r\n",
    "\"\"\"Like everything else, class names always live within a module, So, they must follow all module rules.\r\n",
    "   This hold true even if modulename and class classname  have to have same name. Ex.\r\n",
    " import person\r\n",
    " x = person.person()\r\n",
    "\r\n",
    " or \r\n",
    "\r\n",
    " from person import person\r\n",
    " x = person()\r\n",
    "\"\"\"\r\n",
    "\r\n",
    "\"\"\"\r\n",
    "In common convention Pyton dictates that class names shoud begin with uppercase letter, to help them\r\n",
    "make more distinct. \r\n",
    "\"\"\"\r\n",
    "\r\n"
   ],
   "metadata": {}
  },
  {
   "cell_type": "markdown",
   "source": [
    "### Classes can intercept python operators"
   ],
   "metadata": {}
  },
  {
   "cell_type": "markdown",
   "source": [
    "\"\"\"\r\n",
    "Operator overloading lets object codeded with classed intercept and repond to operations that work on \r\n",
    "builtin types: slicing,qualification etc. It's just an automatic dispatch mechanism - expression \r\n",
    "and other builtin operations route control to implementations in classes.\r\n",
    "\r\n",
    "Methods named with double underscores __X__ are special hooks. : In Python classes we implement operator overloading by providing specially named mehtods to intercept operations.\r\n",
    "\r\n",
    "\r\n",
    "Such Methods are are called autometically when intance appear in builtin operations. Ex. if an instance object\r\n",
    " inherits an __add__ mehtod, that method is called whenever the object appears in a+ expression. \r\n",
    "\r\n",
    " Classes may override most builtin type operations : There are dozens of special operator overloading mehtods names for intercepting and implementing nearly every operaton available for builtin types but also basic operations like printing and object creating.\r\n",
    "\r\n",
    "\r\n",
    " There are no default operator overloading methods.\r\n",
    "\r\n",
    "\"\"\"\r\n"
   ],
   "metadata": {}
  },
  {
   "cell_type": "markdown",
   "source": [
    "## Third Example"
   ],
   "metadata": {}
  },
  {
   "cell_type": "code",
   "execution_count": 44,
   "source": [
    "class FirstClass:                    #defines a class object\r\n",
    "    def setdata(self,value):         # Define class's mehtod\r\n",
    "        self.data = value            # self in instance\r\n",
    "    def display(self):\r\n",
    "        return (self.data) \r\n",
    "\r\n",
    "\r\n",
    "class Secondclass(FirstClass):\r\n",
    "    def display(self):\r\n",
    "        print(f'Current value = {self.data}')\r\n",
    "\r\n",
    "\r\n",
    "class ThirdClass(Secondclass):\r\n",
    "    def __init__(self,value):\r\n",
    "        self.data = value\r\n",
    "\r\n",
    "    def __add__(self,other):\r\n",
    "        return ThirdClass(self.data + other)\r\n",
    "\r\n",
    "    def __str__(self):\r\n",
    "      return 'ThirdClass : %s' %self.data \r\n",
    "\r\n",
    "    def mul(self,other):\r\n",
    "        self.data *= other\r\n",
    "\r\n",
    "a = ThirdClass('abc')\r\n",
    "b = a + 'xyz'\r\n",
    "\r\n",
    "print(b)\r\n",
    "a.display()\r\n",
    "\r\n",
    "a.mul(2)\r\n",
    "print(a)\r\n",
    "\r\n",
    "\"\"\"\r\n",
    ". __init__ is run when a new instance object is created. self is the new ThirdClass object.\r\n",
    ". __add__ is run when a ThirdClass instance appears in a+ expression.\r\n",
    ". __str__ is run when an object is printed (technically, when it's converted to its print string by the str \r\n",
    "          built-in function or its Python inernals equivalent.\r\n",
    ". Specially named mehtods such as __init__, __add__, and __str__ are inherited by subclasses and instances.\r\n",
    " \r\n",
    ".Some operator overloading mehtods like __str__ require results but other are more flexible.\r\n",
    "\r\n",
    ". Notice how the __add__ mehtod makes and return a new instance object of its class, by calling\r\n",
    "  ThirdClass with the result value - which in turn triggers __init__ to initialize the result. \r\n",
    "\r\n",
    ".mul changes the current instance object in place, by reassinging the self attrubute. We could overload the * expression to do the latter, but this would be too different from the behaviour * for the built-in types\r\n",
    "such as numbers and strings, for which it always makes new objects. \r\n",
    "\"\"\"\r\n",
    "\r\n",
    "None"
   ],
   "outputs": [
    {
     "output_type": "stream",
     "name": "stdout",
     "text": [
      "ThirdClass : abcxyz\n",
      "Current value = abc\n",
      "ThirdClass : abcabc\n"
     ]
    }
   ],
   "metadata": {}
  },
  {
   "cell_type": "markdown",
   "source": [
    "## Why use operator overloading\n",
    "\n",
    "Your choice of using operator overloading simply depends on how much you want your object to look \n",
    "like built in types. Many operator overloading methods then to be used when you are immplementing objects\n",
    "that are methematical in nature. \n",
    "\n",
    "One overloading mehood we will use often here is the __init__ constructor method. used to initialize newly\n",
    "created instance objects to allow classed to fill out the attributes in their new instance immediately."
   ],
   "metadata": {}
  },
  {
   "cell_type": "markdown",
   "source": [
    "## The World's simplest Python Class"
   ],
   "metadata": {}
  },
  {
   "cell_type": "code",
   "execution_count": 45,
   "source": [
    "class rec:pass\r\n",
    "\r\n",
    "# We can start attaching attributes to the class by assingning names to it completely outside of \r\n",
    "# original class statement.\r\n",
    "rec.name = 'Bob'\r\n",
    "rec.age = 40\r\n",
    "\r\n",
    "print(rec.name)\r\n",
    "print(rec.age) \r\n",
    "\r\n",
    "# Here each instance inherit all attributes from class linked object. \r\n",
    "\r\n",
    "x = rec()\r\n",
    "print('x -age :',x.age)\r\n",
    "\r\n",
    "y = rec()\r\n",
    "print(y.name)\r\n",
    "\r\n",
    "# ___dict__ attribute is the namespace dictionary for most class based objects. \r\n",
    "x.power = 24\r\n",
    "\r\n",
    "print('Namesapce for instance x :',x.__dict__)\r\n",
    "print('Namesapce for class rec :',rec.__dict__)\r\n",
    "\r\n",
    "print('-------------------------------------')\r\n",
    "\r\n",
    "# Removing built ins \r\n",
    "for i in rec.__dict__.items():\r\n",
    "    if not i[0].startswith('__'):\r\n",
    "        print(i)"
   ],
   "outputs": [
    {
     "output_type": "stream",
     "name": "stdout",
     "text": [
      "Bob\n",
      "40\n",
      "x -age : 40\n",
      "Bob\n",
      "Namesapce for instance x : {'power': 24}\n",
      "Namesapce for class rec : {'__module__': '__main__', '__dict__': <attribute '__dict__' of 'rec' objects>, '__weakref__': <attribute '__weakref__' of 'rec' objects>, '__doc__': None, 'name': 'Bob', 'age': 40}\n",
      "-------------------------------------\n",
      "('name', 'Bob')\n",
      "('age', 40)\n"
     ]
    }
   ],
   "metadata": {}
  },
  {
   "cell_type": "code",
   "execution_count": 46,
   "source": [
    "# Evne methods can be created completely independly of any class ojbect.abs\r\n",
    "class rec:pass\r\n",
    "\r\n",
    "# We can start attaching attributes to the class by assingning names to it completely outside of \r\n",
    "# original class statement.\r\n",
    "x = rec()\r\n",
    "x.name = 'Bob'\r\n",
    "\r\n",
    "def upper_name(obj):\r\n",
    "    return obj.name.upper()\r\n",
    "\r\n",
    "upper_name(x)"
   ],
   "outputs": [
    {
     "output_type": "execute_result",
     "data": {
      "text/plain": [
       "'BOB'"
      ]
     },
     "metadata": {},
     "execution_count": 46
    }
   ],
   "metadata": {}
  },
  {
   "cell_type": "code",
   "execution_count": 47,
   "source": [
    "# if we assign the simple function to an attribute of our class, if becomes method. :\r\n",
    "# Evne methods can be created completely independly of any class ojbect.abs\r\n",
    "class rec:pass\r\n",
    "\r\n",
    "# We can start attaching attributes to the class by assingning names to it completely outside of \r\n",
    "# original class statement.\r\n",
    "x = rec()\r\n",
    "x.name = 'Bob'\r\n",
    "\r\n",
    "def upper_name(obj):\r\n",
    "    return obj.name.upper()\r\n",
    "\r\n",
    "rec.upper = upper_name\r\n",
    "\r\n",
    "print(x.upper())\r\n",
    "\r\n",
    "\"same could be called as\"\r\n",
    "rec.upper(x)"
   ],
   "outputs": [
    {
     "output_type": "stream",
     "name": "stdout",
     "text": [
      "BOB\n"
     ]
    },
    {
     "output_type": "execute_result",
     "data": {
      "text/plain": [
       "'BOB'"
      ]
     },
     "metadata": {},
     "execution_count": 47
    }
   ],
   "metadata": {}
  },
  {
   "cell_type": "markdown",
   "source": [
    "### Classes vs Dictionaries"
   ],
   "metadata": {}
  },
  {
   "cell_type": "code",
   "execution_count": 48,
   "source": [
    "rec_tuple = ('Bob',40.5,['dev','mgr'])                         #tuple bases record\r\n",
    "print('tuple :',rec_tuple[0])\r\n",
    "\r\n",
    "rec_dict = dict(name = 'Bob',age=40,jobs=['dev','mgr'])\r\n",
    "print('dict :',rec_dict['name'])\r\n",
    "\r\n",
    "# \r\n"
   ],
   "outputs": [
    {
     "output_type": "stream",
     "name": "stdout",
     "text": [
      "tuple : Bob\n",
      "dict : Bob\n"
     ]
    }
   ],
   "metadata": {}
  },
  {
   "cell_type": "code",
   "execution_count": 49,
   "source": [
    "# this above code emulates records. The same we could do many ways in class. \r\n",
    "\r\n",
    "# simpplist way to do in class. \r\n",
    "class Rec_class: pass\r\n",
    "\r\n",
    "Rec_class.name  = 'Bob'\r\n",
    "Rec_class.jobs = ['devs','mgr']\r\n",
    "Rec_class.age = 40\r\n",
    "\r\n",
    "# This above works but a new statement will be required for each distinct record. \r\n",
    "# Instead we generate instance of an empty class to represent.\r\n",
    "\r\n",
    "class Rec_I: pass\r\n",
    "per1 = Rec_I()\r\n",
    "\r\n",
    "Rec_I.name = 'Bob'\r\n",
    "Rec_I.age = 40.5\r\n",
    "Rec_I.job = ['devs','mrg']\r\n",
    "\r\n",
    "pre2 = Rec_I()\r\n",
    "\r\n",
    "Rec_I.name = 'Sue'\r\n",
    "Rec_I.age = 4\r\n",
    "Rec_I.job = ['devs','mrg']\r\n",
    "\r\n",
    "# We make 2 records from the class. Instances start out empty just like classes. then we fill in records by assigning to attributes \r\n",
    "# in their each namespacellipsis\r\n",
    "\r\n",
    "\"\"\"\r\n",
    "Finally, we might istead code a more full-blown class to implement the record and it's processing- something data-oriented\r\n",
    "dictionaries can't provide. \r\n",
    "We can make this code more elegant with __init__ mehtod with less code.\r\n",
    "\"\"\"\r\n",
    "class Person:\r\n",
    "    def __init__(self,name,jobs,age=None):\r\n",
    "        self.name = name\r\n",
    "        self.jobs = jobs\r\n",
    "        self.age = age\r\n",
    "    \r\n",
    "    def info(self):\r\n",
    "        return (self.name,self.jobs)\r\n",
    "\r\n",
    "rec1 = Person('Bob',['dev','mgr'],40)\r\n",
    "rec2 = Person('Sue',['dev','cto'])\r\n",
    "\r\n",
    "print(rec1.name)\r\n",
    "print(rec1.info())\r\n",
    "\r\n",
    "# Here we created data record and one logic, we further add logic and link this class to larger hierarchies to inheric \r\n",
    "# and customise. "
   ],
   "outputs": [
    {
     "output_type": "stream",
     "name": "stdout",
     "text": [
      "Bob\n",
      "('Bob', ['dev', 'mgr'])\n"
     ]
    }
   ],
   "metadata": {}
  },
  {
   "cell_type": "markdown",
   "source": [
    "\"\"\"\r\n",
    "Although types like dictionaries and tuples are flexible, but classes allow us to add behaviour to object in ways that\r\n",
    "built-in types and functions don't support. Though we can add functions in dictionaries, too using them to process implied \r\n",
    "isinstances is nowhere as natural and structed as it ins in classes.\r\n",
    "\"\"\"\r\n",
    "None"
   ],
   "metadata": {}
  }
 ]
}