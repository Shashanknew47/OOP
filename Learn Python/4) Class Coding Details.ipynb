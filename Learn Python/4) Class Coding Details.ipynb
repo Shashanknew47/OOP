{
 "metadata": {
  "language_info": {
   "codemirror_mode": {
    "name": "ipython",
    "version": 3
   },
   "file_extension": ".py",
   "mimetype": "text/x-python",
   "name": "python",
   "nbconvert_exporter": "python",
   "pygments_lexer": "ipython3",
   "version": "3.9.6"
  },
  "orig_nbformat": 2,
  "kernelspec": {
   "name": "python3",
   "display_name": "Python 3.9.6 64-bit"
  },
  "interpreter": {
   "hash": "53a48d540490c1342b6131282b8ad4cfe0e9dc3e24c6f4b148938ffb48df8e93"
  }
 },
 "nbformat": 4,
 "nbformat_minor": 2,
 "cells": [
  {
   "cell_type": "code",
   "execution_count": 3,
   "source": [
    "\"\"\"\r\n",
    "Python autometically maps instance mehtod calls to a class's method functions as follows. Method call made through an instance,like this :\r\n",
    "instance.mehod(args...)\r\n",
    "\r\n",
    "are autometically translated to calss mehod function calls of this form:\r\n",
    "class.method(instance,args...)\r\n",
    "\"\"\"\r\n",
    "class Nextclass:\r\n",
    "\r\n",
    "    def printer(self,text):\r\n",
    "        self.message = text\r\n",
    "        print(self.message)\r\n",
    "\r\n",
    "x  = Nextclass()\r\n",
    "x.printer('printer method call by instance')\r\n",
    "print('---------------------------------------')\r\n",
    "# same could be call by class \r\n",
    "Nextclass.printer(x,'class call')"
   ],
   "outputs": [
    {
     "output_type": "stream",
     "name": "stdout",
     "text": [
      "printer method call by instance\n",
      "---------------------------------------\n",
      "class call\n"
     ]
    }
   ],
   "metadata": {}
  },
  {
   "cell_type": "markdown",
   "source": [
    "## Class Interface Techniques \n",
    "\n",
    "Extention is only one way to interface with a superclass.\n"
   ],
   "metadata": {}
  },
  {
   "cell_type": "code",
   "execution_count": 3,
   "source": [
    "\r\n",
    "# Super\r\n",
    "\"Defines a method function and a delegate that expects an action in superclass.\"\r\n",
    "\r\n",
    "class Super:\r\n",
    "    def method(self):\r\n",
    "        print('in super.method')\r\n",
    "    def delegate(self):\r\n",
    "        self.action()\r\n",
    "\r\n",
    "\r\n",
    "# Inheritor\r\n",
    "\"Does not provide any new namee,So, it gets everythings from Super\"\r\n",
    "class Inheritor(Super):\r\n",
    "    pass\r\n",
    "\r\n",
    "#Replacer \r\n",
    "\"Overrides Super's method with a version of it's own\"\r\n",
    "class Replacer(Super):\r\n",
    "    def method(self):\r\n",
    "        print('In Replace.method')\r\n",
    "\r\n",
    "#Extender \r\n",
    "\"Customizes super's method by overriding and calling back to run the default\"\r\n",
    "class Extender(Super):\r\n",
    "    def method(self):\r\n",
    "        print('Strarting Extender.mehtod')\r\n",
    "        Super.method(self)\r\n",
    "        print('ending Extender.method')\r\n",
    "\r\n",
    "#Provider \r\n",
    "\"Implements the action mehtod expected by super's delegage method.\"\r\n",
    "class Provider(Super):\r\n",
    "    def action(self):\r\n",
    "        print('In provider.action')\r\n",
    "\r\n",
    "if __name__=='__main__':\r\n",
    "    for klass in (Inheritor,Replacer,Extender):\r\n",
    "        print('\\n' + klass.__name__ + '...')\r\n",
    "        klass().method()\r\n",
    "\r\n",
    "\r\n",
    "print('=========================================')\r\n",
    "x = Provider()\r\n",
    "x.delegate()\r\n"
   ],
   "outputs": [
    {
     "output_type": "stream",
     "name": "stdout",
     "text": [
      "\n",
      "Inheritor...\n",
      "in super.method\n",
      "\n",
      "Replacer...\n",
      "In Replace.method\n",
      "\n",
      "Extender...\n",
      "Strarting Extender.mehtod\n",
      "in super.method\n",
      "ending Extender.method\n",
      "=========================================\n",
      "In provider.action\n"
     ]
    }
   ],
   "metadata": {}
  },
  {
   "cell_type": "markdown",
   "source": [
    "## Abstract Superclass"
   ],
   "metadata": {}
  },
  {
   "cell_type": "code",
   "execution_count": null,
   "source": [
    "class Super:\r\n",
    "    def method(self):\r\n",
    "        print('in super.method')\r\n",
    "    def delegate(self):\r\n",
    "        self.action()\r\n",
    "\r\n",
    "class Provider(Super):\r\n",
    "    def action(self):\r\n",
    "        print('In provider.action')\r\n",
    "\r\n",
    "\r\n",
    "P = Provider()\r\n",
    "P.method()\r\n",
    "P.action()\r\n",
    "\r\n",
    "\"\"\"\r\n",
    "In above example terms of delegate method, the superclass in this example is what is\r\n",
    "someties called an abastrat superclass- a class that expects parts of it's behaviour \r\n",
    "to be provided by it's subclass. If an expected method is not defined in a subclass,\r\n",
    "Python raises an undefined exception when the inheritance search fails.\r\n",
    "\"\"\""
   ],
   "outputs": [
    {
     "output_type": "stream",
     "name": "stdout",
     "text": [
      "in super.method\n",
      "In provider.action\n"
     ]
    },
    {
     "output_type": "execute_result",
     "data": {
      "text/plain": [
       "\"\\nIn above example terms of delegate method, the superclass in this example is what is\\nsometices called an abastrat superclass- a class that expects parts of it's behaviour \\nto be provided by it's subclass. If an expected method is not defined in a subclass,\\nPython raises an undefined exception when the inheritance search fails.\\n\""
      ]
     },
     "metadata": {},
     "execution_count": 32
    }
   ],
   "metadata": {}
  },
  {
   "cell_type": "markdown",
   "source": [
    "\n",
    "Class codeers sometices make such requirement more obvious with assert statements,\n",
    "or by raising the built-in NotimplementedError exception with raise statements.\n"
   ],
   "metadata": {}
  },
  {
   "cell_type": "code",
   "execution_count": 5,
   "source": [
    "class Super:\r\n",
    "    def delegate(self):\r\n",
    "        self.action()\r\n",
    "    def action(self):\r\n",
    "        assert False, 'action must be defined'\r\n",
    "\r\n",
    "X = Super()\r\n",
    "X.delegate()"
   ],
   "outputs": [],
   "metadata": {}
  },
  {
   "cell_type": "code",
   "execution_count": null,
   "source": [
    "class Super:\r\n",
    "    def delegate(self):\r\n",
    "        self.action()\r\n",
    "    def action(self):\r\n",
    "        raise NotImplementedError('action must be defined')\r\n",
    "\r\n",
    "x = Super()\r\n",
    "x.delegate()"
   ],
   "outputs": [
    {
     "output_type": "error",
     "ename": "NotImplementedError",
     "evalue": "action must be defined",
     "traceback": [
      "\u001b[1;31m---------------------------------------------------------------------------\u001b[0m",
      "\u001b[1;31mNotImplementedError\u001b[0m                       Traceback (most recent call last)",
      "\u001b[1;32m<ipython-input-29-2df468e5ebf5>\u001b[0m in \u001b[0;36m<module>\u001b[1;34m\u001b[0m\n\u001b[0;32m      6\u001b[0m \u001b[1;33m\u001b[0m\u001b[0m\n\u001b[0;32m      7\u001b[0m \u001b[0mx\u001b[0m \u001b[1;33m=\u001b[0m \u001b[0mSuper\u001b[0m\u001b[1;33m(\u001b[0m\u001b[1;33m)\u001b[0m\u001b[1;33m\u001b[0m\u001b[1;33m\u001b[0m\u001b[0m\n\u001b[1;32m----> 8\u001b[1;33m \u001b[0mx\u001b[0m\u001b[1;33m.\u001b[0m\u001b[0mdelegate\u001b[0m\u001b[1;33m(\u001b[0m\u001b[1;33m)\u001b[0m\u001b[1;33m\u001b[0m\u001b[1;33m\u001b[0m\u001b[0m\n\u001b[0m",
      "\u001b[1;32m<ipython-input-29-2df468e5ebf5>\u001b[0m in \u001b[0;36mdelegate\u001b[1;34m(self)\u001b[0m\n\u001b[0;32m      1\u001b[0m \u001b[1;32mclass\u001b[0m \u001b[0mSuper\u001b[0m\u001b[1;33m:\u001b[0m\u001b[1;33m\u001b[0m\u001b[1;33m\u001b[0m\u001b[0m\n\u001b[0;32m      2\u001b[0m     \u001b[1;32mdef\u001b[0m \u001b[0mdelegate\u001b[0m\u001b[1;33m(\u001b[0m\u001b[0mself\u001b[0m\u001b[1;33m)\u001b[0m\u001b[1;33m:\u001b[0m\u001b[1;33m\u001b[0m\u001b[1;33m\u001b[0m\u001b[0m\n\u001b[1;32m----> 3\u001b[1;33m         \u001b[0mself\u001b[0m\u001b[1;33m.\u001b[0m\u001b[0maction\u001b[0m\u001b[1;33m(\u001b[0m\u001b[1;33m)\u001b[0m\u001b[1;33m\u001b[0m\u001b[1;33m\u001b[0m\u001b[0m\n\u001b[0m\u001b[0;32m      4\u001b[0m     \u001b[1;32mdef\u001b[0m \u001b[0maction\u001b[0m\u001b[1;33m(\u001b[0m\u001b[0mself\u001b[0m\u001b[1;33m)\u001b[0m\u001b[1;33m:\u001b[0m\u001b[1;33m\u001b[0m\u001b[1;33m\u001b[0m\u001b[0m\n\u001b[0;32m      5\u001b[0m         \u001b[1;32mraise\u001b[0m \u001b[0mNotImplementedError\u001b[0m\u001b[1;33m(\u001b[0m\u001b[1;34m'action must be defined'\u001b[0m\u001b[1;33m)\u001b[0m\u001b[1;33m\u001b[0m\u001b[1;33m\u001b[0m\u001b[0m\n",
      "\u001b[1;32m<ipython-input-29-2df468e5ebf5>\u001b[0m in \u001b[0;36maction\u001b[1;34m(self)\u001b[0m\n\u001b[0;32m      3\u001b[0m         \u001b[0mself\u001b[0m\u001b[1;33m.\u001b[0m\u001b[0maction\u001b[0m\u001b[1;33m(\u001b[0m\u001b[1;33m)\u001b[0m\u001b[1;33m\u001b[0m\u001b[1;33m\u001b[0m\u001b[0m\n\u001b[0;32m      4\u001b[0m     \u001b[1;32mdef\u001b[0m \u001b[0maction\u001b[0m\u001b[1;33m(\u001b[0m\u001b[0mself\u001b[0m\u001b[1;33m)\u001b[0m\u001b[1;33m:\u001b[0m\u001b[1;33m\u001b[0m\u001b[1;33m\u001b[0m\u001b[0m\n\u001b[1;32m----> 5\u001b[1;33m         \u001b[1;32mraise\u001b[0m \u001b[0mNotImplementedError\u001b[0m\u001b[1;33m(\u001b[0m\u001b[1;34m'action must be defined'\u001b[0m\u001b[1;33m)\u001b[0m\u001b[1;33m\u001b[0m\u001b[1;33m\u001b[0m\u001b[0m\n\u001b[0m\u001b[0;32m      6\u001b[0m \u001b[1;33m\u001b[0m\u001b[0m\n\u001b[0;32m      7\u001b[0m \u001b[0mx\u001b[0m \u001b[1;33m=\u001b[0m \u001b[0mSuper\u001b[0m\u001b[1;33m(\u001b[0m\u001b[1;33m)\u001b[0m\u001b[1;33m\u001b[0m\u001b[1;33m\u001b[0m\u001b[0m\n",
      "\u001b[1;31mNotImplementedError\u001b[0m: action must be defined"
     ]
    }
   ],
   "metadata": {}
  },
  {
   "cell_type": "code",
   "execution_count": null,
   "source": [
    "class Super:\r\n",
    "    def delegate(self):\r\n",
    "        self.action()\r\n",
    "    def action(self):\r\n",
    "        raise NotImplementedError('action must be defined')\r\n",
    "\r\n",
    "class Sub(Super):\r\n",
    "    def action(self):\r\n",
    "        print('spam')\r\n",
    "\r\n",
    "X = Sub()\r\n",
    "X.delegate()\r\n"
   ],
   "outputs": [
    {
     "output_type": "stream",
     "name": "stdout",
     "text": [
      "spam\n"
     ]
    }
   ],
   "metadata": {}
  },
  {
   "cell_type": "code",
   "execution_count": null,
   "source": [
    "\"\"\"\r\n",
    "Abstract superclass may also be implemented with special class syntax.\r\n",
    "from abc import ABCMeta, abstractmethod\r\n",
    "\r\n",
    "class Super(metaclass=ABCMeta):\r\n",
    "    @abstractmethod\r\n",
    "    def method(self,...):\r\n",
    "        pass\r\n",
    "\"\"\"\r\n",
    "from abc import ABCMeta, abstractmethod\r\n",
    "\r\n",
    "class Super(metaclass=ABCMeta):\r\n",
    "    def delegate(self):\r\n",
    "        self.action()\r\n",
    "    @abstractmethod\r\n",
    "    def action(self):\r\n",
    "        pass\r\n",
    "x = Super()\r\n",
    "\r\n"
   ],
   "outputs": [
    {
     "output_type": "error",
     "ename": "TypeError",
     "evalue": "Can't instantiate abstract class Super with abstract methods action",
     "traceback": [
      "\u001b[1;31m---------------------------------------------------------------------------\u001b[0m",
      "\u001b[1;31mTypeError\u001b[0m                                 Traceback (most recent call last)",
      "\u001b[1;32m<ipython-input-41-d3be72c3ed5c>\u001b[0m in \u001b[0;36m<module>\u001b[1;34m\u001b[0m\n\u001b[0;32m     16\u001b[0m     \u001b[1;32mdef\u001b[0m \u001b[0maction\u001b[0m\u001b[1;33m(\u001b[0m\u001b[0mself\u001b[0m\u001b[1;33m)\u001b[0m\u001b[1;33m:\u001b[0m\u001b[1;33m\u001b[0m\u001b[1;33m\u001b[0m\u001b[0m\n\u001b[0;32m     17\u001b[0m         \u001b[1;32mpass\u001b[0m\u001b[1;33m\u001b[0m\u001b[1;33m\u001b[0m\u001b[0m\n\u001b[1;32m---> 18\u001b[1;33m \u001b[0mx\u001b[0m \u001b[1;33m=\u001b[0m \u001b[0mSuper\u001b[0m\u001b[1;33m(\u001b[0m\u001b[1;33m)\u001b[0m\u001b[1;33m\u001b[0m\u001b[1;33m\u001b[0m\u001b[0m\n\u001b[0m\u001b[0;32m     19\u001b[0m \u001b[1;33m\u001b[0m\u001b[0m\n",
      "\u001b[1;31mTypeError\u001b[0m: Can't instantiate abstract class Super with abstract methods action"
     ]
    }
   ],
   "metadata": {}
  },
  {
   "cell_type": "code",
   "execution_count": null,
   "source": [
    "from abc import ABCMeta, abstractmethod\r\n",
    "\r\n",
    "class Super(metaclass=ABCMeta):\r\n",
    "    def delegate(self):\r\n",
    "        self.action()\r\n",
    "    @abstractmethod\r\n",
    "    def action(self):\r\n",
    "        pass\r\n",
    "\r\n",
    "class Sub(Super):\r\n",
    "    def action(self):\r\n",
    "        print('spam')\r\n",
    "\r\n",
    "X = Sub()\r\n",
    "X.delegate()\r\n"
   ],
   "outputs": [
    {
     "output_type": "stream",
     "name": "stdout",
     "text": [
      "spam\n"
     ]
    }
   ],
   "metadata": {}
  },
  {
   "cell_type": "markdown",
   "source": [
    "### The LEGB Scope Rule Revisited"
   ],
   "metadata": {}
  },
  {
   "cell_type": "code",
   "execution_count": null,
   "source": [
    "\"\"\"\r\n",
    "Although classes have access to enclosing function's scope, though,thye do not act\r\n",
    "as enclosing slcopes code nested within class. Python searches enclosing funcitons\r\n",
    "for reference names, but never any enclosing classses. That is, class is a local\r\n",
    "scope and has access to enclosing local scope,but it does not serve as an enclosing\r\n",
    "method funcitons skips the enclosing class, class attributes must be fetched \r\n",
    "as object attributes using inheritance. \r\n",
    "\"\"\"\r\n",
    "X = 1\r\n",
    "def nester():\r\n",
    "    print(X)\r\n",
    "    class C:\r\n",
    "        print(X)\r\n",
    "        def method1(self):\r\n",
    "            print(X)\r\n",
    "        def method2(self):\r\n",
    "            X = 3\r\n",
    "            print(X)\r\n",
    "        \r\n",
    "    I = C()\r\n",
    "    I.method1()\r\n",
    "    I.method2()\r\n",
    " \r\n",
    "\r\n",
    "nester()\r\n",
    "print('-------------------------------------')"
   ],
   "outputs": [
    {
     "output_type": "stream",
     "name": "stdout",
     "text": [
      "1\n",
      "1\n",
      "1\n",
      "3\n",
      "-------------------------------------\n"
     ]
    }
   ],
   "metadata": {}
  },
  {
   "cell_type": "code",
   "execution_count": null,
   "source": [
    "\"\"\"\r\n",
    "When we reassign the same name in nested function layers : the redefinitionn of X create locals that hide those in enclosing scopes, just as for simple nested functions,\r\n",
    "the enclosing class layer does not change this, and in fact is irrelevant to it :\r\n",
    "\"\"\"\r\n",
    "\r\n",
    "X = 1\r\n",
    "\r\n",
    "def nester():\r\n",
    "    X = 2\r\n",
    "    print(X)\r\n",
    "    class C:\r\n",
    "        print(X)\r\n",
    "        def method1(self):\r\n",
    "            print(X)\r\n",
    "        def method2(self):\r\n",
    "            X = 3\r\n",
    "            print(X)\r\n",
    "    I = C()\r\n",
    "    I.method1()\r\n",
    "    I.method2()\r\n",
    "\r\n",
    "print(X)\r\n",
    "nester()\r\n",
    "print('------------------')\r\n",
    "\r\n",
    "\"\"\"\r\n",
    "Here what happens when we reassign the same name at multuple stops along the way:\r\n",
    "assignments in the local scopes of both functions and classes hide globad or enclosing\r\n",
    "functions locals of the same name, regardless of nesting involved.\r\n",
    "\"\"\"\"\"\r\n",
    "None "
   ],
   "outputs": [
    {
     "output_type": "stream",
     "name": "stdout",
     "text": [
      "1\n",
      "2\n",
      "2\n",
      "2\n",
      "3\n",
      "------------------\n"
     ]
    }
   ],
   "metadata": {}
  },
  {
   "cell_type": "code",
   "execution_count": null,
   "source": [
    "X = 1\r\n",
    "def nester():\r\n",
    "    X = 2\r\n",
    "    print(X)\r\n",
    "    class C:\r\n",
    "        X = 3\r\n",
    "        print(X)\r\n",
    "        def method1(self):\r\n",
    "            print(X)       # In enclosing def (not 3 in class):2\r\n",
    "        def method2(self):\r\n",
    "            X = 4\r\n",
    "            print(X)\r\n",
    "            self.X = 5\r\n",
    "            print(self.X)\r\n",
    "\r\n",
    "    I = C()\r\n",
    "    I.method1()\r\n",
    "    I.method2()\r\n",
    "\r\n",
    "print(X)\r\n",
    "nester()\r\n",
    "print('--------------------')\r\n"
   ],
   "outputs": [
    {
     "output_type": "stream",
     "name": "stdout",
     "text": [
      "1\n",
      "2\n",
      "3\n",
      "2\n",
      "4\n",
      "5\n",
      "--------------------\n"
     ]
    }
   ],
   "metadata": {}
  },
  {
   "cell_type": "markdown",
   "source": [
    "### Namespace Dictionaries: Review"
   ],
   "metadata": {}
  },
  {
   "cell_type": "code",
   "execution_count": null,
   "source": [
    " \"\"\"\r\n",
    " When we make an instance of subclass, the instance starts out with an empty \r\n",
    " namespace dictionary.\r\n",
    " \"\"\"\r\n",
    " class Super:\r\n",
    "     def hello(self):\r\n",
    "         self.data1 = 'spam'\r\n",
    "\r\n",
    "class Sub(Super):\r\n",
    "    q = 34\r\n",
    "    def hola(self):\r\n",
    "        self.data2 = 'eggs'\r\n",
    "\r\n",
    "X = Sub()\r\n",
    "print('X.__dict__ :',X.__dict__ )\r\n",
    "print('X.__class__:',X.__class__)\r\n",
    "print('Sub.__bases__:',Sub.__bases__)\r\n",
    "print('Super.__bases__:',Super.__bases__)\r\n",
    "\r\n",
    "X.hello()\r\n",
    "X.hola()\r\n",
    "print('X.__dict__ :',X.__dict__)\r\n",
    "print('Sub.__dict__ :',Sub.__dict__)\r\n",
    "\r\n",
    "Y = Sub()\r\n",
    "print('Y.__dict__:',Y.__dict__)"
   ],
   "outputs": [
    {
     "output_type": "stream",
     "name": "stdout",
     "text": [
      "X.__dict__ : {}\n",
      "X.__class__: <class '__main__.Sub'>\n",
      "Sub.__bases__: (<class '__main__.Super'>,)\n",
      "Super.__bases__: (<class 'object'>,)\n",
      "X.__dict__ : {'data1': 'spam', 'data2': 'eggs'}\n",
      "Sub.__dict__ : {'__module__': '__main__', 'q': 34, 'hola': <function Sub.hola at 0x00000209046CEE50>, '__doc__': None}\n",
      "Y.__dict__: {}\n"
     ]
    }
   ],
   "metadata": {}
  },
  {
   "cell_type": "code",
   "execution_count": null,
   "source": [
    "\"\"\"\r\n",
    "Because attributes are actually dictionary key inside python, there are really two ways to fetch and assign their values - by qualifications, to by key indexing:\r\n",
    "\"\"\"\r\n",
    "X.data1,X.__dict__['data1']\r\n"
   ],
   "outputs": [
    {
     "output_type": "execute_result",
     "data": {
      "text/plain": [
       "('spam', 'spam')"
      ]
     },
     "metadata": {},
     "execution_count": 37
    }
   ],
   "metadata": {}
  },
  {
   "cell_type": "code",
   "execution_count": null,
   "source": [
    "X.data3 = 'toast'\r\n",
    "X.__dict__"
   ],
   "outputs": [
    {
     "output_type": "execute_result",
     "data": {
      "text/plain": [
       "{'data1': 'spam', 'data2': 'eggs', 'data3': 'toast'}"
      ]
     },
     "metadata": {},
     "execution_count": 38
    }
   ],
   "metadata": {}
  },
  {
   "cell_type": "code",
   "execution_count": null,
   "source": [
    "X.__dict__['data3'] = 'ham'\r\n",
    "X.data3\r\n",
    "\r\n"
   ],
   "outputs": [
    {
     "output_type": "execute_result",
     "data": {
      "text/plain": [
       "'ham'"
      ]
     },
     "metadata": {},
     "execution_count": 39
    }
   ],
   "metadata": {}
  },
  {
   "cell_type": "code",
   "execution_count": null,
   "source": [
    "# Note : inherited attribute x.hello,f or instance can't be accesed by X.__dict__['hello']\r\n",
    "print(X.hello)\r\n",
    "X.__dict__['hello']"
   ],
   "outputs": [
    {
     "output_type": "stream",
     "name": "stdout",
     "text": [
      "<bound method Super.hello of <__main__.Sub object at 0x000002090517A2B0>>\n"
     ]
    },
    {
     "output_type": "error",
     "ename": "KeyError",
     "evalue": "'hello'",
     "traceback": [
      "\u001b[1;31m---------------------------------------------------------------------------\u001b[0m",
      "\u001b[1;31mKeyError\u001b[0m                                  Traceback (most recent call last)",
      "\u001b[1;32m<ipython-input-45-fe1669eb18fc>\u001b[0m in \u001b[0;36m<module>\u001b[1;34m\u001b[0m\n\u001b[0;32m      1\u001b[0m \u001b[1;31m# Note : inherited attribute x.hello,f or instance can't be accesed by X.__dict__['hello']\u001b[0m\u001b[1;33m\u001b[0m\u001b[1;33m\u001b[0m\u001b[1;33m\u001b[0m\u001b[0m\n\u001b[0;32m      2\u001b[0m \u001b[0mprint\u001b[0m\u001b[1;33m(\u001b[0m\u001b[0mX\u001b[0m\u001b[1;33m.\u001b[0m\u001b[0mhello\u001b[0m\u001b[1;33m)\u001b[0m\u001b[1;33m\u001b[0m\u001b[1;33m\u001b[0m\u001b[0m\n\u001b[1;32m----> 3\u001b[1;33m \u001b[0mX\u001b[0m\u001b[1;33m.\u001b[0m\u001b[0m__dict__\u001b[0m\u001b[1;33m[\u001b[0m\u001b[1;34m'hello'\u001b[0m\u001b[1;33m]\u001b[0m\u001b[1;33m\u001b[0m\u001b[1;33m\u001b[0m\u001b[0m\n\u001b[0m",
      "\u001b[1;31mKeyError\u001b[0m: 'hello'"
     ]
    }
   ],
   "metadata": {}
  },
  {
   "cell_type": "markdown",
   "source": [
    "### Namespace Links : A Tree Climber"
   ],
   "metadata": {}
  },
  {
   "cell_type": "code",
   "execution_count": null,
   "source": [
    "\"\"\"\r\n",
    "special __class__ and __bases__ instance and class attributes allow you to inspect\"\r\n",
    "inheritance within your own code. \r\n",
    "\"\"\"\r\n",
    "\r\n",
    "def classtree(cls,indent):\r\n",
    "    print('.' * indent + cls.__name__)\r\n",
    "    for supercls in cls.__bases__:\r\n",
    "        classtree(supercls,indent+3)\r\n",
    "\r\n",
    "def instancetree(inst):\r\n",
    "    print(f'Tree of {inst}' )\r\n",
    "    classtree(inst.__class__,3)\r\n",
    "\r\n",
    "def selftest():\r\n",
    "    class A: pass\r\n",
    "    class B(A): pass\r\n",
    "    class C (A): pass\r\n",
    "    class D(B,C): pass\r\n",
    "    class E: pass\r\n",
    "    class F(D,E): pass\r\n",
    "    instancetree(B())\r\n",
    "    instancetree(F())\r\n",
    "\r\n",
    "\r\n",
    "if __name__=='__main__':\r\n",
    "    selftest()\r\n"
   ],
   "outputs": [
    {
     "output_type": "stream",
     "name": "stdout",
     "text": [
      "Tree of <__main__.selftest.<locals>.B object at 0x000001C63D6BE6A0>\n",
      "...B\n",
      "......A\n",
      ".........object\n",
      "Tree of <__main__.selftest.<locals>.F object at 0x000001C63D6BE6A0>\n",
      "...F\n",
      "......D\n",
      ".........B\n",
      "............A\n",
      "...............object\n",
      ".........C\n",
      "............A\n",
      "...............object\n",
      "......E\n",
      ".........object\n"
     ]
    }
   ],
   "metadata": {}
  },
  {
   "cell_type": "code",
   "execution_count": null,
   "source": [],
   "outputs": [],
   "metadata": {}
  }
 ]
}