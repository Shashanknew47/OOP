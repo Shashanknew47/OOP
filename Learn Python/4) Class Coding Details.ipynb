{
 "metadata": {
  "language_info": {
   "codemirror_mode": {
    "name": "ipython",
    "version": 3
   },
   "file_extension": ".py",
   "mimetype": "text/x-python",
   "name": "python",
   "nbconvert_exporter": "python",
   "pygments_lexer": "ipython3",
   "version": "3.8.5-final"
  },
  "orig_nbformat": 2,
  "kernelspec": {
   "name": "python3",
   "display_name": "Python 3.8.5 64-bit",
   "metadata": {
    "interpreter": {
     "hash": "2db524e06e9f5f4ffedc911c917cb75e12dbc923643829bf417064a77eb14d37"
    }
   }
  }
 },
 "nbformat": 4,
 "nbformat_minor": 2,
 "cells": [
  {
   "cell_type": "code",
   "execution_count": 30,
   "metadata": {},
   "outputs": [
    {
     "output_type": "stream",
     "name": "stdout",
     "text": [
      "printer method call by instance\n---------------------------------------\nclass call\n"
     ]
    }
   ],
   "source": [
    "\"\"\"\n",
    "Python autometically maps instance mehtod calls to a class's method functions as follows. Method call made through an instance,like this :\n",
    "instance.mehod(args...)\n",
    "\n",
    "are autometically translated to calss mehod function calls of this form:\n",
    "class.method(instance,args...)\n",
    "\"\"\"\n",
    "class Nextclass:\n",
    "\n",
    "    def printer(self,text):\n",
    "        self.message = text\n",
    "        print(self.message)\n",
    "\n",
    "x  = Nextclass()\n",
    "x.printer('printer method call by instance')\n",
    "print('---------------------------------------')\n",
    "# same could be call by class \n",
    "Nextclass.printer(x,'class call')"
   ]
  },
  {
   "source": [
    "## Class Interface Techniques \n",
    "\n",
    "Extention is only one way to interface with a superclass.\n"
   ],
   "cell_type": "markdown",
   "metadata": {}
  },
  {
   "cell_type": "code",
   "execution_count": 31,
   "metadata": {},
   "outputs": [
    {
     "output_type": "stream",
     "name": "stdout",
     "text": [
      "\nInheritor...\nin super.method\n\nReplacer...\nIn Replace.method\n\nExtender...\nStrarting Extender.mehtod\nin super.method\nending Extender.method\nIn provider.action\n"
     ]
    }
   ],
   "source": [
    "\n",
    "# Super\n",
    "\"Defines a method funciton and a delegate that expects an action in superclass.\"\n",
    "\n",
    "class Super:\n",
    "    def method(self):\n",
    "        print('in super.method')\n",
    "    def delegate(self):\n",
    "        self.action()\n",
    "\n",
    "\n",
    "# Inheritor\n",
    "\"Does not provide any new namee,So, it gets everythings from Super\"\n",
    "class Inheritor(Super):\n",
    "    pass\n",
    "\n",
    "#Replacer \n",
    "\"Overrides Super's method with a version of it's own\"\n",
    "class Replacer(Super):\n",
    "    def method(self):\n",
    "        print('In Replace.method')\n",
    "\n",
    "#Extender \n",
    "\"Customizes super's method by overriding and calling back to run the default\"\n",
    "class Extender(Super):\n",
    "    def method(self):\n",
    "        print('Strarting Extender.mehtod')\n",
    "        Super.method(self)\n",
    "        print('ending Extender.method')\n",
    "\n",
    "#Provider \n",
    "\"Implements the action mehtod expected by super's delegage method.\"\n",
    "class Provider(Super):\n",
    "    def action(self):\n",
    "        print('In provider.action')\n",
    "\n",
    "if __name__=='__main__':\n",
    "    for klass in (Inheritor,Replacer,Extender):\n",
    "        print('\\n' + klass.__name__ + '...')\n",
    "        klass().method()\n",
    "\n",
    "    x = Provider()\n",
    "    x.delegate()\n",
    "\n",
    "\n"
   ]
  },
  {
   "source": [
    "## Abstract Superclass"
   ],
   "cell_type": "markdown",
   "metadata": {}
  },
  {
   "cell_type": "code",
   "execution_count": 32,
   "metadata": {},
   "outputs": [
    {
     "output_type": "stream",
     "name": "stdout",
     "text": [
      "in super.method\nIn provider.action\n"
     ]
    },
    {
     "output_type": "execute_result",
     "data": {
      "text/plain": [
       "\"\\nIn above example terms of delegate method, the superclass in this example is what is\\nsometices called an abastrat superclass- a class that expects parts of it's behaviour \\nto be provided by it's subclass. If an expected method is not defined in a subclass,\\nPython raises an undefined exception when the inheritance search fails.\\n\""
      ]
     },
     "metadata": {},
     "execution_count": 32
    }
   ],
   "source": [
    "class Super:\n",
    "    def method(self):\n",
    "        print('in super.method')\n",
    "    def delegate(self):\n",
    "        self.action()\n",
    "\n",
    "class Provider(Super):\n",
    "    def action(self):\n",
    "        print('In provider.action')\n",
    "\n",
    "\n",
    "P = Provider()\n",
    "P.method()\n",
    "P.action()\n",
    "\n",
    "\"\"\"\n",
    "In above example terms of delegate method, the superclass in this example is what is\n",
    "sometices called an abastrat superclass- a class that expects parts of it's behaviour \n",
    "to be provided by it's subclass. If an expected method is not defined in a subclass,\n",
    "Python raises an undefined exception when the inheritance search fails.\n",
    "\"\"\"\n",
    "\n",
    "\n"
   ]
  },
  {
   "source": [
    "\n",
    "Class codeers sometices make such requirement more obvious with assert statements,\n",
    "or by raising the built-in NotimplementedError exception with raise statements.\n"
   ],
   "cell_type": "markdown",
   "metadata": {}
  },
  {
   "cell_type": "code",
   "execution_count": 33,
   "metadata": {},
   "outputs": [
    {
     "output_type": "error",
     "ename": "AssertionError",
     "evalue": "action must be defined",
     "traceback": [
      "\u001b[1;31m---------------------------------------------------------------------------\u001b[0m",
      "\u001b[1;31mAssertionError\u001b[0m                            Traceback (most recent call last)",
      "\u001b[1;32m<ipython-input-33-16a968dd8962>\u001b[0m in \u001b[0;36m<module>\u001b[1;34m\u001b[0m\n\u001b[0;32m      6\u001b[0m \u001b[1;33m\u001b[0m\u001b[0m\n\u001b[0;32m      7\u001b[0m \u001b[0mX\u001b[0m \u001b[1;33m=\u001b[0m \u001b[0mSuper\u001b[0m\u001b[1;33m(\u001b[0m\u001b[1;33m)\u001b[0m\u001b[1;33m\u001b[0m\u001b[1;33m\u001b[0m\u001b[0m\n\u001b[1;32m----> 8\u001b[1;33m \u001b[0mX\u001b[0m\u001b[1;33m.\u001b[0m\u001b[0mdelegate\u001b[0m\u001b[1;33m(\u001b[0m\u001b[1;33m)\u001b[0m\u001b[1;33m\u001b[0m\u001b[1;33m\u001b[0m\u001b[0m\n\u001b[0m",
      "\u001b[1;32m<ipython-input-33-16a968dd8962>\u001b[0m in \u001b[0;36mdelegate\u001b[1;34m(self)\u001b[0m\n\u001b[0;32m      1\u001b[0m \u001b[1;32mclass\u001b[0m \u001b[0mSuper\u001b[0m\u001b[1;33m:\u001b[0m\u001b[1;33m\u001b[0m\u001b[1;33m\u001b[0m\u001b[0m\n\u001b[0;32m      2\u001b[0m     \u001b[1;32mdef\u001b[0m \u001b[0mdelegate\u001b[0m\u001b[1;33m(\u001b[0m\u001b[0mself\u001b[0m\u001b[1;33m)\u001b[0m\u001b[1;33m:\u001b[0m\u001b[1;33m\u001b[0m\u001b[1;33m\u001b[0m\u001b[0m\n\u001b[1;32m----> 3\u001b[1;33m         \u001b[0mself\u001b[0m\u001b[1;33m.\u001b[0m\u001b[0maction\u001b[0m\u001b[1;33m(\u001b[0m\u001b[1;33m)\u001b[0m\u001b[1;33m\u001b[0m\u001b[1;33m\u001b[0m\u001b[0m\n\u001b[0m\u001b[0;32m      4\u001b[0m     \u001b[1;32mdef\u001b[0m \u001b[0maction\u001b[0m\u001b[1;33m(\u001b[0m\u001b[0mself\u001b[0m\u001b[1;33m)\u001b[0m\u001b[1;33m:\u001b[0m\u001b[1;33m\u001b[0m\u001b[1;33m\u001b[0m\u001b[0m\n\u001b[0;32m      5\u001b[0m         \u001b[1;32massert\u001b[0m \u001b[1;32mFalse\u001b[0m\u001b[1;33m,\u001b[0m \u001b[1;34m'action must be defined'\u001b[0m\u001b[1;33m\u001b[0m\u001b[1;33m\u001b[0m\u001b[0m\n",
      "\u001b[1;32m<ipython-input-33-16a968dd8962>\u001b[0m in \u001b[0;36maction\u001b[1;34m(self)\u001b[0m\n\u001b[0;32m      3\u001b[0m         \u001b[0mself\u001b[0m\u001b[1;33m.\u001b[0m\u001b[0maction\u001b[0m\u001b[1;33m(\u001b[0m\u001b[1;33m)\u001b[0m\u001b[1;33m\u001b[0m\u001b[1;33m\u001b[0m\u001b[0m\n\u001b[0;32m      4\u001b[0m     \u001b[1;32mdef\u001b[0m \u001b[0maction\u001b[0m\u001b[1;33m(\u001b[0m\u001b[0mself\u001b[0m\u001b[1;33m)\u001b[0m\u001b[1;33m:\u001b[0m\u001b[1;33m\u001b[0m\u001b[1;33m\u001b[0m\u001b[0m\n\u001b[1;32m----> 5\u001b[1;33m         \u001b[1;32massert\u001b[0m \u001b[1;32mFalse\u001b[0m\u001b[1;33m,\u001b[0m \u001b[1;34m'action must be defined'\u001b[0m\u001b[1;33m\u001b[0m\u001b[1;33m\u001b[0m\u001b[0m\n\u001b[0m\u001b[0;32m      6\u001b[0m \u001b[1;33m\u001b[0m\u001b[0m\n\u001b[0;32m      7\u001b[0m \u001b[0mX\u001b[0m \u001b[1;33m=\u001b[0m \u001b[0mSuper\u001b[0m\u001b[1;33m(\u001b[0m\u001b[1;33m)\u001b[0m\u001b[1;33m\u001b[0m\u001b[1;33m\u001b[0m\u001b[0m\n",
      "\u001b[1;31mAssertionError\u001b[0m: action must be defined"
     ]
    }
   ],
   "source": [
    "class Super:\n",
    "    def delegate(self):\n",
    "        self.action()\n",
    "    def action(self):\n",
    "        assert False, 'action must be defined'\n",
    "\n",
    "X = Super()\n",
    "X.delegate()"
   ]
  },
  {
   "cell_type": "code",
   "execution_count": 29,
   "metadata": {},
   "outputs": [
    {
     "output_type": "error",
     "ename": "NotImplementedError",
     "evalue": "action must be defined",
     "traceback": [
      "\u001b[1;31m---------------------------------------------------------------------------\u001b[0m",
      "\u001b[1;31mNotImplementedError\u001b[0m                       Traceback (most recent call last)",
      "\u001b[1;32m<ipython-input-29-2df468e5ebf5>\u001b[0m in \u001b[0;36m<module>\u001b[1;34m\u001b[0m\n\u001b[0;32m      6\u001b[0m \u001b[1;33m\u001b[0m\u001b[0m\n\u001b[0;32m      7\u001b[0m \u001b[0mx\u001b[0m \u001b[1;33m=\u001b[0m \u001b[0mSuper\u001b[0m\u001b[1;33m(\u001b[0m\u001b[1;33m)\u001b[0m\u001b[1;33m\u001b[0m\u001b[1;33m\u001b[0m\u001b[0m\n\u001b[1;32m----> 8\u001b[1;33m \u001b[0mx\u001b[0m\u001b[1;33m.\u001b[0m\u001b[0mdelegate\u001b[0m\u001b[1;33m(\u001b[0m\u001b[1;33m)\u001b[0m\u001b[1;33m\u001b[0m\u001b[1;33m\u001b[0m\u001b[0m\n\u001b[0m",
      "\u001b[1;32m<ipython-input-29-2df468e5ebf5>\u001b[0m in \u001b[0;36mdelegate\u001b[1;34m(self)\u001b[0m\n\u001b[0;32m      1\u001b[0m \u001b[1;32mclass\u001b[0m \u001b[0mSuper\u001b[0m\u001b[1;33m:\u001b[0m\u001b[1;33m\u001b[0m\u001b[1;33m\u001b[0m\u001b[0m\n\u001b[0;32m      2\u001b[0m     \u001b[1;32mdef\u001b[0m \u001b[0mdelegate\u001b[0m\u001b[1;33m(\u001b[0m\u001b[0mself\u001b[0m\u001b[1;33m)\u001b[0m\u001b[1;33m:\u001b[0m\u001b[1;33m\u001b[0m\u001b[1;33m\u001b[0m\u001b[0m\n\u001b[1;32m----> 3\u001b[1;33m         \u001b[0mself\u001b[0m\u001b[1;33m.\u001b[0m\u001b[0maction\u001b[0m\u001b[1;33m(\u001b[0m\u001b[1;33m)\u001b[0m\u001b[1;33m\u001b[0m\u001b[1;33m\u001b[0m\u001b[0m\n\u001b[0m\u001b[0;32m      4\u001b[0m     \u001b[1;32mdef\u001b[0m \u001b[0maction\u001b[0m\u001b[1;33m(\u001b[0m\u001b[0mself\u001b[0m\u001b[1;33m)\u001b[0m\u001b[1;33m:\u001b[0m\u001b[1;33m\u001b[0m\u001b[1;33m\u001b[0m\u001b[0m\n\u001b[0;32m      5\u001b[0m         \u001b[1;32mraise\u001b[0m \u001b[0mNotImplementedError\u001b[0m\u001b[1;33m(\u001b[0m\u001b[1;34m'action must be defined'\u001b[0m\u001b[1;33m)\u001b[0m\u001b[1;33m\u001b[0m\u001b[1;33m\u001b[0m\u001b[0m\n",
      "\u001b[1;32m<ipython-input-29-2df468e5ebf5>\u001b[0m in \u001b[0;36maction\u001b[1;34m(self)\u001b[0m\n\u001b[0;32m      3\u001b[0m         \u001b[0mself\u001b[0m\u001b[1;33m.\u001b[0m\u001b[0maction\u001b[0m\u001b[1;33m(\u001b[0m\u001b[1;33m)\u001b[0m\u001b[1;33m\u001b[0m\u001b[1;33m\u001b[0m\u001b[0m\n\u001b[0;32m      4\u001b[0m     \u001b[1;32mdef\u001b[0m \u001b[0maction\u001b[0m\u001b[1;33m(\u001b[0m\u001b[0mself\u001b[0m\u001b[1;33m)\u001b[0m\u001b[1;33m:\u001b[0m\u001b[1;33m\u001b[0m\u001b[1;33m\u001b[0m\u001b[0m\n\u001b[1;32m----> 5\u001b[1;33m         \u001b[1;32mraise\u001b[0m \u001b[0mNotImplementedError\u001b[0m\u001b[1;33m(\u001b[0m\u001b[1;34m'action must be defined'\u001b[0m\u001b[1;33m)\u001b[0m\u001b[1;33m\u001b[0m\u001b[1;33m\u001b[0m\u001b[0m\n\u001b[0m\u001b[0;32m      6\u001b[0m \u001b[1;33m\u001b[0m\u001b[0m\n\u001b[0;32m      7\u001b[0m \u001b[0mx\u001b[0m \u001b[1;33m=\u001b[0m \u001b[0mSuper\u001b[0m\u001b[1;33m(\u001b[0m\u001b[1;33m)\u001b[0m\u001b[1;33m\u001b[0m\u001b[1;33m\u001b[0m\u001b[0m\n",
      "\u001b[1;31mNotImplementedError\u001b[0m: action must be defined"
     ]
    }
   ],
   "source": [
    "class Super:\n",
    "    def delegate(self):\n",
    "        self.action()\n",
    "    def action(self):\n",
    "        raise NotImplementedError('action must be defined')\n",
    "\n",
    "x = Super()\n",
    "x.delegate()"
   ]
  },
  {
   "cell_type": "code",
   "execution_count": 34,
   "metadata": {},
   "outputs": [
    {
     "output_type": "stream",
     "name": "stdout",
     "text": [
      "spam\n"
     ]
    }
   ],
   "source": [
    "class Super:\n",
    "    def delegate(self):\n",
    "        self.action()\n",
    "    def action(self):\n",
    "        raise NotImplementedError('action must be defined')\n",
    "\n",
    "class Sub(Super):\n",
    "    def action(self):\n",
    "        print('spam')\n",
    "\n",
    "X = Sub()\n",
    "X.delegate()\n"
   ]
  },
  {
   "source": [
    "\"\"\"\n",
    "Abstract superclass may also be implemented with special class syntax.\n",
    "from abc import ABCMeta, abstractmethod\n",
    "\n",
    "class Super(metaclass=ABCMeta):\n",
    "    @abstractmethod\n",
    "    def method(self,...):\n",
    "        pass\n",
    "\"\"\"\n",
    "from abc import ABCMeta, abstractmethod\n",
    "\n",
    "class Super(metaclass=ABCMeta):\n",
    "    def delegate(self):\n",
    "        self.action()\n",
    "    @abstractmethod\n",
    "    def action(self):\n",
    "        pass\n",
    "x = Super()\n",
    "\n"
   ],
   "cell_type": "code",
   "metadata": {},
   "execution_count": 41,
   "outputs": [
    {
     "output_type": "error",
     "ename": "TypeError",
     "evalue": "Can't instantiate abstract class Super with abstract methods action",
     "traceback": [
      "\u001b[1;31m---------------------------------------------------------------------------\u001b[0m",
      "\u001b[1;31mTypeError\u001b[0m                                 Traceback (most recent call last)",
      "\u001b[1;32m<ipython-input-41-d3be72c3ed5c>\u001b[0m in \u001b[0;36m<module>\u001b[1;34m\u001b[0m\n\u001b[0;32m     16\u001b[0m     \u001b[1;32mdef\u001b[0m \u001b[0maction\u001b[0m\u001b[1;33m(\u001b[0m\u001b[0mself\u001b[0m\u001b[1;33m)\u001b[0m\u001b[1;33m:\u001b[0m\u001b[1;33m\u001b[0m\u001b[1;33m\u001b[0m\u001b[0m\n\u001b[0;32m     17\u001b[0m         \u001b[1;32mpass\u001b[0m\u001b[1;33m\u001b[0m\u001b[1;33m\u001b[0m\u001b[0m\n\u001b[1;32m---> 18\u001b[1;33m \u001b[0mx\u001b[0m \u001b[1;33m=\u001b[0m \u001b[0mSuper\u001b[0m\u001b[1;33m(\u001b[0m\u001b[1;33m)\u001b[0m\u001b[1;33m\u001b[0m\u001b[1;33m\u001b[0m\u001b[0m\n\u001b[0m\u001b[0;32m     19\u001b[0m \u001b[1;33m\u001b[0m\u001b[0m\n",
      "\u001b[1;31mTypeError\u001b[0m: Can't instantiate abstract class Super with abstract methods action"
     ]
    }
   ]
  },
  {
   "cell_type": "code",
   "execution_count": 42,
   "metadata": {},
   "outputs": [
    {
     "output_type": "stream",
     "name": "stdout",
     "text": [
      "spam\n"
     ]
    }
   ],
   "source": [
    "from abc import ABCMeta, abstractmethod\n",
    "\n",
    "class Super(metaclass=ABCMeta):\n",
    "    def delegate(self):\n",
    "        self.action()\n",
    "    @abstractmethod\n",
    "    def action(self):\n",
    "        pass\n",
    "\n",
    "class Sub(Super):\n",
    "    def action(self):\n",
    "        print('spam')\n",
    "\n",
    "X = Sub()\n",
    "X.delegate()\n"
   ]
  },
  {
   "source": [
    "### The LEGB Scope Rule Revisited"
   ],
   "cell_type": "markdown",
   "metadata": {}
  },
  {
   "cell_type": "code",
   "execution_count": 1,
   "metadata": {},
   "outputs": [
    {
     "output_type": "stream",
     "name": "stdout",
     "text": [
      "1\n1\n1\n3\n-------------------------------------\n"
     ]
    }
   ],
   "source": [
    "\"\"\"\n",
    "Although classes have access to enclosing function's scope, though,thye do not act\n",
    "as enclosing slcopes code nested within class. Python searches enclosing funcitons\n",
    "for reference names, but never any enclosing classses. That is, class is a local\n",
    "scope and has access to enclosing local scope,but it does not serve as an enclosing\n",
    "method funcitons skips the enclosing class, class attributes must be fetched \n",
    "as object attributes using inheritance. \n",
    "\"\"\"\n",
    "X = 1\n",
    "def nester():\n",
    "    print(X)\n",
    "    class C:\n",
    "        print(X)\n",
    "        def method1(self):\n",
    "            print(X)\n",
    "        def method2(self):\n",
    "            X = 3\n",
    "            print(X)\n",
    "        \n",
    "    I = C()\n",
    "    I.method1()\n",
    "    I.method2()\n",
    " \n",
    "\n",
    "nester()\n",
    "print('-------------------------------------')"
   ]
  },
  {
   "cell_type": "code",
   "execution_count": 3,
   "metadata": {},
   "outputs": [
    {
     "output_type": "stream",
     "name": "stdout",
     "text": [
      "1\n2\n2\n2\n3\n------------------\n"
     ]
    }
   ],
   "source": [
    "\"\"\"\n",
    "When we reassign the same name in nested function layers : the redefinitionn of X create locals that hide those in enclosing scopes, just as for simple nested functions,\n",
    "the enclosing class layer does not change this, and in fact is irrelevant to it :\n",
    "\"\"\"\n",
    "\n",
    "X = 1\n",
    "\n",
    "def nester():\n",
    "    X = 2\n",
    "    print(X)\n",
    "    class C:\n",
    "        print(X)\n",
    "        def method1(self):\n",
    "            print(X)\n",
    "        def method2(self):\n",
    "            X = 3\n",
    "            print(X)\n",
    "    I = C()\n",
    "    I.method1()\n",
    "    I.method2()\n",
    "\n",
    "print(X)\n",
    "nester()\n",
    "print('------------------')\n",
    "\n",
    "\"\"\"\n",
    "Here what happens when we reassign the same name at multuple stops along the way:\n",
    "assignments in the local scopes of both functions and classes hide globad or enclosing\n",
    "functions locals of the same name, regardless of nesting involved.\n",
    "\"\"\"\"\"\n",
    "None "
   ]
  },
  {
   "cell_type": "code",
   "execution_count": 5,
   "metadata": {},
   "outputs": [
    {
     "output_type": "stream",
     "name": "stdout",
     "text": [
      "1\n2\n3\n2\n4\n5\n--------------------\n"
     ]
    }
   ],
   "source": [
    "X = 1\n",
    "def nester():\n",
    "    X = 2\n",
    "    print(X)\n",
    "    class C:\n",
    "        X = 3\n",
    "        print(X)\n",
    "        def method1(self):\n",
    "            print(X)       # In enclosing def (not 3 in class):2\n",
    "        def method2(self):\n",
    "            X = 4\n",
    "            print(X)\n",
    "            self.X = 5\n",
    "            print(self.X)\n",
    "\n",
    "    I = C()\n",
    "    I.method1()\n",
    "    I.method2()\n",
    "\n",
    "print(X)\n",
    "nester()\n",
    "print('--------------------')\n"
   ]
  },
  {
   "source": [
    "### Namespace Dictionaries: Review"
   ],
   "cell_type": "markdown",
   "metadata": {}
  },
  {
   "cell_type": "code",
   "execution_count": 35,
   "metadata": {},
   "outputs": [
    {
     "output_type": "stream",
     "name": "stdout",
     "text": [
      "X.__dict__ : {}\nX.__class__: <class '__main__.Sub'>\nSub.__bases__: (<class '__main__.Super'>,)\nSuper.__bases__: (<class 'object'>,)\nX.__dict__ : {'data1': 'spam', 'data2': 'eggs'}\nSub.__dict__ : {'__module__': '__main__', 'q': 34, 'hola': <function Sub.hola at 0x00000209046CEE50>, '__doc__': None}\nY.__dict__: {}\n"
     ]
    }
   ],
   "source": [
    " \"\"\"\n",
    " When we make an instance of subclass, the instance starts out with an empty \n",
    " namespace dictionary.\n",
    " \"\"\"\n",
    " class Super:\n",
    "     def hello(self):\n",
    "         self.data1 = 'spam'\n",
    "\n",
    "class Sub(Super):\n",
    "    q = 34\n",
    "    def hola(self):\n",
    "        self.data2 = 'eggs'\n",
    "\n",
    "X = Sub()\n",
    "print('X.__dict__ :',X.__dict__ )\n",
    "print('X.__class__:',X.__class__)\n",
    "print('Sub.__bases__:',Sub.__bases__)\n",
    "print('Super.__bases__:',Super.__bases__)\n",
    "\n",
    "X.hello()\n",
    "X.hola()\n",
    "print('X.__dict__ :',X.__dict__)\n",
    "print('Sub.__dict__ :',Sub.__dict__)\n",
    "\n",
    "Y = Sub()\n",
    "print('Y.__dict__:',Y.__dict__)"
   ]
  },
  {
   "cell_type": "code",
   "execution_count": 37,
   "metadata": {},
   "outputs": [
    {
     "output_type": "execute_result",
     "data": {
      "text/plain": [
       "('spam', 'spam')"
      ]
     },
     "metadata": {},
     "execution_count": 37
    }
   ],
   "source": [
    "\"\"\"\n",
    "Because attributes are actually dictionary key inside python, there are really two ways to fetch and assign their values - by qualifications, to by key indexing:\n",
    "\"\"\"\n",
    "X.data1,X.__dict__['data1']\n"
   ]
  },
  {
   "cell_type": "code",
   "execution_count": 38,
   "metadata": {},
   "outputs": [
    {
     "output_type": "execute_result",
     "data": {
      "text/plain": [
       "{'data1': 'spam', 'data2': 'eggs', 'data3': 'toast'}"
      ]
     },
     "metadata": {},
     "execution_count": 38
    }
   ],
   "source": [
    "X.data3 = 'toast'\n",
    "X.__dict__"
   ]
  },
  {
   "cell_type": "code",
   "execution_count": 39,
   "metadata": {},
   "outputs": [
    {
     "output_type": "execute_result",
     "data": {
      "text/plain": [
       "'ham'"
      ]
     },
     "metadata": {},
     "execution_count": 39
    }
   ],
   "source": [
    "X.__dict__['data3'] = 'ham'\n",
    "X.data3\n",
    "\n"
   ]
  },
  {
   "cell_type": "code",
   "execution_count": 45,
   "metadata": {},
   "outputs": [
    {
     "output_type": "stream",
     "name": "stdout",
     "text": [
      "<bound method Super.hello of <__main__.Sub object at 0x000002090517A2B0>>\n"
     ]
    },
    {
     "output_type": "error",
     "ename": "KeyError",
     "evalue": "'hello'",
     "traceback": [
      "\u001b[1;31m---------------------------------------------------------------------------\u001b[0m",
      "\u001b[1;31mKeyError\u001b[0m                                  Traceback (most recent call last)",
      "\u001b[1;32m<ipython-input-45-fe1669eb18fc>\u001b[0m in \u001b[0;36m<module>\u001b[1;34m\u001b[0m\n\u001b[0;32m      1\u001b[0m \u001b[1;31m# Note : inherited attribute x.hello,f or instance can't be accesed by X.__dict__['hello']\u001b[0m\u001b[1;33m\u001b[0m\u001b[1;33m\u001b[0m\u001b[1;33m\u001b[0m\u001b[0m\n\u001b[0;32m      2\u001b[0m \u001b[0mprint\u001b[0m\u001b[1;33m(\u001b[0m\u001b[0mX\u001b[0m\u001b[1;33m.\u001b[0m\u001b[0mhello\u001b[0m\u001b[1;33m)\u001b[0m\u001b[1;33m\u001b[0m\u001b[1;33m\u001b[0m\u001b[0m\n\u001b[1;32m----> 3\u001b[1;33m \u001b[0mX\u001b[0m\u001b[1;33m.\u001b[0m\u001b[0m__dict__\u001b[0m\u001b[1;33m[\u001b[0m\u001b[1;34m'hello'\u001b[0m\u001b[1;33m]\u001b[0m\u001b[1;33m\u001b[0m\u001b[1;33m\u001b[0m\u001b[0m\n\u001b[0m",
      "\u001b[1;31mKeyError\u001b[0m: 'hello'"
     ]
    }
   ],
   "source": [
    "# Note : inherited attribute x.hello,f or instance can't be accesed by X.__dict__['hello']\n",
    "print(X.hello)\n",
    "X.__dict__['hello']"
   ]
  },
  {
   "source": [
    "### Namespace Links : A Tree Climber"
   ],
   "cell_type": "markdown",
   "metadata": {}
  },
  {
   "cell_type": "code",
   "execution_count": 1,
   "metadata": {},
   "outputs": [
    {
     "output_type": "stream",
     "name": "stdout",
     "text": [
      "Tree of <__main__.selftest.<locals>.B object at 0x000001C63D6BE6A0>\n...B\n......A\n.........object\nTree of <__main__.selftest.<locals>.F object at 0x000001C63D6BE6A0>\n...F\n......D\n.........B\n............A\n...............object\n.........C\n............A\n...............object\n......E\n.........object\n"
     ]
    }
   ],
   "source": [
    "\"\"\"\n",
    "special __class__ and __bases__ instance and class attributes allow you to inspect\"\n",
    "inheritance within your own code. \n",
    "\"\"\"\n",
    "\n",
    "def classtree(cls,indent):\n",
    "    print('.' * indent + cls.__name__)\n",
    "    for supercls in cls.__bases__:\n",
    "        classtree(supercls,indent+3)\n",
    "\n",
    "def instancetree(inst):\n",
    "    print(f'Tree of {inst}' )\n",
    "    classtree(inst.__class__,3)\n",
    "\n",
    "def selftest():\n",
    "    class A: pass\n",
    "    class B(A): pass\n",
    "    class C (A): pass\n",
    "    class D(B,C): pass\n",
    "    class E: pass\n",
    "    class F(D,E): pass\n",
    "    instancetree(B())\n",
    "    instancetree(F())\n",
    "\n",
    "\n",
    "if __name__=='__main__':\n",
    "    selftest()\n"
   ]
  },
  {
   "cell_type": "code",
   "execution_count": 3,
   "metadata": {},
   "outputs": [],
   "source": []
  }
 ]
}