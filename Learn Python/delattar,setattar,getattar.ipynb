{
 "metadata": {
  "language_info": {
   "codemirror_mode": {
    "name": "ipython",
    "version": 3
   },
   "file_extension": ".py",
   "mimetype": "text/x-python",
   "name": "python",
   "nbconvert_exporter": "python",
   "pygments_lexer": "ipython3",
   "version": "3.9.6"
  },
  "orig_nbformat": 2,
  "kernelspec": {
   "name": "python3",
   "display_name": "Python 3.9.6 64-bit"
  },
  "interpreter": {
   "hash": "53a48d540490c1342b6131282b8ad4cfe0e9dc3e24c6f4b148938ffb48df8e93"
  }
 },
 "nbformat": 4,
 "nbformat_minor": 2,
 "cells": [
  {
   "cell_type": "markdown",
   "source": [
    "## Understanding __delattr__\n",
    "\n",
    "__delattr__(self,name) method is always called when there is an attempt to delete an attribute through the del statement. Python implicitly passes the name of the attribute need to be delted in string format to __delattr__ method. \n",
    "\n",
    "In below example when del is applied on x attribute of object "
   ],
   "metadata": {}
  },
  {
   "cell_type": "code",
   "execution_count": 10,
   "source": [
    "class Check:\r\n",
    "    def __delattr__(self, name: str) -> None:\r\n",
    "        print('check for subclass')\r\n",
    "        super().__delattr__(name)\r\n",
    "\r\n",
    "class Test(Check):\r\n",
    "    def __init__(self) -> None:\r\n",
    "        self.fname = 'Shashank'\r\n",
    "    # called when del applied an attribute \r\n",
    "    def __delattr__(self,name):\r\n",
    "        print('inside __delattr__')\r\n",
    "        super().__delattr__(name)\r\n",
    "        print (f'{name} deleted.')\r\n",
    "        \r\n",
    "T1 = Test()\r\n",
    "T1.x = 10\r\n",
    "del T1.fname\r\n",
    "T1.x"
   ],
   "outputs": [
    {
     "output_type": "stream",
     "name": "stdout",
     "text": [
      "inside __delattr__\n",
      "check for subclass\n",
      "fname deleted.\n"
     ]
    },
    {
     "output_type": "execute_result",
     "data": {
      "text/plain": [
       "10"
      ]
     },
     "metadata": {},
     "execution_count": 10
    }
   ],
   "metadata": {}
  },
  {
   "cell_type": "code",
   "execution_count": 2,
   "source": [
    "\"\"\"\r\n",
    "In below example __delattar__ method is used to make x and y attribute of class object\r\n",
    "Point read only. An attemt to delete attributes will invoke __delattar__ method which \r\n",
    "raises AttributeError exception.\r\n",
    "\"\"\"\r\n",
    "class Point:\r\n",
    "    def __init__(self,x,y):\r\n",
    "        self.x = x\r\n",
    "        self.y = y\r\n",
    "        self.z = 3\r\n",
    "\r\n",
    "#delattr called whenever attribute of point is deleted \r\n",
    "    def __delattr__(self,name):\r\n",
    "        #raises attribute error if x or y attribute is deleted.\r\n",
    "        if name in('x','y'):\r\n",
    "            raise AttributeError(f'Point attribute {name} is read only')\r\n",
    "        super().__delattr__(name)\r\n",
    "\r\n",
    "P = Point(1,2)\r\n",
    "del P.y"
   ],
   "outputs": [],
   "metadata": {}
  },
  {
   "cell_type": "markdown",
   "source": [
    "### Understanding setattr:"
   ],
   "metadata": {}
  },
  {
   "cell_type": "code",
   "execution_count": null,
   "source": [
    "\r\n",
    "\"\"\"\r\n",
    "Understanding __setattr__:\r\n",
    "\r\n",
    "__setattr__(name,value) method is always called when there is an attempt to set the \r\n",
    "attribute value through dot notation obj.name = value or through setattr(obj,'name',value)  __setattr__ method invoked. \r\n",
    "\r\n",
    "For the below example   we can see whenever an attribute value changed through \r\n",
    "dot notation setattr or __setattr__ is called with the attribute name and corrosponding value.inside __setattr__ the value of an attribute is changed by \r\n",
    "passing received parameters to the object class  __setattr__ method. Value can also\r\n",
    "be set  by assigning value to object dictionary self.__dict__[name] = value.  \r\n",
    "\"\"\""
   ],
   "outputs": [],
   "metadata": {}
  },
  {
   "cell_type": "code",
   "execution_count": 2,
   "source": [
    "\"\"\"\r\n",
    "Note: to set value with __setattr__ method you need to invoke super method. else\r\n",
    "calling like below will invoke infinite recursion. \r\n",
    " class Test:\r\n",
    "    #__setattr__ infinite recursion\r\n",
    "    def __setattr__(self,name,value):\r\n",
    "        self.name=value\r\n",
    "\"\"\"\r\n",
    "\r\n",
    "class Test:\r\n",
    "    # ___setattr__ invoked everytime value is set.class\r\n",
    "    def __setattr__(self,name,value):\r\n",
    "        print(f'inside __setattr__ name: {name}; value:{value}')\r\n",
    "        #set the value through super()\r\n",
    "        super().__setattr__(name,value)\r\n",
    "\r\n",
    "T1 = Test()\r\n",
    "\r\n",
    "T1.x = 10                      \r\n",
    "setattr(T1,'y',20)\r\n",
    "\r\n",
    "T1.__dict__['x'] = 100   # Note: here we directly set the value in instance __dict__. So, setattr will not run\r\n",
    "\r\n",
    "print(f'T1.x = {T1.x}; T1.y={T1.y}')\r\n"
   ],
   "outputs": [
    {
     "output_type": "stream",
     "name": "stdout",
     "text": [
      "inside __setattr__ name: x; value:10\n",
      "inside __setattr__ name: y; value:20\n",
      "T1.x = 100; T1.y=20\n"
     ]
    }
   ],
   "metadata": {}
  },
  {
   "cell_type": "code",
   "execution_count": 21,
   "source": [
    "\"\"\"\r\n",
    "__setattr__ method used to implement the Constant class which does not allow to \r\n",
    "attribute value to change once created.\r\n",
    "\"\"\"\r\n",
    "class Constant:\r\n",
    "    def __init__(self,value):\r\n",
    "        super().__setattr__('value',value)\r\n",
    "    \r\n",
    "    def __setattr__(self,name,value):\r\n",
    "        raise AttributeError(\"Constant value can't be changed\")\r\n",
    "\r\n",
    "pi = Constant(3.14)\r\n",
    "pi.value = 1.5\r\n"
   ],
   "outputs": [
    {
     "output_type": "error",
     "ename": "AttributeError",
     "evalue": "Constant value can't be changed",
     "traceback": [
      "\u001b[1;31m---------------------------------------------------------------------------\u001b[0m",
      "\u001b[1;31mAttributeError\u001b[0m                            Traceback (most recent call last)",
      "\u001b[1;32m<ipython-input-21-af7daa282434>\u001b[0m in \u001b[0;36m<module>\u001b[1;34m\u001b[0m\n\u001b[0;32m     11\u001b[0m \u001b[1;33m\u001b[0m\u001b[0m\n\u001b[0;32m     12\u001b[0m \u001b[0mpi\u001b[0m \u001b[1;33m=\u001b[0m \u001b[0mConstant\u001b[0m\u001b[1;33m(\u001b[0m\u001b[1;36m3.14\u001b[0m\u001b[1;33m)\u001b[0m\u001b[1;33m\u001b[0m\u001b[1;33m\u001b[0m\u001b[0m\n\u001b[1;32m---> 13\u001b[1;33m \u001b[0mpi\u001b[0m\u001b[1;33m.\u001b[0m\u001b[0mvalue\u001b[0m \u001b[1;33m=\u001b[0m \u001b[1;36m1.5\u001b[0m\u001b[1;33m\u001b[0m\u001b[1;33m\u001b[0m\u001b[0m\n\u001b[0m",
      "\u001b[1;32m<ipython-input-21-af7daa282434>\u001b[0m in \u001b[0;36m__setattr__\u001b[1;34m(self, name, value)\u001b[0m\n\u001b[0;32m      8\u001b[0m \u001b[1;33m\u001b[0m\u001b[0m\n\u001b[0;32m      9\u001b[0m     \u001b[1;32mdef\u001b[0m \u001b[0m__setattr__\u001b[0m\u001b[1;33m(\u001b[0m\u001b[0mself\u001b[0m\u001b[1;33m,\u001b[0m\u001b[0mname\u001b[0m\u001b[1;33m,\u001b[0m\u001b[0mvalue\u001b[0m\u001b[1;33m)\u001b[0m\u001b[1;33m:\u001b[0m\u001b[1;33m\u001b[0m\u001b[1;33m\u001b[0m\u001b[0m\n\u001b[1;32m---> 10\u001b[1;33m         \u001b[1;32mraise\u001b[0m \u001b[0mAttributeError\u001b[0m\u001b[1;33m(\u001b[0m\u001b[1;34m\"Constant value can't be changed\"\u001b[0m\u001b[1;33m)\u001b[0m\u001b[1;33m\u001b[0m\u001b[1;33m\u001b[0m\u001b[0m\n\u001b[0m\u001b[0;32m     11\u001b[0m \u001b[1;33m\u001b[0m\u001b[0m\n\u001b[0;32m     12\u001b[0m \u001b[0mpi\u001b[0m \u001b[1;33m=\u001b[0m \u001b[0mConstant\u001b[0m\u001b[1;33m(\u001b[0m\u001b[1;36m3.14\u001b[0m\u001b[1;33m)\u001b[0m\u001b[1;33m\u001b[0m\u001b[1;33m\u001b[0m\u001b[0m\n",
      "\u001b[1;31mAttributeError\u001b[0m: Constant value can't be changed"
     ]
    }
   ],
   "metadata": {}
  },
  {
   "cell_type": "code",
   "execution_count": 28,
   "source": [
    "import logging,datetime\r\n",
    "\r\n",
    "logging.basicConfig(level=logging.DEBUG)\r\n",
    "\r\n",
    "class Logchange:\r\n",
    "    def __init__(self,c,nc):\r\n",
    "        self.critical = c\r\n",
    "        self.noncritical = nc\r\n",
    "    \r\n",
    "    def __setattr__(self,name,value):\r\n",
    "        t = datetime.datetime.now().time()\r\n",
    "        print(f'updated {name} with value {value} @ {t}')\r\n",
    "        super().__setattr__(name,value)\r\n",
    "\r\n",
    "T1 = Logchange(111,1)\r\n",
    "T1.critical = 777\r\n",
    "T1.noncritical = 100\r\n",
    "T1.critical  = 999"
   ],
   "outputs": [
    {
     "output_type": "stream",
     "name": "stdout",
     "text": [
      "updated critical with value 111 @ 20:53:31.760611\n",
      "updated noncritical with value 1 @ 20:53:31.760611\n",
      "updated critical with value 777 @ 20:53:31.760611\n",
      "updated noncritical with value 100 @ 20:53:31.760611\n",
      "updated critical with value 999 @ 20:53:31.760611\n"
     ]
    }
   ],
   "metadata": {}
  },
  {
   "cell_type": "markdown",
   "source": [
    "## Understanding __getattr__\n",
    "____getattr____(self,name) method of a class is called if an attribute by name cannot \n",
    "found in an object or in class and  its superclass. ____getattr____ method is invoked \n",
    "whenever the nonexisting attribute is accessed through dot notation(obj.name) or\n",
    "getattr(obj,'name') or hasattr(obj,'name')\n",
    "\n",
    "In below example ____getattr____ method is implemented inside Test class.\n",
    "- When attribute x is accessed class attribute x is returned.\n",
    "- When attribute y is accessed class attribute y is returned.\n",
    "- When attributes z,a,b which is not present in object or class are accessed \n",
    "  through dot notation, getattr(),hasattr() respectively ____getattr____() \n",
    "  method is invoked with the attribute name. \n",
    "\n",
    "  "
   ],
   "metadata": {}
  },
  {
   "cell_type": "code",
   "execution_count": 31,
   "source": [
    "class Person:\r\n",
    "    age = 23\r\n",
    "    name = \"Adam\"\r\n",
    "\r\n",
    "person = Person()\r\n",
    "\r\n",
    "# when default value is provided\r\n",
    "print('The sex is:', getattr(person, 'sex', 'Male'))\r\n",
    "\r\n",
    "# when no default value is provided\r\n",
    "print('The sex is:', getattr(person, 'sex'))"
   ],
   "outputs": [
    {
     "output_type": "stream",
     "name": "stdout",
     "text": [
      "The sex is: Male\n"
     ]
    },
    {
     "output_type": "error",
     "ename": "AttributeError",
     "evalue": "'Person' object has no attribute 'sex'",
     "traceback": [
      "\u001b[1;31m---------------------------------------------------------------------------\u001b[0m",
      "\u001b[1;31mAttributeError\u001b[0m                            Traceback (most recent call last)",
      "\u001b[1;32m~\\AppData\\Local\\Temp/ipykernel_16296/781987493.py\u001b[0m in \u001b[0;36m<module>\u001b[1;34m\u001b[0m\n\u001b[0;32m      9\u001b[0m \u001b[1;33m\u001b[0m\u001b[0m\n\u001b[0;32m     10\u001b[0m \u001b[1;31m# when no default value is provided\u001b[0m\u001b[1;33m\u001b[0m\u001b[1;33m\u001b[0m\u001b[1;33m\u001b[0m\u001b[0m\n\u001b[1;32m---> 11\u001b[1;33m \u001b[0mprint\u001b[0m\u001b[1;33m(\u001b[0m\u001b[1;34m'The sex is:'\u001b[0m\u001b[1;33m,\u001b[0m \u001b[0mgetattr\u001b[0m\u001b[1;33m(\u001b[0m\u001b[0mperson\u001b[0m\u001b[1;33m,\u001b[0m \u001b[1;34m'sex'\u001b[0m\u001b[1;33m)\u001b[0m\u001b[1;33m)\u001b[0m\u001b[1;33m\u001b[0m\u001b[1;33m\u001b[0m\u001b[0m\n\u001b[0m",
      "\u001b[1;31mAttributeError\u001b[0m: 'Person' object has no attribute 'sex'"
     ]
    }
   ],
   "metadata": {}
  },
  {
   "cell_type": "code",
   "execution_count": 2,
   "source": [
    "class Test:\r\n",
    "    x = 100\r\n",
    "    def __init__(self,y):\r\n",
    "        self.y = y\r\n",
    "    def __getattr__(self,name):\r\n",
    "        print('inside getattr',end=':') \r\n",
    "        print('attribute {!r} not found'.format(name))\r\n",
    "\r\n",
    "T1 = Test(200)\r\n",
    "print(f'T1.x = {T1.x}')\r\n",
    "print(f'T1.y = {T1.y}')\r\n",
    "T1.z\r\n",
    "getattr(T1,'a')\r\n",
    "hasattr(T1,'b')"
   ],
   "outputs": [
    {
     "output_type": "stream",
     "name": "stdout",
     "text": [
      "T1.x = 100\n",
      "T1.y = 200\n",
      "inside getattr:attribute 'z' not found\n",
      "inside getattr:attribute 'a' not found\n",
      "inside getattr:attribute 'b' not found\n"
     ]
    },
    {
     "output_type": "execute_result",
     "data": {
      "text/plain": [
       "True"
      ]
     },
     "metadata": {},
     "execution_count": 2
    }
   ],
   "metadata": {}
  },
  {
   "cell_type": "code",
   "execution_count": 41,
   "source": [
    "class DefaultNone:\r\n",
    "    def __getattr__(Self,name):\r\n",
    "        if name.isalpha():\r\n",
    "            super().__setattr__(name,None)\r\n",
    "       \r\n",
    "D = DefaultNone()\r\n",
    "D.x = 'abc'\r\n",
    "print(D.y)"
   ],
   "outputs": [
    {
     "output_type": "stream",
     "name": "stdout",
     "text": [
      "None\n"
     ]
    }
   ],
   "metadata": {}
  },
  {
   "cell_type": "markdown",
   "source": [
    "### Understanding ____getattribute____"
   ],
   "metadata": {}
  },
  {
   "cell_type": "code",
   "execution_count": null,
   "source": [
    "\"\"\"\r\n",
    "__getattribute__(self,name) is always called regardless attribute exists or not when there is an attempt to retrive the named attribute, except when the attribute is \r\n",
    "special attribute or method (special method lookup). Dot notation (obj.name) or the\r\n",
    "getattr() or hasattr() triggers __getattribute__ method.To retrive attributes of the\r\n",
    "isinstance obj without triggering an infinite recursion, \r\n",
    "__getattribute__ should use super().__getattribute__(obj,name)\r\n",
    "\"\"\""
   ],
   "outputs": [],
   "metadata": {}
  },
  {
   "cell_type": "code",
   "execution_count": 29,
   "source": [
    "class Test:\r\n",
    "    def __getattribute__(self,name):\r\n",
    "        print(f'Getting attribute {name}.',end=':')\r\n",
    "        return super().__getattribute__(name)\r\n",
    "\r\n",
    "T1 = Test()\r\n",
    "T1.x = 100\r\n",
    "T1.y = 200\r\n",
    "T1.z = 300\r\n",
    " \r\n",
    "print(T1.x)\r\n",
    "print(getattr(T1,'y'))\r\n",
    "print(hasattr(T1,'z'))\r\n",
    "\r\n",
    "\r\n"
   ],
   "outputs": [
    {
     "output_type": "stream",
     "name": "stdout",
     "text": [
      "Getting attribute x.:100\n",
      "Getting attribute y.:200\n",
      "Getting attribute z.:True\n"
     ]
    }
   ],
   "metadata": {}
  },
  {
   "cell_type": "code",
   "execution_count": 9,
   "source": [
    "\"\"\"\r\n",
    "__getattr__ is invoked only after __getattribute__, and only when __getattribute__ raises Attribute error.\r\n",
    ".In below example since __getattribute__ do not raise any AttributeError even though Nonexisting attribute \r\n",
    "x and y are accessed __getattr__ method is not called.\r\n",
    "\"\"\"\r\n",
    "\r\n",
    "\r\n",
    "class Test1:\r\n",
    "    x = 12,\r\n",
    "    y = 23\r\n",
    "    def __getattribute__(self,name):\r\n",
    "        print(f'inside __getattribute__ {name}')\r\n",
    "        super().__getattribute__(name)\r\n",
    "    \r\n",
    "    def __getattr__(self,name):\r\n",
    "        print(f'inside __getattr__ {name}')\r\n",
    "\r\n",
    "T1 = Test1()\r\n",
    "T1.x\r\n",
    "T1.y\r\n",
    "T1.z = 12\r\n",
    "getattr(T1,\"z\")\r\n",
    "getattr(T1,'u')"
   ],
   "outputs": [
    {
     "output_type": "stream",
     "name": "stdout",
     "text": [
      "inside __getattribute__ x\n",
      "inside __getattr__ x\n",
      "inside __getattribute__ y\n",
      "inside __getattr__ y\n",
      "inside __getattribute__ z\n",
      "inside __getattribute__ u\n",
      "inside __getattr__ u\n"
     ]
    }
   ],
   "metadata": {}
  },
  {
   "cell_type": "code",
   "execution_count": 7,
   "source": [
    "\"\"\"\r\n",
    "In below example __getattribute__ method is implemented to hide the credit card number when accessed directly. Whenever a credit card number is accessed __getattribute__ replace the first 12 digits with X.\r\n",
    "\"\"\"\r\n",
    "\r\n",
    "class Creditcard:\r\n",
    "    def __init__(self,cardno,amount):\r\n",
    "        self.number =  cardno\r\n",
    "        self.amount =  amount\r\n",
    "\r\n",
    "    def __getattribute__(self,name):\r\n",
    "        if name == 'number':\r\n",
    "            return 'XXX-'*3+super().__getattribute__(name)[-4:]\r\n",
    "        else:\r\n",
    "            return super().__getattribute__(name)\r\n",
    "\r\n",
    "\r\n",
    "C1 = Creditcard('474837483993',1000)\r\n",
    "print(C1.number)\r\n",
    "print(C1.amount)"
   ],
   "outputs": [
    {
     "output_type": "stream",
     "name": "stdout",
     "text": [
      "XXX-XXX-XXX-3993\n",
      "1000\n"
     ]
    }
   ],
   "metadata": {}
  }
 ]
}