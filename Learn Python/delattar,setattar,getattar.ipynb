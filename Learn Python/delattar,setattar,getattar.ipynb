{
 "metadata": {
  "language_info": {
   "codemirror_mode": {
    "name": "ipython",
    "version": 3
   },
   "file_extension": ".py",
   "mimetype": "text/x-python",
   "name": "python",
   "nbconvert_exporter": "python",
   "pygments_lexer": "ipython3",
   "version": "3.9.1-final"
  },
  "orig_nbformat": 2,
  "kernelspec": {
   "name": "python3",
   "display_name": "Python 3",
   "language": "python"
  }
 },
 "nbformat": 4,
 "nbformat_minor": 2,
 "cells": [
  {
   "source": [
    "## Understanding __delattr__\n",
    "\n",
    "__delattr__(self,name) method is always called when there is an attempt to delete an attribute through the del statement. Python implicitly passes the name of the attribute need to be delted in string format to __delattr__ method. \n",
    "\n",
    "In below example when del is applied on x attribute of object "
   ],
   "cell_type": "markdown",
   "metadata": {}
  },
  {
   "cell_type": "code",
   "execution_count": 1,
   "metadata": {},
   "outputs": [
    {
     "output_type": "stream",
     "name": "stdout",
     "text": [
      "inside __delattr__\nx deleted.\n"
     ]
    }
   ],
   "source": [
    "class Test:\n",
    "    # called when del applied an attribute \n",
    "    def __delattr__(self,name):\n",
    "        print('inside __delattr__')\n",
    "        super().__delattr__(name)\n",
    "        print (f'{name} deleted.')\n",
    "        \n",
    "\n",
    "T1 = Test()\n",
    "T1.x = 10\n",
    "del T1.x\n"
   ]
  },
  {
   "cell_type": "code",
   "execution_count": 2,
   "metadata": {},
   "outputs": [
    {
     "output_type": "error",
     "ename": "AttributeError",
     "evalue": "Point attribute x is read only",
     "traceback": [
      "\u001b[1;31m---------------------------------------------------------------------------\u001b[0m",
      "\u001b[1;31mAttributeError\u001b[0m                            Traceback (most recent call last)",
      "\u001b[1;32m<ipython-input-2-f8d077c3c02c>\u001b[0m in \u001b[0;36m<module>\u001b[1;34m\u001b[0m\n\u001b[0;32m     16\u001b[0m \u001b[1;33m\u001b[0m\u001b[0m\n\u001b[0;32m     17\u001b[0m \u001b[0mP\u001b[0m \u001b[1;33m=\u001b[0m \u001b[0mPoint\u001b[0m\u001b[1;33m(\u001b[0m\u001b[1;36m1\u001b[0m\u001b[1;33m,\u001b[0m\u001b[1;36m2\u001b[0m\u001b[1;33m)\u001b[0m\u001b[1;33m\u001b[0m\u001b[1;33m\u001b[0m\u001b[0m\n\u001b[1;32m---> 18\u001b[1;33m \u001b[1;32mdel\u001b[0m \u001b[0mP\u001b[0m\u001b[1;33m.\u001b[0m\u001b[0mx\u001b[0m\u001b[1;33m\u001b[0m\u001b[1;33m\u001b[0m\u001b[0m\n\u001b[0m",
      "\u001b[1;32m<ipython-input-2-f8d077c3c02c>\u001b[0m in \u001b[0;36m__delattr__\u001b[1;34m(self, name)\u001b[0m\n\u001b[0;32m     13\u001b[0m         \u001b[1;31m#raises attribute error if x or y attribute is deleted.\u001b[0m\u001b[1;33m\u001b[0m\u001b[1;33m\u001b[0m\u001b[1;33m\u001b[0m\u001b[0m\n\u001b[0;32m     14\u001b[0m         \u001b[1;32mif\u001b[0m \u001b[0mname\u001b[0m \u001b[1;32min\u001b[0m\u001b[1;33m(\u001b[0m\u001b[1;34m'x'\u001b[0m\u001b[1;33m,\u001b[0m\u001b[1;34m'y'\u001b[0m\u001b[1;33m)\u001b[0m\u001b[1;33m:\u001b[0m\u001b[1;33m\u001b[0m\u001b[1;33m\u001b[0m\u001b[0m\n\u001b[1;32m---> 15\u001b[1;33m             \u001b[1;32mraise\u001b[0m \u001b[0mAttributeError\u001b[0m\u001b[1;33m(\u001b[0m\u001b[1;34mf'Point attribute {name} is read only'\u001b[0m\u001b[1;33m)\u001b[0m\u001b[1;33m\u001b[0m\u001b[1;33m\u001b[0m\u001b[0m\n\u001b[0m\u001b[0;32m     16\u001b[0m \u001b[1;33m\u001b[0m\u001b[0m\n\u001b[0;32m     17\u001b[0m \u001b[0mP\u001b[0m \u001b[1;33m=\u001b[0m \u001b[0mPoint\u001b[0m\u001b[1;33m(\u001b[0m\u001b[1;36m1\u001b[0m\u001b[1;33m,\u001b[0m\u001b[1;36m2\u001b[0m\u001b[1;33m)\u001b[0m\u001b[1;33m\u001b[0m\u001b[1;33m\u001b[0m\u001b[0m\n",
      "\u001b[1;31mAttributeError\u001b[0m: Point attribute x is read only"
     ]
    }
   ],
   "source": [
    "\"\"\"\n",
    "In below example __delattar__ method is used to make x and y attribute of class object\n",
    "Point read only. An attemt to delete attributes will invoke __delattar__ method which \n",
    "raises AttributeError exception.\n",
    "\"\"\"\n",
    "class Point:\n",
    "    def __init__(self,x,y):\n",
    "        self.x = x\n",
    "        self.y = y\n",
    "\n",
    "#delattr called whenever attribute of point is deleted \n",
    "    def __delattr__(self,name):\n",
    "        #raises attribute error if x or y attribute is deleted.\n",
    "        if name in('x','y'):\n",
    "            raise AttributeError(f'Point attribute {name} is read only')\n",
    "\n",
    "P = Point(1,2)\n",
    "del P.x"
   ]
  },
  {
   "source": [
    "### Understanding setattr:"
   ],
   "cell_type": "markdown",
   "metadata": {}
  },
  {
   "source": [
    "\n",
    "\"\"\"\n",
    "Understanding __setattr__:\n",
    "\n",
    "__setattr__(name,value) method is always called when there is an attempt to set the \n",
    "attribute value through dot notation obj.name = value or through setattr(obj,'name',value)  __setattr__ method invoked. \n",
    "\n",
    "For the below example   we can see whenever an attribute value changed through \n",
    "dot notation setattr or __setattr__ is called with the attribute name and corrosponding value.inside __setattr__ the value of an attribute is changed by \n",
    "passing received parameters to the object class  __setattr__ method. Value can also\n",
    "be set  by assigning value to object dictionary self.__dict__[name] = value.  \n",
    "\"\"\""
   ],
   "cell_type": "code",
   "metadata": {},
   "execution_count": null,
   "outputs": []
  },
  {
   "cell_type": "code",
   "execution_count": 2,
   "metadata": {},
   "outputs": [
    {
     "output_type": "stream",
     "name": "stdout",
     "text": [
      "inside __setattr__ name: x; value:10\ninside __setattr__ name: y; value:20\nT1.x = 100; T1.y=20\n"
     ]
    }
   ],
   "source": [
    "\"\"\"\n",
    "Note: to set value with __setattr__ method you need to invoke super method. else\n",
    "calling like below will invoke infinite recursion. \n",
    " class Test:\n",
    "    #__setattr__ infinite recursion\n",
    "    def __setattr__(self,name,value):\n",
    "        self.name=value\n",
    "\n",
    "\n",
    "\"\"\"\n",
    "\n",
    "class Test:\n",
    "    # ___setattr__ invoked everytime value is set.class\n",
    "    def __setattr__(self,name,value):\n",
    "        print(f'inside __setattr__ name: {name}; value:{value}')\n",
    "        #set the value through super()\n",
    "        super().__setattr__(name,value)\n",
    "\n",
    "T1 = Test()\n",
    "\n",
    "T1.x = 10                      \n",
    "setattr(T1,'y',20)\n",
    "\n",
    "T1.__dict__['x'] = 100   # Note: here we directly set the value in instance __dict__. So, setattr will not run\n",
    "\n",
    "print(f'T1.x = {T1.x}; T1.y={T1.y}')\n"
   ]
  },
  {
   "cell_type": "code",
   "execution_count": 21,
   "metadata": {},
   "outputs": [
    {
     "output_type": "error",
     "ename": "AttributeError",
     "evalue": "Constant value can't be changed",
     "traceback": [
      "\u001b[1;31m---------------------------------------------------------------------------\u001b[0m",
      "\u001b[1;31mAttributeError\u001b[0m                            Traceback (most recent call last)",
      "\u001b[1;32m<ipython-input-21-af7daa282434>\u001b[0m in \u001b[0;36m<module>\u001b[1;34m\u001b[0m\n\u001b[0;32m     11\u001b[0m \u001b[1;33m\u001b[0m\u001b[0m\n\u001b[0;32m     12\u001b[0m \u001b[0mpi\u001b[0m \u001b[1;33m=\u001b[0m \u001b[0mConstant\u001b[0m\u001b[1;33m(\u001b[0m\u001b[1;36m3.14\u001b[0m\u001b[1;33m)\u001b[0m\u001b[1;33m\u001b[0m\u001b[1;33m\u001b[0m\u001b[0m\n\u001b[1;32m---> 13\u001b[1;33m \u001b[0mpi\u001b[0m\u001b[1;33m.\u001b[0m\u001b[0mvalue\u001b[0m \u001b[1;33m=\u001b[0m \u001b[1;36m1.5\u001b[0m\u001b[1;33m\u001b[0m\u001b[1;33m\u001b[0m\u001b[0m\n\u001b[0m",
      "\u001b[1;32m<ipython-input-21-af7daa282434>\u001b[0m in \u001b[0;36m__setattr__\u001b[1;34m(self, name, value)\u001b[0m\n\u001b[0;32m      8\u001b[0m \u001b[1;33m\u001b[0m\u001b[0m\n\u001b[0;32m      9\u001b[0m     \u001b[1;32mdef\u001b[0m \u001b[0m__setattr__\u001b[0m\u001b[1;33m(\u001b[0m\u001b[0mself\u001b[0m\u001b[1;33m,\u001b[0m\u001b[0mname\u001b[0m\u001b[1;33m,\u001b[0m\u001b[0mvalue\u001b[0m\u001b[1;33m)\u001b[0m\u001b[1;33m:\u001b[0m\u001b[1;33m\u001b[0m\u001b[1;33m\u001b[0m\u001b[0m\n\u001b[1;32m---> 10\u001b[1;33m         \u001b[1;32mraise\u001b[0m \u001b[0mAttributeError\u001b[0m\u001b[1;33m(\u001b[0m\u001b[1;34m\"Constant value can't be changed\"\u001b[0m\u001b[1;33m)\u001b[0m\u001b[1;33m\u001b[0m\u001b[1;33m\u001b[0m\u001b[0m\n\u001b[0m\u001b[0;32m     11\u001b[0m \u001b[1;33m\u001b[0m\u001b[0m\n\u001b[0;32m     12\u001b[0m \u001b[0mpi\u001b[0m \u001b[1;33m=\u001b[0m \u001b[0mConstant\u001b[0m\u001b[1;33m(\u001b[0m\u001b[1;36m3.14\u001b[0m\u001b[1;33m)\u001b[0m\u001b[1;33m\u001b[0m\u001b[1;33m\u001b[0m\u001b[0m\n",
      "\u001b[1;31mAttributeError\u001b[0m: Constant value can't be changed"
     ]
    }
   ],
   "source": [
    "\"\"\"\n",
    "__setattr__ method used to implement the Constant class which does not allow to \n",
    "attribute value to change once created.\n",
    "\"\"\"\n",
    "class Constant:\n",
    "    def __init__(self,value):\n",
    "        super().__setattr__('value',value)\n",
    "    \n",
    "    def __setattr__(self,name,value):\n",
    "        raise AttributeError(\"Constant value can't be changed\")\n",
    "\n",
    "pi = Constant(3.14)\n",
    "pi.value = 1.5\n"
   ]
  },
  {
   "cell_type": "code",
   "execution_count": 35,
   "metadata": {},
   "outputs": [],
   "source": [
    "import logging,datetime\n",
    "\n",
    "logging.basicConfig(level=logging.DEBUG)\n",
    "\n",
    "class Logchange:\n",
    "    def __init__(self,c,nc):\n",
    "        self.critical = c\n",
    "        self.noncritical = nc\n",
    "    \n",
    "        def __setattr__(self,name,value):\n",
    "            t = datetime.datetime.now().time()\n",
    "            logging.debug(f'updated {name} with value {value} @ {t}')\n",
    "            super().__setattr__(name,value)\n",
    "\n",
    "T1 = Logchange(111,1)\n",
    "\n",
    "T1.critical = 777\n",
    "T1.noncritical = 100\n",
    "T1.critical  = 999"
   ]
  },
  {
   "source": [
    "## Understanding __getattr__\n",
    "____getattr____(self,name) method of a class is called if an attribute by name cannot \n",
    "found in an object or in class and  its superclass. ____getattr____ method is invoked \n",
    "whenever the nonexisting attribute is accessed through dot notation(obj.name) or\n",
    "getattr(obj,'name') or hasattr(obj,'name')\n",
    "\n",
    "In below example ____getattr____ method is implemented inside Test class.\n",
    "- When attribute x is accessed class attribute x is returned.\n",
    "- When attribute y is accessed class attribute y is returned.\n",
    "- When attributes z,a,b which is not present in object or class are accessed \n",
    "  through dot notation, getattr(),hasattr() respectively ____getattr____() \n",
    "  method is invoked with the attribute name. \n",
    "\n",
    "  "
   ],
   "cell_type": "markdown",
   "metadata": {}
  },
  {
   "cell_type": "code",
   "execution_count": null,
   "metadata": {},
   "outputs": [],
   "source": [
    "class Person:\n",
    "    age = 23\n",
    "    name = \"Adam\"\n",
    "\n",
    "person = Person()\n",
    "\n",
    "# when default value is provided\n",
    "print('The sex is:', getattr(person, 'sex', 'Male'))\n",
    "\n",
    "# when no default value is provided\n",
    "print('The sex is:', getattr(person, 'sex'))"
   ]
  },
  {
   "cell_type": "code",
   "execution_count": 5,
   "metadata": {},
   "outputs": [
    {
     "output_type": "stream",
     "name": "stdout",
     "text": [
      "T1.x = 100\nT1.y = 200\ninside getattr:attribute 'z' not found\ninside getattr:attribute 'a' not found\ninside getattr:attribute 'b' not found\n"
     ]
    },
    {
     "output_type": "execute_result",
     "data": {
      "text/plain": [
       "True"
      ]
     },
     "metadata": {},
     "execution_count": 5
    }
   ],
   "source": [
    "class Test:\n",
    "    x = 100\n",
    "    def __init__(self,y):\n",
    "        self.y = y\n",
    "    def __getattr__(self,name):\n",
    "        print('inside getattr',end=':') \n",
    "        print('attribute {!r} not found'.format(name))\n",
    "\n",
    "T1 = Test(200)\n",
    "print(f'T1.x = {T1.x}')\n",
    "print(f'T1.y = {T1.y}')\n",
    "T1.z\n",
    "getattr(T1,'a')\n",
    "hasattr(T1,'b')"
   ]
  },
  {
   "cell_type": "code",
   "execution_count": 23,
   "metadata": {},
   "outputs": [],
   "source": [
    "class DefaultNone:\n",
    "    def __getattr__(Self,name):\n",
    "        if name.isalpha():\n",
    "            super().__setattr__(name,None)\n",
    "        else:\n",
    "            raise AttributeError('{name} should be in alpha only')\n",
    "\n",
    "D = DefaultNone()\n",
    "D.x = 'abc'\n",
    "D.y"
   ]
  },
  {
   "source": [
    "### Understanding ____getattribute____"
   ],
   "cell_type": "markdown",
   "metadata": {}
  },
  {
   "cell_type": "code",
   "execution_count": null,
   "metadata": {},
   "outputs": [],
   "source": [
    "\"\"\"\n",
    "__getattribute__(self,name) is always called regardless attribute exists or not when there is an attempt to retrive the named attribute, except when the attribute is \n",
    "special attribute or method (special method lookup). Dot notation (obj.name) or the\n",
    "getattr() or hasattr() triggers __getattribute__ method.To retrive attributes of the\n",
    "isinstance obj without triggering an infinite recursion, \n",
    "__getattribute__ should use super().__getattribute__(obj,name)\n",
    "\"\"\""
   ]
  },
  {
   "cell_type": "code",
   "execution_count": 29,
   "metadata": {},
   "outputs": [
    {
     "output_type": "stream",
     "name": "stdout",
     "text": [
      "Getting attribute x.:100\nGetting attribute y.:200\nGetting attribute z.:True\n"
     ]
    }
   ],
   "source": [
    "class Test:\n",
    "    def __getattribute__(self,name):\n",
    "        print(f'Getting attribute {name}.',end=':')\n",
    "        return super().__getattribute__(name)\n",
    "\n",
    "T1 = Test()\n",
    "T1.x = 100\n",
    "T1.y = 200\n",
    "T1.z = 300\n",
    " \n",
    "print(T1.x)\n",
    "print(getattr(T1,'y'))\n",
    "print(hasattr(T1,'z'))\n",
    "\n"
   ]
  },
  {
   "cell_type": "code",
   "execution_count": 32,
   "metadata": {},
   "outputs": [
    {
     "output_type": "stream",
     "name": "stdout",
     "text": [
      "inside __getattribute__ x\ninside __getattribute__ y\ninside __getattribute__ z\n"
     ]
    }
   ],
   "source": [
    "\"\"\"\n",
    "__getattr__ is invoked only after __getattribute__, and only when __getattribute__ raises Attribute error.\n",
    ".In below example since __getattribute__ do not raise any AttributeError even though Nonexisting attribute \n",
    "x and y are accessed __getattr__ method is not called.\n",
    "\"\"\"\n",
    "\n",
    "\n",
    "class Test1:\n",
    "    def __getattribute__(self,name):\n",
    "        print(f'inside __getattribute__ {name}')\n",
    "    \n",
    "    def __getattr__(self,name):\n",
    "        print(f'inside __getattr__ {name}')\n",
    "\n",
    "T1 = Test1()\n",
    "T1.x\n",
    "T1.y\n",
    "T1.z = 12"
   ]
  },
  {
   "cell_type": "code",
   "execution_count": 7,
   "metadata": {},
   "outputs": [
    {
     "output_type": "stream",
     "name": "stdout",
     "text": [
      "XXX-XXX-XXX-3993\n1000\n"
     ]
    }
   ],
   "source": [
    "\"\"\"\n",
    "In below example __getattribute__ method is implemented to hide the credit card number when accessed directly. Whenever a credit card number is accessed __getattribute__ replace the first 12 digits with X.\n",
    "\"\"\"\n",
    "\n",
    "class Creditcard:\n",
    "    def __init__(self,cardno,amount):\n",
    "        self.number =  cardno\n",
    "        self.amount =  amount\n",
    "\n",
    "    def __getattribute__(self,name):\n",
    "        if name == 'number':\n",
    "            return 'XXX-'*3+super().__getattribute__(name)[-4:]\n",
    "        else:\n",
    "            return super().__getattribute__(name)\n",
    "\n",
    "\n",
    "C1 = Creditcard('474837483993',1000)\n",
    "print(C1.number)\n",
    "print(C1.amount)"
   ]
  }
 ]
}