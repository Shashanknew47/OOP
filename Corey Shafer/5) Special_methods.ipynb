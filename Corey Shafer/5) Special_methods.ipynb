{
 "cells": [
  {
   "source": [
    "\"\"\"\n",
    "Python data model describes the api that you can make your own objects play.\n",
    "Python interpreter invokes special methods to perform basic operations. Special methods names are always\n",
    "written with double underscores. We call these double underscores as dunder \n",
    "Special methos allow your objects to implement,support, and interact with basic language constructs as:\n",
    "\n",
    "Iteration\n",
    "Collections\n",
    "Attribute access\n",
    "Operator overloading\n",
    "Funcion and method invocaton\n",
    "Object creatoin and destruction\n",
    "String representation and formatting\n",
    "Manage contexts (with blocks)\n",
    "\n",
    "\n",
    "We call it special method also -Magic methods and dunder methods.\n",
    "\"\"\"\n",
    "None"
   ],
   "cell_type": "code",
   "metadata": {},
   "execution_count": 2,
   "outputs": []
  },
  {
   "cell_type": "code",
   "execution_count": 1,
   "metadata": {},
   "outputs": [
    {
     "output_type": "execute_result",
     "data": {
      "text/plain": [
       "Employee(Corey,Shafer,50000)"
      ]
     },
     "metadata": {},
     "execution_count": 1
    }
   ],
   "source": [
    "class Employee:\n",
    "    raise_amt = 1.04\n",
    "\n",
    "    def __init__(self,first,last,pay):\n",
    "        self.first = first\n",
    "        self.last = last\n",
    "        self.email = first + '.' +  last + '@gmail.com'\n",
    "        self.pay  = pay\n",
    "\n",
    "    def fullname(self):\n",
    "        return '{} {}'.format(self.first,self.last)\n",
    "\n",
    "    def apply_raise(self):\n",
    "        self.pay = int(self.pay * self.raise_amt)\n",
    "\n",
    "    def __repr__(self):\n",
    "        return f'Employee({self.first},{self.last},{self.pay})'\n",
    "\n",
    "emp1 = Employee('Corey','Shafer',50_000)\n",
    "emp2 = Employee('Test','Employee',60_000)\n",
    "\n",
    "\n",
    "# Here whenever we call str and repr they will called. If case str is not mentioned \n",
    "# then repr will be called autometially. \n",
    "# when we print or return an instance  str will be called. \n",
    "\n",
    "\n",
    "'In below example repr was called as str was not defined here'\n",
    "emp1\n"
   ]
  },
  {
   "cell_type": "code",
   "execution_count": 2,
   "metadata": {},
   "outputs": [
    {
     "output_type": "stream",
     "name": "stdout",
     "text": [
      "Employee-Corey pay is 50000\n"
     ]
    },
    {
     "output_type": "execute_result",
     "data": {
      "text/plain": [
       "Employee(Corey,Shafer,50000)"
      ]
     },
     "metadata": {},
     "execution_count": 2
    }
   ],
   "source": [
    "class Employee:\n",
    "    raise_amt = 1.04\n",
    "\n",
    "    def __init__(self,first,last,pay):\n",
    "        self.first = first\n",
    "        self.last = last\n",
    "        self.email = first + '.' +  last + '@gmail.com'\n",
    "        self.pay  = pay\n",
    "\n",
    "    def fullname(self):\n",
    "        return '{} {}'.format(self.first,self.last)\n",
    "\n",
    "    def apply_raise(self):\n",
    "        self.pay = int(self.pay * self.raise_amt)\n",
    "\n",
    "    def __str__(self):\n",
    "        return f'Employee-{self.first} pay is {self.pay}'\n",
    "\n",
    "    def __repr__(self):\n",
    "        return f'Employee({self.first},{self.last},{self.pay})'\n",
    "\n",
    "emp1 = Employee('Corey','Shafer',50_000)\n",
    "emp2 = Employee('Test','Employee',60_000)\n",
    "\n",
    "# Note\n",
    "   # -- when str and repr both are both mentioned\n",
    "   #   . repr will be called when object is  metioned.\n",
    "   #   . str will be called  When print function is used with object. \n",
    "\n",
    "print(emp1)\n",
    "emp1"
   ]
  },
  {
   "cell_type": "code",
   "execution_count": 3,
   "metadata": {},
   "outputs": [
    {
     "output_type": "stream",
     "name": "stdout",
     "text": [
      "Employee(Corey,Shafer,50000)\n"
     ]
    }
   ],
   "source": [
    "class Employee:\n",
    "    raise_amt = 1.04\n",
    "\n",
    "    def __init__(self,first,last,pay):\n",
    "        self.first = first\n",
    "        self.last = last\n",
    "        self.email = first + '.' +  last + '@gmail.com'\n",
    "        self.pay  = pay\n",
    "\n",
    "    def fullname(self):\n",
    "        return '{} {}'.format(self.first,self.last)\n",
    "\n",
    "    def apply_raise(self):\n",
    "        self.pay = int(self.pay * self.raise_amt)\n",
    "\n",
    "    def __str__(self):\n",
    "        return f'Employee-{self.first} pay is {self.pay}'\n",
    "\n",
    "    def __repr__(self):\n",
    "        return f'Employee({self.first},{self.last},{self.pay})'\n",
    "\n",
    "emp1 = Employee('Corey','Shafer',50_000)\n",
    "emp2 = Employee('Test','Employee',60_000)\n",
    "\n",
    "# Note : we can call repr with print function too by calling it explicitly.emp1\n",
    "print(repr(emp1))"
   ]
  }
 ],
 "metadata": {
  "kernelspec": {
   "name": "python3",
   "display_name": "Python 3.8.5 64-bit",
   "metadata": {
    "interpreter": {
     "hash": "2db524e06e9f5f4ffedc911c917cb75e12dbc923643829bf417064a77eb14d37"
    }
   }
  },
  "language_info": {
   "codemirror_mode": {
    "name": "ipython",
    "version": 3
   },
   "file_extension": ".py",
   "mimetype": "text/x-python",
   "name": "python",
   "nbconvert_exporter": "python",
   "pygments_lexer": "ipython3",
   "version": "3.8.5-final"
  }
 },
 "nbformat": 4,
 "nbformat_minor": 2
}