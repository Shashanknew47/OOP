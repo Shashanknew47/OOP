{
 "cells": [
  {
   "cell_type": "code",
   "execution_count": 5,
   "metadata": {},
   "outputs": [],
   "source": [
    "\"\"\"\n",
    "As per the Python’s data model, Python offers three types of methods namely instance, class and static methods.Ex. \n",
    "\n",
    "class ToyClass:\n",
    "    def instancemethod(self):\n",
    "        return 'instance method called', self\n",
    "    \n",
    "    @classmethod\n",
    "    def classmethod(cls):\n",
    "        return 'class method called', cls\n",
    "\n",
    "        \n",
    "    @staticmethod\n",
    "    def staticmethod():\n",
    "        return 'static method called'\n",
    "\"\"\"\n",
    "None"
   ]
  },
  {
   "source": [
    "## Instance Methods\n"
   ],
   "cell_type": "markdown",
   "metadata": {}
  },
  {
   "cell_type": "code",
   "execution_count": 7,
   "metadata": {},
   "outputs": [],
   "source": [
    "\"\"\"\n",
    "Instance Methods\n",
    "They are most widely used methods. Instance method receives the instance of the class as the first argument, which by convention is called self, and points to the instance of our class ToyClass. However it can take any number of arguments.\n",
    "\n",
    "Using the self parameter, we can access the other attributes and methods on the same object and can change the object state. Also, using the self.__class__ attribute, we can access the class attributes, and can change the class state as well. Therefore, instance methods gives us control of changing the object as well as the class state.\n",
    "A built-in example of an instance method is str.upper():\n",
    "\"\"\"\n",
    "None"
   ]
  },
  {
   "cell_type": "code",
   "execution_count": 1,
   "metadata": {},
   "outputs": [
    {
     "data": {
      "text/plain": [
       "1.1"
      ]
     },
     "execution_count": 1,
     "metadata": {},
     "output_type": "execute_result"
    }
   ],
   "source": [
    "class Employee:\n",
    "    \n",
    "    num_of_emps = 0\n",
    "    raise_amt = 1.04\n",
    "    \n",
    "    def __init__(self,first,last,pay):\n",
    "        self.first = first\n",
    "        self.last  = last\n",
    "        self.email = first+'.'+last + '@email.com'\n",
    "        self.pay = pay\n",
    "        \n",
    "        Employee.num_of_emps +=1\n",
    "    \n",
    "    def fullname(self):\n",
    "        return '{self.first} {self.last}'\n",
    "    \n",
    "    def apply_raise(self):\n",
    "        self.pay = int(self.pay * self.raise_amt)\n",
    "    \n",
    "  #  @classmethod \n",
    "   # def setraisamt(cls,amount):\n",
    "     #   cls.raise_amt = amount\n",
    "        \n",
    "\n",
    "emp1 = Employee('Corey','Shafer',100)\n",
    "emp2 = Employee('Test','Employee',1000)\n",
    "\n",
    "Employee.raise_amt\n",
    "emp1.raise_amt  \n",
    "emp2.raise_amt = 1.2\n",
    "emp2.raise_amt\n",
    "\n",
    "emp1.raise_amt\n",
    "Employee.raise_amt = 1.1\n",
    "\n",
    "emp1.raise_amtl"
   ]
  },
  {
   "source": [
    "## Class Method"
   ],
   "cell_type": "markdown",
   "metadata": {}
  },
  {
   "source": [
    "\"\"\"\n",
    "A class method accepts the class as an argument to it which by convention is called cls. It take the cls parameter, which points to the class ToyClass instead of the object of it. It is declared with the @classmethod decorator.\n",
    "\n",
    "### Class methods are bound to the class and not to the object of the class. They can alter the class state that would apply across all instances of class but not the object state.\n",
    "\n",
    "A builtin example is dict.fromkeys() which returns a new dictionary with a given sequence of elements as the keys of the dictionary.\n",
    "\"\"\""
   ],
   "cell_type": "markdown",
   "metadata": {}
  },
  {
   "cell_type": "code",
   "execution_count": 1,
   "metadata": {},
   "outputs": [
    {
     "data": {
      "text/plain": [
       "1.09"
      ]
     },
     "execution_count": 1,
     "metadata": {},
     "output_type": "execute_result"
    }
   ],
   "source": [
    "class Employee:\n",
    "    \n",
    "    num_of_emps = 0\n",
    "    raise_amt = 1.04\n",
    "    \n",
    "    def __init__(self,first,last,pay):\n",
    "        self.first = first\n",
    "        self.last  = last\n",
    "        self.email = first+'.'+last + '@email.com'\n",
    "        self.pay = pay\n",
    "        \n",
    "        Employee.num_of_emps +=1\n",
    "    \n",
    "    def fullname(self):\n",
    "        return '{self.first} {self.last}'\n",
    "    \n",
    "    def apply_raise(self):\n",
    "        self.pay = int(self.pay * self.raise_amt)\n",
    "    \n",
    "    @classmethod \n",
    "    def setraisamt(cls,amount):\n",
    "        cls.raise_amt = amount\n",
    "        \n",
    "\n",
    "emp1 = Employee('Corey','Shafer',100)\n",
    "emp2 = Employee('Test','Employee',1000)\n",
    "\n",
    "Employee.raise_amt\n",
    "emp1.raise_amt  \n",
    "emp2.raise_amt = 1.2\n",
    "emp2.raise_amt\n",
    "\n",
    "emp1.raise_amt\n",
    "Employee.raise_amt = 1.1\n",
    "\n",
    "Employee.setraisamt(1.09)\n",
    "Employee.raise_amt\n"
   ]
  },
  {
   "source": [
    "### Static Methods\n",
    "\n",
    "A static method is marked with a @staticmethod decorator to flag it as static. It does not receive an implicit first argument (neither self nor cls).It can also be put as a method that “does’t know its class”.\n",
    "\n",
    "Hence a static method is merely attached for convenience to the class object. Hence static methods can neither modify the object state nor class state. They are primarily a way to namespace our methods.\n",
    "\n"
   ],
   "cell_type": "markdown",
   "metadata": {}
  },
  {
   "cell_type": "code",
   "execution_count": 31,
   "metadata": {},
   "outputs": [
    {
     "output_type": "stream",
     "name": "stdout",
     "text": [
      "('instance method called', <__main__.ToyClass object at 0x00000246271F6FD0>)\n('instance method called', <__main__.ToyClass object at 0x00000246271F6FD0>)\n('class method called', <class '__main__.ToyClass'>)\nstatic method called\n"
     ]
    }
   ],
   "source": [
    "class ToyClass:\n",
    "    def instancemethod(self):\n",
    "        return 'instance method called', self\n",
    "    \n",
    "    @classmethod\n",
    "    def classmethod(cls):\n",
    "        return 'class method called', cls\n",
    "    @staticmethod\n",
    "    def staticmethod():\n",
    "        return 'static method called'\n",
    "\n",
    "\n",
    "\n",
    "obj = ToyClass()\n",
    "\n",
    "print(obj.instancemethod())\n",
    "print(ToyClass.instancemethod(obj))\n",
    "print(obj.classmethod())\n",
    "print(obj.staticmethod())"
   ]
  },
  {
   "cell_type": "code",
   "execution_count": 20,
   "metadata": {},
   "outputs": [
    {
     "output_type": "execute_result",
     "data": {
      "text/plain": [
       "('class method called', __main__.ToyClass)"
      ]
     },
     "metadata": {},
     "execution_count": 20
    }
   ],
   "source": [
    "ToyClass.classmethod()"
   ]
  },
  {
   "cell_type": "code",
   "execution_count": 21,
   "metadata": {},
   "outputs": [
    {
     "output_type": "execute_result",
     "data": {
      "text/plain": [
       "'static method called'"
      ]
     },
     "metadata": {},
     "execution_count": 21
    }
   ],
   "source": [
    "ToyClass.staticmethod()"
   ]
  },
  {
   "cell_type": "code",
   "execution_count": 22,
   "metadata": {},
   "outputs": [
    {
     "output_type": "error",
     "ename": "TypeError",
     "evalue": "instancemethod() missing 1 required positional argument: 'self'",
     "traceback": [
      "\u001b[1;31m---------------------------------------------------------------------------\u001b[0m",
      "\u001b[1;31mTypeError\u001b[0m                                 Traceback (most recent call last)",
      "\u001b[1;32m<ipython-input-22-aee9992cb606>\u001b[0m in \u001b[0;36m<module>\u001b[1;34m\u001b[0m\n\u001b[1;32m----> 1\u001b[1;33m \u001b[0mToyClass\u001b[0m\u001b[1;33m.\u001b[0m\u001b[0minstancemethod\u001b[0m\u001b[1;33m(\u001b[0m\u001b[1;33m)\u001b[0m\u001b[1;33m\u001b[0m\u001b[1;33m\u001b[0m\u001b[0m\n\u001b[0m",
      "\u001b[1;31mTypeError\u001b[0m: instancemethod() missing 1 required positional argument: 'self'"
     ]
    }
   ],
   "source": [
    "\"\"\"\n",
    "Calling classmethod and static method using class works fine, however calling instance method throws an Type error. \n",
    "Sice no object instance is created hence self argument cannot be populated.\n",
    "\"\"\"\n",
    "ToyClass.instancemethod()"
   ]
  },
  {
   "cell_type": "code",
   "execution_count": 2,
   "metadata": {},
   "outputs": [
    {
     "output_type": "stream",
     "name": "stdout",
     "text": [
      "Sarah 15\nRoark 26\nTrue\nnot elegible\n"
     ]
    }
   ],
   "source": [
    "from datetime import date\n",
    "\n",
    "from datetime import date\n",
    "\n",
    "class Person:\n",
    "    def __init__(self, name, age):\n",
    "        self.name = name\n",
    "        self.age = age\n",
    "\n",
    "    @classmethod\n",
    "    def from_birth_year(cls, name, year):\n",
    "        return cls(name, date.today().year - year)\n",
    "        \n",
    "    def Employee_elegible(self):\n",
    "        if Person.is_adult(self.age):\n",
    "            print(\"ready to go further round\")\n",
    "        else:\n",
    "            print('not elegible')\n",
    "\n",
    "    @staticmethod\n",
    "    def is_adult(age):\n",
    "        return age > 18\n",
    "\n",
    "person1 = Person('Sarah', 15)\n",
    "person2 = Person.from_birth_year('Roark', 1994)\n",
    "\n",
    "print(person1.name, person1.age)\n",
    "\n",
    "print(person2.name, person2.age)\n",
    "\n",
    "print(Person.is_adult(25))\n",
    "\n",
    "person1.Employee_elegible()\n"
   ]
  }
 ],
 "metadata": {
  "kernelspec": {
   "name": "python3",
   "display_name": "Python 3.8.5 64-bit",
   "metadata": {
    "interpreter": {
     "hash": "2db524e06e9f5f4ffedc911c917cb75e12dbc923643829bf417064a77eb14d37"
    }
   }
  },
  "language_info": {
   "codemirror_mode": {
    "name": "ipython",
    "version": 3
   },
   "file_extension": ".py",
   "mimetype": "text/x-python",
   "name": "python",
   "nbconvert_exporter": "python",
   "pygments_lexer": "ipython3",
   "version": "3.8.5-final"
  }
 },
 "nbformat": 4,
 "nbformat_minor": 2
}