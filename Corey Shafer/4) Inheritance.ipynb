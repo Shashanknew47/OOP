{
 "cells": [
  {
   "cell_type": "code",
   "execution_count": 29,
   "metadata": {},
   "outputs": [
    {
     "name": "stdout",
     "output_type": "stream",
     "text": [
      "<__main__.J_developer object at 0x0000022B44435A20>\n",
      "Shashank Jain\n"
     ]
    }
   ],
   "source": [
    "class Employee:\n",
    "    raise_amt = 1.04\n",
    "    \n",
    "    def __init__(self,first,last,pay):\n",
    "        self.first = first\n",
    "        self.last = last\n",
    "        self.pay = pay\n",
    "        self.email = self.first + self.last + '@gmail.com'\n",
    "    \n",
    "    def fullname(self):\n",
    "        return f'{self.first} {self.last}'\n",
    "    \n",
    "    def apply_raise(self):\n",
    "        self.pay = float(self.pay * self.raise_amt)\n",
    "        return self.pay\n",
    "    \n",
    "\n",
    "class J_developer(Employee):\n",
    "    pass\n",
    "\n",
    "# As Developer inherit from Employee class.So, it has taken all the attributes and methods form Employee class. \n",
    "\n",
    "D1 = J_developer('Shashank','Jain',100)\n",
    "\n",
    "print(D1)\n",
    "print(D1.fullname())\n",
    "\n",
    "\n",
    "    "
   ]
  },
  {
   "cell_type": "markdown",
   "metadata": {},
   "source": [
    "### Method Resolution Order"
   ]
  },
  {
   "cell_type": "code",
   "execution_count": 30,
   "metadata": {},
   "outputs": [
    {
     "name": "stdout",
     "output_type": "stream",
     "text": [
      "Help on class J_developer in module __main__:\n",
      "\n",
      "class J_developer(Employee)\n",
      " |  J_developer(first, last, pay)\n",
      " |  \n",
      " |  Method resolution order:\n",
      " |      J_developer\n",
      " |      Employee\n",
      " |      builtins.object\n",
      " |  \n",
      " |  Methods inherited from Employee:\n",
      " |  \n",
      " |  __init__(self, first, last, pay)\n",
      " |      Initialize self.  See help(type(self)) for accurate signature.\n",
      " |  \n",
      " |  apply_raise(self)\n",
      " |  \n",
      " |  fullname(self)\n",
      " |  \n",
      " |  ----------------------------------------------------------------------\n",
      " |  Data descriptors inherited from Employee:\n",
      " |  \n",
      " |  __dict__\n",
      " |      dictionary for instance variables (if defined)\n",
      " |  \n",
      " |  __weakref__\n",
      " |      list of weak references to the object (if defined)\n",
      " |  \n",
      " |  ----------------------------------------------------------------------\n",
      " |  Data and other attributes inherited from Employee:\n",
      " |  \n",
      " |  raise_amt = 1.04\n",
      "\n"
     ]
    }
   ],
   "source": [
    "# Method resolution tells where to look attributes and functions in a sequence.\n",
    "# As in below below example it tells us that when run instances of Developer class first it will look attributes and function\n",
    "# in Develpoer class and then Employee and then Builtins objects. \n",
    "\n",
    "\n",
    "help(J_developer)"
   ]
  },
  {
   "cell_type": "code",
   "execution_count": 31,
   "metadata": {},
   "outputs": [
    {
     "name": "stdout",
     "output_type": "stream",
     "text": [
      "Help on class S_developer in module __main__:\n",
      "\n",
      "class S_developer(Employee)\n",
      " |  S_developer(first, last, pay)\n",
      " |  \n",
      " |  Method resolution order:\n",
      " |      S_developer\n",
      " |      Employee\n",
      " |      builtins.object\n",
      " |  \n",
      " |  Data and other attributes defined here:\n",
      " |  \n",
      " |  raise_amt = 1.1\n",
      " |  \n",
      " |  ----------------------------------------------------------------------\n",
      " |  Methods inherited from Employee:\n",
      " |  \n",
      " |  __init__(self, first, last, pay)\n",
      " |      Initialize self.  See help(type(self)) for accurate signature.\n",
      " |  \n",
      " |  apply_raise(self)\n",
      " |  \n",
      " |  fullname(self)\n",
      " |  \n",
      " |  ----------------------------------------------------------------------\n",
      " |  Data descriptors inherited from Employee:\n",
      " |  \n",
      " |  __dict__\n",
      " |      dictionary for instance variables (if defined)\n",
      " |  \n",
      " |  __weakref__\n",
      " |      list of weak references to the object (if defined)\n",
      "\n"
     ]
    }
   ],
   "source": [
    "# Now we are building a new class of Senior developers which have everything is same as Employee apart salary raise amount.\n",
    "\n",
    "class S_developer(Employee):\n",
    "    \n",
    "    raise_amt = 1.1\n",
    "    \n",
    "help(S_developer)\n",
    "\n",
    "\n",
    "# Now you will se raise_amt has changed form 1.1. As in method resolution order sequence S_develpoer comes first."
   ]
  },
  {
   "cell_type": "markdown",
   "metadata": {},
   "source": [
    "### init and super in inheritance"
   ]
  },
  {
   "cell_type": "code",
   "execution_count": 32,
   "metadata": {},
   "outputs": [
    {
     "name": "stdout",
     "output_type": "stream",
     "text": [
      "Child\n",
      "************\n"
     ]
    }
   ],
   "source": [
    "class Father:\n",
    "    Hair_color = 'Brown_hair'\n",
    "    def __init__(self):\n",
    "        print('Father')\n",
    "    \n",
    "        \n",
    "class Child(Father):\n",
    "    def __init__(self):\n",
    "        print('Child')\n",
    "\n",
    "C1 = Child()\n",
    "\n",
    "print('************')\n",
    "\n",
    "\n",
    "# NOw you will notice that init is not inherrited form Father to child. To inherit init we need to call it \n",
    "#explicitly.\n",
    "\n"
   ]
  },
  {
   "cell_type": "code",
   "execution_count": 33,
   "metadata": {},
   "outputs": [
    {
     "name": "stdout",
     "output_type": "stream",
     "text": [
      "Child\n",
      "Father\n"
     ]
    }
   ],
   "source": [
    "#Note : We inherit Parent init by calling under init of class. \n",
    "\n",
    "class Father:\n",
    "    Hair_color = 'Brown_hair'\n",
    "    def __init__(self):\n",
    "        print('Father')\n",
    "    \n",
    "        \n",
    "class Child(Father):\n",
    "    def __init__(self):\n",
    "        print('Child')\n",
    "        Father.__init__(self)\n",
    "\n",
    "C1 = Child()"
   ]
  },
  {
   "cell_type": "markdown",
   "metadata": {},
   "source": [
    "# Multiple inheritance "
   ]
  },
  {
   "cell_type": "code",
   "execution_count": 34,
   "metadata": {},
   "outputs": [
    {
     "name": "stdout",
     "output_type": "stream",
     "text": [
      "Child\n",
      "Father\n",
      "Mother\n"
     ]
    }
   ],
   "source": [
    "# We need to call \n",
    "\n",
    "class Father:\n",
    "    Hair_color = 'Brown_hair'\n",
    "    def __init__(self):\n",
    "        print('Father')\n",
    "        \n",
    "class Mother:\n",
    "    def __init__(self):\n",
    "        print('Mother')\n",
    "        \n",
    "        \n",
    "class Child(Father,Mother):\n",
    "    def __init__(self):\n",
    "        print('Child')\n",
    "        Father.__init__(self)\n",
    "        Mother.__init__(self)\n",
    "        \n",
    "        \n",
    "C1 = Child()"
   ]
  },
  {
   "cell_type": "code",
   "execution_count": 35,
   "metadata": {},
   "outputs": [
    {
     "name": "stdout",
     "output_type": "stream",
     "text": [
      "Child\n",
      "Father\n"
     ]
    }
   ],
   "source": [
    "# You will notice that super did not worked in multiple direct inheritance.\n",
    "\n",
    "class Father:\n",
    "    Hair_color = 'Brown_hair'\n",
    "    def __init__(self):\n",
    "        print('Father')\n",
    "        \n",
    "class Mother:\n",
    "    def __init__(self):\n",
    "        print('Mother')\n",
    "        \n",
    "            \n",
    "class Child(Father,Mother):\n",
    "    def __init__(self):\n",
    "        print('Child')\n",
    "        super().__init__()\n",
    "        \n",
    "        \n",
    "C1 = Child()"
   ]
  },
  {
   "cell_type": "code",
   "execution_count": 36,
   "metadata": {},
   "outputs": [
    {
     "name": "stdout",
     "output_type": "stream",
     "text": [
      "Child\n",
      "Father\n",
      "G_Father\n",
      "Mother\n",
      "G_Father\n"
     ]
    }
   ],
   "source": [
    "#Diamond shape inherritance\n",
    "\n",
    "class G_Father:\n",
    "    def __init__(self):\n",
    "        print('G_Father')\n",
    "\n",
    "\n",
    "\n",
    "class Father(G_Father):\n",
    "    Hair_color = 'Brown_hair'\n",
    "    def __init__(self):\n",
    "        print('Father')\n",
    "        G_Father.__init__(self)\n",
    "        \n",
    "class Mother(G_Father):\n",
    "    def __init__(self):\n",
    "        print('Mother')\n",
    "        G_Father.__init__(self)\n",
    "        \n",
    "    \n",
    "        \n",
    "class Child(Father,Mother):\n",
    "    def __init__(self):\n",
    "        print('Child')\n",
    "        Father.__init__(self)\n",
    "        Mother.__init__(self)\n",
    "        \n",
    "        \n",
    "C1 = Child()"
   ]
  },
  {
   "cell_type": "code",
   "execution_count": 37,
   "metadata": {},
   "outputs": [
    {
     "name": "stdout",
     "output_type": "stream",
     "text": [
      "Child\n",
      "Father\n",
      "Mother\n",
      "G_Father\n"
     ]
    }
   ],
   "source": [
    "#Diamond shape multiple inherritance with super worked properly.\n",
    "\n",
    "class G_Father:\n",
    "    def __init__(self):\n",
    "        print('G_Father')\n",
    "\n",
    "\n",
    "\n",
    "class Father(G_Father):\n",
    "    Hair_color = 'Brown_hair'\n",
    "    def __init__(self):\n",
    "        print('Father')\n",
    "        super().__init__()\n",
    "        \n",
    "class Mother(G_Father):\n",
    "    def __init__(self):\n",
    "        print('Mother')\n",
    "        super().__init__()\n",
    "        \n",
    "    \n",
    "        \n",
    "class Child(Father,Mother):\n",
    "    def __init__(self):\n",
    "        print('Child')\n",
    "        super().__init__()\n",
    "        \n",
    "        \n",
    "C1 = Child()"
   ]
  },
  {
   "cell_type": "markdown",
   "metadata": {},
   "source": [
    "#### Init with arguments in multiple inheritance"
   ]
  },
  {
   "cell_type": "code",
   "execution_count": 2,
   "metadata": {},
   "outputs": [
    {
     "output_type": "stream",
     "name": "stdout",
     "text": [
      "Shasha\nRee\nShashank Jain\nRamu c\n"
     ]
    }
   ],
   "source": [
    "class Employee:\n",
    "\n",
    "    raise_amt = 1.03\n",
    "    \n",
    "    def __init__(self,First,Last,Pay):\n",
    "        self.first = First\n",
    "        self.last = Last\n",
    "        self.pay = Pay\n",
    "        self.email = self.first + self.last + '@gmail.com'\n",
    "\n",
    "    def apply_raise(self):\n",
    "        self.rai = int(self.raise_amt * self.pay)\n",
    "        return self.rai\n",
    "    \n",
    "    def __repr__(self):\n",
    "        return f'{self.first} {self.last}'\n",
    "    \n",
    "class Developer(Employee):\n",
    "    \n",
    "    raise_amt = 1.10\n",
    "    \n",
    "    def __init__(self,First,Last,Pay,Prog_lang):\n",
    "        super().__init__(First,Last,Pay)\n",
    "        self.Prog_lang = Prog_lang      \n",
    "        \n",
    "class Manager(Employee):\n",
    "    \n",
    "    def __init__(self,First,last,Pay,employees=None):\n",
    "        super().__init__('First','Last','Pay')\n",
    "        if employees is None:\n",
    "            self.employees = []\n",
    "        else:\n",
    "            self.employees = [employees]\n",
    "            \n",
    "    def add_employee(self,emp):\n",
    "        if emp not in self.employees:\n",
    "            return self.employees.append(emp)\n",
    "        \n",
    "    def remove_employee(self,emp):\n",
    "        if emp in self.employees:\n",
    "            return self.employees.remove(emp)\n",
    "    \n",
    "    def remp(self):\n",
    "        for e in self.employees:\n",
    "            print(e)\n",
    "  \n",
    "        \n",
    "E1 = Employee('Ramu','c',10)        \n",
    "D1 = Developer('Shashank','Jain',100,'Pythonh')\n",
    "        \n",
    " \n",
    "D1.Prog_lang \n",
    "D1.apply_raise()\n",
    "\n",
    "\n",
    "M1 = Manager('Jerry','Jackson',100,'Shasha')\n",
    "\n",
    "M1.add_employee('Ree')\n",
    "M1.add_employee(D1)\n",
    "M1.add_employee(E1)\n",
    "\n",
    "M1.remp()"
   ]
  }
 ],
 "metadata": {
  "kernelspec": {
   "name": "python3",
   "display_name": "Python 3.8.5 64-bit",
   "metadata": {
    "interpreter": {
     "hash": "2db524e06e9f5f4ffedc911c917cb75e12dbc923643829bf417064a77eb14d37"
    }
   }
  },
  "language_info": {
   "codemirror_mode": {
    "name": "ipython",
    "version": 3
   },
   "file_extension": ".py",
   "mimetype": "text/x-python",
   "name": "python",
   "nbconvert_exporter": "python",
   "pygments_lexer": "ipython3",
   "version": "3.8.5-final"
  }
 },
 "nbformat": 4,
 "nbformat_minor": 2
}