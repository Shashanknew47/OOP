{
 "cells": [
  {
   "cell_type": "code",
   "execution_count": 6,
   "metadata": {},
   "outputs": [
    {
     "output_type": "stream",
     "name": "stdout",
     "text": [
      "John\nJohn Jain@gmail.com\nShashank Jain\n"
     ]
    }
   ],
   "source": [
    "class Employee:\n",
    "\n",
    "    def __init__(self,first,last):\n",
    "        self.first = first\n",
    "        self.last = last\n",
    "        self.fullname = first + ' ' + last \n",
    "\n",
    "    def email(self):\n",
    "        return f'{self.first} {self.last}@gmail.com'\n",
    "\n",
    "emp1 = Employee('Shashank','Jain')\n",
    "\n",
    "\"In this code i\"\n",
    "\n",
    "emp1.first = 'John'\n",
    "\n",
    "print(emp1.first)\n",
    "print(emp1.email())\n",
    "print(emp1.fullname)\n",
    "\n",
    "\n",
    "\"\"\"\n",
    "Now Notice in this code when we changed first name then our full name was not changed.\n",
    "but email did gott changed. To change fullname we need to set fullnanme also in method \n",
    "but problem is that if we do it in later stage of code once it has distributed in \n",
    "defferent softwares. It will create an issue. So, to fix this problem we could use \n",
    "property decorators.\n",
    "\"\"\"\n",
    "None\n",
    "\n"
   ]
  },
  {
   "cell_type": "code",
   "execution_count": 10,
   "metadata": {},
   "outputs": [
    {
     "output_type": "stream",
     "name": "stdout",
     "text": [
      "John\nJohn Jain@gmail.com\nJohn Jain\n"
     ]
    }
   ],
   "source": [
    "class Employee:\n",
    "\n",
    "    def __init__(self,first,last):\n",
    "        self.first = first\n",
    "        self.last = last\n",
    "   \n",
    "    @property\n",
    "    def fullname(self):\n",
    "        return f'{self.first} {self.last}'\n",
    "    \n",
    "    def email(self):\n",
    "        return f'{self.first} {self.last}@gmail.com'\n",
    "\n",
    "emp1 = Employee('Shashank','Jain')\n",
    "\n",
    "emp1.first = 'John'\n",
    "\n",
    "print(emp1.first)\n",
    "print(emp1.email())\n",
    "print(emp1.fullname)\n",
    "\n",
    "\n",
    "\n",
    "None\n"
   ]
  },
  {
   "cell_type": "code",
   "execution_count": 24,
   "metadata": {},
   "outputs": [
    {
     "output_type": "stream",
     "name": "stdout",
     "text": [
      "John\nJohn Jain@gmail.com\nJohn Jain\n==========================\nNew\nName\nNew Name@gmail.com\n"
     ]
    }
   ],
   "source": [
    "\"\"\"\n",
    "Now we want to create a functionality, if when we change fullname then first and last name should autometically change with it. It could be created with property decorator, setter decorator. \n",
    "\"\"\"\n",
    "class Employee:\n",
    "\n",
    "    def __init__(self,first,last):\n",
    "        self.first = first\n",
    "        self.last = last\n",
    "   \n",
    "    @property\n",
    "    def fullname(self):\n",
    "        return f'{self.first} {self.last}'\n",
    "\n",
    "    \n",
    "    @fullname.setter\n",
    "    def fullname(self,name):\n",
    "        first,last = name.split(' ')\n",
    "        self.first = first\n",
    "        self.last = last\n",
    "\n",
    "\n",
    "    def email(self):\n",
    "        return f'{self.first} {self.last}@gmail.com'\n",
    "\n",
    "emp1 = Employee('Shashank','Jain')\n",
    "\n",
    "emp1.first = 'John'\n",
    "\n",
    "print(emp1.first)\n",
    "print(emp1.email())\n",
    "print(emp1.fullname)\n",
    "\n",
    "print('==========================')\n",
    "\n",
    "emp1.fullname = 'New Name'\n",
    "\n",
    "print(emp1.first)\n",
    "print(emp1.last)\n",
    "print(emp1.email())"
   ]
  },
  {
   "cell_type": "code",
   "execution_count": 25,
   "metadata": {},
   "outputs": [
    {
     "output_type": "stream",
     "name": "stdout",
     "text": [
      "John\nJohn Jain@gmail.com\nJohn Jain\n========== Setter ================\nNew\nName\nNew Name@gmail.com\n"
     ]
    }
   ],
   "source": [
    "class Employee:\n",
    "\n",
    "    def __init__(self,first,last):\n",
    "        self.first = first\n",
    "        self.last = last\n",
    "   \n",
    "    @property\n",
    "    def fullname(self):\n",
    "        return f'{self.first} {self.last}'\n",
    "\n",
    "    # To create setter method we need to need write one more method \n",
    "    # with the name of same name of proer decorater method and then\n",
    "    # we need to set setter proerty decorater with method name with it. \n",
    "    \n",
    "    @fullname.setter\n",
    "    def fullname(self,name):\n",
    "        first,last = name.split(' ')\n",
    "        self.first = first\n",
    "        self.last = last\n",
    "\n",
    "\n",
    "    \n",
    "    def email(self):\n",
    "        return f'{self.first} {self.last}@gmail.com'\n",
    "\n",
    "emp1 = Employee('Shashank','Jain')\n",
    "\n",
    "emp1.first = 'John'\n",
    "\n",
    "print(emp1.first)\n",
    "print(emp1.email())\n",
    "print(emp1.fullname)\n",
    "\n",
    "print('========== Setter ================')\n",
    "\n",
    "emp1.fullname = 'New Name'\n",
    "\n",
    "print(emp1.first)\n",
    "print(emp1.last)\n",
    "print(emp1.email())"
   ]
  },
  {
   "cell_type": "code",
   "execution_count": 29,
   "metadata": {},
   "outputs": [
    {
     "output_type": "stream",
     "name": "stdout",
     "text": [
      "John\nJohn Jain@gmail.com\nJohn Jain\n========= Setter =================\nNew\nName\nNew Name@gmail.com\n========= Deleter ==============\nNone None\nNone\n"
     ]
    }
   ],
   "source": [
    "class Employee:\n",
    "\n",
    "    def __init__(self,first,last):\n",
    "        self.first = first\n",
    "        self.last = last\n",
    "   \n",
    "    @property\n",
    "    def fullname(self):\n",
    "        return f'{self.first} {self.last}'\n",
    "\n",
    "    \n",
    "    @fullname.setter\n",
    "    def fullname(self,name):\n",
    "        first,last = name.split(' ')\n",
    "        self.first = first\n",
    "        self.last = last\n",
    "\n",
    "    @fullname.deleter\n",
    "    def fullname(self):\n",
    "        self.first = None\n",
    "        self.last = None\n",
    "\n",
    "\n",
    "    \n",
    "    def email(self):\n",
    "        return f'{self.first} {self.last}@gmail.com'\n",
    "\n",
    "emp1 = Employee('Shashank','Jain')\n",
    "\n",
    "emp1.first = 'John'\n",
    "\n",
    "print(emp1.first)\n",
    "print(emp1.email())\n",
    "print(emp1.fullname)\n",
    "\n",
    "print('========= Setter =================')\n",
    "\n",
    "emp1.fullname = 'New Name'\n",
    "\n",
    "print(emp1.first) \n",
    "print(emp1.last)\n",
    "print(emp1.email())\n",
    "\n",
    "print('========= Deleter ==============')\n",
    "del emp1.fullname\n",
    "\n",
    "print(emp1.fullname)\n",
    "print(emp1.first)"
   ]
  }
 ],
 "metadata": {
  "kernelspec": {
   "display_name": "Python 3",
   "language": "python",
   "name": "python3"
  },
  "language_info": {
   "codemirror_mode": {
    "name": "ipython",
    "version": 3
   },
   "file_extension": ".py",
   "mimetype": "text/x-python",
   "name": "python",
   "nbconvert_exporter": "python",
   "pygments_lexer": "ipython3",
   "version": "3.8.5-final"
  }
 },
 "nbformat": 4,
 "nbformat_minor": 2
}