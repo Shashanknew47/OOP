{
 "cells": [
  {
   "cell_type": "markdown",
   "metadata": {},
   "source": [
    "### Class Variable: Variables which are inheritted from class So, generally remain same for all the intances.\n"
   ]
  },
  {
   "cell_type": "code",
   "execution_count": 2,
   "metadata": {},
   "outputs": [
    {
     "output_type": "stream",
     "name": "stdout",
     "text": [
      "emp1 raises amt by instance : 140.0\nemp1 raises amt by instance: 140.0\n***************\nemp1 raises amt by apply_raise method :140\nemp1 raises amt by apply_raise method :196\n***************\nemp2 raises amt by apply_raise method :110\nemp2 raises amt by apply_raise method :121\n"
     ]
    }
   ],
   "source": [
    "class Employee:\n",
    "    raise_amt = 1.4\n",
    "    \n",
    "    def __init__(self,first,last,pay):\n",
    "        self.first = first\n",
    "        self.last = last\n",
    "        self.pay = pay\n",
    "        self.raises = self.pay * 1.4\n",
    "    \n",
    "    def apply_raise(self):\n",
    "        self.pay = int(self.pay*self.raise_amt)\n",
    "        return self.pay\n",
    "        \n",
    "emp1 = Employee('Corey','Shafer',100)\n",
    "emp2 = Employee('Shashank','Jain',100)\n",
    "\n",
    "\n",
    "print(f'emp1 raises amt by instance : {emp1.raises}')\n",
    "print(f'emp1 raises amt by instance: {emp1.raises}')\n",
    "\n",
    "print(\"***************\")\n",
    "\n",
    "\n",
    "print(f'emp1 raises amt by apply_raise method :{emp1.apply_raise()}')\n",
    "print(f'emp1 raises amt by apply_raise method :{emp1.apply_raise()}')\n",
    "\n",
    "\n",
    "print(\"***************\")\n",
    "#Here when we cumise raise amt for emp2 then:\n",
    "emp2.raise_amt = 1.1\n",
    "print(f'emp2 raises amt by apply_raise method :{emp2.apply_raise()}')\n",
    "print(f'emp2 raises amt by apply_raise method :{emp2.apply_raise()}')\n",
    "\n"
   ]
  },
  {
   "cell_type": "code",
   "execution_count": 3,
   "metadata": {},
   "outputs": [
    {
     "output_type": "stream",
     "name": "stdout",
     "text": [
      "1.4\n1.4\n{'first': 'Corey', 'last': 'Shafer', 'pay': 196, 'raises': 140.0}\n"
     ]
    },
    {
     "output_type": "execute_result",
     "data": {
      "text/plain": [
       "mappingproxy({'__module__': '__main__',\n",
       "              'raise_amt': 1.4,\n",
       "              '__init__': <function __main__.Employee.__init__(self, first, last, pay)>,\n",
       "              'apply_raise': <function __main__.Employee.apply_raise(self)>,\n",
       "              '__dict__': <attribute '__dict__' of 'Employee' objects>,\n",
       "              '__weakref__': <attribute '__weakref__' of 'Employee' objects>,\n",
       "              '__doc__': None})"
      ]
     },
     "metadata": {},
     "execution_count": 3
    }
   ],
   "source": [
    "#Class variable could be accessed by class and instance \n",
    "print(Employee.raise_amt)\n",
    "print(emp1.raise_amt)\n",
    "print(emp1.__dict__)\n",
    "#Note in dict properties on emp1(instance) we don't see raise_amt where as in Employee we could see that.\n",
    "Employee.__dict__"
   ]
  },
  {
   "cell_type": "code",
   "execution_count": 5,
   "metadata": {},
   "outputs": [
    {
     "output_type": "execute_result",
     "data": {
      "text/plain": [
       "mappingproxy({'__module__': '__main__',\n",
       "              'raise_amt': 1.4,\n",
       "              '__init__': <function __main__.Employee.__init__(self, first, last, pay)>,\n",
       "              'apply_raise': <function __main__.Employee.apply_raise(self)>,\n",
       "              '__dict__': <attribute '__dict__' of 'Employee' objects>,\n",
       "              '__weakref__': <attribute '__weakref__' of 'Employee' objects>,\n",
       "              '__doc__': None})"
      ]
     },
     "metadata": {},
     "execution_count": 5
    }
   ],
   "source": [
    "Employee.__dict__"
   ]
  }
 ],
 "metadata": {
  "kernelspec": {
   "name": "python3",
   "display_name": "Python 3.8.5 64-bit",
   "metadata": {
    "interpreter": {
     "hash": "2db524e06e9f5f4ffedc911c917cb75e12dbc923643829bf417064a77eb14d37"
    }
   }
  },
  "language_info": {
   "codemirror_mode": {
    "name": "ipython",
    "version": 3
   },
   "file_extension": ".py",
   "mimetype": "text/x-python",
   "name": "python",
   "nbconvert_exporter": "python",
   "pygments_lexer": "ipython3",
   "version": "3.8.5-final"
  }
 },
 "nbformat": 4,
 "nbformat_minor": 2
}