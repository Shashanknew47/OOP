{
 "cells": [
  {
   "cell_type": "code",
   "execution_count": 5,
   "metadata": {},
   "outputs": [
    {
     "output_type": "execute_result",
     "data": {
      "text/plain": [
       "'Shashank Jain'"
      ]
     },
     "metadata": {},
     "execution_count": 5
    }
   ],
   "source": [
    "class Employee:\n",
    "\n",
    "    def __init__(self,first,last):\n",
    "        self.first = first\n",
    "        self.last = last\n",
    "        self.fullname = first + \" \" + last\n",
    "    \n",
    "    def email(self):\n",
    "        return f'{self.first} {self.last}'\n",
    "\n",
    "E1 =  Employee('Shashank','Jain')\n",
    "E1.first = 'Jane'\n",
    "E1.last = 'Joe'\n",
    "\n",
    "E1.fullname"
   ]
  },
  {
   "cell_type": "code",
   "execution_count": 6,
   "metadata": {},
   "outputs": [
    {
     "output_type": "execute_result",
     "data": {
      "text/plain": [
       "'Jane Joe'"
      ]
     },
     "metadata": {},
     "execution_count": 6
    }
   ],
   "source": [
    "class Employee:\n",
    "\n",
    "    def __init__(self,first,last):\n",
    "        self.first = first\n",
    "        self.last = last\n",
    "      \n",
    "\n",
    "    @property\n",
    "    def fullname(self):\n",
    "        return f'{self.first} {self.last}'\n",
    "\n",
    "    def email(self):\n",
    "        return f'{self.first} {self.last}'\n",
    "\n",
    "E1 =  Employee('Shashank','Jain')\n",
    "E1.first = 'Jane'\n",
    "E1.last = 'Joe'\n",
    "\n",
    "E1.fullname"
   ]
  },
  {
   "cell_type": "code",
   "execution_count": 13,
   "metadata": {},
   "outputs": [
    {
     "output_type": "execute_result",
     "data": {
      "text/plain": [
       "'Shafer'"
      ]
     },
     "metadata": {},
     "execution_count": 13
    }
   ],
   "source": [
    "class Employee:\n",
    "\n",
    "    def __init__(self,first,last):\n",
    "        self.first = first\n",
    "        self.last = last\n",
    "      \n",
    "\n",
    "    @property\n",
    "    def fullname(self):\n",
    "        return f'{self.first} {self.last}'\n",
    "\n",
    "\n",
    "    @fullname.setter\n",
    "    def fullname(self,name):\n",
    "        first,last = name.split(' ')\n",
    "        self.first = first\n",
    "        self.last = last\n",
    "\n",
    "    \n",
    "\n",
    "    def email(self):\n",
    "        return f'{self.first} {self.last}'\n",
    "\n",
    "E1 =  Employee('Shashank','Jain')\n",
    "E1.first = 'Jane'\n",
    "E1.last = 'Joe'\n",
    "\n",
    "E1.fullname = 'Corey Shafer'\n",
    "\n",
    "E1.first\n",
    "E1.last"
   ]
  }
 ],
 "metadata": {
  "kernelspec": {
   "display_name": "Python 3",
   "language": "python",
   "name": "python3"
  },
  "language_info": {
   "codemirror_mode": {
    "name": "ipython",
    "version": 3
   },
   "file_extension": ".py",
   "mimetype": "text/x-python",
   "name": "python",
   "nbconvert_exporter": "python",
   "pygments_lexer": "ipython3",
   "version": "3.8.5-final"
  }
 },
 "nbformat": 4,
 "nbformat_minor": 2
}