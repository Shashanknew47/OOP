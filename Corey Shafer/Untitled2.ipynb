{
 "cells": [
  {
   "cell_type": "code",
   "execution_count": 18,
   "metadata": {},
   "outputs": [
    {
     "output_type": "stream",
     "name": "stdout",
     "text": [
      "Help on Gson in module __main__ object:\n\nclass Gson(Son)\n |  Method resolution order:\n |      Gson\n |      Son\n |      Father\n |      Mother\n |      G_Father\n |      G_Mother\n |      Step_Mother\n |      builtins.object\n |  \n |  Data and other attributes defined here:\n |  \n |  Expenditure = -10\n |  \n |  ----------------------------------------------------------------------\n |  Data and other attributes inherited from Son:\n |  \n |  Earning = 20\n |  \n |  ----------------------------------------------------------------------\n |  Data and other attributes inherited from Father:\n |  \n |  Home = 1000\n |  \n |  ----------------------------------------------------------------------\n |  Data and other attributes inherited from Mother:\n |  \n |  car = 100\n |  \n |  ----------------------------------------------------------------------\n |  Data descriptors inherited from G_Father:\n |  \n |  __dict__\n |      dictionary for instance variables (if defined)\n |  \n |  __weakref__\n |      list of weak references to the object (if defined)\n |  \n |  ----------------------------------------------------------------------\n |  Data and other attributes inherited from G_Father:\n |  \n |  Property = 10000\n |  \n |  ----------------------------------------------------------------------\n |  Data and other attributes inherited from G_Mother:\n |  \n |  Land = 1000\n |  \n |  ----------------------------------------------------------------------\n |  Data and other attributes inherited from Step_Mother:\n |  \n |  Jwells = 100\n\n"
     ]
    }
   ],
   "source": [
    "class G_Father:\n",
    "    Property = 10_000\n",
    "\n",
    "class G_Mother:\n",
    "    Land = 1000\n",
    "\n",
    "class Step_Mother:\n",
    "    Jwells = 100 \n",
    "\n",
    "class Father(G_Father,G_Mother,Step_Mother):\n",
    "    Home = 1000\n",
    "\n",
    "class Mother(G_Father,G_Mother):\n",
    "    car = 100\n",
    "\n",
    "class Son(Father,Mother):\n",
    "    Earning = 20\n",
    "\n",
    "\n",
    "class Gson(Son):\n",
    "    Expenditure = -10\n",
    "\n",
    "\n",
    "S1 = Gson()\n",
    "help(S1)"
   ]
  },
  {
   "cell_type": "code",
   "execution_count": 14,
   "metadata": {},
   "outputs": [
    {
     "output_type": "stream",
     "name": "stdout",
     "text": [
      "getting dough\nMaking pie with pure untreated wheat dough.\nAddings :  Onion\nAddings :  Mushroom\n"
     ]
    }
   ],
   "source": [
    "class DoughFactory(object):\n",
    "\n",
    "    def get_dough(self):\n",
    "        return 'insectiside treated wheat dough'\n",
    "\n",
    "\n",
    "class Pizza(DoughFactory):\n",
    "\n",
    "    def order_pizza(self,*toppings):\n",
    "        print('getting dough')\n",
    "        dough = super().get_dough()\n",
    "        print(f'Making pie with {dough}.')\n",
    "        for topping in toppings:\n",
    "            print(f'Addings :  {topping}')\n",
    "\n",
    "\n",
    "class OrganicDoughFactory(DoughFactory):\n",
    "\n",
    "    def get_dough(self):\n",
    "        return 'pure untreated wheat dough'\n",
    "\n",
    "class OrganicPizza(Pizza,OrganicDoughFactory):\n",
    "    pass\n",
    "\n",
    "OrganicPizza().order_pizza('Onion','Mushroom')"
   ]
  },
  {
   "cell_type": "code",
   "execution_count": null,
   "metadata": {},
   "outputs": [],
   "source": []
  },
  {
   "cell_type": "code",
   "execution_count": null,
   "metadata": {},
   "outputs": [],
   "source": []
  },
  {
   "cell_type": "code",
   "execution_count": null,
   "metadata": {},
   "outputs": [],
   "source": []
  },
  {
   "cell_type": "code",
   "execution_count": null,
   "metadata": {},
   "outputs": [],
   "source": []
  },
  {
   "cell_type": "code",
   "execution_count": null,
   "metadata": {},
   "outputs": [],
   "source": []
  },
  {
   "cell_type": "code",
   "execution_count": null,
   "metadata": {},
   "outputs": [],
   "source": []
  },
  {
   "cell_type": "code",
   "execution_count": null,
   "metadata": {},
   "outputs": [],
   "source": []
  },
  {
   "cell_type": "code",
   "execution_count": null,
   "metadata": {},
   "outputs": [],
   "source": []
  },
  {
   "cell_type": "code",
   "execution_count": null,
   "metadata": {},
   "outputs": [],
   "source": []
  },
  {
   "cell_type": "code",
   "execution_count": 1,
   "metadata": {},
   "outputs": [
    {
     "output_type": "execute_result",
     "data": {
      "text/plain": [
       "'Shashank Jain'"
      ]
     },
     "metadata": {},
     "execution_count": 1
    }
   ],
   "source": [
    "class Employee:\n",
    "\n",
    "    def __init__(self,first,last):\n",
    "        self.first = first\n",
    "        self.last = last\n",
    "        self.fullname = first + \" \" + last\n",
    "    \n",
    "    def email(self):\n",
    "        return f'{self.first} {self.last}'\n",
    "\n",
    "E1 =  Employee('Shashank','Jain')\n",
    "E1.first = 'Jane'\n",
    "E1.last = 'Joe'\n",
    "\n",
    "E1.fullname"
   ]
  },
  {
   "cell_type": "code",
   "execution_count": 2,
   "metadata": {},
   "outputs": [
    {
     "output_type": "execute_result",
     "data": {
      "text/plain": [
       "'Jane Joe'"
      ]
     },
     "metadata": {},
     "execution_count": 2
    }
   ],
   "source": [
    "class Employee:\n",
    "\n",
    "    def __init__(self,first,last):\n",
    "        self.first = first\n",
    "        self.last = last\n",
    "      \n",
    "\n",
    "    @property\n",
    "    def fullname(self):\n",
    "        return f'{self.first} {self.last}'\n",
    "\n",
    "    def email(self):\n",
    "        return f'{self.first} {self.last}'\n",
    "\n",
    "E1 =  Employee('Shashank','Jain')\n",
    "E1.first = 'Jane'\n",
    "E1.last = 'Joe'\n",
    "\n",
    "E1.fullname"
   ]
  },
  {
   "cell_type": "code",
   "execution_count": 3,
   "metadata": {},
   "outputs": [
    {
     "output_type": "execute_result",
     "data": {
      "text/plain": [
       "'Shafer'"
      ]
     },
     "metadata": {},
     "execution_count": 3
    }
   ],
   "source": [
    "class Employee:\n",
    "\n",
    "    def __init__(self,first,last):\n",
    "        self.first = first\n",
    "        self.last = last\n",
    "      \n",
    "\n",
    "    @property\n",
    "    def fullname(self):\n",
    "        return f'{self.first} {self.last}'\n",
    "\n",
    "\n",
    "    @fullname.setter\n",
    "    def fullname(self,name):\n",
    "        first,last = name.split(' ')\n",
    "        self.first = first\n",
    "        self.last = last\n",
    "\n",
    "    \n",
    "\n",
    "    def email(self):\n",
    "        return f'{self.first} {self.last}'\n",
    "\n",
    "E1 =  Employee('Shashank','Jain')\n",
    "E1.first = 'Jane'\n",
    "E1.last = 'Joe'\n",
    "\n",
    "E1.fullname = 'Corey Shafer'\n",
    "\n",
    "E1.first\n",
    "E1.last"
   ]
  }
 ],
 "metadata": {
  "kernelspec": {
   "display_name": "Python 3",
   "language": "python",
   "name": "python3"
  },
  "language_info": {
   "codemirror_mode": {
    "name": "ipython",
    "version": 3
   },
   "file_extension": ".py",
   "mimetype": "text/x-python",
   "name": "python",
   "nbconvert_exporter": "python",
   "pygments_lexer": "ipython3",
   "version": "3.9.1-final"
  }
 },
 "nbformat": 4,
 "nbformat_minor": 2
}