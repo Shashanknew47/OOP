{
 "cells": [
  {
   "cell_type": "code",
   "execution_count": 64,
   "metadata": {},
   "outputs": [
    {
     "data": {
      "text/plain": [
       "100"
      ]
     },
     "execution_count": 64,
     "metadata": {},
     "output_type": "execute_result"
    }
   ],
   "source": [
    "class Employee:\n",
    "    \n",
    "    raise_amt = 1.03\n",
    "    \n",
    "    def __init__(self,first,last,pay):\n",
    "        self.first = first\n",
    "        self.last = last\n",
    "        self.pay = pay\n",
    "        self.on = True\n",
    "        \n",
    "    def full_name(self):\n",
    "        return f'{self.first} {self.last}'\n",
    "    \n",
    "    def salary(self):\n",
    "        return float(self.pay * self.raise_amt)\n",
    "    \n",
    "    def switch_off(self):\n",
    "        self.on = False\n",
    "        return self.on\n",
    "    \n",
    "\n",
    "Emp1 = Employee('Shashank','Jain',100)\n",
    "\n",
    "\n",
    "class Labour(Employee):\n",
    "    def __init__(self,first,last,pay,wage):\n",
    "        Employee.__init__(self,first,last,pay)\n",
    "        self.wage = wage\n",
    "    \n",
    "\n",
    "\n",
    "L1 = Labour('Shayam','Singh',10,100)\n",
    "\n",
    "L1.wage\n"
   ]
  }
 ],
 "metadata": {
  "kernelspec": {
   "display_name": "Python 3",
   "language": "python",
   "name": "python3"
  },
  "language_info": {
   "codemirror_mode": {
    "name": "ipython",
    "version": 3
   },
   "file_extension": ".py",
   "mimetype": "text/x-python",
   "name": "python",
   "nbconvert_exporter": "python",
   "pygments_lexer": "ipython3",
   "version": "3.7.1"
  }
 },
 "nbformat": 4,
 "nbformat_minor": 2
}
