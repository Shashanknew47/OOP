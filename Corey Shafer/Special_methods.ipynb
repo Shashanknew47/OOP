{
 "cells": [
  {
   "source": [
    "\"\"\"\n",
    "Python data model describes the api that you can make your own objects play.\n",
    "Python interpreter invokes special methods to perform basic operations. Special methods names are always\n",
    "written with double underscores. We call these double underscores as dunder \n",
    "Special methos allow your objects to implement,support, and interact with basic language constructs as:\n",
    "\n",
    "Iteration\n",
    "Collections\n",
    "Attribute access\n",
    "Operator overloading\n",
    "Funcion and method invocaton\n",
    "Object creatoin and destruction\n",
    "String representation and formatting\n",
    "Manage contexts (with blocks)\n",
    "\n",
    "\n",
    "We call it special method also -Magic methods and dunder methods.\n",
    "\"\"\"\n",
    "None"
   ],
   "cell_type": "code",
   "metadata": {},
   "execution_count": 2,
   "outputs": []
  },
  {
   "cell_type": "code",
   "execution_count": 8,
   "metadata": {},
   "outputs": [
    {
     "data": {
      "text/plain": [
       "2"
      ]
     },
     "execution_count": 8,
     "metadata": {},
     "output_type": "execute_result"
    }
   ],
   "source": [
    "import datetime\n",
    "d = datetime.date.today()+datetime.timedelta(hours=48)\n",
    "d.weekday()"
   ]
  }
 ],
 "metadata": {
  "kernelspec": {
   "name": "python3",
   "display_name": "Python 3.8.5 64-bit",
   "metadata": {
    "interpreter": {
     "hash": "2db524e06e9f5f4ffedc911c917cb75e12dbc923643829bf417064a77eb14d37"
    }
   }
  },
  "language_info": {
   "codemirror_mode": {
    "name": "ipython",
    "version": 3
   },
   "file_extension": ".py",
   "mimetype": "text/x-python",
   "name": "python",
   "nbconvert_exporter": "python",
   "pygments_lexer": "ipython3",
   "version": "3.8.5-final"
  }
 },
 "nbformat": 4,
 "nbformat_minor": 2
}