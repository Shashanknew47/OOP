{
 "cells": [
  {
   "cell_type": "code",
   "execution_count": 3,
   "metadata": {},
   "outputs": [
    {
     "name": "stdout",
     "output_type": "stream",
     "text": [
      "<__main__.Employee object at 0x0000025ACD4231D0>\n",
      "<__main__.Employee object at 0x0000025ACD423470>\n"
     ]
    }
   ],
   "source": [
    "\n",
    "# If you want to keep a empty function or class then use pass\n",
    "class Employee:\n",
    "    pass\n",
    "\n",
    "#class are factories of creating objects or instances as per given given guidelines in class\n",
    "\n",
    "emp_1 = Employee()\n",
    "emp_2 = Employee()\n",
    "\n",
    "#emp_1 and emp_2 will be 1 unique instances of classes\n",
    "\n",
    "print(emp_1)\n",
    "print(emp_2)\n",
    "\n",
    "#Below you could see that both unique objects created by a Employee class"
   ]
  },
  {
   "cell_type": "markdown",
   "metadata": {},
   "source": [
    "### Instance variable : variable which are unique to each instance."
   ]
  },
  {
   "cell_type": "code",
   "execution_count": 4,
   "metadata": {},
   "outputs": [
    {
     "name": "stdout",
     "output_type": "stream",
     "text": [
      "Corey\n",
      "Shashank\n"
     ]
    }
   ],
   "source": [
    "\n",
    "#We can give attributes of properties to each instance ex.\n",
    "emp_1.first_name = 'Corey'\n",
    "emp_1.last_name = 'Shafer'\n",
    "emp_1.email = 'corey.shaer@gmail.com'\n",
    "emp_1.pay = 2000\n",
    "\n",
    "emp_2.first_name = 'Shashank'\n",
    "emp_2.last_name = 'Jain'\n",
    "emp_2.pay = 300\n",
    "\n",
    "print(emp_1.first_name)\n",
    "print(emp_2.first_name)"
   ]
  },
  {
   "cell_type": "code",
   "execution_count": 2,
   "metadata": {},
   "outputs": [
    {
     "name": "stdout",
     "output_type": "stream",
     "text": [
      "Shashank\n",
      "CoreyShafer@gmail.com\n"
     ]
    },
    {
     "data": {
      "text/plain": [
       "299"
      ]
     },
     "execution_count": 2,
     "metadata": {},
     "output_type": "execute_result"
    }
   ],
   "source": [
    "#To make above code better and less repetative we could use __init__ special method in other languages we call it \n",
    "#constructor. \n",
    "\n",
    "class Employee():\n",
    "    pay = 23\n",
    "    def __init__(self,first,last,pay):\n",
    "        self.first_name = first\n",
    "        self.last_name = last\n",
    "        self.pay = pay\n",
    "        self.email = self.first_name + self.last_name + '@' + 'gmail.com'\n",
    "    \n",
    "e1 = Employee('Shashank','Jain',299)\n",
    "print(e1.first_name)\n",
    "\n",
    "e2 = Employee('Corey','Shafer',3444)\n",
    "print(e2.email)\n",
    "\n",
    "e1.pay\n",
    "\n",
    "# in __init__ method instance become self. so, its like calling init mehtod e1.first_name = first."
   ]
  },
  {
   "cell_type": "code",
   "execution_count": 4,
   "metadata": {},
   "outputs": [
    {
     "data": {
      "text/plain": [
       "'Shashank Jain'"
      ]
     },
     "execution_count": 4,
     "metadata": {},
     "output_type": "execute_result"
    }
   ],
   "source": [
    "# Each mehod takes instances as a first arguments.\n",
    "class Employee():\n",
    "    pay = 23\n",
    "    def __init__(self,first,last,pay):\n",
    "        self.first_name = first\n",
    "        self.last_name = last\n",
    "        self.pay = pay\n",
    "        self.email = self.first_name + self.last_name + '@' + 'gmail.com'\n",
    "        \n",
    "    def full_name(self):\n",
    "        return f'{self.first_name} {self.last_name}'\n",
    "\n",
    "e3 = Employee('Shashank','Jain',22)\n",
    "\n",
    "\n",
    "#After instance a mehod must be closed in () then only it will give a return value.\n",
    "e3.full_name()\n"
   ]
  },
  {
   "cell_type": "code",
   "execution_count": 20,
   "metadata": {},
   "outputs": [
    {
     "name": "stdout",
     "output_type": "stream",
     "text": [
      "Shashank Jain\n",
      "Shashank Jain\n",
      "Shashank Jain\n"
     ]
    },
    {
     "data": {
      "text/plain": [
       "3"
      ]
     },
     "execution_count": 20,
     "metadata": {},
     "output_type": "execute_result"
    }
   ],
   "source": [
    "#Instance method runs always once and pass on values to to other methods whenenver you create a new instance.\n",
    "#where as class mehods just run once. \n",
    "#With this property now we will count number of employees \n",
    "\n",
    "class Employee():\n",
    "    counter = 0 \n",
    "#    Employee.counter += 1\n",
    "    def __init__(self,first,last,pay):\n",
    "        self.first_name = first\n",
    "        self.last_name = last\n",
    "        self.pay = pay\n",
    "        self.email = self.first_name + self.last_name + '@' + 'gmail.com'\n",
    "        \n",
    "        Employee.counter += 1\n",
    "        \n",
    "    def full_name(self):\n",
    "        return f'{self.first_name} {self.last_name}'\n",
    "    \n",
    "        \n",
    "E1 = Employee('Shashank','Jain',100)\n",
    "E2 = Employee('Ree','sh',20)\n",
    "E3 = Employee('Mou','R',1)\n",
    "\n",
    "print(E1.full_name())\n",
    "\n",
    "print(E1.full_name())\n",
    "\n",
    "print(E1.full_name())\n",
    "Employee.counter\n",
    "    "
   ]
  }
 ],
 "metadata": {
  "kernelspec": {
   "display_name": "Python 3",
   "language": "python",
   "name": "python3"
  },
  "language_info": {
   "codemirror_mode": {
    "name": "ipython",
    "version": 3
   },
   "file_extension": ".py",
   "mimetype": "text/x-python",
   "name": "python",
   "nbconvert_exporter": "python",
   "pygments_lexer": "ipython3",
   "version": "3.7.1"
  }
 },
 "nbformat": 4,
 "nbformat_minor": 2
}