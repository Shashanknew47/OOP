{
 "cells": [
  {
   "cell_type": "code",
   "execution_count": 13,
   "metadata": {},
   "outputs": [],
   "source": [
    "class Employee:\n",
    "\n",
    "    def __init__(self,first_name,last_name,payment):\n",
    "        \n",
    "        self.first,self.last,self.pay = first_name,last_name,payment\n",
    "        self.mail = self.first + self.last + '@gmail.com' \n",
    "        \n",
    "        self.count = 23\n",
    "        Employee.count +=1\n",
    "        \n",
    "    @classmethod\n",
    "    def setcount(cls):\n",
    "        return cls.count\n",
    "    \n",
    "    @classmethod\n",
    "    def rearg(cls):\n",
    "        return (cls.first_name,cls.last_name,cls.payment)\n",
    "        \n",
    "    \n",
    "\n",
    "Shashank = Employee('Shashank','Jain',2999)\n",
    "\n",
    "Corey = Employee('Co','Sh',100)\n",
    "\n",
    "\n",
    "E3 = Employee('Emp','B',100)\n",
    "\n",
    "Corey.count\n",
    "\n",
    "\n",
    "Employee.count = 25\n",
    "\n",
    "\n",
    "Nemp2 = Employee.rearg()\n",
    "\n"
   ]
  },
  {
   "cell_type": "code",
   "execution_count": null,
   "metadata": {},
   "outputs": [],
   "source": []
  }
 ],
 "metadata": {
  "kernelspec": {
   "display_name": "Python 3",
   "language": "python",
   "name": "python3"
  },
  "language_info": {
   "codemirror_mode": {
    "name": "ipython",
    "version": 3
   },
   "file_extension": ".py",
   "mimetype": "text/x-python",
   "name": "python",
   "nbconvert_exporter": "python",
   "pygments_lexer": "ipython3",
   "version": "3.7.1"
  }
 },
 "nbformat": 4,
 "nbformat_minor": 2
}
